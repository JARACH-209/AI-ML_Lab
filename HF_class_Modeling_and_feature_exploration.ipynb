{
  "nbformat": 4,
  "nbformat_minor": 0,
  "metadata": {
    "colab": {
      "name": "Feature_Importance_Exploration.ipynb",
      "provenance": [],
      "collapsed_sections": [],
      "authorship_tag": "ABX9TyMEHL5YapElewLQAL2ZejUR",
      "include_colab_link": true
    },
    "kernelspec": {
      "name": "python3",
      "display_name": "Python 3"
    }
  },
  "cells": [
    {
      "cell_type": "markdown",
      "metadata": {
        "id": "view-in-github",
        "colab_type": "text"
      },
      "source": [
        "<a href=\"https://colab.research.google.com/github/JARACH-209/AI-ML_Lab/blob/master/HF_class_Modeling_and_feature_exploration.ipynb\" target=\"_parent\"><img src=\"https://colab.research.google.com/assets/colab-badge.svg\" alt=\"Open In Colab\"/></a>"
      ]
    },
    {
      "cell_type": "code",
      "metadata": {
        "id": "-QdZYxe0uIXN"
      },
      "source": [
        "import pandas as pd\n",
        "import numpy as np\n",
        "import matplotlib.pyplot as plt\n",
        "%matplotlib inline\n",
        "from sklearn import preprocessing\n",
        "from sklearn.ensemble import RandomForestClassifier\n",
        "from sklearn.metrics import accuracy_score\n",
        "from sklearn.metrics import roc_auc_score\n",
        "from sklearn.metrics import recall_score\n",
        "from sklearn.metrics import f1_score\n",
        "from sklearn.metrics import precision_score\n",
        "from sklearn.model_selection import train_test_split\n",
        "import seaborn as sns\n",
        "plt.style.use(\"ggplot\")\n",
        "plt.style.use(\"seaborn\")\n"
      ],
      "execution_count": 59,
      "outputs": []
    },
    {
      "cell_type": "code",
      "metadata": {
        "id": "ikkyxT4KctT4"
      },
      "source": [
        "df = pd.read_csv(\"/content/lvef_classification_DataFrame.csv\")\n",
        "df.drop(columns=['Unnamed: 0'],inplace=True)"
      ],
      "execution_count": null,
      "outputs": []
    },
    {
      "cell_type": "code",
      "metadata": {
        "id": "N-gi1AutIdD5"
      },
      "source": [
        "features = {}\n",
        "columns = df.columns\n",
        "for i in range(len(columns)):\n",
        "    features[i] = columns[i]"
      ],
      "execution_count": null,
      "outputs": []
    },
    {
      "cell_type": "code",
      "metadata": {
        "id": "0MDyKsZEw_c4"
      },
      "source": [
        "X = df.iloc[:,:25].to_numpy()\n",
        "Y = df['lvef_classification'].to_numpy()"
      ],
      "execution_count": null,
      "outputs": []
    },
    {
      "cell_type": "code",
      "metadata": {
        "id": "qZvcauNYwg7X"
      },
      "source": [
        "Y = Y.astype(int)\n",
        "Y = Y.reshape(-1)\n",
        "x_train, x_test, y_train, y_test = train_test_split(X,Y,test_size = 0.148)\n",
        "scaler = preprocessing.StandardScaler().fit(x_train)\n",
        "x_train = scaler.transform(x_train)\n",
        "scaler = preprocessing.StandardScaler().fit(x_test)\n",
        "x_test = scaler.transform(x_test)"
      ],
      "execution_count": null,
      "outputs": []
    },
    {
      "cell_type": "code",
      "metadata": {
        "colab": {
          "base_uri": "https://localhost:8080/"
        },
        "id": "rLMFh6JbzoGG",
        "outputId": "c7718243-81aa-4d71-9732-757da617dd14"
      },
      "source": [
        "clf = RandomForestClassifier(n_estimators=1333,bootstrap=True,max_depth=80, max_features='sqrt', min_samples_split= 4, min_samples_leaf=3).fit(x_train,y_train)\n",
        "clf.fit(x_train,y_train)\n",
        "y_predicted = clf.predict(x_test)\n",
        "y_train_pred = clf.predict(x_train)\n",
        "\n",
        "pred_prob = clf.predict_proba(x_test)\n",
        "print(\"Accuracy Test %0.2f\" %(accuracy_score(y_test,y_predicted)*100))\n",
        "print(\"Accuracy Train %0.2f\" %(accuracy_score(y_train,y_train_pred)*100))\n",
        "print(\"ROC-AUC Score %0.2f\" %(roc_auc_score(y_test,pred_prob[:,1])*100))\n",
        "print(\"Recall Score %0.2f\" %(recall_score(y_test,y_predicted)*100))"
      ],
      "execution_count": null,
      "outputs": [
        {
          "output_type": "stream",
          "text": [
            "Accuracy Test 81.61\n",
            "Accuracy Train 93.20\n",
            "ROC-AUC Score 89.81\n",
            "Recall Score 76.47\n"
          ],
          "name": "stdout"
        }
      ]
    },
    {
      "cell_type": "code",
      "metadata": {
        "colab": {
          "base_uri": "https://localhost:8080/",
          "height": 366
        },
        "id": "PE-_G7Wpzwmu",
        "outputId": "773cf000-a6d6-493a-9696-f04d896dc1a3"
      },
      "source": [
        "plt.bar(range(len(clf.feature_importances_)),clf.feature_importances_)"
      ],
      "execution_count": null,
      "outputs": [
        {
          "output_type": "execute_result",
          "data": {
            "text/plain": [
              "<BarContainer object of 25 artists>"
            ]
          },
          "metadata": {
            "tags": []
          },
          "execution_count": 15
        },
        {
          "output_type": "display_data",
          "data": {
            "image/png": "[encoded data removed]",
            "text/plain": [
              "<Figure size 576x396 with 1 Axes>"
            ]
          },
          "metadata": {
            "tags": []
          }
        }
      ]
    },
    {
      "cell_type": "code",
      "metadata": {
        "colab": {
          "base_uri": "https://localhost:8080/"
        },
        "id": "nPqoZNpH2Iqp",
        "outputId": "b040f43b-b1cf-42a5-fe49-20675f4ba176"
      },
      "source": [
        "from xgboost import XGBRFClassifier\n",
        "xgb = XGBRFClassifier()\n",
        "xgb.fit(x_train,y_train)\n",
        "y_predicted = xgb.predict(x_test)\n",
        "y_train_pred = xgb.predict(x_train)\n",
        "\n",
        "pred_prob = xgb.predict_proba(x_test)\n",
        "print(\"Accuracy Test %0.2f\" %(accuracy_score(y_test,y_predicted)*100))\n",
        "print(\"Accuracy Train %0.2f\" %(accuracy_score(y_train,y_train_pred)*100))\n",
        "print(\"ROC-AUC Score %0.2f\" %(roc_auc_score(y_test,pred_prob[:,1])*100))\n",
        "print(\"Recall Score %0.2f\" %(recall_score(y_test,y_predicted)*100))"
      ],
      "execution_count": null,
      "outputs": [
        {
          "output_type": "stream",
          "text": [
            "Accuracy Test 77.01\n",
            "Accuracy Train 82.60\n",
            "ROC-AUC Score 86.98\n",
            "Recall Score 76.47\n"
          ],
          "name": "stdout"
        }
      ]
    },
    {
      "cell_type": "code",
      "metadata": {
        "colab": {
          "base_uri": "https://localhost:8080/",
          "height": 381
        },
        "id": "VK7PO8Zd2Ri2",
        "outputId": "a7694b6a-ffbf-4b8c-c75f-1d8bf4a8b335"
      },
      "source": [
        "plt.bar(range(len(xgb.feature_importances_)),xgb.feature_importances_)\n",
        "plt.title(\"Feature Importance for XGBoost\")"
      ],
      "execution_count": null,
      "outputs": [
        {
          "output_type": "execute_result",
          "data": {
            "text/plain": [
              "Text(0.5, 1.0, 'Feature Importance for XGBoost')"
            ]
          },
          "metadata": {
            "tags": []
          },
          "execution_count": 18
        },
        {
          "output_type": "display_data",
          "data": {
            "image/png": "[encoded data removed]",
            "text/plain": [
              "<Figure size 576x396 with 1 Axes>"
            ]
          },
          "metadata": {
            "tags": []
          }
        }
      ]
    },
    {
      "cell_type": "code",
      "metadata": {
        "colab": {
          "base_uri": "https://localhost:8080/"
        },
        "id": "14WYKXed0OlN",
        "outputId": "37fb1650-5e73-4ca0-accd-57882b691c0a"
      },
      "source": [
        "from lightgbm import LGBMClassifier\n",
        "lgb = LGBMClassifier()\n",
        "lgb.fit(x_train,y_train)\n",
        "y_predicted = lgb.predict(x_test)\n",
        "y_train_pred = lgb.predict(x_train)\n",
        "\n",
        "pred_prob = lgb.predict_proba(x_test)\n",
        "print(\"Accuracy Test %0.2f\" %(accuracy_score(y_test,y_predicted)*100))\n",
        "print(\"Accuracy Train %0.2f\" %(accuracy_score(y_train,y_train_pred)*100))\n",
        "print(\"ROC-AUC Score %0.2f\" %(roc_auc_score(y_test,pred_prob[:,1])*100))\n",
        "print(\"Recall Score %0.2f\" %(recall_score(y_test,y_predicted)*100))"
      ],
      "execution_count": null,
      "outputs": [
        {
          "output_type": "stream",
          "text": [
            "Accuracy Test 77.01\n",
            "Accuracy Train 100.00\n",
            "ROC-AUC Score 85.51\n",
            "Recall Score 74.51\n"
          ],
          "name": "stdout"
        }
      ]
    },
    {
      "cell_type": "code",
      "metadata": {
        "colab": {
          "base_uri": "https://localhost:8080/",
          "height": 381
        },
        "id": "hQLizVa-1atq",
        "outputId": "4d788ca5-171d-41af-c452-b9164a9317ca"
      },
      "source": [
        "plt.bar(range(len(lgb.feature_importances_)),lgb.feature_importances_)\n",
        "plt.title(\"Feature Importance for LightGBM\")"
      ],
      "execution_count": null,
      "outputs": [
        {
          "output_type": "execute_result",
          "data": {
            "text/plain": [
              "Text(0.5, 1.0, 'Feature Importance for LightGBM')"
            ]
          },
          "metadata": {
            "tags": []
          },
          "execution_count": 20
        },
        {
          "output_type": "display_data",
          "data": {
            "image/png": "[encoded data removed]",
            "text/plain": [
              "<Figure size 576x396 with 1 Axes>"
            ]
          },
          "metadata": {
            "tags": []
          }
        }
      ]
    },
    {
      "cell_type": "code",
      "metadata": {
        "id": "VnB4Y4iD1FSd"
      },
      "source": [
        "!pip install catboost"
      ],
      "execution_count": null,
      "outputs": []
    },
    {
      "cell_type": "code",
      "metadata": {
        "id": "oo-hQO9q04GG"
      },
      "source": [
        "from catboost import CatBoostClassifier\n",
        "cgb = CatBoostClassifier(iterations=1000)\n",
        "cgb.fit(x_train,y_train)\n",
        "y_predicted = cgb.predict(x_test)\n",
        "y_train_pred = cgb.predict(x_train)\n",
        "pred_prob = cgb.predict_proba(x_test)"
      ],
      "execution_count": null,
      "outputs": []
    },
    {
      "cell_type": "code",
      "metadata": {
        "colab": {
          "base_uri": "https://localhost:8080/"
        },
        "id": "HgTAnl6U1UmD",
        "outputId": "cf86ed8b-6a97-47b4-c5d6-939ad56250fe"
      },
      "source": [
        "print(\"Accuracy Test %0.2f\" %(accuracy_score(y_test,y_predicted)*100))\n",
        "print(\"Accuracy Train %0.2f\" %(accuracy_score(y_train,y_train_pred)*100))\n",
        "print(\"ROC-AUC Score %0.2f\" %(roc_auc_score(y_test,pred_prob[:,1])*100))\n",
        "print(\"Recall Score %0.2f\" %(recall_score(y_test,y_predicted)*100))"
      ],
      "execution_count": null,
      "outputs": [
        {
          "output_type": "stream",
          "text": [
            "Accuracy Test 80.46\n",
            "Accuracy Train 95.60\n",
            "ROC-AUC Score 89.76\n",
            "Recall Score 76.47\n"
          ],
          "name": "stdout"
        }
      ]
    },
    {
      "cell_type": "code",
      "metadata": {
        "colab": {
          "base_uri": "https://localhost:8080/",
          "height": 381
        },
        "id": "bJLkPu9D1n8V",
        "outputId": "b2a686dd-dc6d-49ee-c7c9-5475e8910d2e"
      },
      "source": [
        "plt.bar(range(len(cgb.feature_importances_)),cgb.feature_importances_)\n",
        "plt.title(\"Feature Importance for CatBoost\")"
      ],
      "execution_count": null,
      "outputs": [
        {
          "output_type": "execute_result",
          "data": {
            "text/plain": [
              "Text(0.5, 1.0, 'Feature Importance for CatBoost')"
            ]
          },
          "metadata": {
            "tags": []
          },
          "execution_count": 83
        },
        {
          "output_type": "display_data",
          "data": {
            "image/png": "[encoded data removed]",
            "text/plain": [
              "<Figure size 576x396 with 1 Axes>"
            ]
          },
          "metadata": {
            "tags": []
          }
        }
      ]
    },
    {
      "cell_type": "markdown",
      "metadata": {
        "id": "WEYDO86Z32tZ"
      },
      "source": [
        "Least Important Features : 9,10,12,13,15,16,17,18,20,22,25\n",
        "\n",
        "Modeling by removal of these features."
      ]
    },
    {
      "cell_type": "code",
      "metadata": {
        "id": "JOlhLyZD6frP"
      },
      "source": [
        "df = pd.DataFrame(df.to_numpy())"
      ],
      "execution_count": null,
      "outputs": []
    },
    {
      "cell_type": "code",
      "metadata": {
        "id": "FAfdrj_yALED"
      },
      "source": [
        "df.drop(columns=[9,10,12,13,15,16,17,18,20,22,25],inplace=True)"
      ],
      "execution_count": null,
      "outputs": []
    },
    {
      "cell_type": "code",
      "metadata": {
        "id": "KJmc5YnH4q1L"
      },
      "source": [
        "X = df.to_numpy()"
      ],
      "execution_count": null,
      "outputs": []
    },
    {
      "cell_type": "code",
      "metadata": {
        "colab": {
          "base_uri": "https://localhost:8080/"
        },
        "id": "SyZt1CMBAXao",
        "outputId": "882e52f8-edbe-48d5-d3fe-9362008c92d7"
      },
      "source": [
        "X.shape"
      ],
      "execution_count": null,
      "outputs": [
        {
          "output_type": "execute_result",
          "data": {
            "text/plain": [
              "(587, 15)"
            ]
          },
          "metadata": {
            "tags": []
          },
          "execution_count": 28
        }
      ]
    },
    {
      "cell_type": "code",
      "metadata": {
        "id": "GqA6YH0FBMdf"
      },
      "source": [
        "Y = Y.astype(int)\n",
        "Y = Y.reshape(-1)\n",
        "x_train, x_test, y_train, y_test = train_test_split(X,Y,test_size = 0.148)\n",
        "scaler = preprocessing.StandardScaler().fit(x_train)\n",
        "x_train = scaler.transform(x_train)\n",
        "scaler = preprocessing.StandardScaler().fit(x_test)\n",
        "x_test = scaler.transform(x_test)"
      ],
      "execution_count": null,
      "outputs": []
    },
    {
      "cell_type": "code",
      "metadata": {
        "colab": {
          "base_uri": "https://localhost:8080/"
        },
        "id": "gwcTdN-2AjNK",
        "outputId": "5ac85f9d-41ea-4131-a1d6-275f27bfbba0"
      },
      "source": [
        "least_imp = [9,10,12,13,15,16,17,18,20,22]\n",
        "x_train = np.delete(x_train,least_imp,axis=1)\n",
        "x_test = np.delete(x_test,least_imp,axis=1)\n",
        "clf = RandomForestClassifier(n_estimators=1333,bootstrap=True,max_depth=80, max_features='sqrt', min_samples_split= 4, min_samples_leaf=3).fit(x_train,y_train)\n",
        "clf.fit(x_train,y_train)\n",
        "y_predicted = clf.predict(x_test)\n",
        "y_train_pred = clf.predict(x_train)\n",
        "\n",
        "pred_prob = clf.predict_proba(x_test)\n",
        "print(\"Accuracy Test %0.2f\" %(accuracy_score(y_test,y_predicted)*100))\n",
        "print(\"Accuracy Train %0.2f\" %(accuracy_score(y_train,y_train_pred)*100))\n",
        "print(\"ROC-AUC Score %0.2f\" %(roc_auc_score(y_test,pred_prob[:,1])*100))\n",
        "print(\"Recall Score %0.2f\" %(recall_score(y_test,y_predicted)*100))"
      ],
      "execution_count": null,
      "outputs": [
        {
          "output_type": "stream",
          "text": [
            "/usr/local/lib/python3.6/dist-packages/ipykernel_launcher.py:1: DeprecationWarning: in the future out of bounds indices will raise an error instead of being ignored by `numpy.delete`.\n",
            "  \"\"\"Entry point for launching an IPython kernel.\n",
            "/usr/local/lib/python3.6/dist-packages/ipykernel_launcher.py:2: DeprecationWarning: in the future out of bounds indices will raise an error instead of being ignored by `numpy.delete`.\n",
            "  \n"
          ],
          "name": "stderr"
        },
        {
          "output_type": "stream",
          "text": [
            "Accuracy Test 56.32\n",
            "Accuracy Train 96.60\n",
            "ROC-AUC Score 59.20\n",
            "Recall Score 57.45\n"
          ],
          "name": "stdout"
        }
      ]
    },
    {
      "cell_type": "code",
      "metadata": {
        "colab": {
          "base_uri": "https://localhost:8080/",
          "height": 366
        },
        "id": "wIIlEizvAtyj",
        "outputId": "544af1ce-a6b4-4396-aaab-1c10d854f43e"
      },
      "source": [
        "plt.bar(range(len(clf.feature_importances_)),clf.feature_importances_)"
      ],
      "execution_count": null,
      "outputs": [
        {
          "output_type": "execute_result",
          "data": {
            "text/plain": [
              "<BarContainer object of 9 artists>"
            ]
          },
          "metadata": {
            "tags": []
          },
          "execution_count": 32
        },
        {
          "output_type": "display_data",
          "data": {
            "image/png": "[encoded data removed]",
            "text/plain": [
              "<Figure size 576x396 with 1 Axes>"
            ]
          },
          "metadata": {
            "tags": []
          }
        }
      ]
    },
    {
      "cell_type": "code",
      "metadata": {
        "colab": {
          "base_uri": "https://localhost:8080/"
        },
        "id": "PdHqisLgCCC9",
        "outputId": "f6f50fc5-19ac-469f-ee6e-d8295216618e"
      },
      "source": [
        "from xgboost import XGBRFClassifier\n",
        "xgb = XGBRFClassifier()\n",
        "xgb.fit(x_train,y_train)\n",
        "y_predicted = xgb.predict(x_test)\n",
        "y_train_pred = xgb.predict(x_train)\n",
        "\n",
        "pred_prob = xgb.predict_proba(x_test)\n",
        "print(\"Accuracy Test %0.2f\" %(accuracy_score(y_test,y_predicted)*100))\n",
        "print(\"Accuracy Train %0.2f\" %(accuracy_score(y_train,y_train_pred)*100))\n",
        "print(\"ROC-AUC Score %0.2f\" %(roc_auc_score(y_test,pred_prob[:,1])*100))\n",
        "print(\"Recall Score %0.2f\" %(recall_score(y_test,y_predicted)*100))"
      ],
      "execution_count": null,
      "outputs": [
        {
          "output_type": "stream",
          "text": [
            "Accuracy Test 85.06\n",
            "Accuracy Train 83.60\n",
            "ROC-AUC Score 88.57\n",
            "Recall Score 95.65\n"
          ],
          "name": "stdout"
        }
      ]
    },
    {
      "cell_type": "code",
      "metadata": {
        "colab": {
          "base_uri": "https://localhost:8080/",
          "height": 381
        },
        "id": "iP5_QrdmCKJ8",
        "outputId": "c3d7a2cd-9e55-415e-b0c6-d51301cb0fc7"
      },
      "source": [
        "plt.bar(range(len(xgb.feature_importances_)),xgb.feature_importances_)\n",
        "plt.title(\"Feature Importance for XGBoost\")"
      ],
      "execution_count": null,
      "outputs": [
        {
          "output_type": "execute_result",
          "data": {
            "text/plain": [
              "Text(0.5, 1.0, 'Feature Importance for XGBoost')"
            ]
          },
          "metadata": {
            "tags": []
          },
          "execution_count": 148
        },
        {
          "output_type": "display_data",
          "data": {
            "image/png": "[encoded data removed]",
            "text/plain": [
              "<Figure size 576x396 with 1 Axes>"
            ]
          },
          "metadata": {
            "tags": []
          }
        }
      ]
    },
    {
      "cell_type": "code",
      "metadata": {
        "colab": {
          "base_uri": "https://localhost:8080/"
        },
        "id": "gxx4KrA0CbAB",
        "outputId": "8bc8013a-de26-47bc-dccb-a8ee35af2cce"
      },
      "source": [
        "from lightgbm import LGBMClassifier\n",
        "lgb = LGBMClassifier()\n",
        "lgb.fit(x_train,y_train)\n",
        "y_predicted = lgb.predict(x_test)\n",
        "y_train_pred = lgb.predict(x_train)\n",
        "\n",
        "pred_prob = lgb.predict_proba(x_test)\n",
        "print(\"Accuracy Test %0.2f\" %(accuracy_score(y_test,y_predicted)*100))\n",
        "print(\"Accuracy Train %0.2f\" %(accuracy_score(y_train,y_train_pred)*100))\n",
        "print(\"ROC-AUC Score %0.2f\" %(roc_auc_score(y_test,pred_prob[:,1])*100))\n",
        "print(\"Recall Score %0.2f\" %(recall_score(y_test,y_predicted)*100))"
      ],
      "execution_count": null,
      "outputs": [
        {
          "output_type": "stream",
          "text": [
            "Accuracy Test 82.76\n",
            "Accuracy Train 100.00\n",
            "ROC-AUC Score 88.49\n",
            "Recall Score 89.86\n"
          ],
          "name": "stdout"
        }
      ]
    },
    {
      "cell_type": "code",
      "metadata": {
        "colab": {
          "base_uri": "https://localhost:8080/",
          "height": 381
        },
        "id": "LWXYEJITCdAt",
        "outputId": "7dc22485-ec2a-4245-dcb9-e3285daea442"
      },
      "source": [
        "plt.bar(range(len(df.columns)),lgb.feature_importances_)\n",
        "plt.title(\"Feature Importance for LightGBM\")"
      ],
      "execution_count": null,
      "outputs": [
        {
          "output_type": "execute_result",
          "data": {
            "text/plain": [
              "Text(0.5, 1.0, 'Feature Importance for LightGBM')"
            ]
          },
          "metadata": {
            "tags": []
          },
          "execution_count": 150
        },
        {
          "output_type": "display_data",
          "data": {
            "image/png": "[encoded data removed]",
            "text/plain": [
              "<Figure size 576x396 with 1 Axes>"
            ]
          },
          "metadata": {
            "tags": []
          }
        }
      ]
    },
    {
      "cell_type": "code",
      "metadata": {
        "colab": {
          "base_uri": "https://localhost:8080/"
        },
        "id": "FmVUwcqoI3cW",
        "outputId": "2a596096-f1ac-4764-8b33-a945ac3a9a64"
      },
      "source": [
        "# Removing all the least important features.\n",
        "least_imp = [9,10,12,13,15,16,17,18,20,22]\n",
        "for each in least_imp:\n",
        "    del features[each]\n",
        "features"
      ],
      "execution_count": null,
      "outputs": [
        {
          "output_type": "execute_result",
          "data": {
            "text/plain": [
              "{0: 'pulse',\n",
              " 1: 'respiration',\n",
              " 2: 'systolic.blood.pressure',\n",
              " 3: 'diastolic.blood.pressure',\n",
              " 4: 'map',\n",
              " 5: 'BMI',\n",
              " 6: 'NYHA.cardiac.function.classification',\n",
              " 7: 'Killip.grade',\n",
              " 8: 'myocardial.infarction',\n",
              " 11: 'Chronic.obstructive.pulmonary.disease',\n",
              " 14: 'moderate.to.severe.chronic.kidney.disease',\n",
              " 19: 'CCI.score',\n",
              " 21: 'fio2',\n",
              " 23: 'left.ventricular.end.diastolic.diameter.LV',\n",
              " 24: 'brain.natriuretic.peptide'}"
            ]
          },
          "metadata": {
            "tags": []
          },
          "execution_count": 161
        }
      ]
    },
    {
      "cell_type": "markdown",
      "metadata": {
        "id": "QFrWpcTjMmYX"
      },
      "source": [
        "Successful Selection of important features\n",
        "```\n",
        "With 25 Features on RFClassifier\n",
        "Accuracy Test  87.36\n",
        "Accuracy Train 94.20\n",
        "ROC-AUC Score  88.81\n",
        "Recall Score   92.75\n",
        "\n",
        "With 15 Features (Most imp) on RFClassifier\n",
        "Accuracy Test 87.36\n",
        "Accuracy Train 95.00\n",
        "ROC-AUC Score 88.81\n",
        "Recall Score 92.75\n",
        "```\n",
        "Validated by training on 25 features and then removing the leat_imp features from the same set and training again."
      ]
    },
    {
      "cell_type": "code",
      "metadata": {
        "id": "VPEO64GpPnWy"
      },
      "source": [
        "frame = pd.DataFrame(X)\n",
        "#frame.drop(columns=[9,10,12,13,15,16,17,18,20,22])\n",
        "frame['lvef_class'] = Y\n",
        "frame.to_csv(\"Reduced_Features_set.csv\")"
      ],
      "execution_count": null,
      "outputs": []
    },
    {
      "cell_type": "code",
      "metadata": {
        "colab": {
          "base_uri": "https://localhost:8080/"
        },
        "id": "cdMfo9PKcPjl",
        "outputId": "84cc73ea-9466-47e5-da3c-2c41e209769c"
      },
      "source": [
        "frame.shape"
      ],
      "execution_count": null,
      "outputs": [
        {
          "output_type": "execute_result",
          "data": {
            "text/plain": [
              "(587, 16)"
            ]
          },
          "metadata": {
            "tags": []
          },
          "execution_count": 10
        }
      ]
    },
    {
      "cell_type": "markdown",
      "metadata": {
        "id": "fBcb1DNPXx_K"
      },
      "source": [
        "Most Important Features :\n",
        "1. Brain Natriuretic Peptide\n",
        "2. LV end diastolic diameter"
      ]
    },
    {
      "cell_type": "markdown",
      "metadata": {
        "id": "icdlNxBPbrkk"
      },
      "source": [
        "----"
      ]
    },
    {
      "cell_type": "markdown",
      "metadata": {
        "id": "YwANAXCrbwqE"
      },
      "source": [
        "Testing the Stacking classifier over reduced featues"
      ]
    },
    {
      "cell_type": "code",
      "metadata": {
        "colab": {
          "base_uri": "https://localhost:8080/"
        },
        "id": "HzCquQX5hVHl",
        "outputId": "2cd13c02-cfb8-4345-9f96-4ee1084d6b46"
      },
      "source": [
        "x_train.shape"
      ],
      "execution_count": null,
      "outputs": [
        {
          "output_type": "execute_result",
          "data": {
            "text/plain": [
              "(500, 15)"
            ]
          },
          "metadata": {
            "tags": []
          },
          "execution_count": 195
        }
      ]
    },
    {
      "cell_type": "code",
      "metadata": {
        "id": "OAHCm_y2bwRB"
      },
      "source": [
        "from sklearn.ensemble import StackingClassifier\n",
        "clf = RandomForestClassifier(n_estimators=1333,bootstrap=True,max_depth=80, max_features='sqrt', min_samples_split= 4, min_samples_leaf=3)\n",
        "estimators = [('rfc',clf),('lgb',LGBMClassifier()),('cat',CatBoostClassifier(iterations=5000),('xgb',XGBRFClassifier()))]\n",
        "final_estimator = RandomForestClassifier()\n",
        "\n",
        "clf_stack = StackingClassifier(estimators, final_estimator)\n",
        "clf_stack.fit(x_train,y_train)"
      ],
      "execution_count": null,
      "outputs": []
    },
    {
      "cell_type": "code",
      "metadata": {
        "colab": {
          "base_uri": "https://localhost:8080/"
        },
        "id": "c1ICcJsqhDPL",
        "outputId": "4ecb6e85-c214-4d5a-c53a-3edfe81c05ee"
      },
      "source": [
        "y_predicted = clf_stack.predict(x_test)\n",
        "y_train_pred = clf_stack.predict(x_train)\n",
        "pred_prob = clf_stack.predict_proba(x_test)\n",
        "print(\"Accuracy Test %0.2f\" %(accuracy_score(y_test,y_predicted)*100))\n",
        "print(\"Accuracy Train %0.2f\" %(accuracy_score(y_train,y_train_pred)*100))\n",
        "print(\"ROC-AUC Score %0.2f\" %(roc_auc_score(y_test,pred_prob[:,1])*100))\n",
        "print(\"Recall Score %0.2f\" %(recall_score(y_test,y_predicted)*100))"
      ],
      "execution_count": null,
      "outputs": [
        {
          "output_type": "stream",
          "text": [
            "Accuracy Test 83.91\n",
            "Accuracy Train 91.80\n",
            "ROC-AUC Score 87.72\n",
            "Recall Score 94.20\n"
          ],
          "name": "stdout"
        }
      ]
    },
    {
      "cell_type": "code",
      "metadata": {
        "colab": {
          "base_uri": "https://localhost:8080/"
        },
        "id": "oDKf2XAskwoI",
        "outputId": "28aac709-f762-4e6b-cffc-786a856709d1"
      },
      "source": [
        "len(np.where(Y==0)[0])\n"
      ],
      "execution_count": null,
      "outputs": [
        {
          "output_type": "execute_result",
          "data": {
            "text/plain": [
              "140"
            ]
          },
          "metadata": {
            "tags": []
          },
          "execution_count": 232
        }
      ]
    },
    {
      "cell_type": "markdown",
      "metadata": {
        "id": "5OqStySvmS-M"
      },
      "source": [
        "SOLVE THIS ISSUE OF IMBALANCE"
      ]
    },
    {
      "cell_type": "code",
      "metadata": {
        "colab": {
          "base_uri": "https://localhost:8080/",
          "height": 297
        },
        "id": "KieLSgE7jUST",
        "outputId": "63aa9529-c1f3-4058-f925-c892a5ec902f"
      },
      "source": [
        "fig, axes = plt.subplots(nrows=1, ncols=2, figsize=(15, 5))\n",
        "axes[0].scatter(x_test[:,4],x_test[:,13],c=y_predicted,cmap='brg',s=25)\n",
        "axes[1].scatter(x_test[:,4],x_test[:,13],c=y_test,cmap='brg',s=25)\n",
        "axes[0].title.set_text(\"Predictions\")\n",
        "axes[1].title.set_text(\"Actual Plot\")\n",
        "fig.tight_layout()"
      ],
      "execution_count": null,
      "outputs": [
        {
          "output_type": "display_data",
          "data": {
            "image/png": "[encoded data removed]",
            "text/plain": [
              "<Figure size 1080x360 with 2 Axes>"
            ]
          },
          "metadata": {
            "tags": []
          }
        }
      ]
    },
    {
      "cell_type": "markdown",
      "metadata": {
        "id": "cEiLRKd8gAsC"
      },
      "source": [
        "Included new Features for explorations :\n",
        "* High Senstiivity Troponin\n",
        "* Cholestrol\n",
        "* Creatine\n",
        "* Cystanin"
      ]
    },
    {
      "cell_type": "code",
      "metadata": {
        "id": "Y7W6zSsPgAbF"
      },
      "source": [
        "df = pd.read_csv(\"/content/07_with_LVEF_sodium_HST_BNP.csv\")\n",
        "df.drop(columns=['Unnamed: 0','congestive.heart.failure','acute.renal.failure','moderate.to.severe.chronic.kidney.disease','dementia','peptic.ulcer.disease','hemiplegia','connective.tissue.disease','leukemia','AIDS','weight','height'],inplace=True)"
      ],
      "execution_count": 13,
      "outputs": []
    },
    {
      "cell_type": "code",
      "metadata": {
        "colab": {
          "base_uri": "https://localhost:8080/"
        },
        "id": "gLICTN4aliq4",
        "outputId": "8aeee19b-7bbb-44d9-a684-caceaf0e2c55"
      },
      "source": [
        "df.columns"
      ],
      "execution_count": 247,
      "outputs": [
        {
          "output_type": "execute_result",
          "data": {
            "text/plain": [
              "Index(['pulse', 'respiration', 'systolic.blood.pressure',\n",
              "       'diastolic.blood.pressure', 'map', 'BMI', 'type.of.heart.failure',\n",
              "       'NYHA.cardiac.function.classification', 'Killip.grade',\n",
              "       'myocardial.infarction', 'peripheral.vascular.disease',\n",
              "       'cerebrovascular.disease', 'Chronic.obstructive.pulmonary.disease',\n",
              "       'diabetes', 'liver.disease', 'CCI.score', 'type.II.respiratory.failure',\n",
              "       'fio2', 'LVEF', 'left.ventricular.end.diastolic.diameter.LV',\n",
              "       'brain.natriuretic.peptide', 'cystatin', 'creatine.kinase',\n",
              "       'cholesterol', 'creatinine.enzymatic.method', 'sodium', 'potassium',\n",
              "       'calcium', 'high.sensitivity.troponin'],\n",
              "      dtype='object')"
            ]
          },
          "metadata": {
            "tags": []
          },
          "execution_count": 247
        }
      ]
    },
    {
      "cell_type": "code",
      "metadata": {
        "colab": {
          "base_uri": "https://localhost:8080/"
        },
        "id": "x9YDAkFvhJKp",
        "outputId": "3c8928c4-5e4a-41e1-b597-f3e1fbbdf708"
      },
      "source": [
        "len(df.columns)"
      ],
      "execution_count": 148,
      "outputs": [
        {
          "output_type": "execute_result",
          "data": {
            "text/plain": [
              "29"
            ]
          },
          "metadata": {
            "tags": []
          },
          "execution_count": 148
        }
      ]
    },
    {
      "cell_type": "code",
      "metadata": {
        "colab": {
          "base_uri": "https://localhost:8080/",
          "height": 437
        },
        "id": "WbgduwdgOP-z",
        "outputId": "63071fa3-bbde-465c-a090-87083501a309"
      },
      "source": [
        "sns.distplot(df['pulse'])"
      ],
      "execution_count": 233,
      "outputs": [
        {
          "output_type": "stream",
          "text": [
            "/usr/local/lib/python3.6/dist-packages/seaborn/distributions.py:2551: FutureWarning: `distplot` is a deprecated function and will be removed in a future version. Please adapt your code to use either `displot` (a figure-level function with similar flexibility) or `histplot` (an axes-level function for histograms).\n",
            "  warnings.warn(msg, FutureWarning)\n"
          ],
          "name": "stderr"
        },
        {
          "output_type": "execute_result",
          "data": {
            "text/plain": [
              "<matplotlib.axes._subplots.AxesSubplot at 0x7fcafb60ef60>"
            ]
          },
          "metadata": {
            "tags": []
          },
          "execution_count": 233
        },
        {
          "output_type": "display_data",
          "data": {
            "image/png": "[encoded data removed]",
            "text/plain": [
              "<Figure size 576x396 with 1 Axes>"
            ]
          },
          "metadata": {
            "tags": []
          }
        }
      ]
    },
    {
      "cell_type": "markdown",
      "metadata": {
        "id": "oT2lIahHPgYE"
      },
      "source": [
        "Capping Brain Natriuretic Peptide at 4000 because above it doesn't relate to heart conditions and are same. citation provided"
      ]
    },
    {
      "cell_type": "code",
      "metadata": {
        "id": "9qBZ5HtZPpvJ"
      },
      "source": [
        "df['brain.natriuretic.peptide'].clip(upper=3000,inplace=True)\n",
        "df['creatinine.enzymatic.method'].clip(upper=600,inplace=True)"
      ],
      "execution_count": 14,
      "outputs": []
    },
    {
      "cell_type": "markdown",
      "metadata": {
        "id": "eQZAVoZcNl_i"
      },
      "source": [
        "Creatine Kinase above 1000: Refers to idiopathic inflammatory myopathy (IIM) hence we can cap the values to 1000.\n",
        "Hence to avoid the ouliers capped to 1000."
      ]
    },
    {
      "cell_type": "code",
      "metadata": {
        "id": "XO_6O2KlLZdw"
      },
      "source": [
        "df['creatine.kinase'].clip(upper=1000,inplace=True)\n",
        "df['high.sensitivity.troponin'].clip(lower = 0.1,inplace=True)\n",
        "# To prevent the division by 0"
      ],
      "execution_count": 15,
      "outputs": []
    },
    {
      "cell_type": "markdown",
      "metadata": {
        "id": "TmiR6bcgcCuD"
      },
      "source": [
        "Converting all the numarical distributions to log normals"
      ]
    },
    {
      "cell_type": "code",
      "metadata": {
        "id": "49XKeDtzcGY3"
      },
      "source": [
        "# centering the normal distributions by converting them to log\n",
        "for each in df.columns:\n",
        "    if max(df[each]) > 10 and each != 'LVEF':\n",
        "        df[each] = np.log(df[each])"
      ],
      "execution_count": 16,
      "outputs": []
    },
    {
      "cell_type": "markdown",
      "metadata": {
        "id": "CsnZmNsFk9wD"
      },
      "source": [
        "First setting cutoff of LVEF : 50 "
      ]
    },
    {
      "cell_type": "code",
      "metadata": {
        "id": "phTqA52jjITo"
      },
      "source": [
        "dfef1 = df.copy()\n",
        "dfef2 = df.copy()\n",
        "dfef1['LVEF'].clip(40,41,inplace = True)\n",
        "dfef1['LVEF'].replace(to_replace=40,value=int(0),inplace=True)\n",
        "dfef1['LVEF'].replace(to_replace=41,value=int(1),inplace=True)"
      ],
      "execution_count": 17,
      "outputs": []
    },
    {
      "cell_type": "code",
      "metadata": {
        "id": "u7kB2GVMjp0i"
      },
      "source": [
        "# Converting to a 3 class encoding\n",
        "'''\n",
        "dfef = df.copy()\n",
        "ejection_fraction = dfef['LVEF'].to_numpy()\n",
        "for i in range(len(ejection_fraction)):\n",
        "    if ejection_fraction[i] < 41 :\n",
        "        ejection_fraction[i] = -1\n",
        "    elif ejection_fraction[i] > 40 and ejection_fraction[i] < 50:\n",
        "        ejection_fraction[i] = 0\n",
        "    else:\n",
        "        ejection_fraction[i] = 1\n",
        "\n",
        "dfef1['LVEF'] = ejection_fraction\n",
        "'''\n",
        "# 3 class case did not work !!!"
      ],
      "execution_count": 289,
      "outputs": []
    },
    {
      "cell_type": "code",
      "metadata": {
        "id": "c1kEA0sslPg8"
      },
      "source": [
        "df = pd.read_csv(\"/content/07_with_LVEF_sodium_HST_BNP.csv\")\n",
        "df.drop(columns=['Unnamed: 0','congestive.heart.failure','acute.renal.failure','moderate.to.severe.chronic.kidney.disease','dementia','peptic.ulcer.disease','hemiplegia','connective.tissue.disease','leukemia','AIDS','weight','height'],inplace=True)\n",
        "\n",
        "df['brain.natriuretic.peptide'].clip(upper=3000,inplace=True)\n",
        "df['creatinine.enzymatic.method'].clip(upper=600,inplace=True)\n",
        "\n",
        "df['creatine.kinase'].clip(upper=1000,inplace=True)\n",
        "df['high.sensitivity.troponin'].clip(lower = 0.1,inplace=True)\n",
        "# To prevent the division by 0\n",
        "\n",
        "# centering the normal distributions by converting them to log\n",
        "for each in df.columns:\n",
        "    if max(df[each]) > 10 and each != 'LVEF':\n",
        "        df[each] = np.log(df[each])\n",
        "\n",
        "dfef1 = df.copy()\n",
        "dfef2 = df.copy()\n",
        "dfef1['LVEF'].clip(40,41,inplace = True)\n",
        "dfef1['LVEF'].replace(to_replace=40,value=int(0),inplace=True)\n",
        "dfef1['LVEF'].replace(to_replace=41,value=int(1),inplace=True)\n",
        "\n",
        "Y = dfef1['LVEF'].to_numpy()\n",
        "X = pd.DataFrame(dfef1.drop(columns = ['LVEF'])).to_numpy()"
      ],
      "execution_count": 25,
      "outputs": []
    },
    {
      "cell_type": "code",
      "metadata": {
        "id": "G3iII6blmlRy"
      },
      "source": [
        "from sklearn.model_selection import cross_validate\n",
        "x_train, x_test, y_train, y_test = train_test_split(X,Y,test_size = 0.2)\n",
        "scaler = preprocessing.StandardScaler().fit(x_train)\n",
        "x_train = scaler.transform(x_train)\n",
        "scaler = preprocessing.StandardScaler().fit(x_test)\n",
        "x_test = scaler.transform(x_test)"
      ],
      "execution_count": 30,
      "outputs": []
    },
    {
      "cell_type": "code",
      "metadata": {
        "id": "2tcP3k2SdlJH"
      },
      "source": [
        "sscaler = preprocessing.StandardScaler().fit(X)\n",
        "X = sscaler.transform(X)"
      ],
      "execution_count": 32,
      "outputs": []
    },
    {
      "cell_type": "code",
      "metadata": {
        "id": "578K-uEMT0Cb"
      },
      "source": [
        "# Robust Scaler\n",
        "x_train, x_test, y_train, y_test = train_test_split(X,Y,test_size = 0.2)\n",
        "scaler = preprocessing.RobustScaler().fit(x_train)\n",
        "x_train = scaler.transform(x_train)\n",
        "scaler = preprocessing.RobustScaler().fit(x_test)\n",
        "x_test = scaler.transform(x_test)\n",
        "\n",
        "sscaler = preprocessing.RobustScaler().fit(X)\n",
        "X = sscaler.transform(X)"
      ],
      "execution_count": 276,
      "outputs": []
    },
    {
      "cell_type": "code",
      "metadata": {
        "id": "a0ciizOO78dG"
      },
      "source": [
        ""
      ],
      "execution_count": 69,
      "outputs": []
    },
    {
      "cell_type": "code",
      "metadata": {
        "colab": {
          "base_uri": "https://localhost:8080/"
        },
        "id": "HjMFXbI7myHh",
        "outputId": "2900a3c7-f33e-4fbb-95e8-980c4f8575d3"
      },
      "source": [
        "clf = RandomForestClassifier(n_estimators=5000,min_samples_leaf= 7,n_jobs=-1)\n",
        "clf.fit(x_train,y_train)\n",
        "y_predicted = clf.predict(x_test)\n",
        "y_train_pred = clf.predict(x_train)\n",
        "\n",
        "pred_prob = clf.predict_proba(x_test)\n",
        "print(\"Accuracy Test %0.2f\" %(accuracy_score(y_test,y_predicted)*100))\n",
        "print(\"Accuracy Train %0.2f\" %(accuracy_score(y_train,y_train_pred)*100))\n",
        "print(\"ROC-AUC Score %0.2f\" %(roc_auc_score(y_test,pred_prob[:,1])*100))\n",
        "print(\"Recall Score %0.2f\" %(recall_score(y_test,y_predicted)*100))"
      ],
      "execution_count": 65,
      "outputs": [
        {
          "output_type": "stream",
          "text": [
            "Accuracy Test 80.61\n",
            "Accuracy Train 90.75\n",
            "ROC-AUC Score 88.51\n",
            "Recall Score 100.00\n"
          ],
          "name": "stdout"
        }
      ]
    },
    {
      "cell_type": "code",
      "metadata": {
        "colab": {
          "base_uri": "https://localhost:8080/"
        },
        "id": "hTZN-CCPny2R",
        "outputId": "fb7dd711-ee68-434e-afc1-f596567003c8"
      },
      "source": [
        "cv_rf = cross_validate(clf,X,Y,scoring=('accuracy','roc_auc','recall','precision'),cv = 10,n_jobs=-1)\n",
        "print(\"Average CV Accuracy Test \\t\",(cv_rf['test_accuracy'].mean()*100))\n",
        "print(\"Average CV ROC-AUC Score \\t\",(cv_rf['test_roc_auc'].mean()*100))\n",
        "print(\"Average CV Recall Score \\t\",(cv_rf['test_recall'].mean()*100))\n",
        "print(\"Average CV Precision Score \\t\",(cv_rf['test_precision'].mean()*100))\n",
        "print(\"Best Accuracy CV : \\t\\t\", max(cv_rf['test_accuracy']*100))\n",
        "print(\"Best ROC CV : \\t\\t\\t\", max(cv_rf['test_roc_auc']*100))\n",
        "print(\"Best Recall CV : \\t\\t\", max(cv_rf['test_recall']*100))\n",
        "print(\"Best Precision CV : \\t\\t\", max(cv_rf['test_precision']*100))"
      ],
      "execution_count": 68,
      "outputs": [
        {
          "output_type": "stream",
          "text": [
            "Average CV Accuracy Test \t 80.07227891156464\n",
            "Average CV ROC-AUC Score \t 85.12468209836629\n",
            "Average CV Recall Score \t 95.96017069701281\n",
            "Average CV Precision Score \t 81.32919254658387\n",
            "Best Accuracy CV : \t\t 85.71428571428571\n",
            "Best ROC CV : \t\t\t 92.11711711711712\n",
            "Best Recall CV : \t\t 100.0\n",
            "Best Precision CV : \t\t 84.0909090909091\n"
          ],
          "name": "stdout"
        }
      ]
    },
    {
      "cell_type": "code",
      "metadata": {
        "colab": {
          "base_uri": "https://localhost:8080/",
          "height": 366
        },
        "id": "_KJej_9qnIcW",
        "outputId": "7d584481-4821-41a7-884c-eebc05788e7c"
      },
      "source": [
        "plt.bar(range(len(clf.feature_importances_)),clf.feature_importances_)"
      ],
      "execution_count": 306,
      "outputs": [
        {
          "output_type": "execute_result",
          "data": {
            "text/plain": [
              "<BarContainer object of 28 artists>"
            ]
          },
          "metadata": {
            "tags": []
          },
          "execution_count": 306
        },
        {
          "output_type": "display_data",
          "data": {
            "image/png": "[encoded data removed]",
            "text/plain": [
              "<Figure size 576x396 with 1 Axes>"
            ]
          },
          "metadata": {
            "tags": []
          }
        }
      ]
    },
    {
      "cell_type": "code",
      "metadata": {
        "colab": {
          "base_uri": "https://localhost:8080/"
        },
        "id": "EJUWGtWYlxhe",
        "outputId": "2cb3a740-054a-4eba-d604-e0f2743bd9bb"
      },
      "source": [
        "from xgboost import XGBRFClassifier\n",
        "xgb = XGBRFClassifier(num_parallel_trees = 1000, n_estimators=5000,num_boost_round = 1000)\n",
        "xgb.fit(x_train,y_train)\n",
        "y_predicted = xgb.predict(x_test)\n",
        "y_train_pred = xgb.predict(x_train)\n",
        "\n",
        "pred_prob = xgb.predict_proba(x_test)\n",
        "print(\"Accuracy Test %0.2f\" %(accuracy_score(y_test,y_predicted)*100))\n",
        "print(\"Accuracy Train %0.2f\" %(accuracy_score(y_train,y_train_pred)*100))\n",
        "print(\"ROC-AUC Score %0.2f\" %(roc_auc_score(y_test,pred_prob[:,1])*100))\n",
        "print(\"Recall Score %0.2f\" %(recall_score(y_test,y_predicted)*100))"
      ],
      "execution_count": 66,
      "outputs": [
        {
          "output_type": "stream",
          "text": [
            "Accuracy Test 80.61\n",
            "Accuracy Train 84.06\n",
            "ROC-AUC Score 87.98\n",
            "Recall Score 95.83\n"
          ],
          "name": "stdout"
        }
      ]
    },
    {
      "cell_type": "code",
      "metadata": {
        "colab": {
          "base_uri": "https://localhost:8080/"
        },
        "id": "jILsSe8toMhz",
        "outputId": "f14a1799-a2a6-498b-9f8a-ada913aa4d3e"
      },
      "source": [
        "cv_rf = cross_validate(xgb,X,Y,scoring=('accuracy','roc_auc','recall'),cv = 10)\n",
        "print(\"Average CV Accuracy Test \\n\",(cv_rf['test_accuracy'].mean()*100))\n",
        "print(\"Average CV ROC-AUC Score \\n\",(cv_rf['test_roc_auc'].mean()*100))\n",
        "print(\"Average CV Recall Score \\n\",(cv_rf['test_recall'].mean()*100))\n",
        "print(\"CV : \", max(cv_rf['test_recall']))"
      ],
      "execution_count": 67,
      "outputs": [
        {
          "output_type": "stream",
          "text": [
            "Average CV Accuracy Test \n",
            " 80.67602040816327\n",
            "Average CV ROC-AUC Score \n",
            " 85.52275960170697\n",
            "Average CV Recall Score \n",
            " 93.80512091038409\n",
            "CV :  0.9736842105263158\n"
          ],
          "name": "stdout"
        }
      ]
    }
  ]
}