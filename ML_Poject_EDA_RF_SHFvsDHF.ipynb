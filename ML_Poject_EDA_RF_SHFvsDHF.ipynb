{
  "nbformat": 4,
  "nbformat_minor": 0,
  "metadata": {
    "colab": {
      "name": "ML_Poject_EDA_RF_SHFvsDHF.ipynb",
      "provenance": [],
      "collapsed_sections": [],
      "authorship_tag": "ABX9TyMq5EdRQGL1PtL7ANTZvbMR",
      "include_colab_link": true
    },
    "kernelspec": {
      "name": "python3",
      "display_name": "Python 3"
    }
  },
  "cells": [
    {
      "cell_type": "markdown",
      "metadata": {
        "id": "view-in-github",
        "colab_type": "text"
      },
      "source": [
        "<a href=\"https://colab.research.google.com/github/JARACH-209/AI-ML_Lab/blob/master/ML_Poject_EDA_RF_SHFvsDHF.ipynb\" target=\"_parent\"><img src=\"https://colab.research.google.com/assets/colab-badge.svg\" alt=\"Open In Colab\"/></a>"
      ]
    },
    {
      "cell_type": "code",
      "metadata": {
        "id": "na5YHKv9dyyE"
      },
      "source": [
        "import pandas as pd\n",
        "import numpy as np\n",
        "import matplotlib.pyplot as plt\n",
        "%matplotlib inline"
      ],
      "execution_count": null,
      "outputs": []
    },
    {
      "cell_type": "code",
      "metadata": {
        "id": "9_GmjszLeLED"
      },
      "source": [
        "df = pd.read_csv(\"/content/dat.csv\")\n",
        "df.drop(columns='Unnamed: 0',inplace=True)"
      ],
      "execution_count": null,
      "outputs": []
    },
    {
      "cell_type": "code",
      "metadata": {
        "id": "E2CQGIdnkeeY"
      },
      "source": [
        "df.drop(columns=['NYHA.cardiac.function.classification','DestinationDischarge','admission.ward','admission.way','inpatient.number','consciousness','eye.opening','erythrocyte.sedimentation.rate','ageCat'],inplace=True)"
      ],
      "execution_count": null,
      "outputs": []
    },
    {
      "cell_type": "code",
      "metadata": {
        "id": "CAbTwzA0lt7R"
      },
      "source": [
        "df.drop(columns=['apolipoprotein.A','apolipoprotein.B','verbal.response','movement','respiratory.support.','oxygen.inhalation','discharge.department'],inplace=True)"
      ],
      "execution_count": null,
      "outputs": []
    },
    {
      "cell_type": "code",
      "metadata": {
        "id": "ZqQSCqzOjEwe",
        "outputId": "de274552-4c3f-4e47-a3c0-c19f7de060f7",
        "colab": {
          "base_uri": "https://localhost:8080/"
        }
      },
      "source": [
        "df.shape"
      ],
      "execution_count": null,
      "outputs": [
        {
          "output_type": "execute_result",
          "data": {
            "text/plain": [
              "(2008, 150)"
            ]
          },
          "metadata": {
            "tags": []
          },
          "execution_count": 59
        }
      ]
    },
    {
      "cell_type": "code",
      "metadata": {
        "id": "ILTX5pwHnoE7",
        "outputId": "7f5dd73d-2b2d-4a26-c12f-62210496e540",
        "colab": {
          "base_uri": "https://localhost:8080/"
        }
      },
      "source": [
        "len(df.loc[df['congestive.heart.failure'] == 1])    # 1872 Patients had congestive heart failure"
      ],
      "execution_count": null,
      "outputs": [
        {
          "output_type": "execute_result",
          "data": {
            "text/plain": [
              "1872"
            ]
          },
          "metadata": {
            "tags": []
          },
          "execution_count": 6
        }
      ]
    },
    {
      "cell_type": "code",
      "metadata": {
        "id": "UQ8o1DMCp4yG",
        "outputId": "ddfb6758-fe8c-49a5-dc13-f795b906870d",
        "colab": {
          "base_uri": "https://localhost:8080/"
        }
      },
      "source": [
        "chf_corr = sorted(abs(df.corr()['congestive.heart.failure']).items(),key = lambda kv: kv[1],reverse=True)[:10]\n",
        "chf_corr"
      ],
      "execution_count": null,
      "outputs": [
        {
          "output_type": "execute_result",
          "data": {
            "text/plain": [
              "[('congestive.heart.failure', 1.0),\n",
              " ('leukemia', nan),\n",
              " ('EA', 0.5304830043529579),\n",
              " ('CCI.score', 0.3018254879254003),\n",
              " ('cerebrovascular.disease', 0.1571027713704445),\n",
              " ('myoglobin', 0.1492432208217126),\n",
              " ('moderate.to.severe.chronic.kidney.disease', 0.13600221538391113),\n",
              " ('death.within.6.months', 0.10906740032518758),\n",
              " ('tricuspid.valve.return.pressure', 0.08922311994442841),\n",
              " ('LVEF', 0.08622530444045182)]"
            ]
          },
          "metadata": {
            "tags": []
          },
          "execution_count": 7
        }
      ]
    },
    {
      "cell_type": "markdown",
      "metadata": {
        "id": "CWSanCMVqusQ"
      },
      "source": [
        "* EA > 0 : 393   (Important for Diastolic HF)\n",
        "    * EMS : 980\n",
        "    * AMS : 550\n",
        "* MAP ( Mean Arterial Pressure) >110 : 319\n",
        "    * Mean MAP with EF > 50 : 98.13\n",
        "    * Mean MAP with EF < 40 : 92.44\n",
        "    * Number of patients with MAP > 110\n",
        "        * EF > 40 : 101\n",
        "        * EF < 40 : 19\n",
        "        * EF > 50 : 70\n",
        "* LVEF > 0 : 635\n",
        "* MyoInfa : 143"
      ]
    },
    {
      "cell_type": "code",
      "metadata": {
        "id": "gA5oqzI8qQ3_",
        "outputId": "368146f0-6e35-4c93-9a4f-385605d568bc",
        "colab": {
          "base_uri": "https://localhost:8080/"
        }
      },
      "source": [
        "len(df.loc[df['congestive.heart.failure']==1].loc[df['LVEF'] >50]['mitral.valve.EMS'].loc[df['EA']>0])"
      ],
      "execution_count": null,
      "outputs": [
        {
          "output_type": "execute_result",
          "data": {
            "text/plain": [
              "111"
            ]
          },
          "metadata": {
            "tags": []
          },
          "execution_count": 61
        }
      ]
    },
    {
      "cell_type": "code",
      "metadata": {
        "id": "co8WSHPINXoQ",
        "outputId": "024d0f77-ee18-4085-eaee-93f1d26ca38e",
        "colab": {
          "base_uri": "https://localhost:8080/"
        }
      },
      "source": [
        "len(df.loc[df['LVEF']>60].loc[df['congestive.heart.failure']==1].loc[df.map>110])"
      ],
      "execution_count": null,
      "outputs": [
        {
          "output_type": "execute_result",
          "data": {
            "text/plain": [
              "33"
            ]
          },
          "metadata": {
            "tags": []
          },
          "execution_count": 82
        }
      ]
    },
    {
      "cell_type": "code",
      "metadata": {
        "id": "0EiuPjmXMn-n",
        "outputId": "98993a1a-73c9-47ec-8f88-81ad18103f0e",
        "colab": {
          "base_uri": "https://localhost:8080/"
        }
      },
      "source": [
        "len(df.loc[df['congestive.heart.failure']==1].loc[df['LVEF'] <40].loc[df.map>110])"
      ],
      "execution_count": null,
      "outputs": [
        {
          "output_type": "execute_result",
          "data": {
            "text/plain": [
              "19"
            ]
          },
          "metadata": {
            "tags": []
          },
          "execution_count": 80
        }
      ]
    },
    {
      "cell_type": "code",
      "metadata": {
        "id": "8-OnnkijNuMy",
        "outputId": "f975d9e4-baa3-4866-e11c-56d71375670e",
        "colab": {
          "base_uri": "https://localhost:8080/"
        }
      },
      "source": [
        "#Map of people having CHF and EF<45\n",
        "len(df.loc[df['congestive.heart.failure']==1].loc[df.LVEF <45].loc[df.map > 110])"
      ],
      "execution_count": null,
      "outputs": [
        {
          "output_type": "execute_result",
          "data": {
            "text/plain": [
              "28"
            ]
          },
          "metadata": {
            "tags": []
          },
          "execution_count": 45
        }
      ]
    },
    {
      "cell_type": "code",
      "metadata": {
        "id": "AocsIzRlhiSf"
      },
      "source": [
        "ra_corr = sorted(abs(df.corr().EA).items(),key = lambda kv: kv[1],reverse=True)"
      ],
      "execution_count": null,
      "outputs": []
    },
    {
      "cell_type": "code",
      "metadata": {
        "id": "KrxtaL6riXSl",
        "outputId": "e916cb4f-f2c5-4356-fcf3-9d8313edf816",
        "colab": {
          "base_uri": "https://localhost:8080/"
        }
      },
      "source": [
        "ra_corr"
      ],
      "execution_count": null,
      "outputs": [
        {
          "output_type": "execute_result",
          "data": {
            "text/plain": [
              "[('connective.tissue.disease', nan),\n",
              " ('hemiplegia', nan),\n",
              " ('leukemia', nan),\n",
              " ('malignant.lymphoma', nan),\n",
              " ('EA', 1.0),\n",
              " ('tricuspid.valve.return.pressure', 1.0),\n",
              " ('congestive.heart.failure', 0.5304830043529579),\n",
              " ('time.of.death..days.from.admission.', 0.454265836538509),\n",
              " ('lipoprotein', 0.3433058584167551),\n",
              " ('re.admission.time..days.from.admission.', 0.2482452130013647),\n",
              " ('time.to.emergency.department.within.6.months', 0.2482452130013647),\n",
              " ('LVEF', 0.20585386911196504),\n",
              " ('myocardial.infarction', 0.175962824013606),\n",
              " ('myoglobin', 0.15239589749649518),\n",
              " ('white.globulin.ratio', 0.13349144592028936),\n",
              " ('prothrombin.activity', 0.12367700439262552),\n",
              " ('high.sensitivity.protein', 0.1152849487736945),\n",
              " ('serum.magnesium', 0.11482094094793562),\n",
              " ('systolic.blood.pressure', 0.10825591601906842),\n",
              " ('calcium', 0.10760239364947947),\n",
              " ('CCI.score', 0.10080333599499468),\n",
              " ('hemoglobin', 0.09226729558460069),\n",
              " ('mean.platelet.volume', 0.09055019213200781),\n",
              " ('eosinophil.count', 0.08799769646707814),\n",
              " ('hematocrit', 0.0837045248245729),\n",
              " ('eosinophil.ratio', 0.08260781031868895),\n",
              " ('return.to.emergency.department.within.6.months', 0.0791564582000524),\n",
              " ('glomerular.filtration.rate', 0.07458571463559802),\n",
              " ('map', 0.07445970671062938),\n",
              " ('mean.hemoglobin.concentration', 0.07392428343845732),\n",
              " ('left.ventricular.end.diastolic.diameter.LV', 0.0721600255588804),\n",
              " ('red.blood.cell', 0.06544780033475707),\n",
              " ('respiration', 0.0651224581030743),\n",
              " ('mitral.valve.AMS', 0.06292745564776678),\n",
              " ('solid.tumor', 0.0626836179646844),\n",
              " ('moderate.to.severe.chronic.kidney.disease', 0.0625428914636967),\n",
              " ('peripheral.vascular.disease', 0.060481179636034596),\n",
              " ('cystatin', 0.05326389792708659),\n",
              " ('mean.hemoglobin.volume', 0.052024346262985084),\n",
              " ('neutrophil.ratio', 0.04737433544063276),\n",
              " ('cerebrovascular.disease', 0.04711474302789805),\n",
              " ('pulse', 0.04693087706363554),\n",
              " ('re.admission.within.28.days', 0.045069758296294955),\n",
              " ('urea', 0.04286222219318756),\n",
              " ('peptic.ulcer.disease', 0.04037365223784272),\n",
              " ('creatinine.enzymatic.method', 0.040343996928470384),\n",
              " ('white.blood.cell', 0.037853948026178925),\n",
              " ('uric.acid', 0.037192892816090714),\n",
              " ('lymphocyte.count', 0.035610875181005794),\n",
              " ('platelet.hematocrit', 0.034685180939034166),\n",
              " ('death.within.3.months', 0.03411723847474325),\n",
              " ('death.within.6.months', 0.03411723847474325),\n",
              " ('coefficient.of.variation.of.red.blood.cell.distribution.width',\n",
              "  0.03337896548155749),\n",
              " ('acute.renal.failure', 0.032144135387277395),\n",
              " ('mitral.valve.EMS', 0.03092504294218211),\n",
              " ('dementia', 0.03081284697749085),\n",
              " ('monocyte.count', 0.029086643272184496),\n",
              " ('diastolic.blood.pressure', 0.02863648091585222),\n",
              " ('monocyte.ratio', 0.026750124124643997),\n",
              " ('mean.corpuscular.volume', 0.026508019254732947),\n",
              " ('platelet.distribution.width', 0.025947499343812713),\n",
              " ('liver.disease', 0.025494276559444248),\n",
              " ('body.temperature', 0.025159173330005873),\n",
              " ('standard.deviation.of.red.blood.cell.distribution.width',\n",
              "  0.024179447912854972),\n",
              " ('Chronic.obstructive.pulmonary.disease', 0.023482312153792567),\n",
              " ('death.within.28.days', 0.020957413161451038),\n",
              " ('basophil.ratio', 0.01970384411877793),\n",
              " ('visit.times', 0.017887152406775447),\n",
              " ('re.admission.within.3.months', 0.017311581025752122),\n",
              " ('basophil.count', 0.015825788371714267),\n",
              " ('tricuspid.valve.return.velocity', 0.01476777670749877),\n",
              " ('BMI', 0.011785564287354855),\n",
              " ('fio2', 0.01155464012288527),\n",
              " ('platelet', 0.010230190480538503),\n",
              " ('AIDS', 0.008247501463102288),\n",
              " ('weight', 0.007958183735066654),\n",
              " ('diabetes', 0.00710890761650827),\n",
              " ('height', 0.002206647362390603),\n",
              " ('re.admission.within.6.months', 0.0006580569073554909),\n",
              " ('cholinesterase', nan),\n",
              " ('homocysteine', 0.1931912764981171),\n",
              " ('body.temperature.blood.gas', nan),\n",
              " ('oxygen.saturation', 0.10954893470407615),\n",
              " ('partial.oxygen.pressure', 0.10827839751173139),\n",
              " ('reduced.hemoglobin', 0.10497050965831607),\n",
              " ('indirect.bilirubin', 0.10390443428993136),\n",
              " ('total.bilirubin', 0.09889320656214035),\n",
              " ('hematocrit.blood.gas', 0.09875733993361299),\n",
              " ('oxyhemoglobin', 0.09628899041455388),\n",
              " ('total.hemoglobin', 0.09534115355351062),\n",
              " ('glutamyltranspeptidase', 0.0912196837527966),\n",
              " ('globulin', 0.0882817289126106),\n",
              " ('glutamic.oxaliplatin', 0.08601929942674916),\n",
              " ('glucose.blood.gas', 0.08293326785280894),\n",
              " ('fucosidase', 0.07977633349496167),\n",
              " ('low.density.lipoprotein.cholesterol', 0.07929199976660231),\n",
              " ('sodium', 0.07854858797891846),\n",
              " ('Inorganic.Phosphorus', 0.0763962030448065),\n",
              " ('direct.bilirubin', 0.07476845846841224),\n",
              " ('cholesterol', 0.07437047463684578),\n",
              " ('sodium.ion', 0.07266836450305955),\n",
              " ('international.normalized.ratio', 0.06263034771177681),\n",
              " ('prothrombin.time.ratio', 0.06225804918867597),\n",
              " ('chloride.ion', 0.061775388349061565),\n",
              " ('nucleotidase', 0.06157534397079375),\n",
              " ('partial.pressure.of.carbon.dioxide', 0.060988857812738016),\n",
              " ('fibrinogen', 0.06078975879899065),\n",
              " ('pH', 0.05941576976047362),\n",
              " ('thrombin.time', 0.0521264752921943),\n",
              " ('alkaline.phosphatase', 0.0466677570397859),\n",
              " ('total.protein', 0.04635049020626975),\n",
              " ('high.density.lipoprotein.cholesterol', 0.04333850122781657),\n",
              " ('chloride', 0.04308072101106242),\n",
              " ('methemoglobin', 0.04265409664011644),\n",
              " ('brain.natriuretic.peptide', 0.04201117708637026),\n",
              " ('albumin', 0.03434029006111753),\n",
              " ('D.dimer', 0.03285371740076686),\n",
              " ('potassium.ion', 0.032757926041196275),\n",
              " ('hydroxybutyrate.dehydrogenase', 0.03129101913571191),\n",
              " ('hydroxybutyrate.dehydrogenase.to.lactate.dehydrogenase',\n",
              "  0.030707521603874743),\n",
              " ('total.carbon.dioxide', 0.03030941349575646),\n",
              " ('carboxyhemoglobin', 0.030149216821131676),\n",
              " ('high.sensitivity.troponin', 0.0289839500139981),\n",
              " ('lactate.dehydrogenase', 0.028462856019056543),\n",
              " ('measured.bicarbonate', 0.02832754241130626),\n",
              " ('total.bile.acid', 0.027985558941147896),\n",
              " ('neutrophil.count', 0.02534977613224184),\n",
              " ('glutamic.pyruvic.transaminase', 0.02488759852502932),\n",
              " ('anion.gap', 0.02470475923735134),\n",
              " ('lactate', 0.023980925636223588),\n",
              " ('carbon.dioxide.binding.capacity', 0.02224602694208919),\n",
              " ('free.calcium', 0.02197305810580405),\n",
              " ('creatine.kinase.isoenzyme', 0.02164650400220669),\n",
              " ('triglyceride', 0.01949150308366104),\n",
              " ('GCS', 0.015691937064130645),\n",
              " ('standard.residual.base', 0.013131684191624042),\n",
              " ('dischargeDay', 0.011912823766710308),\n",
              " ('creatine.kinase.isoenzyme.to.creatine.kinase', 0.011688862682759885),\n",
              " ('activated.partial.thromboplastin.time', 0.01157935318368123),\n",
              " ('standard.bicarbonate', 0.007041312509961021),\n",
              " ('potassium', 0.005236568919044453),\n",
              " ('glutamic.oxaloacetic.transaminase', 0.0047799795883488915),\n",
              " ('creatine.kinase', 0.004034969504504124),\n",
              " ('measured.residual.base', 0.0009666715415627601)]"
            ]
          },
          "metadata": {
            "tags": []
          },
          "execution_count": 10
        }
      ]
    },
    {
      "cell_type": "markdown",
      "metadata": {
        "id": "hL7vMWXYUZ5R"
      },
      "source": [
        "------"
      ]
    },
    {
      "cell_type": "markdown",
      "metadata": {
        "id": "m3ML1DfyOqEf"
      },
      "source": [
        ""
      ]
    },
    {
      "cell_type": "code",
      "metadata": {
        "id": "XE3Ozk2uO7WH"
      },
      "source": [
        "temp_s = \"pulse respiration systolic.blood.pressure diastolic.blood.pressure map weight height BMI type.of.heart.failure NYHA.cardiac.function.classification Killip.grade myocardial.infarction congestive.heart.failure peripheral.vascular.disease cerebrovascular.disease dementia Chronic.obstructive.pulmonary.disease connective.tissue.disease peptic.ulcer.disease diabetes moderate.to.severe.chronic.kidney.disease hemiplegia leukemia\"\n",
        "temp = \"liver.disease AIDS CCI.score type.II.respiratory.failure consciousness fio2 acute.renal.failure LVEF left.ventricular.end.diastolic.diameter.LV mitral.valve.EMS mitral.valve.AMS EA tricuspid.valve.return.velocity tricuspid.valve.return.pressure\"\n",
        "temp = temp.split(\" \")\n",
        "feature_names = temp_s.split(\" \")\n",
        "feature_names.extend(temp)\n",
        "\n",
        "# feature names to be used"
      ],
      "execution_count": null,
      "outputs": []
    },
    {
      "cell_type": "code",
      "metadata": {
        "id": "vaNLxFzrLWAS"
      },
      "source": [
        "df_og = df\n",
        "df = df[feature_names]"
      ],
      "execution_count": null,
      "outputs": []
    },
    {
      "cell_type": "code",
      "metadata": {
        "id": "2qJp7aenRL7o",
        "outputId": "67d567f8-635a-4131-f9f4-7d7ba0e2342e",
        "colab": {
          "base_uri": "https://localhost:8080/"
        }
      },
      "source": [
        "df.info()"
      ],
      "execution_count": null,
      "outputs": [
        {
          "output_type": "stream",
          "text": [
            "<class 'pandas.core.frame.DataFrame'>\n",
            "RangeIndex: 2008 entries, 0 to 2007\n",
            "Data columns (total 37 columns):\n",
            " #   Column                                      Non-Null Count  Dtype  \n",
            "---  ------                                      --------------  -----  \n",
            " 0   pulse                                       2008 non-null   int64  \n",
            " 1   respiration                                 2008 non-null   int64  \n",
            " 2   systolic.blood.pressure                     2008 non-null   int64  \n",
            " 3   diastolic.blood.pressure                    2008 non-null   int64  \n",
            " 4   map                                         2008 non-null   float64\n",
            " 5   weight                                      2008 non-null   float64\n",
            " 6   height                                      2008 non-null   float64\n",
            " 7   BMI                                         2008 non-null   float64\n",
            " 8   type.of.heart.failure                       2008 non-null   object \n",
            " 9   NYHA.cardiac.function.classification        2008 non-null   object \n",
            " 10  Killip.grade                                2008 non-null   object \n",
            " 11  myocardial.infarction                       2008 non-null   int64  \n",
            " 12  congestive.heart.failure                    2008 non-null   int64  \n",
            " 13  peripheral.vascular.disease                 2008 non-null   int64  \n",
            " 14  cerebrovascular.disease                     2008 non-null   int64  \n",
            " 15  dementia                                    2008 non-null   int64  \n",
            " 16  Chronic.obstructive.pulmonary.disease       2008 non-null   int64  \n",
            " 17  connective.tissue.disease                   2008 non-null   int64  \n",
            " 18  peptic.ulcer.disease                        2006 non-null   float64\n",
            " 19  diabetes                                    2008 non-null   int64  \n",
            " 20  moderate.to.severe.chronic.kidney.disease   2006 non-null   float64\n",
            " 21  hemiplegia                                  2008 non-null   int64  \n",
            " 22  leukemia                                    2008 non-null   int64  \n",
            " 23  liver.disease                               2007 non-null   float64\n",
            " 24  AIDS                                        2008 non-null   int64  \n",
            " 25  CCI.score                                   2003 non-null   float64\n",
            " 26  type.II.respiratory.failure                 2008 non-null   object \n",
            " 27  consciousness                               2008 non-null   object \n",
            " 28  fio2                                        2008 non-null   int64  \n",
            " 29  acute.renal.failure                         2008 non-null   int64  \n",
            " 30  LVEF                                        635 non-null    float64\n",
            " 31  left.ventricular.end.diastolic.diameter.LV  1311 non-null   float64\n",
            " 32  mitral.valve.EMS                            980 non-null    float64\n",
            " 33  mitral.valve.AMS                            550 non-null    float64\n",
            " 34  EA                                          393 non-null    float64\n",
            " 35  tricuspid.valve.return.velocity             790 non-null    float64\n",
            " 36  tricuspid.valve.return.pressure             182 non-null    float64\n",
            "dtypes: float64(15), int64(17), object(5)\n",
            "memory usage: 580.6+ KB\n"
          ],
          "name": "stdout"
        }
      ]
    },
    {
      "cell_type": "code",
      "metadata": {
        "id": "0jIdu3WxZ6P_"
      },
      "source": [
        "df.dropna(subset= feature_names[:29], inplace = True)       #dropping all the null values except index >29"
      ],
      "execution_count": null,
      "outputs": []
    },
    {
      "cell_type": "code",
      "metadata": {
        "id": "DD0zyJbMR3hn",
        "outputId": "a944adac-a140-4e4c-a6dd-68787f577b96",
        "colab": {
          "base_uri": "https://localhost:8080/"
        }
      },
      "source": [
        "df.loc[df[\"CCI.score\"].isnull() == True].index.to_list()        #finds the index of null values"
      ],
      "execution_count": null,
      "outputs": [
        {
          "output_type": "execute_result",
          "data": {
            "text/plain": [
              "[467, 743, 817, 1003, 1497]"
            ]
          },
          "metadata": {
            "tags": []
          },
          "execution_count": 32
        }
      ]
    },
    {
      "cell_type": "code",
      "metadata": {
        "id": "S6_90Ax-b1TT"
      },
      "source": [
        "df.drop(columns = \"consciousness\",inplace = True)"
      ],
      "execution_count": null,
      "outputs": []
    },
    {
      "cell_type": "code",
      "metadata": {
        "id": "BJJODZ5naao7",
        "outputId": "69542365-49b7-46f9-f5b0-ed763112d828",
        "colab": {
          "base_uri": "https://localhost:8080/"
        }
      },
      "source": [
        "df.info()"
      ],
      "execution_count": null,
      "outputs": [
        {
          "output_type": "stream",
          "text": [
            "<class 'pandas.core.frame.DataFrame'>\n",
            "Int64Index: 2003 entries, 0 to 2007\n",
            "Data columns (total 36 columns):\n",
            " #   Column                                      Non-Null Count  Dtype  \n",
            "---  ------                                      --------------  -----  \n",
            " 0   pulse                                       2003 non-null   int64  \n",
            " 1   respiration                                 2003 non-null   int64  \n",
            " 2   systolic.blood.pressure                     2003 non-null   int64  \n",
            " 3   diastolic.blood.pressure                    2003 non-null   int64  \n",
            " 4   map                                         2003 non-null   float64\n",
            " 5   weight                                      2003 non-null   float64\n",
            " 6   height                                      2003 non-null   float64\n",
            " 7   BMI                                         2003 non-null   float64\n",
            " 8   type.of.heart.failure                       2003 non-null   object \n",
            " 9   NYHA.cardiac.function.classification        2003 non-null   object \n",
            " 10  Killip.grade                                2003 non-null   object \n",
            " 11  myocardial.infarction                       2003 non-null   int64  \n",
            " 12  congestive.heart.failure                    2003 non-null   int64  \n",
            " 13  peripheral.vascular.disease                 2003 non-null   int64  \n",
            " 14  cerebrovascular.disease                     2003 non-null   int64  \n",
            " 15  dementia                                    2003 non-null   int64  \n",
            " 16  Chronic.obstructive.pulmonary.disease       2003 non-null   int64  \n",
            " 17  connective.tissue.disease                   2003 non-null   int64  \n",
            " 18  peptic.ulcer.disease                        2003 non-null   float64\n",
            " 19  diabetes                                    2003 non-null   int64  \n",
            " 20  moderate.to.severe.chronic.kidney.disease   2003 non-null   float64\n",
            " 21  hemiplegia                                  2003 non-null   int64  \n",
            " 22  leukemia                                    2003 non-null   int64  \n",
            " 23  liver.disease                               2003 non-null   float64\n",
            " 24  AIDS                                        2003 non-null   int64  \n",
            " 25  CCI.score                                   2003 non-null   float64\n",
            " 26  type.II.respiratory.failure                 2003 non-null   object \n",
            " 27  fio2                                        2003 non-null   int64  \n",
            " 28  acute.renal.failure                         2003 non-null   int64  \n",
            " 29  LVEF                                        633 non-null    float64\n",
            " 30  left.ventricular.end.diastolic.diameter.LV  1306 non-null   float64\n",
            " 31  mitral.valve.EMS                            976 non-null    float64\n",
            " 32  mitral.valve.AMS                            546 non-null    float64\n",
            " 33  EA                                          390 non-null    float64\n",
            " 34  tricuspid.valve.return.velocity             789 non-null    float64\n",
            " 35  tricuspid.valve.return.pressure             182 non-null    float64\n",
            "dtypes: float64(15), int64(17), object(4)\n",
            "memory usage: 579.0+ KB\n"
          ],
          "name": "stdout"
        }
      ]
    },
    {
      "cell_type": "code",
      "metadata": {
        "id": "hj3kP0O8a2qJ"
      },
      "source": [
        "df[\"type.of.heart.failure\"].unique()\n",
        "replace_values = {'Both' : 3, 'Right': 1, 'Left': 2}\n",
        "df.replace({'type.of.heart.failure' : replace_values}, inplace =True)"
      ],
      "execution_count": null,
      "outputs": []
    },
    {
      "cell_type": "code",
      "metadata": {
        "id": "-1toIag7bVvL"
      },
      "source": [
        "df['Killip.grade'].unique()\n",
        "replace_values = {'III' : 3, 'I': 1, 'II': 2,'IV': 4}\n",
        "df.replace({'Killip.grade' : replace_values}, inplace =True)"
      ],
      "execution_count": null,
      "outputs": []
    },
    {
      "cell_type": "code",
      "metadata": {
        "id": "jEok7PShbnZx"
      },
      "source": [
        "df['NYHA.cardiac.function.classification'].unique()\n",
        "replace_values = {'III' : 3, 'I': 1, 'II': 2,'IV': 4}\n",
        "df.replace({'NYHA.cardiac.function.classification' : replace_values}, inplace =True)"
      ],
      "execution_count": null,
      "outputs": []
    },
    {
      "cell_type": "code",
      "metadata": {
        "id": "0MUNBwBTbujI"
      },
      "source": [
        "df['type.II.respiratory.failure'].unique()\n",
        "df['type.II.respiratory.failure'].replace(to_replace = 'NonTypeII', value = 0, inplace = True)\n",
        "df['type.II.respiratory.failure'].replace(to_replace = 'TypeII', value = 1, inplace = True)"
      ],
      "execution_count": null,
      "outputs": []
    },
    {
      "cell_type": "code",
      "metadata": {
        "id": "f7ewVYnqd-f4",
        "outputId": "11a69709-2930-4b73-ed63-f667bd6497e5",
        "colab": {
          "base_uri": "https://localhost:8080/"
        }
      },
      "source": [
        "df.info()       # All the data is ordinal or continuous now"
      ],
      "execution_count": null,
      "outputs": [
        {
          "output_type": "stream",
          "text": [
            "<class 'pandas.core.frame.DataFrame'>\n",
            "Int64Index: 2003 entries, 0 to 2007\n",
            "Data columns (total 36 columns):\n",
            " #   Column                                      Non-Null Count  Dtype  \n",
            "---  ------                                      --------------  -----  \n",
            " 0   pulse                                       2003 non-null   int64  \n",
            " 1   respiration                                 2003 non-null   int64  \n",
            " 2   systolic.blood.pressure                     2003 non-null   int64  \n",
            " 3   diastolic.blood.pressure                    2003 non-null   int64  \n",
            " 4   map                                         2003 non-null   float64\n",
            " 5   weight                                      2003 non-null   float64\n",
            " 6   height                                      2003 non-null   float64\n",
            " 7   BMI                                         2003 non-null   float64\n",
            " 8   type.of.heart.failure                       2003 non-null   int64  \n",
            " 9   NYHA.cardiac.function.classification        2003 non-null   int64  \n",
            " 10  Killip.grade                                2003 non-null   int64  \n",
            " 11  myocardial.infarction                       2003 non-null   int64  \n",
            " 12  congestive.heart.failure                    2003 non-null   int64  \n",
            " 13  peripheral.vascular.disease                 2003 non-null   int64  \n",
            " 14  cerebrovascular.disease                     2003 non-null   int64  \n",
            " 15  dementia                                    2003 non-null   int64  \n",
            " 16  Chronic.obstructive.pulmonary.disease       2003 non-null   int64  \n",
            " 17  connective.tissue.disease                   2003 non-null   int64  \n",
            " 18  peptic.ulcer.disease                        2003 non-null   float64\n",
            " 19  diabetes                                    2003 non-null   int64  \n",
            " 20  moderate.to.severe.chronic.kidney.disease   2003 non-null   float64\n",
            " 21  hemiplegia                                  2003 non-null   int64  \n",
            " 22  leukemia                                    2003 non-null   int64  \n",
            " 23  liver.disease                               2003 non-null   float64\n",
            " 24  AIDS                                        2003 non-null   int64  \n",
            " 25  CCI.score                                   2003 non-null   float64\n",
            " 26  type.II.respiratory.failure                 2003 non-null   int64  \n",
            " 27  fio2                                        2003 non-null   int64  \n",
            " 28  acute.renal.failure                         2003 non-null   int64  \n",
            " 29  LVEF                                        633 non-null    float64\n",
            " 30  left.ventricular.end.diastolic.diameter.LV  1306 non-null   float64\n",
            " 31  mitral.valve.EMS                            976 non-null    float64\n",
            " 32  mitral.valve.AMS                            546 non-null    float64\n",
            " 33  EA                                          390 non-null    float64\n",
            " 34  tricuspid.valve.return.velocity             789 non-null    float64\n",
            " 35  tricuspid.valve.return.pressure             182 non-null    float64\n",
            "dtypes: float64(15), int64(21)\n",
            "memory usage: 579.0 KB\n"
          ],
          "name": "stdout"
        }
      ]
    },
    {
      "cell_type": "code",
      "metadata": {
        "id": "KyLMbyhGiMbM"
      },
      "source": [
        "df['brain.natriuretic.peptide'] = df_og['brain.natriuretic.peptide']"
      ],
      "execution_count": null,
      "outputs": []
    },
    {
      "cell_type": "markdown",
      "metadata": {
        "id": "B-ZjRlVNeOPG"
      },
      "source": [
        "### Attempt to predict CHF with limited data\n",
        "\n",
        "Preserving :\n",
        "* LVEF\n",
        "* LV End Diastolic Diameter\n",
        "* brain.natriuretic.preptide"
      ]
    },
    {
      "cell_type": "code",
      "metadata": {
        "id": "AvlNc874edLF",
        "outputId": "b21e36a1-d4bf-4346-ba73-c98aa34bc181",
        "colab": {
          "base_uri": "https://localhost:8080/"
        }
      },
      "source": [
        "len(df.loc[df['brain.natriuretic.peptide']>0].loc[df['LVEF'] > 0].loc[df['left.ventricular.end.diastolic.diameter.LV']>0])"
      ],
      "execution_count": null,
      "outputs": [
        {
          "output_type": "execute_result",
          "data": {
            "text/plain": [
              "587"
            ]
          },
          "metadata": {
            "tags": []
          },
          "execution_count": 67
        }
      ]
    },
    {
      "cell_type": "code",
      "metadata": {
        "id": "xsJXvjbSi70R"
      },
      "source": [
        "df_chf = df.dropna(subset = [\"brain.natriuretic.peptide\",'LVEF','left.ventricular.end.diastolic.diameter.LV'])"
      ],
      "execution_count": null,
      "outputs": []
    },
    {
      "cell_type": "code",
      "metadata": {
        "id": "xU3JQZq0lnk8"
      },
      "source": [
        "df_chf.dropna(axis=1,inplace = True)   #droping the whole features having null values"
      ],
      "execution_count": null,
      "outputs": []
    },
    {
      "cell_type": "code",
      "metadata": {
        "id": "mQ2vckA8yuEx"
      },
      "source": [
        "df_chf.columns"
      ],
      "execution_count": null,
      "outputs": []
    },
    {
      "cell_type": "code",
      "metadata": {
        "id": "WwFz9GnimeEa"
      },
      "source": [
        "Y = df_chf['congestive.heart.failure'].to_numpy()\n",
        "X = pd.DataFrame(df_chf.drop(columns = ['dementia','type.of.heart.failure','weight','height','congestive.heart.failure','peptic.ulcer.disease'])).to_numpy()"
      ],
      "execution_count": null,
      "outputs": []
    },
    {
      "cell_type": "code",
      "metadata": {
        "id": "8gHHrSu_tjbc"
      },
      "source": [
        "df_X = pd.DataFrame(df_chf.drop(columns = ['dementia','type.of.heart.failure','weight','height','congestive.heart.failure','peptic.ulcer.disease']))"
      ],
      "execution_count": null,
      "outputs": []
    },
    {
      "cell_type": "code",
      "metadata": {
        "id": "6LxClOiTnFjy",
        "outputId": "af5f770a-26dd-4334-e5e2-25d4a2b09e39",
        "colab": {
          "base_uri": "https://localhost:8080/"
        }
      },
      "source": [
        "X.shape"
      ],
      "execution_count": null,
      "outputs": [
        {
          "output_type": "execute_result",
          "data": {
            "text/plain": [
              "(587, 26)"
            ]
          },
          "metadata": {
            "tags": []
          },
          "execution_count": 87
        }
      ]
    },
    {
      "cell_type": "code",
      "metadata": {
        "id": "WPWxYwQwnH3q",
        "outputId": "a1b965a1-804f-485b-c05a-a5eb7ba5470d",
        "colab": {
          "base_uri": "https://localhost:8080/"
        }
      },
      "source": [
        "Y.shape"
      ],
      "execution_count": null,
      "outputs": [
        {
          "output_type": "execute_result",
          "data": {
            "text/plain": [
              "(587,)"
            ]
          },
          "metadata": {
            "tags": []
          },
          "execution_count": 88
        }
      ]
    },
    {
      "cell_type": "code",
      "metadata": {
        "id": "U2mjpQ--p39v"
      },
      "source": [
        "from sklearn import preprocessing\n",
        "from sklearn.ensemble import RandomForestClassifier\n",
        "from sklearn.metrics import accuracy_score\n",
        "from sklearn.model_selection import train_test_split\n",
        "\n",
        "scaler = preprocessing.StandardScaler().fit(X)\n",
        "X = scaler.transform(X)\n",
        "\n",
        "Y.reshape(-1)"
      ],
      "execution_count": null,
      "outputs": []
    },
    {
      "cell_type": "code",
      "metadata": {
        "id": "ic0wegZBt2za",
        "outputId": "37c98f55-da22-42a3-dfe9-a0c51ef70792",
        "colab": {
          "base_uri": "https://localhost:8080/"
        }
      },
      "source": [
        "Y"
      ],
      "execution_count": null,
      "outputs": [
        {
          "output_type": "execute_result",
          "data": {
            "text/plain": [
              "array([1, 1, 1, 1, 1, 1, 1, 1, 1, 1, 1, 1, 1, 1, 1, 1, 1, 1, 1, 1, 1, 1,\n",
              "       1, 1, 1, 1, 1, 1, 1, 1, 1, 1, 1, 1, 1, 1, 1, 1, 1, 1, 1, 1, 1, 1,\n",
              "       1, 1, 1, 1, 1, 1, 1, 1, 1, 1, 1, 1, 1, 1, 1, 1, 1, 1, 1, 1, 1, 1,\n",
              "       1, 1, 1, 1, 1, 1, 1, 1, 1, 1, 1, 1, 1, 1, 1, 1, 1, 1, 1, 1, 1, 1,\n",
              "       1, 1, 1, 1, 1, 1, 1, 1, 1, 1, 1, 1, 1, 1, 1, 1, 1, 1, 1, 1, 1, 1,\n",
              "       1, 1, 1, 1, 1, 1, 1, 1, 1, 1, 1, 1, 1, 1, 1, 1, 1, 1, 1, 1, 1, 1,\n",
              "       1, 1, 1, 1, 1, 1, 1, 1, 1, 1, 1, 1, 1, 1, 1, 1, 1, 1, 1, 1, 1, 1,\n",
              "       1, 1, 1, 1, 1, 1, 1, 1, 1, 1, 1, 1, 1, 1, 1, 1, 1, 1, 1, 1, 1, 1,\n",
              "       1, 1, 1, 1, 1, 1, 1, 1, 1, 1, 1, 1, 1, 1, 1, 1, 1, 1, 1, 1, 1, 1,\n",
              "       1, 1, 1, 1, 1, 1, 1, 1, 1, 1, 1, 1, 1, 1, 1, 1, 1, 1, 1, 1, 1, 1,\n",
              "       1, 1, 1, 1, 1, 1, 1, 1, 1, 1, 1, 1, 1, 0, 1, 1, 1, 1, 1, 1, 1, 1,\n",
              "       1, 1, 1, 1, 1, 1, 1, 1, 1, 1, 1, 1, 1, 1, 1, 1, 1, 1, 1, 1, 1, 1,\n",
              "       1, 1, 1, 1, 1, 1, 1, 1, 1, 1, 1, 1, 1, 1, 1, 1, 1, 1, 1, 1, 1, 1,\n",
              "       1, 1, 1, 1, 1, 1, 1, 1, 1, 1, 1, 1, 1, 1, 1, 1, 1, 1, 1, 1, 1, 1,\n",
              "       1, 1, 1, 1, 1, 1, 1, 1, 1, 1, 1, 1, 1, 1, 1, 1, 1, 1, 1, 1, 1, 1,\n",
              "       1, 1, 1, 1, 1, 1, 1, 1, 1, 1, 1, 1, 1, 1, 1, 1, 1, 1, 1, 1, 1, 1,\n",
              "       1, 1, 1, 1, 1, 1, 1, 1, 1, 1, 1, 1, 1, 1, 1, 1, 1, 1, 1, 1, 1, 1,\n",
              "       1, 1, 1, 1, 1, 1, 1, 1, 1, 1, 1, 1, 1, 1, 1, 1, 1, 1, 1, 1, 1, 1,\n",
              "       1, 1, 1, 1, 1, 1, 1, 1, 1, 1, 1, 1, 1, 1, 1, 1, 1, 1, 1, 1, 1, 1,\n",
              "       1, 1, 1, 1, 1, 1, 1, 1, 1, 1, 1, 1, 1, 1, 1, 1, 1, 1, 1, 1, 1, 1,\n",
              "       1, 1, 1, 1, 1, 1, 1, 1, 1, 1, 1, 1, 1, 1, 1, 1, 1, 1, 1, 1, 1, 1,\n",
              "       1, 1, 1, 1, 1, 1, 1, 1, 1, 1, 1, 1, 1, 1, 1, 1, 1, 1, 1, 1, 1, 1,\n",
              "       1, 1, 1, 1, 1, 1, 1, 1, 1, 1, 1, 1, 1, 1, 1, 1, 1, 1, 1, 1, 1, 1,\n",
              "       1, 1, 1, 1, 1, 1, 1, 1, 1, 1, 1, 1, 1, 1, 1, 1, 1, 1, 1, 1, 1, 1,\n",
              "       1, 1, 1, 1, 1, 1, 1, 1, 1, 1, 1, 1, 1, 1, 1, 1, 1, 1, 1, 1, 1, 1,\n",
              "       1, 1, 1, 1, 1, 1, 1, 1, 1, 1, 1, 1, 1, 1, 1, 1, 1, 1, 1, 1, 1, 1,\n",
              "       1, 1, 1, 1, 1, 1, 1, 1, 1, 1, 1, 1, 1, 1, 1])"
            ]
          },
          "metadata": {
            "tags": []
          },
          "execution_count": 91
        }
      ]
    },
    {
      "cell_type": "code",
      "metadata": {
        "id": "yjVDrPDcBkh5"
      },
      "source": [
        "df_chf.to_csv(\"All_CHF_Dataframe.csv\")"
      ],
      "execution_count": null,
      "outputs": []
    },
    {
      "cell_type": "markdown",
      "metadata": {
        "id": "JrCDYiWYE_cq"
      },
      "source": [
        "Two paths :\n",
        "* Predict Type of HF without LVEF\n",
        "\n",
        "        Class 0 : HFrEF ; EF < 40\n",
        "        Class 1 : HFpEF ; EF > 40\n",
        "\n",
        "* Predcit CHF without LVEF"
      ]
    },
    {
      "cell_type": "markdown",
      "metadata": {
        "id": "5UDAWjSUdfu0"
      },
      "source": [
        "Predicting the type HF"
      ]
    },
    {
      "cell_type": "code",
      "metadata": {
        "id": "yg7o3_80fOQJ"
      },
      "source": [
        "df_lvef = df_chf\n",
        "df_lvef['LVEF'].clip(40,41,inplace = True)         #Classifying the LVEF in two categories"
      ],
      "execution_count": null,
      "outputs": []
    },
    {
      "cell_type": "markdown",
      "metadata": {
        "id": "9fSNsyK6ih3K"
      },
      "source": [
        "* EF <= 40 as 0\n",
        "* EF > 40 as 1"
      ]
    },
    {
      "cell_type": "code",
      "metadata": {
        "id": "jhbBvdWveMc6"
      },
      "source": [
        "df_lvef['LVEF'].replace(to_replace=40,value=int(0),inplace=True)\n",
        "df_lvef['LVEF'].replace(to_replace=41,value=int(1),inplace=True)"
      ],
      "execution_count": null,
      "outputs": []
    },
    {
      "cell_type": "markdown",
      "metadata": {
        "id": "RMeOl2SFj7Dh"
      },
      "source": [
        "We drop the CHF variable as well because all are 1.\n",
        "Also we wish to diagnose the early signs hence it is a target variable."
      ]
    },
    {
      "cell_type": "code",
      "metadata": {
        "id": "_WyKg_0BdfLb"
      },
      "source": [
        "Y = df_lvef['LVEF'].to_numpy()\n",
        "X = pd.DataFrame(df_lvef.drop(columns = ['LVEF','dementia','type.of.heart.failure','weight','height','congestive.heart.failure','peptic.ulcer.disease'])).to_numpy()"
      ],
      "execution_count": null,
      "outputs": []
    },
    {
      "cell_type": "code",
      "metadata": {
        "id": "y9wsRwJjmOnX"
      },
      "source": [
        "from sklearn import preprocessing\n",
        "from sklearn.ensemble import RandomForestClassifier\n",
        "from sklearn.metrics import accuracy_score\n",
        "from sklearn.model_selection import train_test_split"
      ],
      "execution_count": null,
      "outputs": []
    },
    {
      "cell_type": "code",
      "metadata": {
        "id": "wYjpw4GUm4OV"
      },
      "source": [
        "Y = Y.astype(int)\n",
        "Y = Y.reshape(-1)"
      ],
      "execution_count": null,
      "outputs": []
    },
    {
      "cell_type": "code",
      "metadata": {
        "id": "YGRuhIu_naoL"
      },
      "source": [
        "x_train, x_test, y_train, y_test = train_test_split(X,Y,test_size = 0.148)"
      ],
      "execution_count": null,
      "outputs": []
    },
    {
      "cell_type": "code",
      "metadata": {
        "id": "nXLZSY3IutLc"
      },
      "source": [
        "scaler = preprocessing.StandardScaler().fit(x_train)\n",
        "x_train = scaler.transform(x_train)\n",
        "scaler = preprocessing.StandardScaler().fit(x_test)\n",
        "x_test = scaler.transform(x_test)"
      ],
      "execution_count": null,
      "outputs": []
    },
    {
      "cell_type": "markdown",
      "metadata": {
        "id": "dgEjrlmctvg2"
      },
      "source": [
        "RandomSearch CV"
      ]
    },
    {
      "cell_type": "code",
      "metadata": {
        "id": "eOwHLs8nsSPg"
      },
      "source": [
        "from sklearn.model_selection import RandomizedSearchCV# Number of trees in random forest\n",
        "n_estimators = [int(x) for x in np.linspace(start = 500, stop = 2000, num = 10)]\n",
        "# Number of features to consider at every split\n",
        "max_features = ['auto', 'sqrt']\n",
        "# Maximum number of levels in tree\n",
        "max_depth = [int(x) for x in np.linspace(10, 110, num = 11)]\n",
        "max_depth.append(None)\n",
        "# Minimum number of samples required to split a node\n",
        "min_samples_split = [2, 3,5]\n",
        "# Minimum number of samples required at each leaf node\n",
        "min_samples_leaf = [ 2, 3, 4]\n",
        "# Method of selecting samples for training each tree\n",
        "bootstrap = [True, False]# Create the random grid\n",
        "random_grid = {'n_estimators': n_estimators,\n",
        "               'max_features': max_features,\n",
        "               'max_depth': max_depth,\n",
        "               'min_samples_split': min_samples_split,\n",
        "               'min_samples_leaf': min_samples_leaf,\n",
        "               'bootstrap': bootstrap} "
      ],
      "execution_count": null,
      "outputs": []
    },
    {
      "cell_type": "code",
      "metadata": {
        "id": "ry12AETJttCY",
        "outputId": "371ed99d-6cd6-4c46-acf0-efc59e2b9a1f",
        "colab": {
          "base_uri": "https://localhost:8080/"
        }
      },
      "source": [
        "clf = RandomForestClassifier()\n",
        "rf_rscv = RandomizedSearchCV(estimator=clf,param_distributions = random_grid,n_iter = 100,cv = 5)\n",
        "rf_rscv.fit(x_train,y_train)"
      ],
      "execution_count": null,
      "outputs": [
        {
          "output_type": "execute_result",
          "data": {
            "text/plain": [
              "RandomizedSearchCV(cv=5, error_score=nan,\n",
              "                   estimator=RandomForestClassifier(bootstrap=True,\n",
              "                                                    ccp_alpha=0.0,\n",
              "                                                    class_weight=None,\n",
              "                                                    criterion='gini',\n",
              "                                                    max_depth=None,\n",
              "                                                    max_features='auto',\n",
              "                                                    max_leaf_nodes=None,\n",
              "                                                    max_samples=None,\n",
              "                                                    min_impurity_decrease=0.0,\n",
              "                                                    min_impurity_split=None,\n",
              "                                                    min_samples_leaf=1,\n",
              "                                                    min_samples_split=2,\n",
              "                                                    min_weight_fraction_leaf=0.0,\n",
              "                                                    n_estimators=100,\n",
              "                                                    n_jobs...\n",
              "                   param_distributions={'bootstrap': [True, False],\n",
              "                                        'max_depth': [10, 20, 30, 40, 50, 60,\n",
              "                                                      70, 80, 90, 100, 110,\n",
              "                                                      None],\n",
              "                                        'max_features': ['auto', 'sqrt'],\n",
              "                                        'min_samples_leaf': [2, 3, 4],\n",
              "                                        'min_samples_split': [2, 3, 5],\n",
              "                                        'n_estimators': [500, 666, 833, 1000,\n",
              "                                                         1166, 1333, 1500, 1666,\n",
              "                                                         1833, 2000]},\n",
              "                   pre_dispatch='2*n_jobs', random_state=None, refit=True,\n",
              "                   return_train_score=False, scoring=None, verbose=0)"
            ]
          },
          "metadata": {
            "tags": []
          },
          "execution_count": 22
        }
      ]
    },
    {
      "cell_type": "code",
      "metadata": {
        "id": "pDE3Kr1R90IL",
        "outputId": "4da2494a-8e3e-4fab-a1e0-db8b786ef099",
        "colab": {
          "base_uri": "https://localhost:8080/"
        }
      },
      "source": [
        "rf_rscv.best_params_"
      ],
      "execution_count": null,
      "outputs": [
        {
          "output_type": "execute_result",
          "data": {
            "text/plain": [
              "{'bootstrap': True,\n",
              " 'max_depth': 60,\n",
              " 'max_features': 'auto',\n",
              " 'min_samples_leaf': 3,\n",
              " 'min_samples_split': 3,\n",
              " 'n_estimators': 1333}"
            ]
          },
          "metadata": {
            "tags": []
          },
          "execution_count": 23
        }
      ]
    },
    {
      "cell_type": "markdown",
      "metadata": {
        "id": "_L5now6H-Nyz"
      },
      "source": [
        "Grid Search CV"
      ]
    },
    {
      "cell_type": "code",
      "metadata": {
        "id": "H92LbROUsCtl",
        "outputId": "2c16458d-953b-447f-c8a4-aa6dd627ebea",
        "colab": {
          "base_uri": "https://localhost:8080/"
        }
      },
      "source": [
        "from sklearn.model_selection import GridSearchCV# Create the parameter grid based on the results of random search \n",
        "param_grid = {\n",
        "    'bootstrap': [True],\n",
        "    'max_depth': [50, 60,70,80],\n",
        "    'max_features': ['auto','sqrt'],\n",
        "    'min_samples_leaf': [2,3,4],\n",
        "    'min_samples_split': [2,3,4],\n",
        "    'n_estimators': [900,1000,1333,1400]\n",
        "}\n",
        "rf = RandomForestClassifier()# Instantiate the grid search model\n",
        "grid_search = GridSearchCV(estimator = rf, param_grid = param_grid, \n",
        "                          cv = 3, n_jobs = -1, verbose = 2)\n",
        "grid_search.fit(x_train,y_train)"
      ],
      "execution_count": null,
      "outputs": [
        {
          "output_type": "stream",
          "text": [
            "Fitting 3 folds for each of 288 candidates, totalling 864 fits\n"
          ],
          "name": "stdout"
        },
        {
          "output_type": "stream",
          "text": [
            "[Parallel(n_jobs=-1)]: Using backend LokyBackend with 2 concurrent workers.\n",
            "[Parallel(n_jobs=-1)]: Done  37 tasks      | elapsed:   54.8s\n",
            "[Parallel(n_jobs=-1)]: Done 158 tasks      | elapsed:  3.8min\n",
            "[Parallel(n_jobs=-1)]: Done 361 tasks      | elapsed:  8.7min\n",
            "[Parallel(n_jobs=-1)]: Done 644 tasks      | elapsed: 15.5min\n",
            "[Parallel(n_jobs=-1)]: Done 864 out of 864 | elapsed: 20.8min finished\n"
          ],
          "name": "stderr"
        },
        {
          "output_type": "execute_result",
          "data": {
            "text/plain": [
              "GridSearchCV(cv=3, error_score=nan,\n",
              "             estimator=RandomForestClassifier(bootstrap=True, ccp_alpha=0.0,\n",
              "                                              class_weight=None,\n",
              "                                              criterion='gini', max_depth=None,\n",
              "                                              max_features='auto',\n",
              "                                              max_leaf_nodes=None,\n",
              "                                              max_samples=None,\n",
              "                                              min_impurity_decrease=0.0,\n",
              "                                              min_impurity_split=None,\n",
              "                                              min_samples_leaf=1,\n",
              "                                              min_samples_split=2,\n",
              "                                              min_weight_fraction_leaf=0.0,\n",
              "                                              n_estimators=100, n_jobs=None,\n",
              "                                              oob_score=False,\n",
              "                                              random_state=None, verbose=0,\n",
              "                                              warm_start=False),\n",
              "             iid='deprecated', n_jobs=-1,\n",
              "             param_grid={'bootstrap': [True], 'max_depth': [50, 60, 70, 80],\n",
              "                         'max_features': ['auto', 'sqrt'],\n",
              "                         'min_samples_leaf': [2, 3, 4],\n",
              "                         'min_samples_split': [2, 3, 4],\n",
              "                         'n_estimators': [900, 1000, 1333, 1400]},\n",
              "             pre_dispatch='2*n_jobs', refit=True, return_train_score=False,\n",
              "             scoring=None, verbose=2)"
            ]
          },
          "metadata": {
            "tags": []
          },
          "execution_count": 31
        }
      ]
    },
    {
      "cell_type": "code",
      "metadata": {
        "id": "8tDxxNgf_l2j",
        "outputId": "fcc2590d-65bb-492d-a193-9b1e8d6292f9",
        "colab": {
          "base_uri": "https://localhost:8080/"
        }
      },
      "source": [
        "grid_search.best_params_"
      ],
      "execution_count": null,
      "outputs": [
        {
          "output_type": "execute_result",
          "data": {
            "text/plain": [
              "{'bootstrap': True,\n",
              " 'max_depth': 80,\n",
              " 'max_features': 'sqrt',\n",
              " 'min_samples_leaf': 4,\n",
              " 'min_samples_split': 3,\n",
              " 'n_estimators': 1333}"
            ]
          },
          "metadata": {
            "tags": []
          },
          "execution_count": 32
        }
      ]
    },
    {
      "cell_type": "code",
      "metadata": {
        "id": "xG9FROjlrH23"
      },
      "source": [
        "clf = RandomForestClassifier(n_estimators=1333,bootstrap=True,max_depth=80, max_features='sqrt', min_samples_split= 4, min_samples_leaf=3).fit(x_train,y_train)\n",
        "y_predicted = clf.predict(x_test)\n"
      ],
      "execution_count": null,
      "outputs": []
    },
    {
      "cell_type": "code",
      "metadata": {
        "id": "is44yepoxlCq",
        "outputId": "9c0ea2e6-4e3b-4466-8bb6-41de6e277d62",
        "colab": {
          "base_uri": "https://localhost:8080/"
        }
      },
      "source": [
        "y_train_pred = clf.predict(x_train)\n",
        "print(\"Accuracy Test %0.2f\" %(accuracy_score(y_test,y_predicted)*100))\n",
        "print(\"Accuracy Train %0.2f\" %(accuracy_score(y_train,y_train_pred)*100))"
      ],
      "execution_count": null,
      "outputs": [
        {
          "output_type": "stream",
          "text": [
            "Accuracy Test 88.51\n",
            "Accuracy Train 94.40\n"
          ],
          "name": "stdout"
        }
      ]
    },
    {
      "cell_type": "markdown",
      "metadata": {
        "id": "TymGjDOgub1V"
      },
      "source": [
        "Visualizations"
      ]
    },
    {
      "cell_type": "code",
      "metadata": {
        "id": "ajwNcQGBud-J",
        "outputId": "0476a834-a60f-4f40-bda0-355628d24cef",
        "colab": {
          "base_uri": "https://localhost:8080/"
        }
      },
      "source": [
        "df_xtest = pd.DataFrame(x_train)\n",
        "df_xtrain.shape"
      ],
      "execution_count": null,
      "outputs": [
        {
          "output_type": "execute_result",
          "data": {
            "text/plain": [
              "(500, 25)"
            ]
          },
          "metadata": {
            "tags": []
          },
          "execution_count": 73
        }
      ]
    },
    {
      "cell_type": "code",
      "metadata": {
        "id": "tGO2plrEs_Sq",
        "outputId": "1edde336-2819-47c1-b8c8-316988ff96a2",
        "colab": {
          "base_uri": "https://localhost:8080/",
          "height": 369
        }
      },
      "source": [
        "plt.style.use('ggplot')\n",
        "fig, axes = plt.subplots(nrows=1, ncols=2, figsize=(15, 5))\n",
        "axes[0].scatter(df_xtrain.iloc[:,23],df_xtrain.iloc[:,4],c=y_train_pred,cmap='brg')\n",
        "axes[1].scatter(df_xtrain.iloc[:,23],df_xtrain.iloc[:,4],c=y_train,cmap='brg')\n",
        "axes[0].title.set_text(\"Predictions\")\n",
        "axes[1].title.set_text(\"Actual Plot\")\n",
        "fig.tight_layout()"
      ],
      "execution_count": null,
      "outputs": [
        {
          "output_type": "display_data",
          "data": {
            "image/png": "[encoded data removed]",
            "text/plain": [
              "<Figure size 1080x360 with 2 Axes>"
            ]
          },
          "metadata": {
            "tags": []
          }
        }
      ]
    },
    {
      "cell_type": "markdown",
      "metadata": {
        "id": "1UDju_kW8C45"
      },
      "source": [
        "Importand Features :\n",
        "* BNP\n",
        "* left.ventricular.end.diastolic.diameter.LV"
      ]
    }
  ]
}