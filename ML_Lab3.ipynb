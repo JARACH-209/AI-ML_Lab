{
  "nbformat": 4,
  "nbformat_minor": 0,
  "metadata": {
    "colab": {
      "name": "ML_Lab3",
      "provenance": [],
      "collapsed_sections": [],
      "authorship_tag": "ABX9TyPGoueHldqbFoipwmG1WKly",
      "include_colab_link": true
    },
    "kernelspec": {
      "name": "python3",
      "display_name": "Python 3"
    }
  },
  "cells": [
    {
      "cell_type": "markdown",
      "metadata": {
        "id": "view-in-github",
        "colab_type": "text"
      },
      "source": [
        "<a href=\"https://colab.research.google.com/github/JARACH-209/AI-ML_Lab/blob/master/ML_Lab3.ipynb\" target=\"_parent\"><img src=\"https://colab.research.google.com/assets/colab-badge.svg\" alt=\"Open In Colab\"/></a>"
      ]
    },
    {
      "cell_type": "markdown",
      "metadata": {
        "id": "xFV47NF4Ym0n",
        "colab_type": "text"
      },
      "source": [
        "#ML Lab 3\n",
        "\n",
        "## 1) Simple Linear Regression \n",
        "## Dataset : Swedish Auto Insurance Dataset"
      ]
    },
    {
      "cell_type": "code",
      "metadata": {
        "id": "B3gPKNfvRHQZ",
        "colab_type": "code",
        "colab": {
          "base_uri": "https://localhost:8080/",
          "height": 162
        },
        "outputId": "225f3b9b-8e29-4cfd-890b-33fdfb36f4bb"
      },
      "source": [
        "import pandas as pd\n",
        "import numpy as np\n",
        "from sklearn.linear_model import LinearRegression\n",
        "from sklearn.model_selection import train_test_split\n",
        "import matplotlib.pyplot as plt\n",
        "from sklearn.metrics import mean_squared_error\n",
        "import math\n",
        "%matplotlib inline\n",
        "\n",
        "df = pd.read_excel(\"/content/insurance_dataset.xls\")\n",
        "\n",
        "df.head(3)"
      ],
      "execution_count": 372,
      "outputs": [
        {
          "output_type": "stream",
          "text": [
            "*** No CODEPAGE record, no encoding_override: will use 'ascii'\n"
          ],
          "name": "stdout"
        },
        {
          "output_type": "execute_result",
          "data": {
            "text/html": [
              "<div>\n",
              "<style scoped>\n",
              "    .dataframe tbody tr th:only-of-type {\n",
              "        vertical-align: middle;\n",
              "    }\n",
              "\n",
              "    .dataframe tbody tr th {\n",
              "        vertical-align: top;\n",
              "    }\n",
              "\n",
              "    .dataframe thead th {\n",
              "        text-align: right;\n",
              "    }\n",
              "</style>\n",
              "<table border=\"1\" class=\"dataframe\">\n",
              "  <thead>\n",
              "    <tr style=\"text-align: right;\">\n",
              "      <th></th>\n",
              "      <th>X</th>\n",
              "      <th>Y</th>\n",
              "    </tr>\n",
              "  </thead>\n",
              "  <tbody>\n",
              "    <tr>\n",
              "      <th>0</th>\n",
              "      <td>108</td>\n",
              "      <td>392.5</td>\n",
              "    </tr>\n",
              "    <tr>\n",
              "      <th>1</th>\n",
              "      <td>19</td>\n",
              "      <td>46.2</td>\n",
              "    </tr>\n",
              "    <tr>\n",
              "      <th>2</th>\n",
              "      <td>13</td>\n",
              "      <td>15.7</td>\n",
              "    </tr>\n",
              "  </tbody>\n",
              "</table>\n",
              "</div>"
            ],
            "text/plain": [
              "     X      Y\n",
              "0  108  392.5\n",
              "1   19   46.2\n",
              "2   13   15.7"
            ]
          },
          "metadata": {
            "tags": []
          },
          "execution_count": 372
        }
      ]
    },
    {
      "cell_type": "code",
      "metadata": {
        "id": "8N3t13eKcuJO",
        "colab_type": "code",
        "colab": {
          "base_uri": "https://localhost:8080/",
          "height": 265
        },
        "outputId": "bb28a90c-8be6-4aa9-d34b-da532252d6b4"
      },
      "source": [
        "fig,ax = plt.subplots()\n",
        "ax.scatter(df.X,df.Y)\n",
        "plt.show()"
      ],
      "execution_count": 373,
      "outputs": [
        {
          "output_type": "display_data",
          "data": {
            "image/png": "[encoded data removed]",
            "text/plain": [
              "<Figure size 432x288 with 1 Axes>"
            ]
          },
          "metadata": {
            "tags": [],
            "needs_background": "light"
          }
        }
      ]
    },
    {
      "cell_type": "markdown",
      "metadata": {
        "id": "LJECIa5XfLEA",
        "colab_type": "text"
      },
      "source": [
        "Train, Test and Validation Split"
      ]
    },
    {
      "cell_type": "code",
      "metadata": {
        "id": "2efJ55SddPR2",
        "colab_type": "code",
        "colab": {}
      },
      "source": [
        "#Train and Test set split into 80% and 20% respectively\n",
        "x_train, x_rest, y_train, y_rest = train_test_split(df.X,df.Y,test_size = .4,random_state =0)\n",
        "\n",
        "#Rest of the 40% set split into equal parts of Train and Validation set \n",
        "x_test, x_val, y_test, y_val = train_test_split(x_train,y_train,test_size = .5,random_state = 0)\n",
        "\n",
        "#Therefore : Train = 60%, Test = 20% and Validation = 20%\n"
      ],
      "execution_count": 374,
      "outputs": []
    },
    {
      "cell_type": "code",
      "metadata": {
        "id": "LFpW0L_zhWBb",
        "colab_type": "code",
        "colab": {
          "base_uri": "https://localhost:8080/",
          "height": 72
        },
        "outputId": "b43de2b5-8588-48a9-e8a5-bbf73f4a8955"
      },
      "source": [
        "print(len(x_train),len(y_train))\n",
        "print(len(x_val),len(y_val))\n",
        "print(len(x_test),len(y_test))"
      ],
      "execution_count": 375,
      "outputs": [
        {
          "output_type": "stream",
          "text": [
            "37 37\n",
            "19 19\n",
            "18 18\n"
          ],
          "name": "stdout"
        }
      ]
    },
    {
      "cell_type": "code",
      "metadata": {
        "id": "50LRM9i6kTCz",
        "colab_type": "code",
        "colab": {}
      },
      "source": [
        "x_train = np.array(x_train).reshape(-1,1)\n",
        "y_train = np.array(y_train).reshape(-1,1)\n",
        "x_test = np.array(x_test).reshape(-1,1)\n",
        "y_test = np.array(y_test).reshape(-1,1)\n",
        "x_val = np.array(x_val).reshape(-1,1)\n",
        "y_val = np.array(y_val).reshape(-1,1)"
      ],
      "execution_count": 376,
      "outputs": []
    },
    {
      "cell_type": "markdown",
      "metadata": {
        "id": "_uW25MlZZNn7",
        "colab_type": "text"
      },
      "source": [
        "a) Oridanry Least Squares Method"
      ]
    },
    {
      "cell_type": "code",
      "metadata": {
        "id": "DRs_IXDpd6le",
        "colab_type": "code",
        "colab": {}
      },
      "source": [
        "clf = LinearRegression(fit_intercept=True,)  #if fit intercept is false then intercept is taken as 0 otherwise it is fit as per the data\n",
        "clf.fit(x_train,y_train)\n",
        "\n",
        "val_score = clf.score(x_val,y_val)\n",
        "test_score = clf.score(x_test,y_test)\n",
        "train_score = clf.score(x_train,y_train)"
      ],
      "execution_count": 377,
      "outputs": []
    },
    {
      "cell_type": "code",
      "metadata": {
        "id": "TjW0IRPrg4Zu",
        "colab_type": "code",
        "colab": {
          "base_uri": "https://localhost:8080/",
          "height": 109
        },
        "outputId": "0c9ddcc1-cae8-48ac-da53-fb4eced06cbb"
      },
      "source": [
        "print(\"Validation Score : \",val_score)\n",
        "print(\"Test score : \",test_score)\n",
        "print(\"Train score : \",train_score)\n",
        "print('Coefficients: ', clf.coef_)\n",
        "print('Intercept: ',clf.intercept_)\n",
        "\n",
        "train_y_hat = clf.predict(x_train)\n",
        "test_y_hat = clf.predict(x_test)\n",
        "val_y_hat = clf.predict(x_val)"
      ],
      "execution_count": 378,
      "outputs": [
        {
          "output_type": "stream",
          "text": [
            "Validation Score :  0.9152029466665282\n",
            "Test score :  0.6101251977675606\n",
            "Train score :  0.8707377749067988\n",
            "Coefficients:  [[3.41694874]]\n",
            "Intercept:  [18.31114212]\n"
          ],
          "name": "stdout"
        }
      ]
    },
    {
      "cell_type": "code",
      "metadata": {
        "id": "VFOoOs9ql6JO",
        "colab_type": "code",
        "colab": {
          "base_uri": "https://localhost:8080/",
          "height": 279
        },
        "outputId": "b9133b8c-f7d0-4dc1-f43d-5b1dc19e85a8"
      },
      "source": [
        "fig, ax = plt.subplots()\n",
        "ax = plt.scatter(x_train, y_train)\n",
        "ax = plt.plot(x_train, clf.coef_[0][0]*x_train + clf.intercept_[0], '-r')\n",
        "fig = plt.xlabel(\"X\")\n",
        "fig = plt.ylabel(\"Y\")\n",
        "y_hat = clf.predict(x_test)\n",
        "ax = plt.scatter(x_test,y_hat,color = \"green\")\n",
        "plt.show()"
      ],
      "execution_count": 379,
      "outputs": [
        {
          "output_type": "display_data",
          "data": {
            "image/png": "[encoded data removed]",
            "text/plain": [
              "<Figure size 432x288 with 1 Axes>"
            ]
          },
          "metadata": {
            "tags": [],
            "needs_background": "light"
          }
        }
      ]
    },
    {
      "cell_type": "code",
      "metadata": {
        "id": "AnM_fs9Mpt-u",
        "colab_type": "code",
        "colab": {
          "base_uri": "https://localhost:8080/",
          "height": 165
        },
        "outputId": "ab23855c-ed52-44fe-8e6c-8a368a365cf0"
      },
      "source": [
        "from sklearn.metrics import r2_score\n",
        "\n",
        "print(\"Train R2-score : \\t\\t%.2f\" % r2_score(train_y_hat , y_train) )\n",
        "print(\"Test R2-score : \\t\\t%.2f\" % r2_score(test_y_hat , y_test) )\n",
        "print(\"Validation R2-score : \\t\\t%.2f\" % r2_score(val_y_hat , y_val) )\n",
        "print(\"------------------------------------\")\n",
        "print(\"Train score : \\t\\t\\t%.2f\"%train_score)\n",
        "print(\"Test score : \\t\\t\\t%.2f\"%test_score)\n",
        "print(\"Validation Score : \\t\\t%.2f\"%val_score)\n",
        "\n",
        "print(\"RMSE : %.4f\"%math.sqrt(mean_squared_error(y_test,test_y_hat)))"
      ],
      "execution_count": 383,
      "outputs": [
        {
          "output_type": "stream",
          "text": [
            "Train R2-score : \t\t0.85\n",
            "Test R2-score : \t\t0.42\n",
            "Validation R2-score : \t\t0.90\n",
            "------------------------------------\n",
            "Train score : \t\t\t0.87\n",
            "Test score : \t\t\t0.61\n",
            "Validation Score : \t\t0.92\n",
            "RMSE : 35.5350\n"
          ],
          "name": "stdout"
        }
      ]
    },
    {
      "cell_type": "markdown",
      "metadata": {
        "id": "bzaQN2hFuAnL",
        "colab_type": "text"
      },
      "source": [
        "b) Using Gradient Descent"
      ]
    },
    {
      "cell_type": "markdown",
      "metadata": {
        "id": "1xgN6uw07JoY",
        "colab_type": "text"
      },
      "source": [
        "**In a SDG regressor it is very important to transform the datasets otherwise output will be nonsensical**"
      ]
    },
    {
      "cell_type": "code",
      "metadata": {
        "id": "QpC1MXxf6jhX",
        "colab_type": "code",
        "colab": {}
      },
      "source": [
        "scaler = preprocessing.StandardScaler().fit(x_train)\n",
        "x_train = scaler.transform(x_train)\n",
        "x_test = scaler.transform(x_test)\n",
        "x_val = scaler.transform(x_val)\n",
        "\n",
        "y_train = y_train.reshape(-1)\n",
        "y_test = y_test.reshape(-1)\n",
        "y_val = y_val.reshape(-1)"
      ],
      "execution_count": 384,
      "outputs": []
    },
    {
      "cell_type": "code",
      "metadata": {
        "id": "SsDG676pqg9Q",
        "colab_type": "code",
        "colab": {}
      },
      "source": [
        "from sklearn.linear_model import SGDRegressor\n",
        "from sklearn import preprocessing\n",
        "\n",
        "iterations = 5000\n",
        "clf2 = SGDRegressor(max_iter=iterations,learning_rate=\"constant\",eta0=.001,)\n",
        "clf2.fit(x_train,y_train)\n",
        "\n",
        "test_y_hat_sdg = clf2.predict(x_test)\n",
        "val_y_hat_sdg = clf2.predict(x_val)\n",
        "\n",
        "train_score_sdg = clf2.score(x_train,y_train)\n",
        "test_score_sdg = clf2.score(x_test,y_test)\n",
        "val_score_sdg = clf2.score(x_val,y_val)"
      ],
      "execution_count": 385,
      "outputs": []
    },
    {
      "cell_type": "code",
      "metadata": {
        "id": "wQYvfo8gvhNt",
        "colab_type": "code",
        "colab": {
          "base_uri": "https://localhost:8080/",
          "height": 165
        },
        "outputId": "3b459f78-3cce-4ae6-e0aa-87442e73e56b"
      },
      "source": [
        "print(\"R2-score Train: \\t\\t%.2f\" % r2_score(clf2.predict(x_train) , y_train) )\n",
        "print(\"R2-score Test: \\t\\t\\t%.2f\" % r2_score(test_y_hat_sdg , y_test) )\n",
        "print(\"R2-score Validation: \\t\\t%.2f\" % r2_score(val_y_hat_sdg , y_val) )\n",
        "print(\"------------------------------------\")\n",
        "print(\"Train score : \\t\\t\\t%.2f\"%train_score_sdg)\n",
        "print(\"Test score : \\t\\t\\t%.2f\"%test_score_sdg)\n",
        "print(\"Validation Score : \\t\\t%.2f\"%val_score_sdg)\n",
        "\n",
        "print(\"RMSE : \",math.sqrt(mean_squared_error(y_test,test_y_hat_sdg)))"
      ],
      "execution_count": 386,
      "outputs": [
        {
          "output_type": "stream",
          "text": [
            "R2-score Train: \t\t0.85\n",
            "R2-score Test: \t\t\t0.42\n",
            "R2-score Validation: \t\t0.90\n",
            "------------------------------------\n",
            "Train score : \t\t\t0.87\n",
            "Test score : \t\t\t0.61\n",
            "Validation Score : \t\t0.92\n",
            "RMSE :  35.53811817802119\n"
          ],
          "name": "stdout"
        }
      ]
    },
    {
      "cell_type": "markdown",
      "metadata": {
        "id": "k4tYrtYLBspV",
        "colab_type": "text"
      },
      "source": [
        "## 2) Multiple Linear Regression using Gradient Descent\n",
        "### Dataset : Boston Housing DataSet"
      ]
    },
    {
      "cell_type": "code",
      "metadata": {
        "id": "boUVRr-JBwh3",
        "colab_type": "code",
        "colab": {
          "base_uri": "https://localhost:8080/",
          "height": 206
        },
        "outputId": "fbe20c8f-8b23-4ff8-b69c-0cfe2f48ff7e"
      },
      "source": [
        "from sklearn.datasets import load_boston\n",
        "from sklearn.metrics import mean_squared_error\n",
        "\n",
        "boston_df = pd.DataFrame(load_boston().data,columns = load_boston().feature_names)\n",
        "\n",
        "y = load_boston().target\n",
        "x = load_boston().data\n",
        "\n",
        "boston_df.head(5)"
      ],
      "execution_count": 387,
      "outputs": [
        {
          "output_type": "execute_result",
          "data": {
            "text/html": [
              "<div>\n",
              "<style scoped>\n",
              "    .dataframe tbody tr th:only-of-type {\n",
              "        vertical-align: middle;\n",
              "    }\n",
              "\n",
              "    .dataframe tbody tr th {\n",
              "        vertical-align: top;\n",
              "    }\n",
              "\n",
              "    .dataframe thead th {\n",
              "        text-align: right;\n",
              "    }\n",
              "</style>\n",
              "<table border=\"1\" class=\"dataframe\">\n",
              "  <thead>\n",
              "    <tr style=\"text-align: right;\">\n",
              "      <th></th>\n",
              "      <th>CRIM</th>\n",
              "      <th>ZN</th>\n",
              "      <th>INDUS</th>\n",
              "      <th>CHAS</th>\n",
              "      <th>NOX</th>\n",
              "      <th>RM</th>\n",
              "      <th>AGE</th>\n",
              "      <th>DIS</th>\n",
              "      <th>RAD</th>\n",
              "      <th>TAX</th>\n",
              "      <th>PTRATIO</th>\n",
              "      <th>B</th>\n",
              "      <th>LSTAT</th>\n",
              "    </tr>\n",
              "  </thead>\n",
              "  <tbody>\n",
              "    <tr>\n",
              "      <th>0</th>\n",
              "      <td>0.00632</td>\n",
              "      <td>18.0</td>\n",
              "      <td>2.31</td>\n",
              "      <td>0.0</td>\n",
              "      <td>0.538</td>\n",
              "      <td>6.575</td>\n",
              "      <td>65.2</td>\n",
              "      <td>4.0900</td>\n",
              "      <td>1.0</td>\n",
              "      <td>296.0</td>\n",
              "      <td>15.3</td>\n",
              "      <td>396.90</td>\n",
              "      <td>4.98</td>\n",
              "    </tr>\n",
              "    <tr>\n",
              "      <th>1</th>\n",
              "      <td>0.02731</td>\n",
              "      <td>0.0</td>\n",
              "      <td>7.07</td>\n",
              "      <td>0.0</td>\n",
              "      <td>0.469</td>\n",
              "      <td>6.421</td>\n",
              "      <td>78.9</td>\n",
              "      <td>4.9671</td>\n",
              "      <td>2.0</td>\n",
              "      <td>242.0</td>\n",
              "      <td>17.8</td>\n",
              "      <td>396.90</td>\n",
              "      <td>9.14</td>\n",
              "    </tr>\n",
              "    <tr>\n",
              "      <th>2</th>\n",
              "      <td>0.02729</td>\n",
              "      <td>0.0</td>\n",
              "      <td>7.07</td>\n",
              "      <td>0.0</td>\n",
              "      <td>0.469</td>\n",
              "      <td>7.185</td>\n",
              "      <td>61.1</td>\n",
              "      <td>4.9671</td>\n",
              "      <td>2.0</td>\n",
              "      <td>242.0</td>\n",
              "      <td>17.8</td>\n",
              "      <td>392.83</td>\n",
              "      <td>4.03</td>\n",
              "    </tr>\n",
              "    <tr>\n",
              "      <th>3</th>\n",
              "      <td>0.03237</td>\n",
              "      <td>0.0</td>\n",
              "      <td>2.18</td>\n",
              "      <td>0.0</td>\n",
              "      <td>0.458</td>\n",
              "      <td>6.998</td>\n",
              "      <td>45.8</td>\n",
              "      <td>6.0622</td>\n",
              "      <td>3.0</td>\n",
              "      <td>222.0</td>\n",
              "      <td>18.7</td>\n",
              "      <td>394.63</td>\n",
              "      <td>2.94</td>\n",
              "    </tr>\n",
              "    <tr>\n",
              "      <th>4</th>\n",
              "      <td>0.06905</td>\n",
              "      <td>0.0</td>\n",
              "      <td>2.18</td>\n",
              "      <td>0.0</td>\n",
              "      <td>0.458</td>\n",
              "      <td>7.147</td>\n",
              "      <td>54.2</td>\n",
              "      <td>6.0622</td>\n",
              "      <td>3.0</td>\n",
              "      <td>222.0</td>\n",
              "      <td>18.7</td>\n",
              "      <td>396.90</td>\n",
              "      <td>5.33</td>\n",
              "    </tr>\n",
              "  </tbody>\n",
              "</table>\n",
              "</div>"
            ],
            "text/plain": [
              "      CRIM    ZN  INDUS  CHAS    NOX  ...  RAD    TAX  PTRATIO       B  LSTAT\n",
              "0  0.00632  18.0   2.31   0.0  0.538  ...  1.0  296.0     15.3  396.90   4.98\n",
              "1  0.02731   0.0   7.07   0.0  0.469  ...  2.0  242.0     17.8  396.90   9.14\n",
              "2  0.02729   0.0   7.07   0.0  0.469  ...  2.0  242.0     17.8  392.83   4.03\n",
              "3  0.03237   0.0   2.18   0.0  0.458  ...  3.0  222.0     18.7  394.63   2.94\n",
              "4  0.06905   0.0   2.18   0.0  0.458  ...  3.0  222.0     18.7  396.90   5.33\n",
              "\n",
              "[5 rows x 13 columns]"
            ]
          },
          "metadata": {
            "tags": []
          },
          "execution_count": 387
        }
      ]
    },
    {
      "cell_type": "code",
      "metadata": {
        "id": "1z61aIrFF2TW",
        "colab_type": "code",
        "colab": {
          "base_uri": "https://localhost:8080/",
          "height": 72
        },
        "outputId": "14c1e839-88fd-4a86-ed01-b420386dc0b1"
      },
      "source": [
        "#Train and Test set split into 80% and 20% respectively\n",
        "x_train, x_rest, y_train, y_rest = train_test_split(x,y,test_size = .4,random_state =0)\n",
        "\n",
        "#Rest of the 40% set split into equal parts of Train and Validation set \n",
        "x_test, x_val, y_test, y_val = train_test_split(x_train,y_train,test_size = .5,random_state = 0)\n",
        "\n",
        "#Therefore : Train = 60%, Test = 20% and Validation = 20%\n",
        "print(len(x_train),len(y_train))\n",
        "print(len(x_val),len(y_val))\n",
        "print(len(x_test),len(y_test))"
      ],
      "execution_count": 388,
      "outputs": [
        {
          "output_type": "stream",
          "text": [
            "303 303\n",
            "152 152\n",
            "151 151\n"
          ],
          "name": "stdout"
        }
      ]
    },
    {
      "cell_type": "code",
      "metadata": {
        "id": "6pDeUMg5IeRJ",
        "colab_type": "code",
        "colab": {}
      },
      "source": [
        "#preprocessing is necessary for SDG Regressor\n",
        "\n",
        "scaler = preprocessing.StandardScaler().fit(x_train)\n",
        "x_train = scaler.transform(x_train)\n",
        "x_test = scaler.transform(x_test)\n",
        "x_val = scaler.transform(x_val)\n",
        "\n",
        "y_train = y_train.reshape(-1)\n",
        "y_test = y_test.reshape(-1)\n",
        "y_val = y_val.reshape(-1)"
      ],
      "execution_count": 389,
      "outputs": []
    },
    {
      "cell_type": "code",
      "metadata": {
        "id": "v5OvoSW-LMbx",
        "colab_type": "code",
        "colab": {}
      },
      "source": [
        "clf_sdg = SGDRegressor(max_iter= 50000,eta0=0.0001,learning_rate='constant')\n",
        "#learning rate is default = 0.01 as constant = eta0\n",
        "\n",
        "clf_sdg.fit(x_train,y_train)\n",
        "\n",
        "y_hat_test = clf_sdg.predict(x_test)\n",
        "y_hat_val = clf_sdg.predict(x_val)\n",
        "y_hat_train = clf_sdg.predict(x_train)\n",
        "\n",
        "test_score = clf_sdg.score(x_test,y_test)\n",
        "train_score = clf_sdg.score(x_train,y_train)\n",
        "val_score = clf_sdg.score(x_val,y_val)"
      ],
      "execution_count": 395,
      "outputs": []
    },
    {
      "cell_type": "code",
      "metadata": {
        "id": "57O1QG-JMJgm",
        "colab_type": "code",
        "colab": {
          "base_uri": "https://localhost:8080/",
          "height": 165
        },
        "outputId": "efae4b32-7a0a-4a4f-c7de-6b7813c1e3a4"
      },
      "source": [
        "print(\"R2-score Train: \\t\\t%.2f\" % r2_score(y_hat_train , y_train) )\n",
        "print(\"R2-score Test: \\t\\t\\t%.2f\" % r2_score(y_hat_test , y_test) )\n",
        "print(\"R2-score Validation: \\t\\t%.2f\" % r2_score(y_hat_val , y_val) )\n",
        "print(\"------------------------------------\")\n",
        "print(\"Train score : \\t\\t\\t%.2f\"%train_score)\n",
        "print(\"Test score : \\t\\t\\t%.2f\"%test_score)\n",
        "print(\"Validation Score : \\t\\t%.2f\"%val_score)\n",
        "\n",
        "print(\"Mean Squared Error : \",math.sqrt(mean_squared_error(y_test,y_hat_test)))"
      ],
      "execution_count": 396,
      "outputs": [
        {
          "output_type": "stream",
          "text": [
            "R2-score Train: \t\t0.68\n",
            "R2-score Test: \t\t\t0.72\n",
            "R2-score Validation: \t\t0.65\n",
            "------------------------------------\n",
            "Train score : \t\t\t0.76\n",
            "Test score : \t\t\t0.77\n",
            "Validation Score : \t\t0.75\n",
            "Mean Squared Error :  4.362824867066756\n"
          ],
          "name": "stdout"
        }
      ]
    }
  ]
}