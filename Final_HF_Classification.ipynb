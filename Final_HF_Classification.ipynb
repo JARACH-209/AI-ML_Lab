{
  "nbformat": 4,
  "nbformat_minor": 0,
  "metadata": {
    "colab": {
      "name": "HF_Classification_and_Feature_Importance_Exploration.ipynb",
      "provenance": [],
      "collapsed_sections": [],
      "toc_visible": true,
      "authorship_tag": "ABX9TyOYi6k2u4B2HnNmtGQPO5fz",
      "include_colab_link": true
    },
    "kernelspec": {
      "name": "python3",
      "display_name": "Python 3"
    }
  },
  "cells": [
    {
      "cell_type": "markdown",
      "metadata": {
        "id": "view-in-github",
        "colab_type": "text"
      },
      "source": [
        "<a href=\"https://colab.research.google.com/github/JARACH-209/AI-ML_Lab/blob/master/Final_HF_Classification.ipynb\" target=\"_parent\"><img src=\"https://colab.research.google.com/assets/colab-badge.svg\" alt=\"Open In Colab\"/></a>"
      ]
    },
    {
      "cell_type": "code",
      "metadata": {
        "id": "-QdZYxe0uIXN",
        "colab": {
          "base_uri": "https://localhost:8080/"
        },
        "outputId": "41f8cdbf-8454-4baa-eb22-39b6640e5747"
      },
      "source": [
        "!pip install catboost\n",
        "import pandas as pd\n",
        "import numpy as np\n",
        "import matplotlib.pyplot as plt\n",
        "%matplotlib inline\n",
        "from sklearn import preprocessing\n",
        "from sklearn.ensemble import RandomForestClassifier\n",
        "from sklearn.neighbors import KNeighborsClassifier\n",
        "from sklearn.model_selection import cross_validate\n",
        "from xgboost import XGBClassifier\n",
        "from xgboost import XGBRFClassifier\n",
        "from lightgbm import LGBMClassifier\n",
        "from catboost import CatBoostClassifier\n",
        "from sklearn.metrics import accuracy_score\n",
        "from sklearn.metrics import roc_auc_score\n",
        "from sklearn.metrics import recall_score\n",
        "from sklearn.metrics import f1_score\n",
        "from sklearn.metrics import precision_score\n",
        "from sklearn.model_selection import train_test_split\n",
        "import seaborn as sns\n",
        "plt.style.use(\"ggplot\")\n",
        "plt.style.use(\"seaborn\")"
      ],
      "execution_count": null,
      "outputs": [
        {
          "output_type": "stream",
          "text": [
            "Collecting catboost\n",
            "\u001b[?25l  Downloading https://files.pythonhosted.org/packages/20/37/bc4e0ddc30c07a96482abf1de7ed1ca54e59bba2026a33bca6d2ef286e5b/catboost-0.24.4-cp36-none-manylinux1_x86_64.whl (65.7MB)\n",
            "\u001b[K     |████████████████████████████████| 65.8MB 42kB/s \n",
            "\u001b[?25hRequirement already satisfied: scipy in /usr/local/lib/python3.6/dist-packages (from catboost) (1.4.1)\n",
            "Requirement already satisfied: six in /usr/local/lib/python3.6/dist-packages (from catboost) (1.15.0)\n",
            "Requirement already satisfied: numpy>=1.16.0 in /usr/local/lib/python3.6/dist-packages (from catboost) (1.19.4)\n",
            "Requirement already satisfied: matplotlib in /usr/local/lib/python3.6/dist-packages (from catboost) (3.2.2)\n",
            "Requirement already satisfied: pandas>=0.24.0 in /usr/local/lib/python3.6/dist-packages (from catboost) (1.1.5)\n",
            "Requirement already satisfied: plotly in /usr/local/lib/python3.6/dist-packages (from catboost) (4.4.1)\n",
            "Requirement already satisfied: graphviz in /usr/local/lib/python3.6/dist-packages (from catboost) (0.10.1)\n",
            "Requirement already satisfied: kiwisolver>=1.0.1 in /usr/local/lib/python3.6/dist-packages (from matplotlib->catboost) (1.3.1)\n",
            "Requirement already satisfied: python-dateutil>=2.1 in /usr/local/lib/python3.6/dist-packages (from matplotlib->catboost) (2.8.1)\n",
            "Requirement already satisfied: cycler>=0.10 in /usr/local/lib/python3.6/dist-packages (from matplotlib->catboost) (0.10.0)\n",
            "Requirement already satisfied: pyparsing!=2.0.4,!=2.1.2,!=2.1.6,>=2.0.1 in /usr/local/lib/python3.6/dist-packages (from matplotlib->catboost) (2.4.7)\n",
            "Requirement already satisfied: pytz>=2017.2 in /usr/local/lib/python3.6/dist-packages (from pandas>=0.24.0->catboost) (2018.9)\n",
            "Requirement already satisfied: retrying>=1.3.3 in /usr/local/lib/python3.6/dist-packages (from plotly->catboost) (1.3.3)\n",
            "Installing collected packages: catboost\n",
            "Successfully installed catboost-0.24.4\n"
          ],
          "name": "stdout"
        }
      ]
    },
    {
      "cell_type": "code",
      "metadata": {
        "id": "eUi_4XNWoDs6"
      },
      "source": [
        "# Function to run 10 fold cross validation\n",
        "def cross_validation(clf,X,Y):\n",
        "    cv_rf = cross_validate(clf,X,Y,scoring=('accuracy','roc_auc','recall','precision'),cv = 10,n_jobs=-1)\n",
        "    print(\"Average CV Accuracy Test \\t%0.2f\"%(cv_rf['test_accuracy'].mean()*100))\n",
        "    print(\"Average CV ROC-AUC Score \\t%0.2f\"%(cv_rf['test_roc_auc'].mean()*100))\n",
        "    print(\"Average CV Recall Score \\t%0.2f\"%(cv_rf['test_recall'].mean()*100))\n",
        "    print(\"Average CV Precision Score \\t%0.2f\"%(cv_rf['test_precision'].mean()*100))\n",
        "    print(\"-----------------------------\")\n",
        "    print(\"Best Accuracy CV : \\t\\t%0.2f\"%max(cv_rf['test_accuracy']*100))\n",
        "    print(\"Best ROC CV : \\t\\t\\t%0.2f\"%max(cv_rf['test_roc_auc']*100))\n",
        "    print(\"Best Recall CV : \\t\\t%0.2f\"%max(cv_rf['test_recall']*100))\n",
        "    print(\"Best Precision CV : \\t\\t%0.2f\"%max(cv_rf['test_precision']*100))\n",
        "\n",
        "def scaling_X(X_fit,X_transform):\n",
        "    sscaler = preprocessing.StandardScaler().fit(X_fit)\n",
        "    X = sscaler.transform(X_transform)\n",
        "    return X"
      ],
      "execution_count": 58,
      "outputs": []
    },
    {
      "cell_type": "code",
      "metadata": {
        "id": "ikkyxT4KctT4"
      },
      "source": [
        "df = pd.read_csv(\"/content/lvef_classification_DataFrame.csv\")\n",
        "df.drop(columns=['Unnamed: 0'],inplace=True)"
      ],
      "execution_count": null,
      "outputs": []
    },
    {
      "cell_type": "code",
      "metadata": {
        "id": "N-gi1AutIdD5"
      },
      "source": [
        "features = {}\n",
        "columns = df.columns\n",
        "for i in range(len(columns)):\n",
        "    features[i] = columns[i]"
      ],
      "execution_count": null,
      "outputs": []
    },
    {
      "cell_type": "code",
      "metadata": {
        "id": "0MDyKsZEw_c4"
      },
      "source": [
        "X = df.iloc[:,:25].to_numpy()\n",
        "Y = df['lvef_classification'].to_numpy()"
      ],
      "execution_count": null,
      "outputs": []
    },
    {
      "cell_type": "code",
      "metadata": {
        "id": "qZvcauNYwg7X"
      },
      "source": [
        "Y = Y.astype(int)\n",
        "Y = Y.reshape(-1)\n",
        "x_train, x_test, y_train, y_test = train_test_split(X,Y,test_size = 0.148)\n",
        "scaler = preprocessing.StandardScaler().fit(x_train)\n",
        "x_train = scaler.transform(x_train)\n",
        "scaler = preprocessing.StandardScaler().fit(x_test)\n",
        "x_test = scaler.transform(x_test)"
      ],
      "execution_count": null,
      "outputs": []
    },
    {
      "cell_type": "code",
      "metadata": {
        "colab": {
          "base_uri": "https://localhost:8080/"
        },
        "id": "rLMFh6JbzoGG",
        "outputId": "c7718243-81aa-4d71-9732-757da617dd14"
      },
      "source": [
        "clf = RandomForestClassifier(n_estimators=1333,bootstrap=True,max_depth=80, max_features='sqrt', min_samples_split= 4, min_samples_leaf=3).fit(x_train,y_train)\n",
        "clf.fit(x_train,y_train)\n",
        "y_predicted = clf.predict(x_test)\n",
        "y_train_pred = clf.predict(x_train)\n",
        "\n",
        "pred_prob = clf.predict_proba(x_test)\n",
        "print(\"Accuracy Test %0.2f\" %(accuracy_score(y_test,y_predicted)*100))\n",
        "print(\"Accuracy Train %0.2f\" %(accuracy_score(y_train,y_train_pred)*100))\n",
        "print(\"ROC-AUC Score %0.2f\" %(roc_auc_score(y_test,pred_prob[:,1])*100))\n",
        "print(\"Recall Score %0.2f\" %(recall_score(y_test,y_predicted)*100))"
      ],
      "execution_count": null,
      "outputs": [
        {
          "output_type": "stream",
          "text": [
            "Accuracy Test 81.61\n",
            "Accuracy Train 93.20\n",
            "ROC-AUC Score 89.81\n",
            "Recall Score 76.47\n"
          ],
          "name": "stdout"
        }
      ]
    },
    {
      "cell_type": "code",
      "metadata": {
        "colab": {
          "base_uri": "https://localhost:8080/",
          "height": 366
        },
        "id": "PE-_G7Wpzwmu",
        "outputId": "773cf000-a6d6-493a-9696-f04d896dc1a3"
      },
      "source": [
        "plt.bar(range(len(clf.feature_importances_)),clf.feature_importances_)"
      ],
      "execution_count": null,
      "outputs": [
        {
          "output_type": "execute_result",
          "data": {
            "text/plain": [
              "<BarContainer object of 25 artists>"
            ]
          },
          "metadata": {
            "tags": []
          },
          "execution_count": 15
        },
        {
          "output_type": "display_data",
          "data": {
            "image/png": "[encoded data removed]",
            "text/plain": [
              "<Figure size 576x396 with 1 Axes>"
            ]
          },
          "metadata": {
            "tags": []
          }
        }
      ]
    },
    {
      "cell_type": "code",
      "metadata": {
        "colab": {
          "base_uri": "https://localhost:8080/"
        },
        "id": "nPqoZNpH2Iqp",
        "outputId": "b040f43b-b1cf-42a5-fe49-20675f4ba176"
      },
      "source": [
        "from xgboost import XGBRFClassifier\n",
        "xgb = XGBRFClassifier()\n",
        "xgb.fit(x_train,y_train)\n",
        "y_predicted = xgb.predict(x_test)\n",
        "y_train_pred = xgb.predict(x_train)\n",
        "\n",
        "pred_prob = xgb.predict_proba(x_test)\n",
        "print(\"Accuracy Test %0.2f\" %(accuracy_score(y_test,y_predicted)*100))\n",
        "print(\"Accuracy Train %0.2f\" %(accuracy_score(y_train,y_train_pred)*100))\n",
        "print(\"ROC-AUC Score %0.2f\" %(roc_auc_score(y_test,pred_prob[:,1])*100))\n",
        "print(\"Recall Score %0.2f\" %(recall_score(y_test,y_predicted)*100))"
      ],
      "execution_count": null,
      "outputs": [
        {
          "output_type": "stream",
          "text": [
            "Accuracy Test 77.01\n",
            "Accuracy Train 82.60\n",
            "ROC-AUC Score 86.98\n",
            "Recall Score 76.47\n"
          ],
          "name": "stdout"
        }
      ]
    },
    {
      "cell_type": "code",
      "metadata": {
        "colab": {
          "base_uri": "https://localhost:8080/",
          "height": 381
        },
        "id": "VK7PO8Zd2Ri2",
        "outputId": "a7694b6a-ffbf-4b8c-c75f-1d8bf4a8b335"
      },
      "source": [
        "plt.bar(range(len(xgb.feature_importances_)),xgb.feature_importances_)\n",
        "plt.title(\"Feature Importance for XGBoost\")"
      ],
      "execution_count": null,
      "outputs": [
        {
          "output_type": "execute_result",
          "data": {
            "text/plain": [
              "Text(0.5, 1.0, 'Feature Importance for XGBoost')"
            ]
          },
          "metadata": {
            "tags": []
          },
          "execution_count": 18
        },
        {
          "output_type": "display_data",
          "data": {
            "image/png": "[encoded data removed]",
            "text/plain": [
              "<Figure size 576x396 with 1 Axes>"
            ]
          },
          "metadata": {
            "tags": []
          }
        }
      ]
    },
    {
      "cell_type": "code",
      "metadata": {
        "colab": {
          "base_uri": "https://localhost:8080/"
        },
        "id": "14WYKXed0OlN",
        "outputId": "37fb1650-5e73-4ca0-accd-57882b691c0a"
      },
      "source": [
        "from lightgbm import LGBMClassifier\n",
        "lgb = LGBMClassifier()\n",
        "lgb.fit(x_train,y_train)\n",
        "y_predicted = lgb.predict(x_test)\n",
        "y_train_pred = lgb.predict(x_train)\n",
        "\n",
        "pred_prob = lgb.predict_proba(x_test)\n",
        "print(\"Accuracy Test %0.2f\" %(accuracy_score(y_test,y_predicted)*100))\n",
        "print(\"Accuracy Train %0.2f\" %(accuracy_score(y_train,y_train_pred)*100))\n",
        "print(\"ROC-AUC Score %0.2f\" %(roc_auc_score(y_test,pred_prob[:,1])*100))\n",
        "print(\"Recall Score %0.2f\" %(recall_score(y_test,y_predicted)*100))"
      ],
      "execution_count": null,
      "outputs": [
        {
          "output_type": "stream",
          "text": [
            "Accuracy Test 77.01\n",
            "Accuracy Train 100.00\n",
            "ROC-AUC Score 85.51\n",
            "Recall Score 74.51\n"
          ],
          "name": "stdout"
        }
      ]
    },
    {
      "cell_type": "code",
      "metadata": {
        "colab": {
          "base_uri": "https://localhost:8080/",
          "height": 381
        },
        "id": "hQLizVa-1atq",
        "outputId": "4d788ca5-171d-41af-c452-b9164a9317ca"
      },
      "source": [
        "plt.bar(range(len(lgb.feature_importances_)),lgb.feature_importances_)\n",
        "plt.title(\"Feature Importance for LightGBM\")"
      ],
      "execution_count": null,
      "outputs": [
        {
          "output_type": "execute_result",
          "data": {
            "text/plain": [
              "Text(0.5, 1.0, 'Feature Importance for LightGBM')"
            ]
          },
          "metadata": {
            "tags": []
          },
          "execution_count": 20
        },
        {
          "output_type": "display_data",
          "data": {
            "image/png": "[encoded data removed]",
            "text/plain": [
              "<Figure size 576x396 with 1 Axes>"
            ]
          },
          "metadata": {
            "tags": []
          }
        }
      ]
    },
    {
      "cell_type": "code",
      "metadata": {
        "id": "VnB4Y4iD1FSd"
      },
      "source": [
        "!pip install catboost"
      ],
      "execution_count": null,
      "outputs": []
    },
    {
      "cell_type": "code",
      "metadata": {
        "id": "oo-hQO9q04GG"
      },
      "source": [
        "from catboost import CatBoostClassifier\n",
        "cgb = CatBoostClassifier(iterations=1000)\n",
        "cgb.fit(x_train,y_train)\n",
        "y_predicted = cgb.predict(x_test)\n",
        "y_train_pred = cgb.predict(x_train)\n",
        "pred_prob = cgb.predict_proba(x_test)"
      ],
      "execution_count": null,
      "outputs": []
    },
    {
      "cell_type": "code",
      "metadata": {
        "colab": {
          "base_uri": "https://localhost:8080/"
        },
        "id": "HgTAnl6U1UmD",
        "outputId": "cf86ed8b-6a97-47b4-c5d6-939ad56250fe"
      },
      "source": [
        "print(\"Accuracy Test %0.2f\" %(accuracy_score(y_test,y_predicted)*100))\n",
        "print(\"Accuracy Train %0.2f\" %(accuracy_score(y_train,y_train_pred)*100))\n",
        "print(\"ROC-AUC Score %0.2f\" %(roc_auc_score(y_test,pred_prob[:,1])*100))\n",
        "print(\"Recall Score %0.2f\" %(recall_score(y_test,y_predicted)*100))"
      ],
      "execution_count": null,
      "outputs": [
        {
          "output_type": "stream",
          "text": [
            "Accuracy Test 80.46\n",
            "Accuracy Train 95.60\n",
            "ROC-AUC Score 89.76\n",
            "Recall Score 76.47\n"
          ],
          "name": "stdout"
        }
      ]
    },
    {
      "cell_type": "code",
      "metadata": {
        "colab": {
          "base_uri": "https://localhost:8080/",
          "height": 381
        },
        "id": "bJLkPu9D1n8V",
        "outputId": "b2a686dd-dc6d-49ee-c7c9-5475e8910d2e"
      },
      "source": [
        "plt.bar(range(len(cgb.feature_importances_)),cgb.feature_importances_)\n",
        "plt.title(\"Feature Importance for CatBoost\")"
      ],
      "execution_count": null,
      "outputs": [
        {
          "output_type": "execute_result",
          "data": {
            "text/plain": [
              "Text(0.5, 1.0, 'Feature Importance for CatBoost')"
            ]
          },
          "metadata": {
            "tags": []
          },
          "execution_count": 83
        },
        {
          "output_type": "display_data",
          "data": {
            "image/png": "[encoded data removed]",
            "text/plain": [
              "<Figure size 576x396 with 1 Axes>"
            ]
          },
          "metadata": {
            "tags": []
          }
        }
      ]
    },
    {
      "cell_type": "markdown",
      "metadata": {
        "id": "WEYDO86Z32tZ"
      },
      "source": [
        "Least Important Features : 9,10,12,13,15,16,17,18,20,22,25\n",
        "\n",
        "Modeling by removal of these features."
      ]
    },
    {
      "cell_type": "code",
      "metadata": {
        "id": "JOlhLyZD6frP"
      },
      "source": [
        "df = pd.DataFrame(df.to_numpy())"
      ],
      "execution_count": null,
      "outputs": []
    },
    {
      "cell_type": "code",
      "metadata": {
        "id": "FAfdrj_yALED"
      },
      "source": [
        "df.drop(columns=[9,10,12,13,15,16,17,18,20,22,25],inplace=True)"
      ],
      "execution_count": null,
      "outputs": []
    },
    {
      "cell_type": "code",
      "metadata": {
        "id": "KJmc5YnH4q1L"
      },
      "source": [
        "X = df.to_numpy()"
      ],
      "execution_count": null,
      "outputs": []
    },
    {
      "cell_type": "code",
      "metadata": {
        "colab": {
          "base_uri": "https://localhost:8080/"
        },
        "id": "SyZt1CMBAXao",
        "outputId": "882e52f8-edbe-48d5-d3fe-9362008c92d7"
      },
      "source": [
        "X.shape"
      ],
      "execution_count": null,
      "outputs": [
        {
          "output_type": "execute_result",
          "data": {
            "text/plain": [
              "(587, 15)"
            ]
          },
          "metadata": {
            "tags": []
          },
          "execution_count": 28
        }
      ]
    },
    {
      "cell_type": "code",
      "metadata": {
        "id": "GqA6YH0FBMdf"
      },
      "source": [
        "Y = Y.astype(int)\n",
        "Y = Y.reshape(-1)\n",
        "x_train, x_test, y_train, y_test = train_test_split(X,Y,test_size = 0.148)\n",
        "scaler = preprocessing.StandardScaler().fit(x_train)\n",
        "x_train = scaler.transform(x_train)\n",
        "scaler = preprocessing.StandardScaler().fit(x_test)\n",
        "x_test = scaler.transform(x_test)"
      ],
      "execution_count": null,
      "outputs": []
    },
    {
      "cell_type": "code",
      "metadata": {
        "id": "gwcTdN-2AjNK"
      },
      "source": [
        "least_imp = [9,10,12,13,15,16,17,18,20,22]\n",
        "x_train = np.delete(x_train,least_imp,axis=1)\n",
        "x_test = np.delete(x_test,least_imp,axis=1)\n",
        "clf = RandomForestClassifier(n_estimators=1333,bootstrap=True,max_depth=80, max_features='sqrt', min_samples_split= 4, min_samples_leaf=3).fit(x_train,y_train)\n",
        "clf.fit(x_train,y_train)\n",
        "y_predicted = clf.predict(x_test)\n",
        "y_train_pred = clf.predict(x_train)\n",
        "\n",
        "pred_prob = clf.predict_proba(x_test)\n",
        "print(\"Accuracy Test %0.2f\" %(accuracy_score(y_test,y_predicted)*100))\n",
        "print(\"Accuracy Train %0.2f\" %(accuracy_score(y_train,y_train_pred)*100))\n",
        "print(\"ROC-AUC Score %0.2f\" %(roc_auc_score(y_test,pred_prob[:,1])*100))\n",
        "print(\"Recall Score %0.2f\" %(recall_score(y_test,y_predicted)*100))"
      ],
      "execution_count": null,
      "outputs": []
    },
    {
      "cell_type": "code",
      "metadata": {
        "colab": {
          "base_uri": "https://localhost:8080/",
          "height": 366
        },
        "id": "wIIlEizvAtyj",
        "outputId": "544af1ce-a6b4-4396-aaab-1c10d854f43e"
      },
      "source": [
        "plt.bar(range(len(clf.feature_importances_)),clf.feature_importances_)"
      ],
      "execution_count": null,
      "outputs": [
        {
          "output_type": "execute_result",
          "data": {
            "text/plain": [
              "<BarContainer object of 9 artists>"
            ]
          },
          "metadata": {
            "tags": []
          },
          "execution_count": 32
        },
        {
          "output_type": "display_data",
          "data": {
            "image/png": "[encoded data removed]",
            "text/plain": [
              "<Figure size 576x396 with 1 Axes>"
            ]
          },
          "metadata": {
            "tags": []
          }
        }
      ]
    },
    {
      "cell_type": "code",
      "metadata": {
        "colab": {
          "base_uri": "https://localhost:8080/"
        },
        "id": "PdHqisLgCCC9",
        "outputId": "f6f50fc5-19ac-469f-ee6e-d8295216618e"
      },
      "source": [
        "from xgboost import XGBRFClassifier\n",
        "xgb = XGBRFClassifier()\n",
        "xgb.fit(x_train,y_train)\n",
        "y_predicted = xgb.predict(x_test)\n",
        "y_train_pred = xgb.predict(x_train)\n",
        "\n",
        "pred_prob = xgb.predict_proba(x_test)\n",
        "print(\"Accuracy Test %0.2f\" %(accuracy_score(y_test,y_predicted)*100))\n",
        "print(\"Accuracy Train %0.2f\" %(accuracy_score(y_train,y_train_pred)*100))\n",
        "print(\"ROC-AUC Score %0.2f\" %(roc_auc_score(y_test,pred_prob[:,1])*100))\n",
        "print(\"Recall Score %0.2f\" %(recall_score(y_test,y_predicted)*100))"
      ],
      "execution_count": null,
      "outputs": [
        {
          "output_type": "stream",
          "text": [
            "Accuracy Test 85.06\n",
            "Accuracy Train 83.60\n",
            "ROC-AUC Score 88.57\n",
            "Recall Score 95.65\n"
          ],
          "name": "stdout"
        }
      ]
    },
    {
      "cell_type": "code",
      "metadata": {
        "colab": {
          "base_uri": "https://localhost:8080/",
          "height": 381
        },
        "id": "iP5_QrdmCKJ8",
        "outputId": "c3d7a2cd-9e55-415e-b0c6-d51301cb0fc7"
      },
      "source": [
        "plt.bar(range(len(xgb.feature_importances_)),xgb.feature_importances_)\n",
        "plt.title(\"Feature Importance for XGBoost\")"
      ],
      "execution_count": null,
      "outputs": [
        {
          "output_type": "execute_result",
          "data": {
            "text/plain": [
              "Text(0.5, 1.0, 'Feature Importance for XGBoost')"
            ]
          },
          "metadata": {
            "tags": []
          },
          "execution_count": 148
        },
        {
          "output_type": "display_data",
          "data": {
            "image/png": "[encoded data removed]",
            "text/plain": [
              "<Figure size 576x396 with 1 Axes>"
            ]
          },
          "metadata": {
            "tags": []
          }
        }
      ]
    },
    {
      "cell_type": "code",
      "metadata": {
        "colab": {
          "base_uri": "https://localhost:8080/"
        },
        "id": "gxx4KrA0CbAB",
        "outputId": "8bc8013a-de26-47bc-dccb-a8ee35af2cce"
      },
      "source": [
        "from lightgbm import LGBMClassifier\n",
        "lgb = LGBMClassifier()\n",
        "lgb.fit(x_train,y_train)\n",
        "y_predicted = lgb.predict(x_test)\n",
        "y_train_pred = lgb.predict(x_train)\n",
        "\n",
        "pred_prob = lgb.predict_proba(x_test)\n",
        "print(\"Accuracy Test %0.2f\" %(accuracy_score(y_test,y_predicted)*100))\n",
        "print(\"Accuracy Train %0.2f\" %(accuracy_score(y_train,y_train_pred)*100))\n",
        "print(\"ROC-AUC Score %0.2f\" %(roc_auc_score(y_test,pred_prob[:,1])*100))\n",
        "print(\"Recall Score %0.2f\" %(recall_score(y_test,y_predicted)*100))"
      ],
      "execution_count": null,
      "outputs": [
        {
          "output_type": "stream",
          "text": [
            "Accuracy Test 82.76\n",
            "Accuracy Train 100.00\n",
            "ROC-AUC Score 88.49\n",
            "Recall Score 89.86\n"
          ],
          "name": "stdout"
        }
      ]
    },
    {
      "cell_type": "code",
      "metadata": {
        "colab": {
          "base_uri": "https://localhost:8080/",
          "height": 381
        },
        "id": "LWXYEJITCdAt",
        "outputId": "7dc22485-ec2a-4245-dcb9-e3285daea442"
      },
      "source": [
        "plt.bar(range(len(df.columns)),lgb.feature_importances_)\n",
        "plt.title(\"Feature Importance for LightGBM\")"
      ],
      "execution_count": null,
      "outputs": [
        {
          "output_type": "execute_result",
          "data": {
            "text/plain": [
              "Text(0.5, 1.0, 'Feature Importance for LightGBM')"
            ]
          },
          "metadata": {
            "tags": []
          },
          "execution_count": 150
        },
        {
          "output_type": "display_data",
          "data": {
            "image/png": "[encoded data removed]",
            "text/plain": [
              "<Figure size 576x396 with 1 Axes>"
            ]
          },
          "metadata": {
            "tags": []
          }
        }
      ]
    },
    {
      "cell_type": "code",
      "metadata": {
        "colab": {
          "base_uri": "https://localhost:8080/"
        },
        "id": "FmVUwcqoI3cW",
        "outputId": "2a596096-f1ac-4764-8b33-a945ac3a9a64"
      },
      "source": [
        "# Removing all the least important features.\n",
        "least_imp = [9,10,12,13,15,16,17,18,20,22]\n",
        "for each in least_imp:\n",
        "    del features[each]\n",
        "features"
      ],
      "execution_count": null,
      "outputs": [
        {
          "output_type": "execute_result",
          "data": {
            "text/plain": [
              "{0: 'pulse',\n",
              " 1: 'respiration',\n",
              " 2: 'systolic.blood.pressure',\n",
              " 3: 'diastolic.blood.pressure',\n",
              " 4: 'map',\n",
              " 5: 'BMI',\n",
              " 6: 'NYHA.cardiac.function.classification',\n",
              " 7: 'Killip.grade',\n",
              " 8: 'myocardial.infarction',\n",
              " 11: 'Chronic.obstructive.pulmonary.disease',\n",
              " 14: 'moderate.to.severe.chronic.kidney.disease',\n",
              " 19: 'CCI.score',\n",
              " 21: 'fio2',\n",
              " 23: 'left.ventricular.end.diastolic.diameter.LV',\n",
              " 24: 'brain.natriuretic.peptide'}"
            ]
          },
          "metadata": {
            "tags": []
          },
          "execution_count": 161
        }
      ]
    },
    {
      "cell_type": "markdown",
      "metadata": {
        "id": "QFrWpcTjMmYX"
      },
      "source": [
        "Successful Selection of important features\n",
        "```\n",
        "With 25 Features on RFClassifier\n",
        "Accuracy Test  87.36\n",
        "Accuracy Train 94.20\n",
        "ROC-AUC Score  88.81\n",
        "Recall Score   92.75\n",
        "\n",
        "With 15 Features (Most imp) on RFClassifier\n",
        "Accuracy Test 87.36\n",
        "Accuracy Train 95.00\n",
        "ROC-AUC Score 88.81\n",
        "Recall Score 92.75\n",
        "```\n",
        "Validated by training on 25 features and then removing the leat_imp features from the same set and training again."
      ]
    },
    {
      "cell_type": "code",
      "metadata": {
        "id": "VPEO64GpPnWy"
      },
      "source": [
        "frame = pd.DataFrame(X)\n",
        "#frame.drop(columns=[9,10,12,13,15,16,17,18,20,22])\n",
        "frame['lvef_class'] = Y\n",
        "frame.to_csv(\"Reduced_Features_set.csv\")"
      ],
      "execution_count": null,
      "outputs": []
    },
    {
      "cell_type": "code",
      "metadata": {
        "colab": {
          "base_uri": "https://localhost:8080/"
        },
        "id": "cdMfo9PKcPjl",
        "outputId": "84cc73ea-9466-47e5-da3c-2c41e209769c"
      },
      "source": [
        "frame.shape"
      ],
      "execution_count": null,
      "outputs": [
        {
          "output_type": "execute_result",
          "data": {
            "text/plain": [
              "(587, 16)"
            ]
          },
          "metadata": {
            "tags": []
          },
          "execution_count": 10
        }
      ]
    },
    {
      "cell_type": "markdown",
      "metadata": {
        "id": "fBcb1DNPXx_K"
      },
      "source": [
        "Most Important Features :\n",
        "1. Brain Natriuretic Peptide\n",
        "2. LV end diastolic diameter"
      ]
    },
    {
      "cell_type": "markdown",
      "metadata": {
        "id": "icdlNxBPbrkk"
      },
      "source": [
        "----"
      ]
    },
    {
      "cell_type": "markdown",
      "metadata": {
        "id": "YwANAXCrbwqE"
      },
      "source": [
        "Testing the Stacking classifier over reduced featues"
      ]
    },
    {
      "cell_type": "code",
      "metadata": {
        "colab": {
          "base_uri": "https://localhost:8080/"
        },
        "id": "HzCquQX5hVHl",
        "outputId": "2cd13c02-cfb8-4345-9f96-4ee1084d6b46"
      },
      "source": [
        "x_train.shape"
      ],
      "execution_count": null,
      "outputs": [
        {
          "output_type": "execute_result",
          "data": {
            "text/plain": [
              "(500, 15)"
            ]
          },
          "metadata": {
            "tags": []
          },
          "execution_count": 195
        }
      ]
    },
    {
      "cell_type": "code",
      "metadata": {
        "id": "OAHCm_y2bwRB"
      },
      "source": [
        "from sklearn.ensemble import StackingClassifier\n",
        "clf = RandomForestClassifier(n_estimators=1333,bootstrap=True,max_depth=80, max_features='sqrt', min_samples_split= 4, min_samples_leaf=3)\n",
        "estimators = [('rfc',clf),('lgb',LGBMClassifier()),('cat',CatBoostClassifier(iterations=5000),('xgb',XGBRFClassifier()))]\n",
        "final_estimator = RandomForestClassifier()\n",
        "\n",
        "clf_stack = StackingClassifier(estimators, final_estimator)\n",
        "clf_stack.fit(x_train,y_train)"
      ],
      "execution_count": null,
      "outputs": []
    },
    {
      "cell_type": "code",
      "metadata": {
        "colab": {
          "base_uri": "https://localhost:8080/"
        },
        "id": "c1ICcJsqhDPL",
        "outputId": "4ecb6e85-c214-4d5a-c53a-3edfe81c05ee"
      },
      "source": [
        "y_predicted = clf_stack.predict(x_test)\n",
        "y_train_pred = clf_stack.predict(x_train)\n",
        "pred_prob = clf_stack.predict_proba(x_test)\n",
        "print(\"Accuracy Test %0.2f\" %(accuracy_score(y_test,y_predicted)*100))\n",
        "print(\"Accuracy Train %0.2f\" %(accuracy_score(y_train,y_train_pred)*100))\n",
        "print(\"ROC-AUC Score %0.2f\" %(roc_auc_score(y_test,pred_prob[:,1])*100))\n",
        "print(\"Recall Score %0.2f\" %(recall_score(y_test,y_predicted)*100))"
      ],
      "execution_count": null,
      "outputs": [
        {
          "output_type": "stream",
          "text": [
            "Accuracy Test 83.91\n",
            "Accuracy Train 91.80\n",
            "ROC-AUC Score 87.72\n",
            "Recall Score 94.20\n"
          ],
          "name": "stdout"
        }
      ]
    },
    {
      "cell_type": "code",
      "metadata": {
        "colab": {
          "base_uri": "https://localhost:8080/"
        },
        "id": "oDKf2XAskwoI",
        "outputId": "28aac709-f762-4e6b-cffc-786a856709d1"
      },
      "source": [
        "len(np.where(Y==0)[0])\n"
      ],
      "execution_count": null,
      "outputs": [
        {
          "output_type": "execute_result",
          "data": {
            "text/plain": [
              "140"
            ]
          },
          "metadata": {
            "tags": []
          },
          "execution_count": 232
        }
      ]
    },
    {
      "cell_type": "markdown",
      "metadata": {
        "id": "5OqStySvmS-M"
      },
      "source": [
        "SOLVE THIS ISSUE OF IMBALANCE"
      ]
    },
    {
      "cell_type": "code",
      "metadata": {
        "colab": {
          "base_uri": "https://localhost:8080/",
          "height": 297
        },
        "id": "KieLSgE7jUST",
        "outputId": "63aa9529-c1f3-4058-f925-c892a5ec902f"
      },
      "source": [
        "fig, axes = plt.subplots(nrows=1, ncols=2, figsize=(15, 5))\n",
        "axes[0].scatter(x_test[:,4],x_test[:,13],c=y_predicted,cmap='brg',s=25)\n",
        "axes[1].scatter(x_test[:,4],x_test[:,13],c=y_test,cmap='brg',s=25)\n",
        "axes[0].title.set_text(\"Predictions\")\n",
        "axes[1].title.set_text(\"Actual Plot\")\n",
        "fig.tight_layout()"
      ],
      "execution_count": null,
      "outputs": [
        {
          "output_type": "display_data",
          "data": {
            "image/png": "[encoded data removed]",
            "text/plain": [
              "<Figure size 1080x360 with 2 Axes>"
            ]
          },
          "metadata": {
            "tags": []
          }
        }
      ]
    },
    {
      "cell_type": "markdown",
      "metadata": {
        "id": "cEiLRKd8gAsC"
      },
      "source": [
        "Included new Features for explorations :\n",
        "* High Senstiivity Troponin\n",
        "* Cholestrol\n",
        "* Creatine\n",
        "* Cystanin"
      ]
    },
    {
      "cell_type": "code",
      "metadata": {
        "id": "Y7W6zSsPgAbF"
      },
      "source": [
        "df = pd.read_csv(\"/content/07_with_LVEF_sodium_HST_BNP.csv\")\n",
        "df.drop(columns=['Unnamed: 0','map','diabetes','type.of.heart.failure','liver.disease','congestive.heart.failure','acute.renal.failure','moderate.to.severe.chronic.kidney.disease','dementia','peptic.ulcer.disease','hemiplegia','connective.tissue.disease','leukemia','AIDS','weight','height'],inplace=True)"
      ],
      "execution_count": null,
      "outputs": []
    },
    {
      "cell_type": "code",
      "metadata": {
        "colab": {
          "base_uri": "https://localhost:8080/"
        },
        "id": "gLICTN4aliq4",
        "outputId": "f30c6ca8-b283-4e7d-b709-4a27b2ee07f7"
      },
      "source": [
        "df.columns"
      ],
      "execution_count": null,
      "outputs": [
        {
          "output_type": "execute_result",
          "data": {
            "text/plain": [
              "Index(['pulse', 'respiration', 'systolic.blood.pressure',\n",
              "       'diastolic.blood.pressure', 'map', 'BMI',\n",
              "       'NYHA.cardiac.function.classification', 'Killip.grade',\n",
              "       'myocardial.infarction', 'peripheral.vascular.disease',\n",
              "       'cerebrovascular.disease', 'Chronic.obstructive.pulmonary.disease',\n",
              "       'diabetes', 'CCI.score', 'type.II.respiratory.failure', 'fio2', 'LVEF',\n",
              "       'left.ventricular.end.diastolic.diameter.LV',\n",
              "       'brain.natriuretic.peptide', 'cystatin', 'creatine.kinase',\n",
              "       'cholesterol', 'creatinine.enzymatic.method', 'sodium', 'potassium',\n",
              "       'calcium', 'high.sensitivity.troponin'],\n",
              "      dtype='object')"
            ]
          },
          "metadata": {
            "tags": []
          },
          "execution_count": 132
        }
      ]
    },
    {
      "cell_type": "code",
      "metadata": {
        "colab": {
          "base_uri": "https://localhost:8080/"
        },
        "id": "x9YDAkFvhJKp",
        "outputId": "dc674388-ace8-44d2-c0eb-e3071919f668"
      },
      "source": [
        "len(df.columns)"
      ],
      "execution_count": null,
      "outputs": [
        {
          "output_type": "execute_result",
          "data": {
            "text/plain": [
              "27"
            ]
          },
          "metadata": {
            "tags": []
          },
          "execution_count": 133
        }
      ]
    },
    {
      "cell_type": "code",
      "metadata": {
        "colab": {
          "base_uri": "https://localhost:8080/",
          "height": 437
        },
        "id": "WbgduwdgOP-z",
        "outputId": "63071fa3-bbde-465c-a090-87083501a309"
      },
      "source": [
        "sns.distplot(df['pulse'])"
      ],
      "execution_count": null,
      "outputs": [
        {
          "output_type": "stream",
          "text": [
            "/usr/local/lib/python3.6/dist-packages/seaborn/distributions.py:2551: FutureWarning: `distplot` is a deprecated function and will be removed in a future version. Please adapt your code to use either `displot` (a figure-level function with similar flexibility) or `histplot` (an axes-level function for histograms).\n",
            "  warnings.warn(msg, FutureWarning)\n"
          ],
          "name": "stderr"
        },
        {
          "output_type": "execute_result",
          "data": {
            "text/plain": [
              "<matplotlib.axes._subplots.AxesSubplot at 0x7fcafb60ef60>"
            ]
          },
          "metadata": {
            "tags": []
          },
          "execution_count": 233
        },
        {
          "output_type": "display_data",
          "data": {
            "image/png": "[encoded data removed]",
            "text/plain": [
              "<Figure size 576x396 with 1 Axes>"
            ]
          },
          "metadata": {
            "tags": []
          }
        }
      ]
    },
    {
      "cell_type": "markdown",
      "metadata": {
        "id": "oT2lIahHPgYE"
      },
      "source": [
        "Capping Brain Natriuretic Peptide at 4000 because above it doesn't relate to heart conditions and are same. citation provided"
      ]
    },
    {
      "cell_type": "code",
      "metadata": {
        "id": "9qBZ5HtZPpvJ"
      },
      "source": [
        "df['brain.natriuretic.peptide'].clip(upper=3000,inplace=True)\n",
        "df['creatinine.enzymatic.method'].clip(upper=600,inplace=True)"
      ],
      "execution_count": null,
      "outputs": []
    },
    {
      "cell_type": "markdown",
      "metadata": {
        "id": "eQZAVoZcNl_i"
      },
      "source": [
        "Creatine Kinase above 1000: Refers to idiopathic inflammatory myopathy (IIM) hence we can cap the values to 1000.\n",
        "Hence to avoid the ouliers capped to 1000."
      ]
    },
    {
      "cell_type": "code",
      "metadata": {
        "id": "XO_6O2KlLZdw"
      },
      "source": [
        "df['creatine.kinase'].clip(upper=1000,inplace=True)\n",
        "df['high.sensitivity.troponin'].clip(lower = 0.1,inplace=True)\n",
        "# To prevent the division by 0"
      ],
      "execution_count": null,
      "outputs": []
    },
    {
      "cell_type": "markdown",
      "metadata": {
        "id": "TmiR6bcgcCuD"
      },
      "source": [
        "Converting all the numarical distributions to log normals"
      ]
    },
    {
      "cell_type": "code",
      "metadata": {
        "id": "49XKeDtzcGY3"
      },
      "source": [
        "# centering the normal distributions by converting them to log\n",
        "for each in df.columns:\n",
        "    if max(df[each]) > 10 and each != 'LVEF':\n",
        "        df[each] = np.log(df[each])"
      ],
      "execution_count": null,
      "outputs": []
    },
    {
      "cell_type": "markdown",
      "metadata": {
        "id": "CsnZmNsFk9wD"
      },
      "source": [
        "First setting cutoff of LVEF : 50 "
      ]
    },
    {
      "cell_type": "code",
      "metadata": {
        "id": "phTqA52jjITo"
      },
      "source": [
        "dfef1 = df.copy()\n",
        "dfef2 = df.copy()\n",
        "dfef1['LVEF'].clip(40,41,inplace = True)\n",
        "dfef1['LVEF'].replace(to_replace=40,value=int(0),inplace=True)\n",
        "dfef1['LVEF'].replace(to_replace=41,value=int(1),inplace=True)"
      ],
      "execution_count": null,
      "outputs": []
    },
    {
      "cell_type": "code",
      "metadata": {
        "id": "u7kB2GVMjp0i"
      },
      "source": [
        "# Converting to a 3 class encoding\n",
        "'''\n",
        "dfef = df.copy()\n",
        "ejection_fraction = dfef['LVEF'].to_numpy()\n",
        "for i in range(len(ejection_fraction)):\n",
        "    if ejection_fraction[i] < 41 :\n",
        "        ejection_fraction[i] = -1\n",
        "    elif ejection_fraction[i] > 40 and ejection_fraction[i] < 50:\n",
        "        ejection_fraction[i] = 0\n",
        "    else:\n",
        "        ejection_fraction[i] = 1\n",
        "\n",
        "dfef1['LVEF'] = ejection_fraction\n",
        "'''\n",
        "# 3 class case did not work !!!"
      ],
      "execution_count": null,
      "outputs": []
    },
    {
      "cell_type": "code",
      "metadata": {
        "id": "c1kEA0sslPg8"
      },
      "source": [
        "df = pd.read_csv(\"/content/07_with_LVEF_sodium_HST_BNP.csv\")\n",
        "df.drop(columns=['Unnamed: 0','map','diabetes','type.of.heart.failure','liver.disease','congestive.heart.failure','acute.renal.failure','moderate.to.severe.chronic.kidney.disease','dementia','peptic.ulcer.disease','hemiplegia','connective.tissue.disease','leukemia','AIDS','weight','height'],inplace=True)\n",
        "df['brain.natriuretic.peptide'].clip(upper=3000,inplace=True)\n",
        "df['creatinine.enzymatic.method'].clip(upper=600,inplace=True)\n",
        "\n",
        "df['creatine.kinase'].clip(upper=1000,inplace=True)\n",
        "df['high.sensitivity.troponin'].clip(lower = 0.1,inplace=True)\n",
        "# To prevent the division by 0\n",
        "\n",
        "df_og = df.copy()\n",
        "# centering the normal distributions by converting them to log\n",
        "for each in df.columns:\n",
        "    if max(df[each]) > 10 and each != 'LVEF':\n",
        "        df[each] = np.log(df[each])\n",
        "\n",
        "dfef1 = df.copy()\n",
        "dfef2 = df.copy()\n",
        "dfef3 = df.copy()\n",
        "\n",
        "dfef1['LVEF'].clip(40,41,inplace = True)\n",
        "dfef1['LVEF'].replace(to_replace=40,value=int(0),inplace=True)\n",
        "dfef1['LVEF'].replace(to_replace=41,value=int(1),inplace=True)\n",
        "\n",
        "dfef3['LVEF'].clip(40,50,inplace = True)\n",
        "dfef3['LVEF'].replace(to_replace=40,value=int(0),inplace=True)\n",
        "dfef3['LVEF'].replace(to_replace=50,value=int(1),inplace=True)\n",
        "\n",
        "Y = dfef1['LVEF'].to_numpy()\n",
        "X = pd.DataFrame(dfef1.drop(columns = ['LVEF'])).to_numpy()\n",
        "X = scaling_X(X)"
      ],
      "execution_count": null,
      "outputs": []
    },
    {
      "cell_type": "code",
      "metadata": {
        "id": "G3iII6blmlRy"
      },
      "source": [
        "from sklearn.model_selection import cross_validate\n",
        "x_train, x_test, y_train, y_test = train_test_split(X,Y,test_size = 0.2)\n",
        "scaler = preprocessing.StandardScaler().fit(x_train)\n",
        "x_train = scaler.transform(x_train)\n",
        "scaler = preprocessing.StandardScaler().fit(x_test)\n",
        "x_test = scaler.transform(x_test)"
      ],
      "execution_count": null,
      "outputs": []
    },
    {
      "cell_type": "code",
      "metadata": {
        "id": "578K-uEMT0Cb"
      },
      "source": [
        "# Robust Scaler\n",
        "x_train, x_test, y_train, y_test = train_test_split(X,Y,test_size = 0.2)\n",
        "scaler = preprocessing.RobustScaler().fit(x_train)\n",
        "x_train = scaler.transform(x_train)\n",
        "scaler = preprocessing.RobustScaler().fit(x_test)\n",
        "x_test = scaler.transform(x_test)\n",
        "\n",
        "sscaler = preprocessing.RobustScaler().fit(X)\n",
        "X = sscaler.transform(X)"
      ],
      "execution_count": null,
      "outputs": []
    },
    {
      "cell_type": "code",
      "metadata": {
        "colab": {
          "base_uri": "https://localhost:8080/"
        },
        "id": "HjMFXbI7myHh",
        "outputId": "56d8bf28-7dd1-497d-c758-067bb7501f46"
      },
      "source": [
        "clf = RandomForestClassifier(n_estimators=50000,min_samples_leaf=9,n_jobs=-1)\n",
        "clf.fit(x_train,y_train)\n",
        "y_predicted = clf.predict(x_test)\n",
        "y_train_pred = clf.predict(x_train)\n",
        "\n",
        "pred_prob = clf.predict_proba(x_test)\n",
        "print(\"Accuracy Test %0.2f\" %(accuracy_score(y_test,y_predicted)*100))\n",
        "print(\"Accuracy Train %0.2f\" %(accuracy_score(y_train,y_train_pred)*100))\n",
        "print(\"ROC-AUC Score %0.2f\" %(roc_auc_score(y_test,pred_prob[:,1])*100))\n",
        "print(\"Recall Score %0.2f\" %(recall_score(y_test,y_predicted)*100))\n",
        "print(\"Precision Score %0.2f\" %(precision_score(y_test,y_predicted)*100))"
      ],
      "execution_count": null,
      "outputs": [
        {
          "output_type": "stream",
          "text": [
            "Accuracy Test 81.63\n",
            "Accuracy Train 88.43\n",
            "ROC-AUC Score 92.41\n",
            "Recall Score 97.33\n",
            "Precision Score 82.02\n"
          ],
          "name": "stdout"
        }
      ]
    },
    {
      "cell_type": "code",
      "metadata": {
        "colab": {
          "base_uri": "https://localhost:8080/"
        },
        "id": "hTZN-CCPny2R",
        "outputId": "fdd11b7b-4326-4e3b-da32-f16971de118a"
      },
      "source": [
        "cv_rf = cross_validate(clf,X,Y,scoring=('accuracy','roc_auc','recall','precision'),cv = 10,n_jobs=-1)\n",
        "print(\"Average CV Accuracy Test \\t\",(cv_rf['test_accuracy'].mean()*100))\n",
        "print(\"Average CV ROC-AUC Score \\t\",(cv_rf['test_roc_auc'].mean()*100))\n",
        "print(\"Average CV Recall Score \\t\",(cv_rf['test_recall'].mean()*100))\n",
        "print(\"Average CV Precision Score \\t\",(cv_rf['test_precision'].mean()*100))\n",
        "print(\"-----------------------------\")\n",
        "print(\"Best Accuracy CV : \\t\\t\", max(cv_rf['test_accuracy']*100))\n",
        "print(\"Best ROC CV : \\t\\t\\t\", max(cv_rf['test_roc_auc']*100))\n",
        "print(\"Best Recall CV : \\t\\t\", max(cv_rf['test_recall']*100))\n",
        "print(\"Best Precision CV : \\t\\t\", max(cv_rf['test_precision']*100))"
      ],
      "execution_count": null,
      "outputs": [
        {
          "output_type": "stream",
          "text": [
            "Average CV Accuracy Test \t 80.06802721088435\n",
            "Average CV ROC-AUC Score \t 85.5034699771542\n",
            "Average CV Recall Score \t 96.23044096728309\n",
            "Average CV Precision Score \t 81.20511339014878\n",
            "-----------------------------\n",
            "Best Accuracy CV : \t\t 85.71428571428571\n",
            "Best ROC CV : \t\t\t 92.56756756756758\n",
            "Best Recall CV : \t\t 100.0\n",
            "Best Precision CV : \t\t 84.0909090909091\n"
          ],
          "name": "stdout"
        }
      ]
    },
    {
      "cell_type": "code",
      "metadata": {
        "colab": {
          "base_uri": "https://localhost:8080/",
          "height": 366
        },
        "id": "_KJej_9qnIcW",
        "outputId": "5cc0e666-260e-4f35-dab7-86babfb0d1d0"
      },
      "source": [
        "plt.bar(range(len(clf.feature_importances_)),clf.feature_importances_)"
      ],
      "execution_count": null,
      "outputs": [
        {
          "output_type": "execute_result",
          "data": {
            "text/plain": [
              "<BarContainer object of 26 artists>"
            ]
          },
          "metadata": {
            "tags": []
          },
          "execution_count": 129
        },
        {
          "output_type": "display_data",
          "data": {
            "image/png": "[encoded data removed]",
            "text/plain": [
              "<Figure size 576x396 with 1 Axes>"
            ]
          },
          "metadata": {
            "tags": []
          }
        }
      ]
    },
    {
      "cell_type": "code",
      "metadata": {
        "colab": {
          "base_uri": "https://localhost:8080/"
        },
        "id": "EJUWGtWYlxhe",
        "outputId": "e1ee2981-a921-40eb-87c4-7680c269e532"
      },
      "source": [
        "from xgboost import XGBClassifier\n",
        "xgb = XGBClassifier(n_estimators=5000)\n",
        "xgb.fit(x_train,y_train)\n",
        "y_predicted = xgb.predict(x_test)\n",
        "y_train_pred = xgb.predict(x_train)\n",
        "\n",
        "pred_prob = xgb.predict_proba(x_test)\n",
        "print(\"Accuracy Test %0.2f\" %(accuracy_score(y_test,y_predicted)*100))\n",
        "print(\"Accuracy Train %0.2f\" %(accuracy_score(y_train,y_train_pred)*100))\n",
        "print(\"ROC-AUC Score %0.2f\" %(roc_auc_score(y_test,pred_prob[:,1])*100))\n",
        "print(\"Recall Score %0.2f\" %(recall_score(y_test,y_predicted)*100))"
      ],
      "execution_count": null,
      "outputs": [
        {
          "output_type": "stream",
          "text": [
            "Accuracy Test 75.51\n",
            "Accuracy Train 100.00\n",
            "ROC-AUC Score 85.84\n",
            "Recall Score 95.52\n"
          ],
          "name": "stdout"
        }
      ]
    },
    {
      "cell_type": "code",
      "metadata": {
        "colab": {
          "base_uri": "https://localhost:8080/"
        },
        "id": "jILsSe8toMhz",
        "outputId": "d39356fd-44de-480d-9011-e88596a12347"
      },
      "source": [
        "cv_rf = cross_validate(xgb,X,Y,scoring=('accuracy','roc_auc','recall','precision'),cv = 10)\n",
        "print(\"Average CV Accuracy Test \\t\",(cv_rf['test_accuracy'].mean()*100))\n",
        "print(\"Average CV ROC-AUC Score \\t\",(cv_rf['test_roc_auc'].mean()*100))\n",
        "print(\"Average CV Recall Score \\t\",(cv_rf['test_recall'].mean()*100))\n",
        "print(\"Average CV Precision Score \\t\",(cv_rf['test_precision'].mean()*100))\n",
        "print(\"------------------------------\")\n",
        "print(\"Best Accuracy CV : \\t\\t\", max(cv_rf['test_accuracy']*100))\n",
        "print(\"Best ROC CV : \\t\\t\\t\", max(cv_rf['test_roc_auc']*100))\n",
        "print(\"Best Recall CV : \\t\\t\", max(cv_rf['test_recall']*100))\n",
        "print(\"Best Precision CV : \\t\\t\", max(cv_rf['test_precision']*100))"
      ],
      "execution_count": null,
      "outputs": [
        {
          "output_type": "stream",
          "text": [
            "Average CV Accuracy Test \t 81.70918367346938\n",
            "Average CV ROC-AUC Score \t 84.68317599896548\n",
            "Average CV Recall Score \t 91.67852062588905\n",
            "Average CV Precision Score \t 85.54347743240032\n",
            "------------------------------\n",
            "Best Accuracy CV : \t\t 91.83673469387756\n",
            "Best ROC CV : \t\t\t 91.8918918918919\n",
            "Best Recall CV : \t\t 97.2972972972973\n",
            "Best Precision CV : \t\t 92.3076923076923\n"
          ],
          "name": "stdout"
        }
      ]
    },
    {
      "cell_type": "code",
      "metadata": {
        "colab": {
          "base_uri": "https://localhost:8080/",
          "height": 366
        },
        "id": "-NxGF0Uwsbd0",
        "outputId": "0ab20d5a-6d5d-409c-89d5-6008576c5263"
      },
      "source": [
        "plt.bar(range(len(xgb.feature_importances_)),xgb.feature_importances_)"
      ],
      "execution_count": null,
      "outputs": [
        {
          "output_type": "execute_result",
          "data": {
            "text/plain": [
              "<BarContainer object of 26 artists>"
            ]
          },
          "metadata": {
            "tags": []
          },
          "execution_count": 131
        },
        {
          "output_type": "display_data",
          "data": {
            "image/png": "[encoded data removed]",
            "text/plain": [
              "<Figure size 576x396 with 1 Axes>"
            ]
          },
          "metadata": {
            "tags": []
          }
        }
      ]
    },
    {
      "cell_type": "code",
      "metadata": {
        "colab": {
          "base_uri": "https://localhost:8080/"
        },
        "id": "OpKgDzwpEnpl",
        "outputId": "7b06be5f-72db-400c-d77e-571a69b98fba"
      },
      "source": [
        "# KNN classifier\n",
        "from sklearn.neighbors import KNeighborsClassifier\n",
        "knn = KNeighborsClassifier(n_neighbors=5)\n",
        "cross_validation(knn,X,Y)"
      ],
      "execution_count": null,
      "outputs": [
        {
          "output_type": "stream",
          "text": [
            "Average CV Accuracy Test \t 72.90391156462584\n",
            "Average CV ROC-AUC Score \t 72.5141169878012\n",
            "Average CV Recall Score \t 86.55049786628733\n",
            "Average CV Precision Score \t 79.7958229293709\n",
            "-----------------------------\n",
            "Best Accuracy CV : \t\t 79.59183673469387\n",
            "Best ROC CV : \t\t\t 82.06388206388206\n",
            "Best Recall CV : \t\t 97.36842105263158\n",
            "Best Precision CV : \t\t 86.11111111111111\n"
          ],
          "name": "stdout"
        }
      ]
    },
    {
      "cell_type": "code",
      "metadata": {
        "id": "OnGk_Xqlutml"
      },
      "source": [
        "estimators = [100,200,500,750,1000,1200,1500,2000,2500,3000,4000,5000]\n",
        "accuracy = []\n",
        "roc = []\n",
        "precision = []\n",
        "recall = []\n",
        "\n",
        "for n in estimators:\n",
        "    clf = RandomForestClassifier(n_estimators=n,min_samples_leaf= 7,n_jobs=-1)\n",
        "    cv_rf = cross_validate(clf,X,Y,scoring=('accuracy','roc_auc','recall','precision'),cv = 5)\n",
        "    accuracy.append(cv_rf['test_accuracy'].mean()*100)\n",
        "    roc.append(cv_rf['test_roc_auc'].mean()*100)\n",
        "    recall.append(cv_rf['test_recall'].mean()*100)\n",
        "    precision.append(cv_rf['test_precision'].mean()*100)"
      ],
      "execution_count": null,
      "outputs": []
    },
    {
      "cell_type": "code",
      "metadata": {
        "colab": {
          "base_uri": "https://localhost:8080/",
          "height": 366
        },
        "id": "Sq5zL4CCw8ue",
        "outputId": "9f8f3fb8-4017-4aad-b7c4-c8abef432362"
      },
      "source": [
        "plt.plot(estimators,accuracy,c='b',marker='x')\n",
        "plt.plot(estimators,recall,c='r',marker='o')\n",
        "plt.plot(estimators,roc,c='g',marker='d')\n",
        "plt.plot(estimators,precision,c='y',marker='.')"
      ],
      "execution_count": null,
      "outputs": [
        {
          "output_type": "execute_result",
          "data": {
            "text/plain": [
              "[<matplotlib.lines.Line2D at 0x7faca8555ac8>]"
            ]
          },
          "metadata": {
            "tags": []
          },
          "execution_count": 155
        },
        {
          "output_type": "display_data",
          "data": {
            "image/png": "[encoded data removed]",
            "text/plain": [
              "<Figure size 576x396 with 1 Axes>"
            ]
          },
          "metadata": {
            "tags": []
          }
        }
      ]
    },
    {
      "cell_type": "markdown",
      "metadata": {
        "id": "yycPgiZMjyPr"
      },
      "source": [
        "Stacking all the classifiers until now"
      ]
    },
    {
      "cell_type": "code",
      "metadata": {
        "colab": {
          "base_uri": "https://localhost:8080/"
        },
        "id": "0fXAp-Ahd3y7",
        "outputId": "36b1c48a-3511-4b45-dab2-07b681c526ed"
      },
      "source": [
        "from sklearn.ensemble import StackingClassifier\n",
        "\n",
        "classifiers = [ ('rf',RandomForestClassifier(n_estimators=500,min_samples_leaf=7,n_jobs=-1)),\n",
        "                ('knn',KNeighborsClassifier(n_neighbors=9)),\n",
        "                ('xgb',XGBClassifier(n_estimators=1000)),\n",
        "                ('xgbrf',XGBRFClassifier(n_estimators=500,num_parallel_tree=500,num_boost_round=10))\n",
        "                ]\n",
        "final_estimator = RandomForestClassifier(n_estimators=500,min_samples_leaf=7,n_jobs=-1)\n",
        "stack_clf = StackingClassifier(estimators=classifiers,final_estimator = final_estimator, n_jobs=-1)\n",
        "\n",
        "cross_validation(stack_clf,X,Y)"
      ],
      "execution_count": null,
      "outputs": [
        {
          "output_type": "stream",
          "text": [
            "Average CV Accuracy Test \t79.50\n",
            "Average CV ROC-AUC Score \t85.43\n",
            "Average CV Recall Score \t77.55\n",
            "Average CV Precision Score \t83.37\n",
            "-----------------------------\n",
            "Best Accuracy CV : \t\t87.50\n",
            "Best ROC CV : \t\t\t91.08\n",
            "Best Recall CV : \t\t92.31\n",
            "Best Precision CV : \t\t91.30\n"
          ],
          "name": "stdout"
        }
      ]
    },
    {
      "cell_type": "markdown",
      "metadata": {
        "id": "lt7QlbYTkPSz"
      },
      "source": [
        "Best Final Estimator : RandomForest\n",
        "\n",
        "For StackingClassifier\n",
        "\n",
        "```\n",
        "Average CV Accuracy Test \t  80.27\n",
        "Average CV ROC-AUC Score \t  81.67\n",
        "Average CV Recall Score \t   90.32\n",
        "Average CV Precision Score \t85.01\n",
        "------------------------------\n",
        "Best Accuracy CV  \t\t     89.79\n",
        "Best ROC CV \t\t           88.82\n",
        "Best Recall CV  \t\t       97.36\n",
        "Best Precision CV    \t\t  90.00\n",
        "```\n",
        "\n"
      ]
    },
    {
      "cell_type": "markdown",
      "metadata": {
        "id": "bnunzPqKd4C9"
      },
      "source": [
        "Train a classifier on HFrEF and HFpEF. Then predict the HFmrEF and train a final classifier.\n",
        "Even through HFmrEF is a different class we can predict that which one of the main class they are inclining towards. \n",
        "The prognosis depends on the two main classes.\n",
        "\n",
        "Hence, finally we train the calssifier for the two classess which is capable of handling the HFmrEF cases."
      ]
    },
    {
      "cell_type": "code",
      "metadata": {
        "id": "AZmolFa-kOjX"
      },
      "source": [
        "dfef2['LVEF'].clip(40,50,inplace = True)\n",
        "dfef2['LVEF'].replace(to_replace=40,value=int(0),inplace=True)\n",
        "dfef2['LVEF'].replace(to_replace=50,value=int(1),inplace=True)\n",
        "# index of points with LVEF 41-49\n",
        "mref_index = dfef2.loc[dfef2['LVEF'] >1].index\n",
        "#selecting the rows having EF other than 0 or 1\n",
        "HFmrEF_data = dfef2.loc[dfef2.LVEF >1]\n",
        "dfef2 = dfef2.drop(index=mref_index)  \n",
        "Y_pr = dfef2['LVEF'].to_numpy().astype(int)\n",
        "X_pr = pd.DataFrame(dfef2.drop(columns = ['LVEF'])).to_numpy()"
      ],
      "execution_count": null,
      "outputs": []
    },
    {
      "cell_type": "code",
      "metadata": {
        "colab": {
          "base_uri": "https://localhost:8080/"
        },
        "id": "tPf3VwC5vu-0",
        "outputId": "96598ac7-5ac9-4404-d3b7-dcfd22d71cbb"
      },
      "source": [
        "cross_validation(RandomForestClassifier(n_estimators=5000),X_pr,Y_pr)"
      ],
      "execution_count": null,
      "outputs": [
        {
          "output_type": "stream",
          "text": [
            "Average CV Accuracy Test \t84.38\n",
            "Average CV ROC-AUC Score \t93.22\n",
            "Average CV Recall Score \t92.04\n",
            "Average CV Precision Score \t86.77\n",
            "-----------------------------\n",
            "Best Accuracy CV : \t\t92.11\n",
            "Best ROC CV : \t\t\t97.20\n",
            "Best Recall CV : \t\t96.15\n",
            "Best Precision CV : \t\t96.00\n"
          ],
          "name": "stdout"
        }
      ]
    },
    {
      "cell_type": "code",
      "metadata": {
        "id": "DRR3eNk6ysRy"
      },
      "source": [
        "Y_mr = HFmrEF_data.LVEF.to_numpy().astype(int)\n",
        "X_mr = pd.DataFrame(HFmrEF_data.drop(columns=['LVEF'])).to_numpy()"
      ],
      "execution_count": null,
      "outputs": []
    },
    {
      "cell_type": "code",
      "metadata": {
        "id": "1cdB69-Lx7xk"
      },
      "source": [
        "rf_clf = RandomForestClassifier(n_estimators=5000)\n",
        "rf_clf.fit(X,Y)\n",
        "y_hfmref = rf_clf.predict(X_mr)"
      ],
      "execution_count": null,
      "outputs": []
    },
    {
      "cell_type": "markdown",
      "metadata": {
        "id": "bq2cXSptdwUs"
      },
      "source": [
        "We have predicted the calsses of HFmrEF : \n",
        "as HFrEF and HFpEF\n",
        "\n",
        "The values were classified based on the model trained on instances of EF < 40 and EF > 50\n",
        "\n",
        "Storing the in the dataframe."
      ]
    },
    {
      "cell_type": "code",
      "metadata": {
        "colab": {
          "base_uri": "https://localhost:8080/"
        },
        "id": "4rKhYqD2ewxz",
        "outputId": "9869b45b-4dc8-4302-941c-730aba57bd75"
      },
      "source": [
        "mref_index"
      ],
      "execution_count": null,
      "outputs": [
        {
          "output_type": "execute_result",
          "data": {
            "text/plain": [
              "Int64Index([ 11,  12,  13,  15,  22,  26,  28,  29,  36,  43,\n",
              "            ...\n",
              "            448, 453, 454, 465, 471, 472, 474, 482, 483, 486],\n",
              "           dtype='int64', length=109)"
            ]
          },
          "metadata": {
            "tags": []
          },
          "execution_count": 33
        }
      ]
    },
    {
      "cell_type": "code",
      "metadata": {
        "colab": {
          "base_uri": "https://localhost:8080/"
        },
        "id": "IG76jAYQkB88",
        "outputId": "ab3e55a5-825e-43c6-95aa-cf196cb6b476"
      },
      "source": [
        "df_og.loc[mref_index[0],'LVEF']"
      ],
      "execution_count": null,
      "outputs": [
        {
          "output_type": "execute_result",
          "data": {
            "text/plain": [
              "49.0"
            ]
          },
          "metadata": {
            "tags": []
          },
          "execution_count": 42
        }
      ]
    },
    {
      "cell_type": "code",
      "metadata": {
        "id": "mcASlAp0c3l7"
      },
      "source": [
        "df_mr = df.copy()\n",
        "df_og_mr = df_og.copy()\n",
        "df_og_mr['LVEF'].clip(40,50,inplace = True)\n",
        "df_og_mr['LVEF'].replace(to_replace=40,value=int(0),inplace=True)\n",
        "df_og_mr['LVEF'].replace(to_replace=50,value=int(1),inplace=True)\n",
        "\n",
        "df_mr['LVEF'].clip(40,50,inplace = True)\n",
        "df_mr['LVEF'].replace(to_replace=40,value=int(0),inplace=True)\n",
        "df_mr['LVEF'].replace(to_replace=50,value=int(1),inplace=True)\n",
        "\n",
        "for index,label in zip(mref_index,y_hfmref):\n",
        "    df_mr.loc[index,'LVEF'] =  label\n",
        "    df_og_mr.loc[index,'LVEF'] =  label"
      ],
      "execution_count": null,
      "outputs": []
    },
    {
      "cell_type": "code",
      "metadata": {
        "id": "_QaZgetBo31K"
      },
      "source": [
        "df_og_mr.to_csv(\"HFmrEF_classified_LVEF_Labels.csv\")"
      ],
      "execution_count": null,
      "outputs": []
    },
    {
      "cell_type": "code",
      "metadata": {
        "id": "dny8YqrHp_4r"
      },
      "source": [
        "df_mr = pd.read_csv(\"/content/HFmrEF_classified_LVEF_Labels.csv\")\n",
        "df_mr.drop(columns=['Unnamed: 0','map','diabetes'],inplace=True)"
      ],
      "execution_count": null,
      "outputs": []
    },
    {
      "cell_type": "code",
      "metadata": {
        "id": "jUCdFWNMpI9B"
      },
      "source": [
        "Y_mr = df_mr.LVEF.to_numpy().astype(int)\n",
        "X_mr = pd.DataFrame(df_mr.drop(columns=['LVEF'])).to_numpy()\n",
        "X_mr = scaling_X(X_mr)"
      ],
      "execution_count": null,
      "outputs": []
    },
    {
      "cell_type": "markdown",
      "metadata": {
        "id": "L5h-f6AynK3F"
      },
      "source": [
        "Running models on HFmrEF to 2 class converted data."
      ]
    },
    {
      "cell_type": "code",
      "metadata": {
        "colab": {
          "base_uri": "https://localhost:8080/"
        },
        "id": "Xylj5UMynSbd",
        "outputId": "3cafc25c-6d68-44ff-820a-5e68c928bcfc"
      },
      "source": [
        "rfmr = RandomForestClassifier(n_estimators= 500,min_samples_leaf=15)\n",
        "rfmr.fit(X,Y)\n",
        "cross_validation(rfmr,X,Y)"
      ],
      "execution_count": null,
      "outputs": [
        {
          "output_type": "stream",
          "text": [
            "Average CV Accuracy Test \t79.26\n",
            "Average CV ROC-AUC Score \t85.48\n",
            "Average CV Recall Score \t97.84\n",
            "Average CV Precision Score \t79.67\n",
            "-----------------------------\n",
            "Best Accuracy CV : \t\t83.67\n",
            "Best ROC CV : \t\t\t92.34\n",
            "Best Recall CV : \t\t100.00\n",
            "Best Precision CV : \t\t82.22\n"
          ],
          "name": "stdout"
        }
      ]
    },
    {
      "cell_type": "markdown",
      "metadata": {
        "id": "TRqpEh0V0MX0"
      },
      "source": [
        "Random Forest\n",
        "\n",
        "LVEF cutoff : 40\n",
        "\n",
        "\n",
        "```\n",
        "Average CV Accuracy Test \t80.08\n",
        "Average CV ROC-AUC Score \t85.88\n",
        "Average CV Recall Score \t 97.84\n",
        "Average CV Precision Score   80.35\n",
        "-----------------------------\n",
        "Best Accuracy CV : \t\t  83.67\n",
        "Best ROC CV : \t\t\t   92.14\n",
        "Best Recall CV : \t\t    100.0\n",
        "Best Precision CV : \t\t 82.61\n",
        "```\n",
        "HFmrEF distributed classified into 2 classes\n",
        "\n",
        "\n",
        "\n",
        "```\n",
        "Average CV Accuracy Test \t83.15\n",
        "Average CV ROC-AUC Score \t93.85\n",
        "Average CV Recall Score \t 95.30\n",
        "Average CV Precision Score   82.22\n",
        "```\n",
        "\n",
        "\n"
      ]
    },
    {
      "cell_type": "code",
      "metadata": {
        "colab": {
          "base_uri": "https://localhost:8080/"
        },
        "id": "WqeoqbFinKDq",
        "outputId": "1d8ba344-83cc-4bf5-fe32-bb62825b07bc"
      },
      "source": [
        "from sklearn.ensemble import StackingClassifier\n",
        "classifiers = [ ('rf',RandomForestClassifier(n_estimators=500,min_samples_leaf=13,n_jobs=-1)),\n",
        "                ('knn',KNeighborsClassifier(n_neighbors=9)),\n",
        "                ('xgb',XGBClassifier(n_estimators=1000)),\n",
        "                ('xgbrf',XGBRFClassifier(n_estimators=500,num_parallel_tree=500,num_boost_round=10))\n",
        "                ]\n",
        "final_estimator = RandomForestClassifier(n_estimators=500,min_samples_leaf=7,n_jobs=-1)\n",
        "stack_clf = StackingClassifier(estimators=classifiers,final_estimator = final_estimator, n_jobs=-1)\n",
        "\n",
        "cross_validation(stack_clf,X,Y)"
      ],
      "execution_count": null,
      "outputs": [
        {
          "output_type": "stream",
          "text": [
            "Average CV Accuracy Test \t80.68\n",
            "Average CV ROC-AUC Score \t84.52\n",
            "Average CV Recall Score \t91.96\n",
            "Average CV Precision Score \t84.45\n",
            "-----------------------------\n",
            "Best Accuracy CV : \t\t87.50\n",
            "Best ROC CV : \t\t\t90.91\n",
            "Best Recall CV : \t\t100.00\n",
            "Best Precision CV : \t\t91.67\n"
          ],
          "name": "stdout"
        }
      ]
    },
    {
      "cell_type": "markdown",
      "metadata": {
        "id": "xlgmTWUbdQiM"
      },
      "source": [
        "Stacking Classifier:\n",
        "\n",
        "When HFmrEF is classified into 2 classes and model is trained on resultant data.\n",
        "\n",
        "```\n",
        "Average CV Accuracy Test \t 88.095\n",
        "Average CV ROC-AUC Score \t 94.013\n",
        "Average CV Recall Score \t 90.282\n",
        "Average CV Precision Score \t 91.712\n",
        "-----------------------------\n",
        "Best Accuracy CV : \t\t 93.877\n",
        "Best ROC CV : \t\t\t 98.292\n",
        "Best Recall CV : \t\t 96.875\n",
        "Best Precision CV : \t\t 100.0\n",
        "```\n",
        "\n",
        "Otherwise with 40 cutoff : \n",
        "\n",
        "\n",
        "```\n",
        "Average CV Accuracy Test \t 80.684\n",
        "Average CV ROC-AUC Score \t 85.317\n",
        "Average CV Recall Score \t 97.034\n",
        "Average CV Precision Score \t 81.336\n",
        "-----------------------------\n",
        "Best Accuracy CV : \t\t 85.71\n",
        "Best ROC CV : \t\t\t 92.34\n",
        "Best Recall CV : \t\t 100.0\n",
        "Best Precision CV : \t\t 84.44\n",
        "```\n",
        "\n",
        "\n"
      ]
    },
    {
      "cell_type": "code",
      "metadata": {
        "colab": {
          "base_uri": "https://localhost:8080/"
        },
        "id": "TQeQOvSJtLa4",
        "outputId": "8395cef4-3e7f-43e9-fabf-4cc38a2a7027"
      },
      "source": [
        "from lightgbm import LGBMClassifier\n",
        "lgb = LGBMClassifier(learning_rate=0.5,num_iterations = 5000)\n",
        "cross_validation(lgb,X,Y)"
      ],
      "execution_count": null,
      "outputs": [
        {
          "output_type": "stream",
          "text": [
            "Average CV Accuracy Test \t 81.09268707482993\n",
            "Average CV ROC-AUC Score \t 85.42264752791068\n",
            "Average CV Recall Score \t 90.86059743954482\n",
            "Average CV Precision Score \t 85.52977724030356\n",
            "-----------------------------\n",
            "Best Accuracy CV : \t\t 85.71428571428571\n",
            "Best ROC CV : \t\t\t 92.7927927927928\n",
            "Best Recall CV : \t\t 97.36842105263158\n",
            "Best Precision CV : \t\t 91.66666666666666\n"
          ],
          "name": "stdout"
        }
      ]
    },
    {
      "cell_type": "code",
      "metadata": {
        "colab": {
          "base_uri": "https://localhost:8080/"
        },
        "id": "T9CsGk2vsCw7",
        "outputId": "4fa8d512-8d3f-4f30-ca54-e45abd300e50"
      },
      "source": [
        "from sklearn.ensemble import VotingClassifier\n",
        "from lightgbm import LGBMClassifier\n",
        "classifiers = [ ('rf',RandomForestClassifier(n_estimators=500,min_samples_leaf=7,n_jobs=-1)),\n",
        "                ('knn',KNeighborsClassifier(n_neighbors=9)),\n",
        "                ('xgb',XGBClassifier(n_estimators=1000)),\n",
        "                ('xgbrf',XGBRFClassifier(n_estimators=500,num_parallel_tree=500,num_boost_round=10)),\n",
        "                ('lgb',LGBMClassifier(learning_rate=0.5,num_iterations = 1500))\n",
        "                ]\n",
        "voting_clf = VotingClassifier(estimators=classifiers,voting='soft', n_jobs=-1)\n",
        "cross_validation(voting_clf,X_mr,Y_mr)"
      ],
      "execution_count": null,
      "outputs": [
        {
          "output_type": "stream",
          "text": [
            "Average CV Accuracy Test \t87.88\n",
            "Average CV ROC-AUC Score \t94.66\n",
            "Average CV Recall Score \t91.54\n",
            "Average CV Precision Score \t90.24\n",
            "-----------------------------\n",
            "Best Accuracy CV : \t\t93.88\n",
            "Best ROC CV : \t\t\t98.35\n",
            "Best Recall CV : \t\t96.88\n",
            "Best Precision CV : \t\t100.00\n"
          ],
          "name": "stdout"
        }
      ]
    },
    {
      "cell_type": "markdown",
      "metadata": {
        "id": "SLA0QdXbvsyU"
      },
      "source": [
        "Voting Classifer : Hard\n",
        "\n",
        "LVEF cutoff : 40\n",
        "\n",
        "\n",
        "```\n",
        "Average CV Accuracy Test \t 81.30\n",
        "Average CV Recall Score \t  95.68\n",
        "Average CV Precision Score    82.61\n",
        "-----------------------------\n",
        "Best Accuracy CV : \t\t   87.75\n",
        "Best Recall CV : \t\t     100.0\n",
        "Best Precision CV : \t\t  86.05\n",
        "\n",
        "```\n",
        "\n",
        "HFmrEF classfied into 2 classes\n",
        "\n",
        "Voting : Soft \n",
        "\n",
        "```\n",
        "Average CV Accuracy Test \t 88.29\n",
        "Average CV Recall Score \t  91.85\n",
        "Average CV Precision Score    90.60\n",
        "-----------------------------\n",
        "Best Accuracy CV : \t\t   93.87\n",
        "Best Recall CV : \t\t     96.87\n",
        "Best Precision CV : \t\t  100.0\n",
        "```\n",
        "Voting : Soft\n",
        "\n",
        "\n",
        "```\n",
        "Average CV Accuracy Test \t87.88\n",
        "Average CV ROC-AUC Score \t94.66\n",
        "Average CV Recall Score \t 91.54\n",
        "Average CV Precision Score   90.24\n",
        "-----------------------------\n",
        "Best Accuracy CV : \t\t  93.88\n",
        "Best ROC CV : \t\t\t   98.35\n",
        "Best Recall CV : \t\t    96.88\n",
        "Best Precision CV : \t\t 100.0\n",
        "```\n",
        "\n",
        "\n",
        "\n"
      ]
    },
    {
      "cell_type": "code",
      "metadata": {
        "colab": {
          "base_uri": "https://localhost:8080/"
        },
        "id": "ZQZbE6sDwvkZ",
        "outputId": "686fc22e-561a-4998-d52f-d18eb2aa2b4b"
      },
      "source": [
        "df_mr.columns\n",
        "features = [0,2,3,14,15,18,19]\n"
      ],
      "execution_count": null,
      "outputs": [
        {
          "output_type": "execute_result",
          "data": {
            "text/plain": [
              "Index(['pulse', 'respiration', 'systolic.blood.pressure',\n",
              "       'diastolic.blood.pressure', 'BMI',\n",
              "       'NYHA.cardiac.function.classification', 'Killip.grade',\n",
              "       'myocardial.infarction', 'peripheral.vascular.disease',\n",
              "       'cerebrovascular.disease', 'Chronic.obstructive.pulmonary.disease',\n",
              "       'CCI.score', 'type.II.respiratory.failure', 'fio2', 'LVEF',\n",
              "       'left.ventricular.end.diastolic.diameter.LV',\n",
              "       'brain.natriuretic.peptide', 'cystatin', 'creatine.kinase',\n",
              "       'cholesterol', 'creatinine.enzymatic.method', 'sodium', 'potassium',\n",
              "       'calcium', 'high.sensitivity.troponin'],\n",
              "      dtype='object')"
            ]
          },
          "metadata": {
            "tags": []
          },
          "execution_count": 33
        }
      ]
    },
    {
      "cell_type": "code",
      "metadata": {
        "colab": {
          "base_uri": "https://localhost:8080/",
          "height": 381
        },
        "id": "yOAWS54r4faI",
        "outputId": "50bc2f6f-b3b7-41df-9bd7-babd48801598"
      },
      "source": [
        "plt.bar(range(len(rfmr.feature_importances_)),rfmr.feature_importances_)\n",
        "plt.title(\"Feature importances for RF on HFmrEF classified\")"
      ],
      "execution_count": null,
      "outputs": [
        {
          "output_type": "execute_result",
          "data": {
            "text/plain": [
              "Text(0.5, 1.0, 'Feature importances for RF on HFmrEF classified')"
            ]
          },
          "metadata": {
            "tags": []
          },
          "execution_count": 59
        },
        {
          "output_type": "display_data",
          "data": {
            "image/png": "[encoded data removed]",
            "text/plain": [
              "<Figure size 576x396 with 1 Axes>"
            ]
          },
          "metadata": {
            "tags": []
          }
        }
      ]
    },
    {
      "cell_type": "code",
      "metadata": {
        "colab": {
          "base_uri": "https://localhost:8080/",
          "height": 381
        },
        "id": "NwVdpOf57IZ8",
        "outputId": "32f35051-1b25-4024-b389-99adbc5154eb"
      },
      "source": [
        "plt.bar(range(len(rfmr.feature_importances_)),rfmr.feature_importances_)\n",
        "plt.title(\"Feature importances for RF on cutoff of 40\")"
      ],
      "execution_count": null,
      "outputs": [
        {
          "output_type": "execute_result",
          "data": {
            "text/plain": [
              "Text(0.5, 1.0, 'Feature importances for RF on cutoff of 40')"
            ]
          },
          "metadata": {
            "tags": []
          },
          "execution_count": 71
        },
        {
          "output_type": "display_data",
          "data": {
            "image/png": "[encoded data removed]",
            "text/plain": [
              "<Figure size 576x396 with 1 Axes>"
            ]
          },
          "metadata": {
            "tags": []
          }
        }
      ]
    },
    {
      "cell_type": "markdown",
      "metadata": {
        "id": "Z98XSyv57YLL"
      },
      "source": [
        "Taking only :\n",
        "features = [0,2,3,4,14,15,18,19]\n",
        "\n",
        "* 0 : Pulse\n",
        "* 2 : SBP\n",
        "* 3 : DBP\n",
        "* 4 : BMI\n",
        "* 14: LV end diastolic Diameter\n",
        "* 15: BNP\n",
        "* 18: Cholesterol\n",
        "* 19: Creaatinine Enzymatic Method"
      ]
    },
    {
      "cell_type": "code",
      "metadata": {
        "id": "6pV9J9mw7wnT"
      },
      "source": [
        "df_reduced = dfef1.loc[:,['pulse','systolic.blood.pressure','diastolic.blood.pressure','BMI','LVEF','left.ventricular.end.diastolic.diameter.LV',\n",
        "                        'brain.natriuretic.peptide','cholesterol', 'creatinine.enzymatic.method']]\n",
        "df_mr_reduced = df_mr.loc[:,['pulse','systolic.blood.pressure','diastolic.blood.pressure','BMI','LVEF','left.ventricular.end.diastolic.diameter.LV',\n",
        "                        'brain.natriuretic.peptide','cholesterol', 'creatinine.enzymatic.method']]"
      ],
      "execution_count": null,
      "outputs": []
    },
    {
      "cell_type": "code",
      "metadata": {
        "id": "TNk7mCSi8pvH"
      },
      "source": [
        "Y_r = df_reduced.LVEF.to_numpy().astype(int)\n",
        "X_r = pd.DataFrame(df_reduced.drop(columns=['LVEF'])).to_numpy()\n",
        "X_r = scaling_X(X_r)\n",
        "\n",
        "Y_mr_r = df_mr_reduced.LVEF.to_numpy().astype(int)\n",
        "X_mr_r = pd.DataFrame(df_mr_reduced.drop(columns=['LVEF'])).to_numpy()\n",
        "X_mr_r = scaling_X(X_mr_r)"
      ],
      "execution_count": null,
      "outputs": []
    },
    {
      "cell_type": "code",
      "metadata": {
        "colab": {
          "base_uri": "https://localhost:8080/"
        },
        "id": "xrcl1GD79wj9",
        "outputId": "e46ce3b2-e310-4a01-9ead-7d8eef0c4265"
      },
      "source": [
        "rfr = RandomForestClassifier(n_estimators=500,min_samples_leaf=13)\n",
        "rfr.fit(X_mr_r,Y_mr_r)\n",
        "cross_validation(rfr,X_mr_r,Y_mr_r)"
      ],
      "execution_count": null,
      "outputs": [
        {
          "output_type": "stream",
          "text": [
            "Average CV Accuracy Test \t88.10\n",
            "Average CV ROC-AUC Score \t94.68\n",
            "Average CV Recall Score \t91.85\n",
            "Average CV Precision Score \t90.43\n",
            "-----------------------------\n",
            "Best Accuracy CV : \t\t95.92\n",
            "Best ROC CV : \t\t\t98.53\n",
            "Best Recall CV : \t\t96.88\n",
            "Best Precision CV : \t\t100.00\n"
          ],
          "name": "stdout"
        }
      ]
    },
    {
      "cell_type": "markdown",
      "metadata": {
        "id": "pcH3zMnH7wcG"
      },
      "source": [
        "RF accuracy on reduced features\n",
        "cutoff 40\n",
        "\n",
        "```\n",
        "Average CV Accuracy Test \t80.28\n",
        "Average CV ROC-AUC Score \t86.66\n",
        "Average CV Recall Score \t 95.16\n",
        "Average CV Precision Score   81.95\n",
        "```\n",
        "\n",
        "on HFmrRF classified to other classes\n",
        "\n",
        "\n",
        "\n",
        "```\n",
        "Average CV Accuracy Test \t88.31\n",
        "Average CV ROC-AUC Score \t94.73\n",
        "Average CV Recall Score \t 92.18\n",
        "Average CV Precision Score   90.47\n",
        "```\n",
        "\n",
        "\n",
        "\n"
      ]
    },
    {
      "cell_type": "code",
      "metadata": {
        "colab": {
          "base_uri": "https://localhost:8080/",
          "height": 436
        },
        "id": "5gWO6dwp5PfZ",
        "outputId": "e940041e-a0b8-4a54-b695-39d51b1a9236"
      },
      "source": [
        "plt.style.use(\"seaborn\")\n",
        "x_label = ['pulse','Systolic BP','Diastolic BP','BMI','Left.ventricular.end.diastolic.diameter','Brain.natriuretic.peptide','Cholesterol','Creatinine Enzymatic']\n",
        "plt.barh(x_label,rfr.feature_importances_)\n",
        "plt.title(\"Feature Importance for RFClassifier (HFmrEF classified)\")"
      ],
      "execution_count": null,
      "outputs": [
        {
          "output_type": "execute_result",
          "data": {
            "text/plain": [
              "Text(0.5, 1.0, 'Feature Importance for RFClassifier (HFmrEF classified)')"
            ]
          },
          "metadata": {
            "tags": []
          },
          "execution_count": 63
        },
        {
          "output_type": "display_data",
          "data": {
            "image/png": "[encoded data removed]",
            "text/plain": [
              "<Figure size 640x440 with 1 Axes>"
            ]
          },
          "metadata": {
            "tags": []
          }
        }
      ]
    },
    {
      "cell_type": "code",
      "metadata": {
        "id": "zr3JXbgP9HNC"
      },
      "source": [
        "x_label = ['pulse','Systolic BP','Diastolic BP','BMI','Left.ventricular.end.diastolic.diameter','brain.natriuretic.peptide','Cholesterol','Brain Natriuretic Peptide']\n",
        "plt.barh(x_label,rfr.feature_importances_)\n",
        "plt.title(\"Feature Importance for RFClassifier\")"
      ],
      "execution_count": null,
      "outputs": []
    },
    {
      "cell_type": "code",
      "metadata": {
        "id": "kbSu34e0WnYH"
      },
      "source": [
        "plt.style.use('classic')"
      ],
      "execution_count": null,
      "outputs": []
    },
    {
      "cell_type": "code",
      "metadata": {
        "id": "nAj63VZuQYyZ"
      },
      "source": [
        "num = {0:'pulse',1:'systolic.blood.pressure',3:'BMI',4:'left.ventricular.end.diastolic.diameter.LV',\n",
        "                        5:'brain.natriuretic.peptide',6:'cholesterol',7: 'creatinine.enzymatic.method'}\n",
        "number = [0,1,3,4,5,6,7]\n",
        "def plot_decision_boundaries(X, y,name, model_class, **model_params):\n",
        "    try:\n",
        "        X = np.array(X)\n",
        "        y = np.array(y).flatten()\n",
        "    except:\n",
        "        print(\"Coercing input data to NumPy arrays failed\")\n",
        "    # Reduces to the first two columns of data\n",
        "    for n in range(0,len(number)):\n",
        "        # print(x)\n",
        "        for nn in range(n+1,len(number)):\n",
        "            # XX = X[:,[n,nn]].copy()\n",
        "            reduced_data = X[:, [number[n],number[nn]]]\n",
        "            # Instantiate the model object\n",
        "            model = model_class(**model_params)\n",
        "            # Fits the model with the reduced data\n",
        "            model.fit(reduced_data, y)\n",
        "\n",
        "            # Step size of the mesh. Decrease to increase the quality of the VQ.\n",
        "            h = .02     # point in the mesh [x_min, m_max]x[y_min, y_max].    \n",
        "\n",
        "            # Plot the decision boundary. For that, we will assign a color to each\n",
        "            x_min, x_max = reduced_data[:, 0].min() - 1, reduced_data[:, 0].max() + 1\n",
        "            y_min, y_max = reduced_data[:, 1].min() - 1, reduced_data[:, 1].max() + 1\n",
        "            # Meshgrid creation\n",
        "            xx, yy = np.meshgrid(np.arange(x_min, x_max, h), np.arange(y_min, y_max, h))\n",
        "\n",
        "            # Obtain labels for each point in mesh using the model.\n",
        "            Z = model.predict(np.c_[xx.ravel(), yy.ravel()])    \n",
        "\n",
        "            x_min, x_max = reduced_data[:, 0].min() - 1, reduced_data[:, 0].max() + 1\n",
        "            y_min, y_max = reduced_data[:, 1].min() - 1, reduced_data[:, 1].max() + 1\n",
        "            xx, yy = np.meshgrid(np.arange(x_min, x_max, 0.1),\n",
        "                                np.arange(y_min, y_max, 0.1))\n",
        "\n",
        "            # Predictions to obtain the classification results\n",
        "            Z = model.predict(np.c_[xx.ravel(), yy.ravel()]).reshape(xx.shape)\n",
        "\n",
        "            # Plotting\n",
        "            plt.figure(figsize=(12,7))\n",
        "            plt.contourf(xx, yy, Z, alpha=0.25)\n",
        "            plt.scatter(reduced_data[:, 0], reduced_data[:, 1], c=y, alpha=0.8)\n",
        "            plt.xlabel(\"Feature-1\",fontsize=5)\n",
        "            plt.ylabel(\"Feature-2\",fontsize=5)\n",
        "            plt.xticks(fontsize=8)\n",
        "            plt.yticks(fontsize=8)\n",
        "            plt.title(f'{model_class}-{num[number[n]]} vs {num[number[nn]]}')\n",
        "            #plt.savefig(f'four_features/{num[number[n]]} vs {num[number[nn]]}___{name}__FOUR.png')\n",
        "            # return plt"
      ],
      "execution_count": null,
      "outputs": []
    },
    {
      "cell_type": "code",
      "metadata": {
        "id": "BZghsXgdQevc"
      },
      "source": [
        "plot_decision_boundaries(X_mr_r,Y_mr_r,'RandomForestClassifier',RandomForestClassifier,n_estimators=500,min_samples_leaf=13)"
      ],
      "execution_count": null,
      "outputs": []
    },
    {
      "cell_type": "code",
      "metadata": {
        "id": "hxKDMPT-YCX0"
      },
      "source": [
        "plot_decision_boundaries(X_r,Y_r,'RandomForestClassifier',RandomForestClassifier,n_estimators=500,min_samples_leaf=13)"
      ],
      "execution_count": null,
      "outputs": []
    },
    {
      "cell_type": "markdown",
      "metadata": {
        "id": "wOI2ISnq0xsZ"
      },
      "source": [
        "###Extract the data of reduced features as samples might increase.\r\n",
        "\r\n",
        "Now train again for HFmrEF and cutoff with LVEF 40"
      ]
    },
    {
      "cell_type": "code",
      "metadata": {
        "id": "yNIRlIbRhpEE"
      },
      "source": [
        "i = -1\r\n",
        "for each in df.columns:\r\n",
        "    i+=1\r\n",
        "    if each == 'LVEF':\r\n",
        "        i-=1\r\n",
        "        continue\r\n",
        "    print(i,each)"
      ],
      "execution_count": null,
      "outputs": []
    },
    {
      "cell_type": "code",
      "metadata": {
        "id": "4LAze5Rh0xIx"
      },
      "source": [
        "xgb = XGBClassifier(n_estimators = 1000,n_jobs=-1,).fit(X,Y)\r\n",
        "rf = RandomForestClassifier(n_estimators = 500,n_jobs=-1).fit(X,Y)\r\n",
        "lgb = LGBMClassifier().fit(X,Y)\r\n",
        "cat = CatBoostClassifier(iterations=1000,silent=True).fit(X,Y)"
      ],
      "execution_count": null,
      "outputs": []
    },
    {
      "cell_type": "code",
      "metadata": {
        "id": "3i9kADGkgWOB"
      },
      "source": [
        "plt.bar(range(len(xgb.feature_importances_)),xgb.feature_importances_)\r\n",
        "plt.title(\"Feature importances for RF on cutoff of 40\")\r\n",
        "#cross_validation(cat,X,Y)"
      ],
      "execution_count": null,
      "outputs": []
    },
    {
      "cell_type": "markdown",
      "metadata": {
        "id": "4jfYiyz3EJ41"
      },
      "source": [
        "Training the model on pure HFrEF and HFpEF to predict label for HFmrEF"
      ]
    },
    {
      "cell_type": "code",
      "metadata": {
        "id": "jpNpweEY7-Ne"
      },
      "source": [
        "df_red = pd.read_csv(\"/content/HF_Classification_Reduced_Features.csv\")\r\n",
        "\r\n",
        "#clipping the outliers\r\n",
        "df_red.drop(columns=['Unnamed: 0','Killip.grade'],inplace=True)\r\n",
        "df_red['brain.natriuretic.peptide'].clip(upper=3000,inplace=True)\r\n",
        "df_red['creatinine.enzymatic.method'].clip(upper=600,inplace=True)\r\n",
        "df_red['creatine.kinase'].clip(upper=1000,inplace=True)\r\n",
        "\r\n",
        "# Log transformation\r\n",
        "for each in df_red.columns:\r\n",
        "    if max(df_red[each]) > 10 and each != 'LVEF':\r\n",
        "        df_red[each] = np.log(df_red[each])"
      ],
      "execution_count": 120,
      "outputs": []
    },
    {
      "cell_type": "code",
      "metadata": {
        "colab": {
          "base_uri": "https://localhost:8080/"
        },
        "id": "jtjCuDHpExrV",
        "outputId": "7665519f-ca2c-492f-a441-9e157b4555fa"
      },
      "source": [
        "df_red.columns\r\n",
        "df_red.shape"
      ],
      "execution_count": null,
      "outputs": [
        {
          "output_type": "execute_result",
          "data": {
            "text/plain": [
              "(495, 10)"
            ]
          },
          "metadata": {
            "tags": []
          },
          "execution_count": 9
        }
      ]
    },
    {
      "cell_type": "code",
      "metadata": {
        "id": "70fi-cpc7EQG"
      },
      "source": [
        "df_red1 = df_red.copy()\r\n",
        "df_red1['LVEF'].clip(40,50,inplace = True)\r\n",
        "df_red1['LVEF'].replace(to_replace=40,value=int(0),inplace=True)\r\n",
        "df_red1['LVEF'].replace(to_replace=50,value=int(1),inplace=True)\r\n",
        "# index of points with LVEF 41-49\r\n",
        "mref_index = df_red1.loc[df_red1['LVEF'] >1].index\r\n",
        "#selecting the rows having EF other than 0 or 1\r\n",
        "HFmrEF_data = df_red1.loc[df_red1.LVEF >1]\r\n",
        "df_red1 = df_red1.drop(index=mref_index)  \r\n",
        "Y_pr = df_red1['LVEF'].to_numpy().astype(int)\r\n",
        "X_pr = pd.DataFrame(df_red1.drop(columns = ['LVEF'])).to_numpy()"
      ],
      "execution_count": 121,
      "outputs": []
    },
    {
      "cell_type": "code",
      "metadata": {
        "colab": {
          "base_uri": "https://localhost:8080/"
        },
        "id": "Oo2HKITTFFYQ",
        "outputId": "e27bab87-03fa-4a88-f262-01a4195c74d5"
      },
      "source": [
        "len(X_pr)"
      ],
      "execution_count": 50,
      "outputs": [
        {
          "output_type": "execute_result",
          "data": {
            "text/plain": [
              "384"
            ]
          },
          "metadata": {
            "tags": []
          },
          "execution_count": 50
        }
      ]
    },
    {
      "cell_type": "code",
      "metadata": {
        "id": "-9s12kcXEuQJ",
        "colab": {
          "base_uri": "https://localhost:8080/"
        },
        "outputId": "dd7df15d-cde4-41b2-e712-0b2d14ac1255"
      },
      "source": [
        "# Augmenting the synthetic samples to tackle class imbalance\r\n",
        "from imblearn.over_sampling import ADASYN\r\n",
        "ada = ADASYN()\r\n",
        "X_pr_aug, Y_pr_aug = ada.fit_resample(X_pr,Y_pr)"
      ],
      "execution_count": 122,
      "outputs": [
        {
          "output_type": "stream",
          "text": [
            "/usr/local/lib/python3.6/dist-packages/sklearn/utils/deprecation.py:87: FutureWarning: Function safe_indexing is deprecated; safe_indexing is deprecated in version 0.22 and will be removed in version 0.24.\n",
            "  warnings.warn(msg, category=FutureWarning)\n"
          ],
          "name": "stderr"
        }
      ]
    },
    {
      "cell_type": "code",
      "metadata": {
        "id": "3RG_0RklKKq2",
        "colab": {
          "base_uri": "https://localhost:8080/"
        },
        "outputId": "3c16384b-ebe6-4e71-a41a-8161dcb2c58f"
      },
      "source": [
        "lgb = LGBMClassifier(n_estimators=1000)\r\n",
        "lgb.fit(X_pr_aug,Y_pr_aug)"
      ],
      "execution_count": 123,
      "outputs": [
        {
          "output_type": "execute_result",
          "data": {
            "text/plain": [
              "LGBMClassifier(boosting_type='gbdt', class_weight=None, colsample_bytree=1.0,\n",
              "               importance_type='split', learning_rate=0.1, max_depth=-1,\n",
              "               min_child_samples=20, min_child_weight=0.001, min_split_gain=0.0,\n",
              "               n_estimators=1000, n_jobs=-1, num_leaves=31, objective=None,\n",
              "               random_state=None, reg_alpha=0.0, reg_lambda=0.0, silent=True,\n",
              "               subsample=1.0, subsample_for_bin=200000, subsample_freq=0)"
            ]
          },
          "metadata": {
            "tags": []
          },
          "execution_count": 123
        }
      ]
    },
    {
      "cell_type": "code",
      "metadata": {
        "id": "y0e1pvYZMeWS"
      },
      "source": [
        "#X_pr_aug = scaling_X(X_pr_aug,X_pr_aug)"
      ],
      "execution_count": 65,
      "outputs": []
    },
    {
      "cell_type": "code",
      "metadata": {
        "colab": {
          "base_uri": "https://localhost:8080/"
        },
        "id": "_z5yAGiyLv8V",
        "outputId": "29484591-b6dc-47c0-ecd0-e4a258ea5c22"
      },
      "source": [
        "cross_validation(lgb,X_pr_aug,Y_pr_aug)"
      ],
      "execution_count": 124,
      "outputs": [
        {
          "output_type": "stream",
          "text": [
            "Average CV Accuracy Test \t91.02\n",
            "Average CV ROC-AUC Score \t95.24\n",
            "Average CV Recall Score \t86.87\n",
            "Average CV Precision Score \t94.64\n",
            "-----------------------------\n",
            "Best Accuracy CV : \t\t94.44\n",
            "Best ROC CV : \t\t\t98.49\n",
            "Best Recall CV : \t\t96.30\n",
            "Best Precision CV : \t\t100.00\n"
          ],
          "name": "stdout"
        }
      ]
    },
    {
      "cell_type": "code",
      "metadata": {
        "id": "-bpHlfxMHwXe",
        "colab": {
          "base_uri": "https://localhost:8080/"
        },
        "outputId": "a3d19556-1250-4d71-c03b-d258783e054a"
      },
      "source": [
        "rfmr = RandomForestClassifier(n_estimators=1000, n_jobs=-1)\r\n",
        "rfmr.fit(X_pr_aug,Y_pr_aug)\r\n",
        "cross_validation(rfmr,X_pr_aug,Y_pr_aug)"
      ],
      "execution_count": 125,
      "outputs": [
        {
          "output_type": "stream",
          "text": [
            "Average CV Accuracy Test \t89.74\n",
            "Average CV ROC-AUC Score \t95.46\n",
            "Average CV Recall Score \t84.27\n",
            "Average CV Precision Score \t94.32\n",
            "-----------------------------\n",
            "Best Accuracy CV : \t\t96.30\n",
            "Best ROC CV : \t\t\t99.86\n",
            "Best Recall CV : \t\t96.30\n",
            "Best Precision CV : \t\t100.00\n"
          ],
          "name": "stdout"
        }
      ]
    },
    {
      "cell_type": "code",
      "metadata": {
        "id": "N8yuI0C3AnIy"
      },
      "source": [
        "# Depricated. Replaced with augmented trained set from ADASYN\r\n",
        "rfmr = RandomForestClassifier(n_estimators=500,n_jobs=-1)\r\n",
        "rfmr.fit(X_pr,Y_pr)\r\n",
        "cross_validation(rfmr,X_pr,Y_pr)"
      ],
      "execution_count": null,
      "outputs": []
    },
    {
      "cell_type": "code",
      "metadata": {
        "id": "Gf_4cl2YEZtM"
      },
      "source": [
        "plt.bar(range(len(rfmr.feature_importances_)),rfmr.feature_importances_)\r\n",
        "plt.title(\"Feature importances for RF on cutoff of 40\")"
      ],
      "execution_count": null,
      "outputs": []
    },
    {
      "cell_type": "code",
      "metadata": {
        "id": "M0Vpd_KP7T4I"
      },
      "source": [
        "Y_mr = HFmrEF_data.LVEF.to_numpy().astype(int)\r\n",
        "X_mr = pd.DataFrame(HFmrEF_data.drop(columns=['LVEF'])).to_numpy()"
      ],
      "execution_count": 128,
      "outputs": []
    },
    {
      "cell_type": "code",
      "metadata": {
        "id": "PdJCppaMNKOU"
      },
      "source": [
        "X_mr = scaling_X(X_pr_aug,X_mr)"
      ],
      "execution_count": 68,
      "outputs": []
    },
    {
      "cell_type": "code",
      "metadata": {
        "id": "lNutI9TEJt3s"
      },
      "source": [
        "y_hfmref_rf = rfmr.predict(X_mr)\r\n",
        "y_hfmref_lgb = lgb.predict(X_mr)"
      ],
      "execution_count": 134,
      "outputs": []
    },
    {
      "cell_type": "code",
      "metadata": {
        "id": "R_MiXdio71fM"
      },
      "source": [
        "# df_mr = df_red.copy()\n",
        "# df_mr['LVEF'].clip(40,50,inplace = True)\n",
        "# df_mr['LVEF'].replace(to_replace=40,value=int(0),inplace=True)\n",
        "# df_mr['LVEF'].replace(to_replace=50,value=int(1),inplace=True)\n",
        "# #y_hfmref : Predicted labels from HFrEF and HFpEF classifier\n",
        "# for index,label in zip(mref_index,y_hfmref_rf):\n",
        "#     df_mr.loc[index,'LVEF'] = label\n"
      ],
      "execution_count": 109,
      "outputs": []
    },
    {
      "cell_type": "code",
      "metadata": {
        "id": "czrOtotg71fR"
      },
      "source": [
        "# Dataset with HFmrEF clasified into p and r\n",
        "# Y_mrp = df_mr.LVEF.to_numpy().astype(int)\n",
        "# X_mrp = pd.DataFrame(df_mr.drop(columns=['LVEF'])).to_numpy()\n",
        "# X_mrp = scaling_X(X_mrp,X_mrp)\n",
        "\n",
        "X_mrp = np.concatenate((X_pr_aug,X_mr))\n",
        "Y_mrp_lgb = np.concatenate((Y_pr_aug,y_hfmref_lgb))\n",
        "Y_mrp_rf = np.concatenate((Y_pr_aug,y_hfmref_rf))\n",
        "X_mrp = scaling_X(X_mrp,X_mrp)"
      ],
      "execution_count": 137,
      "outputs": []
    },
    {
      "cell_type": "code",
      "metadata": {
        "colab": {
          "base_uri": "https://localhost:8080/"
        },
        "id": "b9dmvayhS-ua",
        "outputId": "0eb2e03f-8b54-44ce-df5d-6c2abf1abe6c"
      },
      "source": [
        "Y_mrp.shape"
      ],
      "execution_count": 132,
      "outputs": [
        {
          "output_type": "execute_result",
          "data": {
            "text/plain": [
              "(655,)"
            ]
          },
          "metadata": {
            "tags": []
          },
          "execution_count": 132
        }
      ]
    },
    {
      "cell_type": "markdown",
      "metadata": {
        "id": "e-hOYRoGM3S_"
      },
      "source": [
        "RF and LGBM Model with HFmrEF labelled as P and R based on selected 9 features."
      ]
    },
    {
      "cell_type": "markdown",
      "metadata": {
        "id": "EV_lcCZPPGgS"
      },
      "source": [
        "Models Trained on HFmrEF labels obtained from LBGM model\r\n",
        "\r\n"
      ]
    },
    {
      "cell_type": "code",
      "metadata": {
        "colab": {
          "base_uri": "https://localhost:8080/"
        },
        "id": "vCu_oGrbTJUM",
        "outputId": "79df1b50-ccc1-4d7a-f50b-9862c5dde92f"
      },
      "source": [
        "# Final set = Aug_set +labelled\r\n",
        "cross_validation(RandomForestClassifier(n_estimators=500,n_jobs=-1)\r\n",
        "                ,X_mrp,Y_mrp_lgb)"
      ],
      "execution_count": 142,
      "outputs": [
        {
          "output_type": "stream",
          "text": [
            "Average CV Accuracy Test \t89.93\n",
            "Average CV ROC-AUC Score \t95.52\n",
            "Average CV Recall Score \t83.67\n",
            "Average CV Precision Score \t94.70\n",
            "-----------------------------\n",
            "Best Accuracy CV : \t\t96.92\n",
            "Best ROC CV : \t\t\t98.67\n",
            "Best Recall CV : \t\t93.55\n",
            "Best Precision CV : \t\t100.00\n"
          ],
          "name": "stdout"
        }
      ]
    },
    {
      "cell_type": "code",
      "metadata": {
        "colab": {
          "base_uri": "https://localhost:8080/"
        },
        "id": "7G4VmJKQU9u3",
        "outputId": "db7611fc-2839-4a66-c3f8-706bf766afc3"
      },
      "source": [
        "# Final set = Aug_set +labelled\r\n",
        "cross_validation(LGBMClassifier(n_estimators=1000),X_mrp,Y_mrp_lgb)"
      ],
      "execution_count": 143,
      "outputs": [
        {
          "output_type": "stream",
          "text": [
            "Average CV Accuracy Test \t92.54\n",
            "Average CV ROC-AUC Score \t96.14\n",
            "Average CV Recall Score \t87.51\n",
            "Average CV Precision Score \t96.59\n",
            "-----------------------------\n",
            "Best Accuracy CV : \t\t98.46\n",
            "Best ROC CV : \t\t\t99.53\n",
            "Best Recall CV : \t\t96.77\n",
            "Best Precision CV : \t\t100.00\n"
          ],
          "name": "stdout"
        }
      ]
    },
    {
      "cell_type": "code",
      "metadata": {
        "colab": {
          "base_uri": "https://localhost:8080/"
        },
        "id": "-78fOCCyOcU7",
        "outputId": "72d06d27-18ef-4c3b-a6bb-2e5ddd328bd0"
      },
      "source": [
        "cross_validation(RandomForestClassifier(n_estimators=500,n_jobs=-1)\r\n",
        "                ,X_mrp,Y_mrp)"
      ],
      "execution_count": 101,
      "outputs": [
        {
          "output_type": "stream",
          "text": [
            "Average CV Accuracy Test \t87.69\n",
            "Average CV ROC-AUC Score \t94.14\n",
            "Average CV Recall Score \t90.12\n",
            "Average CV Precision Score \t90.53\n",
            "-----------------------------\n",
            "Best Accuracy CV : \t\t92.00\n",
            "Best ROC CV : \t\t\t97.85\n",
            "Best Recall CV : \t\t96.77\n",
            "Best Precision CV : \t\t96.67\n"
          ],
          "name": "stdout"
        }
      ]
    },
    {
      "cell_type": "code",
      "metadata": {
        "colab": {
          "base_uri": "https://localhost:8080/"
        },
        "id": "L-0ABmzlKrZI",
        "outputId": "3e76e30a-7225-42fa-a64d-af9fd170c84b"
      },
      "source": [
        "cross_validation(LGBMClassifier(n_estimators=1000),X_mrp,Y_mrp)"
      ],
      "execution_count": 102,
      "outputs": [
        {
          "output_type": "stream",
          "text": [
            "Average CV Accuracy Test \t86.27\n",
            "Average CV ROC-AUC Score \t94.20\n",
            "Average CV Recall Score \t89.48\n",
            "Average CV Precision Score \t89.14\n",
            "-----------------------------\n",
            "Best Accuracy CV : \t\t92.00\n",
            "Best ROC CV : \t\t\t97.49\n",
            "Best Recall CV : \t\t96.77\n",
            "Best Precision CV : \t\t96.67\n"
          ],
          "name": "stdout"
        }
      ]
    },
    {
      "cell_type": "markdown",
      "metadata": {
        "id": "EVmoEH5_PNvJ"
      },
      "source": [
        "Models Trained on HFmrEF labels obtained from RF model"
      ]
    },
    {
      "cell_type": "code",
      "metadata": {
        "colab": {
          "base_uri": "https://localhost:8080/"
        },
        "id": "Eigy0nFIT9ni",
        "outputId": "6746f86f-0183-40a5-f273-f43dfb882c12"
      },
      "source": [
        "# Final set = Aug_set +labelled\r\n",
        "cross_validation(RandomForestClassifier(n_estimators=100,n_jobs=-1)\r\n",
        "                ,X_mrp,Y_mrp_rf)"
      ],
      "execution_count": 141,
      "outputs": [
        {
          "output_type": "stream",
          "text": [
            "Average CV Accuracy Test \t91.32\n",
            "Average CV ROC-AUC Score \t95.71\n",
            "Average CV Recall Score \t86.09\n",
            "Average CV Precision Score \t95.28\n",
            "-----------------------------\n",
            "Best Accuracy CV : \t\t98.46\n",
            "Best ROC CV : \t\t\t99.81\n",
            "Best Recall CV : \t\t96.77\n",
            "Best Precision CV : \t\t100.00\n"
          ],
          "name": "stdout"
        }
      ]
    },
    {
      "cell_type": "code",
      "metadata": {
        "colab": {
          "base_uri": "https://localhost:8080/"
        },
        "id": "Kiw2Uls7PMBI",
        "outputId": "2349aeb1-0427-4bb0-d0b4-4099ae4ffb60"
      },
      "source": [
        "cross_validation(RandomForestClassifier(n_estimators=100,n_jobs=-1)\r\n",
        "                ,X_mrp,Y_mrp)"
      ],
      "execution_count": 111,
      "outputs": [
        {
          "output_type": "stream",
          "text": [
            "Average CV Accuracy Test \t88.31\n",
            "Average CV ROC-AUC Score \t93.94\n",
            "Average CV Recall Score \t89.31\n",
            "Average CV Precision Score \t91.82\n",
            "-----------------------------\n",
            "Best Accuracy CV : \t\t95.92\n",
            "Best ROC CV : \t\t\t97.40\n",
            "Best Recall CV : \t\t96.77\n",
            "Best Precision CV : \t\t96.77\n"
          ],
          "name": "stdout"
        }
      ]
    },
    {
      "cell_type": "code",
      "metadata": {
        "colab": {
          "base_uri": "https://localhost:8080/"
        },
        "id": "iTmGl5Y-Pklg",
        "outputId": "b9046692-25de-4760-98e4-5dfc88e4e49e"
      },
      "source": [
        "cross_validation(LGBMClassifier(n_estimators=100),X_mrp,Y_mrp)"
      ],
      "execution_count": 113,
      "outputs": [
        {
          "output_type": "stream",
          "text": [
            "Average CV Accuracy Test \t86.10\n",
            "Average CV ROC-AUC Score \t93.27\n",
            "Average CV Recall Score \t88.35\n",
            "Average CV Precision Score \t89.54\n",
            "-----------------------------\n",
            "Best Accuracy CV : \t\t93.88\n",
            "Best ROC CV : \t\t\t96.77\n",
            "Best Recall CV : \t\t96.77\n",
            "Best Precision CV : \t\t100.00\n"
          ],
          "name": "stdout"
        }
      ]
    },
    {
      "cell_type": "markdown",
      "metadata": {
        "id": "9YJBG2s4VTqR"
      },
      "source": [
        "##Adding 3 Medicinal features : Diuretics, Vasodilators and Inotropes"
      ]
    },
    {
      "cell_type": "code",
      "metadata": {
        "id": "tI-YZdKiVgtd"
      },
      "source": [
        "df = pd.read_csv(\"/content/HF_Classification_reduced_with_Medicinal_features.csv\")\r\n",
        "df.drop(columns= [\"Unnamed: 0\",'Killip.grade'],inplace = True)"
      ],
      "execution_count": null,
      "outputs": []
    },
    {
      "cell_type": "code",
      "metadata": {
        "id": "blCGPz_9YE5-"
      },
      "source": [
        "dfef = df.copy()\r\n",
        "for each in dfef.columns:\r\n",
        "    if max(dfef[each]) > 10 and each != 'LVEF':\r\n",
        "        dfef[each].clip(lower=0.0000001,inplace = True)\r\n",
        "        dfef[each] = np.log(dfef[each])\r\n",
        "dfef['LVEF'].clip(40,41,inplace = True)\r\n",
        "dfef['LVEF'].replace(to_replace=40,value=int(0),inplace=True)\r\n",
        "dfef['LVEF'].replace(to_replace=41,value=int(1),inplace=True)\r\n",
        "Y_med = dfef['LVEF'].to_numpy().astype(int)\r\n",
        "X_med = pd.DataFrame(dfef.drop(columns = ['LVEF'])).to_numpy()\r\n",
        "X_med = scaling_X(X_med)"
      ],
      "execution_count": null,
      "outputs": []
    },
    {
      "cell_type": "code",
      "metadata": {
        "id": "CkEwsO5oZSKK"
      },
      "source": [
        "rf = RandomForestClassifier(n_estimators=1000,n_jobs=-1)\r\n",
        "rf.fit(X_med,Y_med)\r\n",
        "#cross_validation(rf,X_med,Y_med)"
      ],
      "execution_count": null,
      "outputs": []
    },
    {
      "cell_type": "code",
      "metadata": {
        "colab": {
          "base_uri": "https://localhost:8080/",
          "height": 299
        },
        "id": "hNKlsCFiZpn6",
        "outputId": "c089025e-da30-453b-ed4f-bc70235f6dcb"
      },
      "source": [
        "plt.bar(range(len(rf.feature_importances_)),rf.feature_importances_)\r\n",
        "plt.title(\"Feature importances for RF on cutoff of 40\")"
      ],
      "execution_count": null,
      "outputs": [
        {
          "output_type": "execute_result",
          "data": {
            "text/plain": [
              "Text(0.5, 1.0, 'Feature importances for RF on cutoff of 40')"
            ]
          },
          "metadata": {
            "tags": []
          },
          "execution_count": 6
        },
        {
          "output_type": "display_data",
          "data": {
            "image/png": "[encoded data removed]",
            "text/plain": [
              "<Figure size 432x288 with 1 Axes>"
            ]
          },
          "metadata": {
            "tags": [],
            "needs_background": "light"
          }
        }
      ]
    },
    {
      "cell_type": "code",
      "metadata": {
        "id": "krKhqutza-37"
      },
      "source": [
        "df_red1 = df.copy()\r\n",
        "for each in df_red1.columns:\r\n",
        "    if max(df_red1[each]) > 10 and each != 'LVEF':\r\n",
        "        df_red1[each].clip(lower=0.0000001,inplace = True)\r\n",
        "        df_red1[each] = np.log(df_red1[each])\r\n",
        "df_red1['LVEF'].clip(40,50,inplace = True)\r\n",
        "df_red1['LVEF'].replace(to_replace=40,value=int(0),inplace=True)\r\n",
        "df_red1['LVEF'].replace(to_replace=50,value=int(1),inplace=True)\r\n",
        "# index of points with LVEF 41-49\r\n",
        "mref_index = df_red1.loc[df_red1['LVEF'] >1].index\r\n",
        "#selecting the rows having EF other than 0 or 1\r\n",
        "HFmrEF_data = df_red1.loc[df_red1.LVEF >1]\r\n",
        "df_red1 = df_red1.drop(index=mref_index)  \r\n",
        "Y_pr = df_red1['LVEF'].to_numpy().astype(int)\r\n",
        "X_pr = pd.DataFrame(df_red1.drop(columns = ['LVEF'])).to_numpy()"
      ],
      "execution_count": null,
      "outputs": []
    },
    {
      "cell_type": "code",
      "metadata": {
        "id": "KtfKcximk_nR"
      },
      "source": [
        "cat = CatBoostClassifier(iterations = 50000,border_count = 254).fit(X_pr,Y_pr)\r\n",
        "#cross_validation(cat,X_pr,Y_pr)"
      ],
      "execution_count": null,
      "outputs": []
    }
  ]
}