{
  "nbformat": 4,
  "nbformat_minor": 0,
  "metadata": {
    "colab": {
      "name": "ML_Lab2.ipynb",
      "provenance": [],
      "authorship_tag": "ABX9TyMzD9nuYphwcjjYeQb54TYW",
      "include_colab_link": true
    },
    "kernelspec": {
      "name": "python3",
      "display_name": "Python 3"
    }
  },
  "cells": [
    {
      "cell_type": "markdown",
      "metadata": {
        "id": "view-in-github",
        "colab_type": "text"
      },
      "source": [
        "<a href=\"https://colab.research.google.com/github/JARACH-209/AI-ML_Lab/blob/master/ML_Lab2.ipynb\" target=\"_parent\"><img src=\"https://colab.research.google.com/assets/colab-badge.svg\" alt=\"Open In Colab\"/></a>"
      ]
    },
    {
      "cell_type": "markdown",
      "metadata": {
        "id": "jni3ojDdRfuJ",
        "colab_type": "text"
      },
      "source": [
        "# **ML Lab 2**\n",
        "## **Achal Dixit | 1801007**\n"
      ]
    },
    {
      "cell_type": "markdown",
      "metadata": {
        "id": "F9ZaVup2R6SR",
        "colab_type": "text"
      },
      "source": [
        "## **Part 1**"
      ]
    },
    {
      "cell_type": "code",
      "metadata": {
        "id": "eZ83yz_T-P85",
        "colab_type": "code",
        "colab": {
          "base_uri": "https://localhost:8080/",
          "height": 383
        },
        "outputId": "1673945a-5473-4ee9-884d-d20e1a3ff2ba"
      },
      "source": [
        "import pandas as pd\n",
        "import numpy as np\n",
        "\n",
        "df = pd.read_csv(\"/content/wine.csv\")\n",
        "\n",
        "df.head(10)"
      ],
      "execution_count": 2,
      "outputs": [
        {
          "output_type": "execute_result",
          "data": {
            "text/html": [
              "<div>\n",
              "<style scoped>\n",
              "    .dataframe tbody tr th:only-of-type {\n",
              "        vertical-align: middle;\n",
              "    }\n",
              "\n",
              "    .dataframe tbody tr th {\n",
              "        vertical-align: top;\n",
              "    }\n",
              "\n",
              "    .dataframe thead th {\n",
              "        text-align: right;\n",
              "    }\n",
              "</style>\n",
              "<table border=\"1\" class=\"dataframe\">\n",
              "  <thead>\n",
              "    <tr style=\"text-align: right;\">\n",
              "      <th></th>\n",
              "      <th>Wine</th>\n",
              "      <th>Alcohol</th>\n",
              "      <th>Malic.acid</th>\n",
              "      <th>Ash</th>\n",
              "      <th>Acl</th>\n",
              "      <th>Mg</th>\n",
              "      <th>Phenols</th>\n",
              "      <th>Flavanoids</th>\n",
              "      <th>Nonflavanoid.phenols</th>\n",
              "      <th>Proanth</th>\n",
              "      <th>Color.int</th>\n",
              "      <th>Hue</th>\n",
              "      <th>OD</th>\n",
              "      <th>Proline</th>\n",
              "    </tr>\n",
              "  </thead>\n",
              "  <tbody>\n",
              "    <tr>\n",
              "      <th>0</th>\n",
              "      <td>1</td>\n",
              "      <td>14.23</td>\n",
              "      <td>1.71</td>\n",
              "      <td>2.43</td>\n",
              "      <td>15.6</td>\n",
              "      <td>127</td>\n",
              "      <td>2.80</td>\n",
              "      <td>3.06</td>\n",
              "      <td>0.28</td>\n",
              "      <td>2.29</td>\n",
              "      <td>5.64</td>\n",
              "      <td>1.04</td>\n",
              "      <td>3.92</td>\n",
              "      <td>1065</td>\n",
              "    </tr>\n",
              "    <tr>\n",
              "      <th>1</th>\n",
              "      <td>1</td>\n",
              "      <td>13.20</td>\n",
              "      <td>1.78</td>\n",
              "      <td>2.14</td>\n",
              "      <td>11.2</td>\n",
              "      <td>100</td>\n",
              "      <td>2.65</td>\n",
              "      <td>2.76</td>\n",
              "      <td>0.26</td>\n",
              "      <td>1.28</td>\n",
              "      <td>4.38</td>\n",
              "      <td>1.05</td>\n",
              "      <td>3.40</td>\n",
              "      <td>1050</td>\n",
              "    </tr>\n",
              "    <tr>\n",
              "      <th>2</th>\n",
              "      <td>1</td>\n",
              "      <td>13.16</td>\n",
              "      <td>2.36</td>\n",
              "      <td>2.67</td>\n",
              "      <td>18.6</td>\n",
              "      <td>101</td>\n",
              "      <td>2.80</td>\n",
              "      <td>3.24</td>\n",
              "      <td>0.30</td>\n",
              "      <td>2.81</td>\n",
              "      <td>5.68</td>\n",
              "      <td>1.03</td>\n",
              "      <td>3.17</td>\n",
              "      <td>1185</td>\n",
              "    </tr>\n",
              "    <tr>\n",
              "      <th>3</th>\n",
              "      <td>1</td>\n",
              "      <td>14.37</td>\n",
              "      <td>1.95</td>\n",
              "      <td>2.50</td>\n",
              "      <td>16.8</td>\n",
              "      <td>113</td>\n",
              "      <td>3.85</td>\n",
              "      <td>3.49</td>\n",
              "      <td>0.24</td>\n",
              "      <td>2.18</td>\n",
              "      <td>7.80</td>\n",
              "      <td>0.86</td>\n",
              "      <td>3.45</td>\n",
              "      <td>1480</td>\n",
              "    </tr>\n",
              "    <tr>\n",
              "      <th>4</th>\n",
              "      <td>1</td>\n",
              "      <td>13.24</td>\n",
              "      <td>2.59</td>\n",
              "      <td>2.87</td>\n",
              "      <td>21.0</td>\n",
              "      <td>118</td>\n",
              "      <td>2.80</td>\n",
              "      <td>2.69</td>\n",
              "      <td>0.39</td>\n",
              "      <td>1.82</td>\n",
              "      <td>4.32</td>\n",
              "      <td>1.04</td>\n",
              "      <td>2.93</td>\n",
              "      <td>735</td>\n",
              "    </tr>\n",
              "    <tr>\n",
              "      <th>5</th>\n",
              "      <td>1</td>\n",
              "      <td>14.20</td>\n",
              "      <td>1.76</td>\n",
              "      <td>2.45</td>\n",
              "      <td>15.2</td>\n",
              "      <td>112</td>\n",
              "      <td>3.27</td>\n",
              "      <td>3.39</td>\n",
              "      <td>0.34</td>\n",
              "      <td>1.97</td>\n",
              "      <td>6.75</td>\n",
              "      <td>1.05</td>\n",
              "      <td>2.85</td>\n",
              "      <td>1450</td>\n",
              "    </tr>\n",
              "    <tr>\n",
              "      <th>6</th>\n",
              "      <td>1</td>\n",
              "      <td>14.39</td>\n",
              "      <td>1.87</td>\n",
              "      <td>2.45</td>\n",
              "      <td>14.6</td>\n",
              "      <td>96</td>\n",
              "      <td>2.50</td>\n",
              "      <td>2.52</td>\n",
              "      <td>0.30</td>\n",
              "      <td>1.98</td>\n",
              "      <td>5.25</td>\n",
              "      <td>1.02</td>\n",
              "      <td>3.58</td>\n",
              "      <td>1290</td>\n",
              "    </tr>\n",
              "    <tr>\n",
              "      <th>7</th>\n",
              "      <td>1</td>\n",
              "      <td>14.06</td>\n",
              "      <td>2.15</td>\n",
              "      <td>2.61</td>\n",
              "      <td>17.6</td>\n",
              "      <td>121</td>\n",
              "      <td>2.60</td>\n",
              "      <td>2.51</td>\n",
              "      <td>0.31</td>\n",
              "      <td>1.25</td>\n",
              "      <td>5.05</td>\n",
              "      <td>1.06</td>\n",
              "      <td>3.58</td>\n",
              "      <td>1295</td>\n",
              "    </tr>\n",
              "    <tr>\n",
              "      <th>8</th>\n",
              "      <td>1</td>\n",
              "      <td>14.83</td>\n",
              "      <td>1.64</td>\n",
              "      <td>2.17</td>\n",
              "      <td>14.0</td>\n",
              "      <td>97</td>\n",
              "      <td>2.80</td>\n",
              "      <td>2.98</td>\n",
              "      <td>0.29</td>\n",
              "      <td>1.98</td>\n",
              "      <td>5.20</td>\n",
              "      <td>1.08</td>\n",
              "      <td>2.85</td>\n",
              "      <td>1045</td>\n",
              "    </tr>\n",
              "    <tr>\n",
              "      <th>9</th>\n",
              "      <td>1</td>\n",
              "      <td>13.86</td>\n",
              "      <td>1.35</td>\n",
              "      <td>2.27</td>\n",
              "      <td>16.0</td>\n",
              "      <td>98</td>\n",
              "      <td>2.98</td>\n",
              "      <td>3.15</td>\n",
              "      <td>0.22</td>\n",
              "      <td>1.85</td>\n",
              "      <td>7.22</td>\n",
              "      <td>1.01</td>\n",
              "      <td>3.55</td>\n",
              "      <td>1045</td>\n",
              "    </tr>\n",
              "  </tbody>\n",
              "</table>\n",
              "</div>"
            ],
            "text/plain": [
              "   Wine  Alcohol  Malic.acid   Ash  ...  Color.int   Hue    OD  Proline\n",
              "0     1    14.23        1.71  2.43  ...       5.64  1.04  3.92     1065\n",
              "1     1    13.20        1.78  2.14  ...       4.38  1.05  3.40     1050\n",
              "2     1    13.16        2.36  2.67  ...       5.68  1.03  3.17     1185\n",
              "3     1    14.37        1.95  2.50  ...       7.80  0.86  3.45     1480\n",
              "4     1    13.24        2.59  2.87  ...       4.32  1.04  2.93      735\n",
              "5     1    14.20        1.76  2.45  ...       6.75  1.05  2.85     1450\n",
              "6     1    14.39        1.87  2.45  ...       5.25  1.02  3.58     1290\n",
              "7     1    14.06        2.15  2.61  ...       5.05  1.06  3.58     1295\n",
              "8     1    14.83        1.64  2.17  ...       5.20  1.08  2.85     1045\n",
              "9     1    13.86        1.35  2.27  ...       7.22  1.01  3.55     1045\n",
              "\n",
              "[10 rows x 14 columns]"
            ]
          },
          "metadata": {
            "tags": []
          },
          "execution_count": 2
        }
      ]
    },
    {
      "cell_type": "code",
      "metadata": {
        "id": "E1Bpu1Z_-yl0",
        "colab_type": "code",
        "colab": {
          "base_uri": "https://localhost:8080/",
          "height": 146
        },
        "outputId": "b1e6b9cb-2752-4d18-812d-2054026c4783"
      },
      "source": [
        "scores = np.array(df)\n",
        "np.set_printoptions(suppress=\"True\")\n",
        "print(scores)"
      ],
      "execution_count": 18,
      "outputs": [
        {
          "output_type": "stream",
          "text": [
            "[[   1.     14.23    1.71 ...    1.04    3.92 1065.  ]\n",
            " [   1.     13.2     1.78 ...    1.05    3.4  1050.  ]\n",
            " [   1.     13.16    2.36 ...    1.03    3.17 1185.  ]\n",
            " ...\n",
            " [   3.     13.27    4.28 ...    0.59    1.56  835.  ]\n",
            " [   3.     13.17    2.59 ...    0.6     1.62  840.  ]\n",
            " [   3.     14.13    4.1  ...    0.61    1.6   560.  ]]\n"
          ],
          "name": "stdout"
        }
      ]
    },
    {
      "cell_type": "code",
      "metadata": {
        "id": "bkADOF0qG0Ha",
        "colab_type": "code",
        "colab": {
          "base_uri": "https://localhost:8080/",
          "height": 72
        },
        "outputId": "eedb7e1c-5ad1-4b12-87d1-71a19a4137a7"
      },
      "source": [
        "mean = np.mean(scores)     #overall mean\n",
        "med = np.median(scores)\n",
        "from scipy.stats import mode\n",
        "print(\"Mean is \",mean)\n",
        "print(\"Median is \",med)"
      ],
      "execution_count": 24,
      "outputs": [
        {
          "output_type": "stream",
          "text": [
            "Mean is  64.33398715850723\n",
            "Median is  2.6\n",
            "Mode is  [2.]\n"
          ],
          "name": "stdout"
        }
      ]
    },
    {
      "cell_type": "code",
      "metadata": {
        "id": "T1aMrF_LIuAv",
        "colab_type": "code",
        "colab": {
          "base_uri": "https://localhost:8080/",
          "height": 1000
        },
        "outputId": "18e62a4e-bc85-4a5a-e238-745f6b7a71cf"
      },
      "source": [
        "def modefun(scores):\n",
        "    mode_info = mode(scores,axis=None)\n",
        "    print(\"Mode is \",mode_info[0])\n",
        "    mode_info = mode(scores,axis=1)\n",
        "    print(\"Row wise mode\",mode_info[0])\n",
        "    mode_infor = mode(scores,axis=0)\n",
        "    print(\"Column wise mode \\n\",mode_infor[0])\n",
        "modefun(scores)"
      ],
      "execution_count": 33,
      "outputs": [
        {
          "output_type": "stream",
          "text": [
            "Mode is  [2.]\n",
            "Row wise mode [[0.28]\n",
            " [0.26]\n",
            " [0.3 ]\n",
            " [0.24]\n",
            " [0.39]\n",
            " [0.34]\n",
            " [0.3 ]\n",
            " [0.31]\n",
            " [0.29]\n",
            " [0.22]\n",
            " [0.22]\n",
            " [0.26]\n",
            " [0.29]\n",
            " [0.43]\n",
            " [0.29]\n",
            " [0.3 ]\n",
            " [0.33]\n",
            " [0.4 ]\n",
            " [0.32]\n",
            " [0.17]\n",
            " [0.24]\n",
            " [2.41]\n",
            " [0.27]\n",
            " [0.26]\n",
            " [2.61]\n",
            " [0.47]\n",
            " [0.34]\n",
            " [0.27]\n",
            " [0.37]\n",
            " [0.26]\n",
            " [0.29]\n",
            " [0.22]\n",
            " [0.42]\n",
            " [0.5 ]\n",
            " [0.29]\n",
            " [0.26]\n",
            " [0.34]\n",
            " [0.29]\n",
            " [0.28]\n",
            " [0.2 ]\n",
            " [0.34]\n",
            " [0.27]\n",
            " [3.56]\n",
            " [0.32]\n",
            " [3.  ]\n",
            " [0.3 ]\n",
            " [0.27]\n",
            " [0.21]\n",
            " [2.75]\n",
            " [0.32]\n",
            " [2.91]\n",
            " [0.22]\n",
            " [0.32]\n",
            " [0.39]\n",
            " [0.21]\n",
            " [0.2 ]\n",
            " [0.26]\n",
            " [0.31]\n",
            " [0.19]\n",
            " [0.28]\n",
            " [0.41]\n",
            " [2.02]\n",
            " [0.32]\n",
            " [0.19]\n",
            " [1.45]\n",
            " [0.37]\n",
            " [3.18]\n",
            " [2.  ]\n",
            " [0.42]\n",
            " [1.28]\n",
            " [0.37]\n",
            " [0.21]\n",
            " [0.27]\n",
            " [0.21]\n",
            " [0.13]\n",
            " [0.34]\n",
            " [0.24]\n",
            " [0.43]\n",
            " [0.35]\n",
            " [0.43]\n",
            " [2.  ]\n",
            " [2.2 ]\n",
            " [2.  ]\n",
            " [0.61]\n",
            " [0.22]\n",
            " [0.3 ]\n",
            " [0.43]\n",
            " [0.4 ]\n",
            " [0.48]\n",
            " [0.42]\n",
            " [0.52]\n",
            " [0.5 ]\n",
            " [0.58]\n",
            " [0.25]\n",
            " [0.17]\n",
            " [0.32]\n",
            " [0.14]\n",
            " [0.29]\n",
            " [0.24]\n",
            " [0.45]\n",
            " [0.26]\n",
            " [0.29]\n",
            " [0.34]\n",
            " [0.37]\n",
            " [0.32]\n",
            " [0.66]\n",
            " [0.37]\n",
            " [0.48]\n",
            " [0.39]\n",
            " [0.29]\n",
            " [0.24]\n",
            " [2.  ]\n",
            " [0.6 ]\n",
            " [0.42]\n",
            " [0.43]\n",
            " [0.52]\n",
            " [0.3 ]\n",
            " [1.61]\n",
            " [0.43]\n",
            " [2.  ]\n",
            " [0.32]\n",
            " [0.47]\n",
            " [0.43]\n",
            " [0.3 ]\n",
            " [0.21]\n",
            " [0.37]\n",
            " [0.39]\n",
            " [2.13]\n",
            " [0.4 ]\n",
            " [0.42]\n",
            " [0.21]\n",
            " [0.24]\n",
            " [0.27]\n",
            " [0.17]\n",
            " [0.58]\n",
            " [0.63]\n",
            " [0.47]\n",
            " [0.6 ]\n",
            " [0.48]\n",
            " [0.53]\n",
            " [0.5 ]\n",
            " [0.37]\n",
            " [0.5 ]\n",
            " [0.47]\n",
            " [0.29]\n",
            " [0.43]\n",
            " [0.34]\n",
            " [0.47]\n",
            " [0.45]\n",
            " [0.34]\n",
            " [0.22]\n",
            " [0.24]\n",
            " [0.26]\n",
            " [0.56]\n",
            " [0.58]\n",
            " [0.6 ]\n",
            " [0.48]\n",
            " [0.58]\n",
            " [2.7 ]\n",
            " [0.52]\n",
            " [0.5 ]\n",
            " [0.5 ]\n",
            " [0.6 ]\n",
            " [0.4 ]\n",
            " [0.41]\n",
            " [0.47]\n",
            " [0.43]\n",
            " [0.4 ]\n",
            " [0.39]\n",
            " [0.27]\n",
            " [0.4 ]\n",
            " [0.48]\n",
            " [0.44]\n",
            " [0.52]\n",
            " [0.43]\n",
            " [0.43]\n",
            " [0.53]\n",
            " [0.56]]\n",
            "Column wise mode \n",
            " [[  2.    12.37   1.73   2.28  20.    88.     2.2    2.65   0.26   1.35\n",
            "    2.6    1.04   2.87 520.  ]]\n"
          ],
          "name": "stdout"
        }
      ]
    },
    {
      "cell_type": "code",
      "metadata": {
        "id": "LYjo2FLmJVK4",
        "colab_type": "code",
        "colab": {
          "base_uri": "https://localhost:8080/",
          "height": 811
        },
        "outputId": "18972938-cc77-4512-f6a2-af21feb93c53"
      },
      "source": [
        "def dev(scores):\n",
        "    stan = np.std(scores,axis=None)\n",
        "    stan_row = np.std(scores, axis =1)\n",
        "    stan_col = np.std(scores,axis=0)\n",
        "    print(\"Standard Deviation \\n\",stan,\"\\nStandard Deviation row wise \\n\",stan_row,\"\\nStandard Deviation Column wise\\n\",stan_col)\n",
        "dev(scores)"
      ],
      "execution_count": 31,
      "outputs": [
        {
          "output_type": "stream",
          "text": [
            "Standard Deviation \n",
            " 208.61735837075227 \n",
            "Standard Deviation row wise \n",
            " [272.55228405 268.70559608 303.10665268 378.81001887 188.17135148\n",
            " 371.19325702 330.17447004 331.44017301 267.29937913 267.22795575\n",
            " 386.57283893 327.6191023  337.88934242 294.23431172 396.14504883\n",
            " 335.23213606 327.5039538  289.03391253 430.22213098 216.23490282\n",
            " 199.81955401 196.84977416 264.73135209 259.60233826 215.98563943\n",
            " 212.4175103  305.78171801 328.94786326 233.95316003 264.72121524\n",
            " 328.72666127 387.85388466 253.22526155 316.08254821 280.14150957\n",
            " 235.17148708 225.16030552 282.70342998 260.9657227  194.79460895\n",
            " 203.45974087 264.65517093 280.0907299  173.94259179 226.34901661\n",
            " 276.21096507 272.3470847  251.87147374 271.05315038 322.33303843\n",
            " 294.23693423 323.69762992 304.46018158 351.93182862 271.23081819\n",
            " 286.47585512 248.15289626 324.98622963 328.81192022 133.32707272\n",
            " 174.11304553 115.72010442 161.15119518 107.59680936  92.1801039\n",
            " 173.38506041 128.20341209 130.25795887 192.05600886 184.94655902\n",
            " 222.58403505 104.95681885 120.7551592  252.07198546 226.55449876\n",
            " 110.12707794 100.64100955 128.72381577 192.61434615 118.81307446\n",
            "  72.22082027 182.41441599 160.87670636 131.57531055 133.18318835\n",
            " 115.66535319 126.71905525 143.62640429 173.73254449 159.53209428\n",
            " 122.76949137 115.22113929 126.52491413  75.2279733   89.35205776\n",
            " 240.5585043  160.90118739 109.67696772 168.60494028 104.10069615\n",
            " 181.59475982 143.7789498  112.52418784 106.44322288 171.68479188\n",
            "  81.49387073 130.3198385  124.78410052  80.90692597 173.81769335\n",
            " 144.0428371   83.90293183 155.41130731 111.25906571  98.72555072\n",
            " 104.3243267  126.6641627   89.88459958  95.42812793 144.21087508\n",
            " 159.81643044 119.82841386  94.3609022   97.41530414  97.27887237\n",
            "  96.992534    90.47235431 119.31586469  88.09910065 148.09166321\n",
            " 161.83015036 135.93224962 143.33553721 153.68152    166.1278477\n",
            " 177.66686464 183.99329068 131.77720269 148.22131794 150.96613147\n",
            " 153.47413257 199.32879745 133.15240059 140.62650622 218.70805932\n",
            " 212.24561575 106.16912545 159.5732902  166.03494187 141.10533076\n",
            " 128.88532652 123.45363911 109.91334696 172.49543688 163.79965026\n",
            " 185.15571633 122.72767584 224.82290871 168.464121   158.22975124\n",
            " 132.89012711 174.00427219 146.03613009 172.77987232 157.07081058\n",
            " 132.88025855 177.7287447  174.93211063 191.67876824 161.23092726\n",
            " 130.68752611 120.20578616 168.57152235 189.02493383 191.67099254\n",
            " 213.62030882 214.94458065 143.09172916] \n",
            "Standard Deviation Column wise\n",
            " [  0.77285486   0.80954291   1.11400363   0.27357229   3.33016976\n",
            "  14.24230767   0.62409056   0.99604895   0.12410326   0.57074885\n",
            "   2.31176466   0.22792861   0.70799326 314.02165684]\n"
          ],
          "name": "stdout"
        }
      ]
    },
    {
      "cell_type": "code",
      "metadata": {
        "id": "_QNiHJ41_DCg",
        "colab_type": "code",
        "colab": {
          "base_uri": "https://localhost:8080/",
          "height": 320
        },
        "outputId": "b7119390-61ee-458a-f310-3d216804327f"
      },
      "source": [
        "df.describe()"
      ],
      "execution_count": 4,
      "outputs": [
        {
          "output_type": "execute_result",
          "data": {
            "text/html": [
              "<div>\n",
              "<style scoped>\n",
              "    .dataframe tbody tr th:only-of-type {\n",
              "        vertical-align: middle;\n",
              "    }\n",
              "\n",
              "    .dataframe tbody tr th {\n",
              "        vertical-align: top;\n",
              "    }\n",
              "\n",
              "    .dataframe thead th {\n",
              "        text-align: right;\n",
              "    }\n",
              "</style>\n",
              "<table border=\"1\" class=\"dataframe\">\n",
              "  <thead>\n",
              "    <tr style=\"text-align: right;\">\n",
              "      <th></th>\n",
              "      <th>Wine</th>\n",
              "      <th>Alcohol</th>\n",
              "      <th>Malic.acid</th>\n",
              "      <th>Ash</th>\n",
              "      <th>Acl</th>\n",
              "      <th>Mg</th>\n",
              "      <th>Phenols</th>\n",
              "      <th>Flavanoids</th>\n",
              "      <th>Nonflavanoid.phenols</th>\n",
              "      <th>Proanth</th>\n",
              "      <th>Color.int</th>\n",
              "      <th>Hue</th>\n",
              "      <th>OD</th>\n",
              "      <th>Proline</th>\n",
              "    </tr>\n",
              "  </thead>\n",
              "  <tbody>\n",
              "    <tr>\n",
              "      <th>count</th>\n",
              "      <td>178.000000</td>\n",
              "      <td>178.000000</td>\n",
              "      <td>178.000000</td>\n",
              "      <td>178.000000</td>\n",
              "      <td>178.000000</td>\n",
              "      <td>178.000000</td>\n",
              "      <td>178.000000</td>\n",
              "      <td>178.000000</td>\n",
              "      <td>178.000000</td>\n",
              "      <td>178.000000</td>\n",
              "      <td>178.000000</td>\n",
              "      <td>178.000000</td>\n",
              "      <td>178.000000</td>\n",
              "      <td>178.000000</td>\n",
              "    </tr>\n",
              "    <tr>\n",
              "      <th>mean</th>\n",
              "      <td>1.938202</td>\n",
              "      <td>13.000618</td>\n",
              "      <td>2.336348</td>\n",
              "      <td>2.366517</td>\n",
              "      <td>19.494944</td>\n",
              "      <td>99.741573</td>\n",
              "      <td>2.295112</td>\n",
              "      <td>2.029270</td>\n",
              "      <td>0.361854</td>\n",
              "      <td>1.590899</td>\n",
              "      <td>5.058090</td>\n",
              "      <td>0.957449</td>\n",
              "      <td>2.611685</td>\n",
              "      <td>746.893258</td>\n",
              "    </tr>\n",
              "    <tr>\n",
              "      <th>std</th>\n",
              "      <td>0.775035</td>\n",
              "      <td>0.811827</td>\n",
              "      <td>1.117146</td>\n",
              "      <td>0.274344</td>\n",
              "      <td>3.339564</td>\n",
              "      <td>14.282484</td>\n",
              "      <td>0.625851</td>\n",
              "      <td>0.998859</td>\n",
              "      <td>0.124453</td>\n",
              "      <td>0.572359</td>\n",
              "      <td>2.318286</td>\n",
              "      <td>0.228572</td>\n",
              "      <td>0.709990</td>\n",
              "      <td>314.907474</td>\n",
              "    </tr>\n",
              "    <tr>\n",
              "      <th>min</th>\n",
              "      <td>1.000000</td>\n",
              "      <td>11.030000</td>\n",
              "      <td>0.740000</td>\n",
              "      <td>1.360000</td>\n",
              "      <td>10.600000</td>\n",
              "      <td>70.000000</td>\n",
              "      <td>0.980000</td>\n",
              "      <td>0.340000</td>\n",
              "      <td>0.130000</td>\n",
              "      <td>0.410000</td>\n",
              "      <td>1.280000</td>\n",
              "      <td>0.480000</td>\n",
              "      <td>1.270000</td>\n",
              "      <td>278.000000</td>\n",
              "    </tr>\n",
              "    <tr>\n",
              "      <th>25%</th>\n",
              "      <td>1.000000</td>\n",
              "      <td>12.362500</td>\n",
              "      <td>1.602500</td>\n",
              "      <td>2.210000</td>\n",
              "      <td>17.200000</td>\n",
              "      <td>88.000000</td>\n",
              "      <td>1.742500</td>\n",
              "      <td>1.205000</td>\n",
              "      <td>0.270000</td>\n",
              "      <td>1.250000</td>\n",
              "      <td>3.220000</td>\n",
              "      <td>0.782500</td>\n",
              "      <td>1.937500</td>\n",
              "      <td>500.500000</td>\n",
              "    </tr>\n",
              "    <tr>\n",
              "      <th>50%</th>\n",
              "      <td>2.000000</td>\n",
              "      <td>13.050000</td>\n",
              "      <td>1.865000</td>\n",
              "      <td>2.360000</td>\n",
              "      <td>19.500000</td>\n",
              "      <td>98.000000</td>\n",
              "      <td>2.355000</td>\n",
              "      <td>2.135000</td>\n",
              "      <td>0.340000</td>\n",
              "      <td>1.555000</td>\n",
              "      <td>4.690000</td>\n",
              "      <td>0.965000</td>\n",
              "      <td>2.780000</td>\n",
              "      <td>673.500000</td>\n",
              "    </tr>\n",
              "    <tr>\n",
              "      <th>75%</th>\n",
              "      <td>3.000000</td>\n",
              "      <td>13.677500</td>\n",
              "      <td>3.082500</td>\n",
              "      <td>2.557500</td>\n",
              "      <td>21.500000</td>\n",
              "      <td>107.000000</td>\n",
              "      <td>2.800000</td>\n",
              "      <td>2.875000</td>\n",
              "      <td>0.437500</td>\n",
              "      <td>1.950000</td>\n",
              "      <td>6.200000</td>\n",
              "      <td>1.120000</td>\n",
              "      <td>3.170000</td>\n",
              "      <td>985.000000</td>\n",
              "    </tr>\n",
              "    <tr>\n",
              "      <th>max</th>\n",
              "      <td>3.000000</td>\n",
              "      <td>14.830000</td>\n",
              "      <td>5.800000</td>\n",
              "      <td>3.230000</td>\n",
              "      <td>30.000000</td>\n",
              "      <td>162.000000</td>\n",
              "      <td>3.880000</td>\n",
              "      <td>5.080000</td>\n",
              "      <td>0.660000</td>\n",
              "      <td>3.580000</td>\n",
              "      <td>13.000000</td>\n",
              "      <td>1.710000</td>\n",
              "      <td>4.000000</td>\n",
              "      <td>1680.000000</td>\n",
              "    </tr>\n",
              "  </tbody>\n",
              "</table>\n",
              "</div>"
            ],
            "text/plain": [
              "             Wine     Alcohol  Malic.acid  ...         Hue          OD      Proline\n",
              "count  178.000000  178.000000  178.000000  ...  178.000000  178.000000   178.000000\n",
              "mean     1.938202   13.000618    2.336348  ...    0.957449    2.611685   746.893258\n",
              "std      0.775035    0.811827    1.117146  ...    0.228572    0.709990   314.907474\n",
              "min      1.000000   11.030000    0.740000  ...    0.480000    1.270000   278.000000\n",
              "25%      1.000000   12.362500    1.602500  ...    0.782500    1.937500   500.500000\n",
              "50%      2.000000   13.050000    1.865000  ...    0.965000    2.780000   673.500000\n",
              "75%      3.000000   13.677500    3.082500  ...    1.120000    3.170000   985.000000\n",
              "max      3.000000   14.830000    5.800000  ...    1.710000    4.000000  1680.000000\n",
              "\n",
              "[8 rows x 14 columns]"
            ]
          },
          "metadata": {
            "tags": []
          },
          "execution_count": 4
        }
      ]
    },
    {
      "cell_type": "code",
      "metadata": {
        "id": "wlP8ptjOCp1t",
        "colab_type": "code",
        "colab": {
          "base_uri": "https://localhost:8080/",
          "height": 294
        },
        "outputId": "cbbe8b6e-59c8-44e1-b1e1-474088c2967d"
      },
      "source": [
        "df.mean() #column wise mean"
      ],
      "execution_count": 5,
      "outputs": [
        {
          "output_type": "execute_result",
          "data": {
            "text/plain": [
              "Wine                      1.938202\n",
              "Alcohol                  13.000618\n",
              "Malic.acid                2.336348\n",
              "Ash                       2.366517\n",
              "Acl                      19.494944\n",
              "Mg                       99.741573\n",
              "Phenols                   2.295112\n",
              "Flavanoids                2.029270\n",
              "Nonflavanoid.phenols      0.361854\n",
              "Proanth                   1.590899\n",
              "Color.int                 5.058090\n",
              "Hue                       0.957449\n",
              "OD                        2.611685\n",
              "Proline                 746.893258\n",
              "dtype: float64"
            ]
          },
          "metadata": {
            "tags": []
          },
          "execution_count": 5
        }
      ]
    },
    {
      "cell_type": "code",
      "metadata": {
        "id": "SF4ex-MOC-cv",
        "colab_type": "code",
        "colab": {
          "base_uri": "https://localhost:8080/",
          "height": 239
        },
        "outputId": "83d64803-c149-4bbb-a91a-513932a742aa"
      },
      "source": [
        "df.mean(axis=1)     #row wise mean"
      ],
      "execution_count": 11,
      "outputs": [
        {
          "output_type": "execute_result",
          "data": {
            "text/plain": [
              "0       89.000000\n",
              "1       85.364286\n",
              "2       95.915714\n",
              "3      117.963571\n",
              "4       64.977857\n",
              "          ...    \n",
              "173     63.875714\n",
              "174     65.124286\n",
              "175     72.444286\n",
              "176     72.640714\n",
              "177     51.471429\n",
              "Length: 178, dtype: float64"
            ]
          },
          "metadata": {
            "tags": []
          },
          "execution_count": 11
        }
      ]
    },
    {
      "cell_type": "code",
      "metadata": {
        "id": "4qNXPSNVD5SV",
        "colab_type": "code",
        "colab": {
          "base_uri": "https://localhost:8080/",
          "height": 294
        },
        "outputId": "a728b740-88fd-4907-9c0a-0178852a73aa"
      },
      "source": [
        "df.median() #column wise meadian        "
      ],
      "execution_count": 12,
      "outputs": [
        {
          "output_type": "execute_result",
          "data": {
            "text/plain": [
              "Wine                      2.000\n",
              "Alcohol                  13.050\n",
              "Malic.acid                1.865\n",
              "Ash                       2.360\n",
              "Acl                      19.500\n",
              "Mg                       98.000\n",
              "Phenols                   2.355\n",
              "Flavanoids                2.135\n",
              "Nonflavanoid.phenols      0.340\n",
              "Proanth                   1.555\n",
              "Color.int                 4.690\n",
              "Hue                       0.965\n",
              "OD                        2.780\n",
              "Proline                 673.500\n",
              "dtype: float64"
            ]
          },
          "metadata": {
            "tags": []
          },
          "execution_count": 12
        }
      ]
    },
    {
      "cell_type": "code",
      "metadata": {
        "id": "HMk3Lj4CEG3e",
        "colab_type": "code",
        "colab": {
          "base_uri": "https://localhost:8080/",
          "height": 239
        },
        "outputId": "83aad9c6-3bbc-405b-ff2a-20d4f2b7bb85"
      },
      "source": [
        "df.median(axis=1)   #row wise median"
      ],
      "execution_count": 13,
      "outputs": [
        {
          "output_type": "execute_result",
          "data": {
            "text/plain": [
              "0      2.930\n",
              "1      2.705\n",
              "2      2.990\n",
              "3      3.470\n",
              "4      2.835\n",
              "       ...  \n",
              "173    2.725\n",
              "174    2.740\n",
              "175    2.630\n",
              "176    2.480\n",
              "177    2.870\n",
              "Length: 178, dtype: float64"
            ]
          },
          "metadata": {
            "tags": []
          },
          "execution_count": 13
        }
      ]
    },
    {
      "cell_type": "markdown",
      "metadata": {
        "id": "5ZTFfHk3RZJX",
        "colab_type": "text"
      },
      "source": [
        ""
      ]
    },
    {
      "cell_type": "markdown",
      "metadata": {
        "id": "QANknGwzRbEv",
        "colab_type": "text"
      },
      "source": [
        "# **Part 2**"
      ]
    },
    {
      "cell_type": "code",
      "metadata": {
        "id": "-ge0iBSNEULW",
        "colab_type": "code",
        "colab": {
          "base_uri": "https://localhost:8080/",
          "height": 35
        },
        "outputId": "b3fbc10d-85af-4d7b-ddc3-d6ed913b39c5"
      },
      "source": [
        "from scipy.stats import pearsonr\n",
        "alcohol = df[\"Alcohol\"]\n",
        "proline = df[\"Proline\"]\n",
        "\n",
        "corr,_ = pearsonr(alcohol,proline)\n",
        "print(\"Pearson coefficient of correlation is \",corr)"
      ],
      "execution_count": 37,
      "outputs": [
        {
          "output_type": "stream",
          "text": [
            "Pearson coefficient of correlation is  0.6437200371782135\n"
          ],
          "name": "stdout"
        }
      ]
    },
    {
      "cell_type": "code",
      "metadata": {
        "id": "92MZqrfVTJ8b",
        "colab_type": "code",
        "colab": {
          "base_uri": "https://localhost:8080/",
          "height": 100
        },
        "outputId": "b1cc121f-8fd9-4dea-984f-92e8def1d754"
      },
      "source": [
        "df.head(1)"
      ],
      "execution_count": 38,
      "outputs": [
        {
          "output_type": "execute_result",
          "data": {
            "text/html": [
              "<div>\n",
              "<style scoped>\n",
              "    .dataframe tbody tr th:only-of-type {\n",
              "        vertical-align: middle;\n",
              "    }\n",
              "\n",
              "    .dataframe tbody tr th {\n",
              "        vertical-align: top;\n",
              "    }\n",
              "\n",
              "    .dataframe thead th {\n",
              "        text-align: right;\n",
              "    }\n",
              "</style>\n",
              "<table border=\"1\" class=\"dataframe\">\n",
              "  <thead>\n",
              "    <tr style=\"text-align: right;\">\n",
              "      <th></th>\n",
              "      <th>Wine</th>\n",
              "      <th>Alcohol</th>\n",
              "      <th>Malic.acid</th>\n",
              "      <th>Ash</th>\n",
              "      <th>Acl</th>\n",
              "      <th>Mg</th>\n",
              "      <th>Phenols</th>\n",
              "      <th>Flavanoids</th>\n",
              "      <th>Nonflavanoid.phenols</th>\n",
              "      <th>Proanth</th>\n",
              "      <th>Color.int</th>\n",
              "      <th>Hue</th>\n",
              "      <th>OD</th>\n",
              "      <th>Proline</th>\n",
              "    </tr>\n",
              "  </thead>\n",
              "  <tbody>\n",
              "    <tr>\n",
              "      <th>0</th>\n",
              "      <td>1</td>\n",
              "      <td>14.23</td>\n",
              "      <td>1.71</td>\n",
              "      <td>2.43</td>\n",
              "      <td>15.6</td>\n",
              "      <td>127</td>\n",
              "      <td>2.8</td>\n",
              "      <td>3.06</td>\n",
              "      <td>0.28</td>\n",
              "      <td>2.29</td>\n",
              "      <td>5.64</td>\n",
              "      <td>1.04</td>\n",
              "      <td>3.92</td>\n",
              "      <td>1065</td>\n",
              "    </tr>\n",
              "  </tbody>\n",
              "</table>\n",
              "</div>"
            ],
            "text/plain": [
              "   Wine  Alcohol  Malic.acid   Ash  ...  Color.int   Hue    OD  Proline\n",
              "0     1    14.23        1.71  2.43  ...       5.64  1.04  3.92     1065\n",
              "\n",
              "[1 rows x 14 columns]"
            ]
          },
          "metadata": {
            "tags": []
          },
          "execution_count": 38
        }
      ]
    },
    {
      "cell_type": "code",
      "metadata": {
        "id": "oYjwTTCBTP7e",
        "colab_type": "code",
        "colab": {
          "base_uri": "https://localhost:8080/",
          "height": 165
        },
        "outputId": "a18ce2aa-8b8c-4104-cde9-14915b569408"
      },
      "source": [
        "matrix_five = df[[\"Alcohol\",\"Ash\",\"Phenols\",\"Hue\",\"Flavanoids\"]].to_numpy()\n",
        "cov_mat = np.cov(matrix_five)\n",
        "print(cov_mat)\n",
        "print(np.amax(cov_mat))"
      ],
      "execution_count": 47,
      "outputs": [
        {
          "output_type": "stream",
          "text": [
            "[[28.91707  26.81805  26.168925 ... 28.700025 28.36559  30.205405]\n",
            " [26.81805  24.87855  24.256425 ... 26.62845  26.316475 28.02145 ]\n",
            " [26.168925 24.256425 23.70775  ... 25.922675 25.623425 27.292275]\n",
            " ...\n",
            " [28.700025 26.62845  25.922675 ... 29.2102   28.8998   30.793525]\n",
            " [28.36559  26.316475 25.623425 ... 28.8998   28.59563  30.474985]\n",
            " [30.205405 28.02145  27.292275 ... 30.793525 30.474985 32.49497 ]]\n",
            "33.54192000000001\n"
          ],
          "name": "stdout"
        }
      ]
    }
  ]
}