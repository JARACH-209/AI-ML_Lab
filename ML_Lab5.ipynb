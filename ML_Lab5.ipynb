{
  "nbformat": 4,
  "nbformat_minor": 0,
  "metadata": {
    "colab": {
      "name": "ML_Lab5.ipynb",
      "provenance": [],
      "collapsed_sections": [],
      "authorship_tag": "ABX9TyNbY/T032zQYIVEAC9kXBlv",
      "include_colab_link": true
    },
    "kernelspec": {
      "name": "python3",
      "display_name": "Python 3"
    }
  },
  "cells": [
    {
      "cell_type": "markdown",
      "metadata": {
        "id": "view-in-github",
        "colab_type": "text"
      },
      "source": [
        "<a href=\"https://colab.research.google.com/github/JARACH-209/AI-ML_Lab/blob/master/ML_Lab5.ipynb\" target=\"_parent\"><img src=\"https://colab.research.google.com/assets/colab-badge.svg\" alt=\"Open In Colab\"/></a>"
      ]
    },
    {
      "cell_type": "markdown",
      "metadata": {
        "id": "Hly3W4Hiuusc"
      },
      "source": [
        "##Single Layer Perceptron for OR and AND problem \n",
        "###Achal Dixit | 1801007"
      ]
    },
    {
      "cell_type": "code",
      "metadata": {
        "id": "eGgIUPFm1tRh"
      },
      "source": [
        "import pandas as pd\n",
        "import matplotlib.pyplot as plt\n",
        "%matplotlib inline"
      ],
      "execution_count": null,
      "outputs": []
    },
    {
      "cell_type": "code",
      "metadata": {
        "id": "Qh6smpJQupe9"
      },
      "source": [
        "import numpy as np\n",
        "\n",
        "class SLP(object):\n",
        "    def __init__(self,learning_rate, epochs):\n",
        "        self.w = None\n",
        "        self.b = None\n",
        "        self.epochs = epochs\n",
        "        self.learning_rate = learning_rate\n",
        "        #self.weights = np.zeros(num_inputs + 1)    #intializing weights as 0, -0.3<w<0.3\n",
        "    \n",
        "    def model(self,x):\n",
        "       # sum = np.dot(inputs, self.weights[1:]) + self.weights[0]\n",
        "       # return 1 if  sum >0 else 0\n",
        "       return 1 if (np.dot(self.w, x) >= self.b) else 0\n",
        "    \n",
        "    def predict(self,X):\n",
        "        Y = []\n",
        "        for x in X:\n",
        "            result = self.model(x)\n",
        "            Y.append(result)\n",
        "        return np.array(Y)\n",
        "\n",
        "            \n",
        "    def fit(self, X, Y):\n",
        "        self.w = np.zeros(X.shape[1])\n",
        "        self.b = 0\n",
        "        accuracy = {}\n",
        "        max_accuracy = 0\n",
        "        wt_matrix = []\n",
        "        #for all epochs\n",
        "        for i in range(self.epochs):\n",
        "            for x, y in zip(X, Y):\n",
        "                y_pred = self.model(x)\n",
        "                if y == 1 and y_pred == 0:\n",
        "                    self.w = self.w + self.learning_rate * x\n",
        "                    self.b = self.b - self.learning_rate * 1\n",
        "                elif y == 0 and y_pred == 1:\n",
        "                    self.w = self.w - self.learning_rate * x\n",
        "                    self.b = self.b + self.learning_rate * 1\n",
        "                \n",
        "            wt_matrix.append(self.w)    \n",
        "            accuracy[i] = accuracy_score(self.predict(X), Y)\n",
        "            if (accuracy[i] > max_accuracy):\n",
        "                max_accuracy = accuracy[i]\n",
        "                chkptw = self.w\n",
        "                chkptb = self.b\n",
        "        return accuracy\n",
        "'''\n",
        "    def train(self,X,Y):\n",
        "        for _ in range(self.iterations):\n",
        "            for x,y in zip(X,Y):\n",
        "                predicted  = self.predict(x)\n",
        "                self.weights[1:] = self.learning_rate * (y-predicted) * x       #no need to check for the correct prediction as (y-preicted) = 0 for wrong predictions\n",
        "                self.weights[0] = self.learining_rate * (y-predicted)\n",
        "'''"
      ],
      "execution_count": null,
      "outputs": []
    },
    {
      "cell_type": "code",
      "metadata": {
        "id": "Nd2RGFCNsZCr"
      },
      "source": [
        "#For AND problem\n",
        "x_and = np.array([[0,0],[1,1],[0,1],[1,0],[1,1],[0,1],[1,0],[1,1],[0,1],[1,0]])\n",
        "y_and = np.array([0,1,0,0,1,0,0,1,0,0])\n",
        "\n",
        "#For OR problem\n",
        "x_or = np.array([[0,0],[1,1],[0,1],[1,0],[1,1],[0,1],[1,0],[1,1],[0,1],[1,0]])\n",
        "y_or = np.array([0,1,1,1,1,1,1,1,1,1])\n",
        "\n"
      ],
      "execution_count": null,
      "outputs": []
    },
    {
      "cell_type": "code",
      "metadata": {
        "id": "j3dtOttmtvkb"
      },
      "source": [
        "from sklearn.metrics import accuracy_score\n",
        "\n",
        "acc_or = []\n",
        "acc_and = []\n",
        "learning_rate = [0.1,0.25,0.5,0.75,0.95]\n",
        "for r in learning_rate:\n",
        "    and_perceptron = SLP(r,10)\n",
        "    acc = and_perceptron.fit(x_and,y_and)\n",
        "    acc_and.append(acc)\n",
        "\n",
        "    or_perceptron = SLP(r,10)\n",
        "    acc = or_perceptron.fit(x_or,y_or)\n",
        "    acc_or.append(acc)"
      ],
      "execution_count": null,
      "outputs": []
    },
    {
      "cell_type": "markdown",
      "metadata": {
        "id": "WeXKp7c34WOD"
      },
      "source": [
        "Accuracies are same for all 5 rates as AND and OR have binary inputs so convergence happens in 1 iterations"
      ]
    },
    {
      "cell_type": "code",
      "metadata": {
        "id": "VT_ySLZx1rPa",
        "outputId": "8263ebda-cf13-4a2d-d405-37f9f14344f6",
        "colab": {
          "base_uri": "https://localhost:8080/",
          "height": 298
        }
      },
      "source": [
        "line, = plt.plot(range(10),list(acc_and[0].values()),marker=\"o\",color=\"black\",label = \"AND Accuracy 0.7 to 1\")\n",
        "plt.xlabel(\"Epochs\")\n",
        "plt.ylabel(\"Accuracy\")\n",
        "plt.legend(handles=[line])"
      ],
      "execution_count": 24,
      "outputs": [
        {
          "output_type": "execute_result",
          "data": {
            "text/plain": [
              "<matplotlib.legend.Legend at 0x7f53408d5c18>"
            ]
          },
          "metadata": {
            "tags": []
          },
          "execution_count": 24
        },
        {
          "output_type": "display_data",
          "data": {
            "image/png": "[encoded data removed]",
            "text/plain": [
              "<Figure size 432x288 with 1 Axes>"
            ]
          },
          "metadata": {
            "tags": [],
            "needs_background": "light"
          }
        }
      ]
    },
    {
      "cell_type": "code",
      "metadata": {
        "id": "ZiZimSps5G34",
        "outputId": "9405f9ff-9e21-43f4-b7bc-3c4a62e9c6e0",
        "colab": {
          "base_uri": "https://localhost:8080/",
          "height": 298
        }
      },
      "source": [
        "line, = plt.plot(range(10),list(acc_or[0].values()),marker=\"o\",color=\"black\",label = \"OR Accuracy 0.9 to 1\")\n",
        "plt.xlabel(\"Epochs\")\n",
        "plt.ylabel(\"Accuracy\")\n",
        "plt.legend(handles=[line])"
      ],
      "execution_count": 25,
      "outputs": [
        {
          "output_type": "execute_result",
          "data": {
            "text/plain": [
              "<matplotlib.legend.Legend at 0x7f5340703b70>"
            ]
          },
          "metadata": {
            "tags": []
          },
          "execution_count": 25
        },
        {
          "output_type": "display_data",
          "data": {
            "image/png": "[encoded data removed]",
            "text/plain": [
              "<Figure size 432x288 with 1 Axes>"
            ]
          },
          "metadata": {
            "tags": [],
            "needs_background": "light"
          }
        }
      ]
    },
    {
      "cell_type": "markdown",
      "metadata": {
        "id": "GhPxXLT1xe99"
      },
      "source": [
        "##Naive Bayes Classifier over Breast Cancer Dataset"
      ]
    },
    {
      "cell_type": "code",
      "metadata": {
        "id": "V4YqXRTfxmOg"
      },
      "source": [
        "from sklearn.model_selection import train_test_split\n",
        "from sklearn import preprocessing\n",
        "from sklearn.datasets import load_breast_cancer\n",
        "\n",
        "df = pd.DataFrame(load_breast_cancer().data,columns=load_breast_cancer().feature_names)\n",
        "breast_cancer = load_breast_cancer()\n",
        "\n",
        "X = load_breast_cancer().data\n",
        "Y = load_breast_cancer().target\n"
      ],
      "execution_count": 10,
      "outputs": []
    },
    {
      "cell_type": "code",
      "metadata": {
        "id": "Ik7aC0llxetu"
      },
      "source": [
        "class NB_classifer(object):\n",
        "\n",
        "    def __init__(self, X_train, y_train):\n",
        "        self.X_train = X_train\n",
        "        self.y_train = y_train\n",
        "        self.num_examples = None\n",
        "        self.num_features = None\n",
        "        self.num_classes = None\n",
        "        \n",
        "    def get_params(self, X_train, y_train): \n",
        "        \"\"\"\n",
        "        Function to get the unique classes, number of classes and number of features in training data\n",
        "        \"\"\"\n",
        "        num_examples, num_features = X_train.shape\n",
        "        num_classes = len(np.unique(y_train))\n",
        "        return num_examples, num_features, num_classes\n",
        "\n",
        "    def get_stats_by_class(self, X_train , y_train): \n",
        "        \"\"\"\n",
        "        Get stats of dataset by the class\n",
        "        \"\"\"\n",
        "        self.num_examples, self.num_features, self.num_classes = self.get_params(X_train, y_train)\n",
        "        # dictionaries to store stats\n",
        "        class_mean = {}\n",
        "        class_var = {} \n",
        "        class_prior = {} \n",
        "        \n",
        "        # loop through each class and get mean, variance and prior by class\n",
        "        for cls in range(self.num_classes): \n",
        "            X_cls = X_train[y_train == cls]\n",
        "            class_mean[str(cls)] = np.mean(X_cls, axis=0)\n",
        "            class_var[str(cls)] = np.var(X_cls, axis=0)\n",
        "            class_prior[str(cls)] = X_cls.shape[0] / self.num_examples\n",
        "        return class_mean, class_var, class_prior\n",
        "\n",
        "    def gaussian_density_function(self, X, mean, std, eps=1e-6): \n",
        "        const = -self.num_features/2 * np.log(2*np.pi) - 0.5 * np.sum(np.log(std + eps))\n",
        "        probs = 0.5 * np.sum(np.power(X - mean, 2)/(std + eps), 1)\n",
        "        return const - probs\n",
        "\n",
        "    def class_probabilities(self, X, class_mean, class_var, class_prior):\n",
        "        \"\"\"\n",
        "        calculate the probability of each class given the data\n",
        "        \"\"\"\n",
        "        num_examples, num_features, num_classes = self.get_params(X, self.y_train)\n",
        "        probs = np.zeros((num_examples, num_classes))\n",
        "        for cls in range(num_classes): \n",
        "            prior = class_prior[str(cls)]\n",
        "            probs_cls = self.gaussian_density_function(X, class_mean[str(cls)], class_var[str(cls)])\n",
        "            probs[:, cls] = probs_cls + np.log(prior)\n",
        "        return probs\n",
        "\n",
        "\n",
        "    def predict(self, X_test): \n",
        "        class_mean, class_std, class_prior = self.get_stats_by_class(self.X_train, self.y_train)\n",
        "        probs = self.class_probabilities(X_test, class_mean, class_std, class_prior)\n",
        "        return np.argmax(probs, 1)\n"
      ],
      "execution_count": 18,
      "outputs": []
    },
    {
      "cell_type": "code",
      "metadata": {
        "id": "XcMnlBWl5L2Y"
      },
      "source": [
        "x_train,x_test, y_train, y_test = train_test_split(X,Y,test_size = 0.2)"
      ],
      "execution_count": 13,
      "outputs": []
    },
    {
      "cell_type": "code",
      "metadata": {
        "id": "oO1-k24g5oq5"
      },
      "source": [
        "clf = NB_classifer(x_train,y_train)\n",
        "y_pred = clf.predict(x_test)"
      ],
      "execution_count": 19,
      "outputs": []
    },
    {
      "cell_type": "code",
      "metadata": {
        "id": "SnW8mYtv65xC",
        "outputId": "b2c20312-ed0e-4af4-9db7-a6bc006def74",
        "colab": {
          "base_uri": "https://localhost:8080/",
          "height": 36
        }
      },
      "source": [
        "print(\"Accuracy of Custom Naive Bayes : %.2f\" %(accuracy_score(y_test,y_pred)*100),\"%\")"
      ],
      "execution_count": 23,
      "outputs": [
        {
          "output_type": "stream",
          "text": [
            "Accuracy of Custom Naive Bayes : 91.23 %\n"
          ],
          "name": "stdout"
        }
      ]
    }
  ]
}