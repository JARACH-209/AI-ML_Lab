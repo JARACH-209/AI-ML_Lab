{
  "nbformat": 4,
  "nbformat_minor": 0,
  "metadata": {
    "colab": {
      "name": "ML_Lab0",
      "provenance": [],
      "authorship_tag": "ABX9TyNutjHSvSTXXXyi+vutOV3e",
      "include_colab_link": true
    },
    "kernelspec": {
      "name": "python3",
      "display_name": "Python 3"
    }
  },
  "cells": [
    {
      "cell_type": "markdown",
      "metadata": {
        "id": "view-in-github",
        "colab_type": "text"
      },
      "source": [
        "<a href=\"https://colab.research.google.com/github/JARACH-209/AI-ML_Lab/blob/master/ML_Lab0.ipynb\" target=\"_parent\"><img src=\"https://colab.research.google.com/assets/colab-badge.svg\" alt=\"Open In Colab\"/></a>"
      ]
    },
    {
      "cell_type": "code",
      "metadata": {
        "id": "fMoE_YU728YQ",
        "colab_type": "code",
        "colab": {
          "base_uri": "https://localhost:8080/",
          "height": 35
        },
        "outputId": "25cad922-4d29-4304-9c1e-92a388646118"
      },
      "source": [
        "!python --version   #checks version"
      ],
      "execution_count": null,
      "outputs": [
        {
          "output_type": "stream",
          "text": [
            "Python 3.6.9\n"
          ],
          "name": "stdout"
        }
      ]
    },
    {
      "cell_type": "code",
      "metadata": {
        "id": "nRwGLPmB489p",
        "colab_type": "code",
        "colab": {
          "base_uri": "https://localhost:8080/",
          "height": 1000
        },
        "outputId": "a9b8750b-49bb-42aa-8e8f-5ebddbf6cff3"
      },
      "source": [
        "!pip list   #lists all the libraries"
      ],
      "execution_count": null,
      "outputs": [
        {
          "output_type": "stream",
          "text": [
            "Package                       Version        \n",
            "----------------------------- ---------------\n",
            "absl-py                       0.9.0          \n",
            "alabaster                     0.7.12         \n",
            "albumentations                0.1.12         \n",
            "altair                        4.1.0          \n",
            "argon2-cffi                   20.1.0         \n",
            "asgiref                       3.2.10         \n",
            "astor                         0.8.1          \n",
            "astropy                       4.0.1.post1    \n",
            "astunparse                    1.6.3          \n",
            "atari-py                      0.2.6          \n",
            "atomicwrites                  1.4.0          \n",
            "attrs                         19.3.0         \n",
            "audioread                     2.1.8          \n",
            "autograd                      1.3            \n",
            "Babel                         2.8.0          \n",
            "backcall                      0.2.0          \n",
            "beautifulsoup4                4.6.3          \n",
            "bleach                        3.1.5          \n",
            "blis                          0.4.1          \n",
            "bokeh                         2.1.1          \n",
            "boto                          2.49.0         \n",
            "boto3                         1.14.37        \n",
            "botocore                      1.17.37        \n",
            "Bottleneck                    1.3.2          \n",
            "branca                        0.4.1          \n",
            "bs4                           0.0.1          \n",
            "CacheControl                  0.12.6         \n",
            "cachetools                    4.1.1          \n",
            "catalogue                     1.0.0          \n",
            "certifi                       2020.6.20      \n",
            "cffi                          1.14.1         \n",
            "chainer                       7.4.0          \n",
            "chardet                       3.0.4          \n",
            "click                         7.1.2          \n",
            "cloudpickle                   1.3.0          \n",
            "cmake                         3.12.0         \n",
            "cmdstanpy                     0.4.0          \n",
            "colorlover                    0.3.0          \n",
            "community                     1.0.0b1        \n",
            "contextlib2                   0.5.5          \n",
            "convertdate                   2.2.1          \n",
            "coverage                      3.7.1          \n",
            "coveralls                     0.5            \n",
            "crcmod                        1.7            \n",
            "cufflinks                     0.17.3         \n",
            "cvxopt                        1.2.5          \n",
            "cvxpy                         1.0.31         \n",
            "cycler                        0.10.0         \n",
            "cymem                         2.0.3          \n",
            "Cython                        0.29.21        \n",
            "daft                          0.0.4          \n",
            "dask                          2.12.0         \n",
            "dataclasses                   0.7            \n",
            "datascience                   0.10.6         \n",
            "decorator                     4.4.2          \n",
            "defusedxml                    0.6.0          \n",
            "descartes                     1.1.0          \n",
            "dill                          0.3.2          \n",
            "distributed                   1.25.3         \n",
            "Django                        3.1            \n",
            "dlib                          19.18.0        \n",
            "dm-tree                       0.1.5          \n",
            "docopt                        0.6.2          \n",
            "docutils                      0.15.2         \n",
            "dopamine-rl                   1.0.5          \n",
            "earthengine-api               0.1.229        \n",
            "easydict                      1.9            \n",
            "ecos                          2.0.7.post1    \n",
            "editdistance                  0.5.3          \n",
            "en-core-web-sm                2.2.5          \n",
            "entrypoints                   0.3            \n",
            "ephem                         3.7.7.1        \n",
            "et-xmlfile                    1.0.1          \n",
            "fa2                           0.3.5          \n",
            "fancyimpute                   0.4.3          \n",
            "fastai                        1.0.61         \n",
            "fastdtw                       0.3.4          \n",
            "fastprogress                  0.2.5          \n",
            "fastrlock                     0.5            \n",
            "fbprophet                     0.6            \n",
            "feather-format                0.4.1          \n",
            "featuretools                  0.4.1          \n",
            "filelock                      3.0.12         \n",
            "firebase-admin                4.1.0          \n",
            "fix-yahoo-finance             0.0.22         \n",
            "Flask                         1.1.2          \n",
            "folium                        0.8.3          \n",
            "fsspec                        0.8.0          \n",
            "future                        0.16.0         \n",
            "gast                          0.3.3          \n",
            "GDAL                          2.2.2          \n",
            "gdown                         3.6.4          \n",
            "gensim                        3.6.0          \n",
            "geographiclib                 1.50           \n",
            "geopy                         1.17.0         \n",
            "gin-config                    0.3.0          \n",
            "glob2                         0.7            \n",
            "google                        2.0.3          \n",
            "google-api-core               1.16.0         \n",
            "google-api-python-client      1.7.12         \n",
            "google-auth                   1.17.2         \n",
            "google-auth-httplib2          0.0.4          \n",
            "google-auth-oauthlib          0.4.1          \n",
            "google-cloud-bigquery         1.21.0         \n",
            "google-cloud-core             1.0.3          \n",
            "google-cloud-datastore        1.8.0          \n",
            "google-cloud-firestore        1.7.0          \n",
            "google-cloud-language         1.2.0          \n",
            "google-cloud-storage          1.18.1         \n",
            "google-cloud-translate        1.5.0          \n",
            "google-colab                  1.0.0          \n",
            "google-pasta                  0.2.0          \n",
            "google-resumable-media        0.4.1          \n",
            "googleapis-common-protos      1.52.0         \n",
            "googledrivedownloader         0.4            \n",
            "graphviz                      0.10.1         \n",
            "grpcio                        1.31.0         \n",
            "gspread                       3.0.1          \n",
            "gspread-dataframe             3.0.7          \n",
            "gym                           0.17.2         \n",
            "h5py                          2.10.0         \n",
            "HeapDict                      1.0.1          \n",
            "holidays                      0.9.12         \n",
            "holoviews                     1.13.3         \n",
            "html5lib                      1.0.1          \n",
            "httpimport                    0.5.18         \n",
            "httplib2                      0.17.4         \n",
            "httplib2shim                  0.0.3          \n",
            "humanize                      0.5.1          \n",
            "hyperopt                      0.1.2          \n",
            "ideep4py                      2.0.0.post3    \n",
            "idna                          2.10           \n",
            "image                         1.5.32         \n",
            "imageio                       2.4.1          \n",
            "imagesize                     1.2.0          \n",
            "imbalanced-learn              0.4.3          \n",
            "imblearn                      0.0            \n",
            "imgaug                        0.2.9          \n",
            "importlib-metadata            1.7.0          \n",
            "imutils                       0.5.3          \n",
            "inflect                       2.1.0          \n",
            "iniconfig                     1.0.1          \n",
            "intel-openmp                  2020.0.133     \n",
            "intervaltree                  2.1.0          \n",
            "ipykernel                     4.10.1         \n",
            "ipython                       5.5.0          \n",
            "ipython-genutils              0.2.0          \n",
            "ipython-sql                   0.3.9          \n",
            "ipywidgets                    7.5.1          \n",
            "itsdangerous                  1.1.0          \n",
            "jax                           0.1.75         \n",
            "jaxlib                        0.1.52         \n",
            "jdcal                         1.4.1          \n",
            "jedi                          0.17.2         \n",
            "jieba                         0.42.1         \n",
            "Jinja2                        2.11.2         \n",
            "jmespath                      0.10.0         \n",
            "joblib                        0.16.0         \n",
            "jpeg4py                       0.1.4          \n",
            "jsonschema                    2.6.0          \n",
            "jupyter                       1.0.0          \n",
            "jupyter-client                5.3.5          \n",
            "jupyter-console               5.2.0          \n",
            "jupyter-core                  4.6.3          \n",
            "kaggle                        1.5.6          \n",
            "kapre                         0.1.3.1        \n",
            "Keras                         2.4.3          \n",
            "Keras-Preprocessing           1.1.2          \n",
            "keras-vis                     0.4.1          \n",
            "kiwisolver                    1.2.0          \n",
            "knnimpute                     0.1.0          \n",
            "librosa                       0.6.3          \n",
            "lightgbm                      2.2.3          \n",
            "llvmlite                      0.31.0         \n",
            "lmdb                          0.98           \n",
            "lucid                         0.3.8          \n",
            "LunarCalendar                 0.0.9          \n",
            "lxml                          4.2.6          \n",
            "Markdown                      3.2.2          \n",
            "MarkupSafe                    1.1.1          \n",
            "matplotlib                    3.2.2          \n",
            "matplotlib-venn               0.11.5         \n",
            "missingno                     0.4.2          \n",
            "mistune                       0.8.4          \n",
            "mizani                        0.6.0          \n",
            "mkl                           2019.0         \n",
            "mlxtend                       0.14.0         \n",
            "more-itertools                8.4.0          \n",
            "moviepy                       0.2.3.5        \n",
            "mpmath                        1.1.0          \n",
            "msgpack                       1.0.0          \n",
            "multiprocess                  0.70.10        \n",
            "multitasking                  0.0.9          \n",
            "murmurhash                    1.0.2          \n",
            "music21                       5.5.0          \n",
            "natsort                       5.5.0          \n",
            "nbconvert                     5.6.1          \n",
            "nbformat                      5.0.7          \n",
            "networkx                      2.4            \n",
            "nibabel                       3.0.2          \n",
            "nltk                          3.2.5          \n",
            "notebook                      5.3.1          \n",
            "np-utils                      0.5.12.1       \n",
            "numba                         0.48.0         \n",
            "numexpr                       2.7.1          \n",
            "numpy                         1.18.5         \n",
            "nvidia-ml-py3                 7.352.0        \n",
            "oauth2client                  4.1.3          \n",
            "oauthlib                      3.1.0          \n",
            "okgrade                       0.4.3          \n",
            "opencv-contrib-python         4.1.2.30       \n",
            "opencv-python                 4.1.2.30       \n",
            "openpyxl                      2.5.9          \n",
            "opt-einsum                    3.3.0          \n",
            "osqp                          0.6.1          \n",
            "packaging                     20.4           \n",
            "palettable                    3.3.0          \n",
            "pandas                        1.0.5          \n",
            "pandas-datareader             0.8.1          \n",
            "pandas-gbq                    0.11.0         \n",
            "pandas-profiling              1.4.1          \n",
            "pandocfilters                 1.4.2          \n",
            "panel                         0.9.7          \n",
            "param                         1.9.3          \n",
            "parso                         0.7.1          \n",
            "pathlib                       1.0.1          \n",
            "patsy                         0.5.1          \n",
            "pexpect                       4.8.0          \n",
            "pickleshare                   0.7.5          \n",
            "Pillow                        7.0.0          \n",
            "pip                           19.3.1         \n",
            "pip-tools                     4.5.1          \n",
            "plac                          1.1.3          \n",
            "plotly                        4.4.1          \n",
            "plotnine                      0.6.0          \n",
            "pluggy                        0.7.1          \n",
            "portpicker                    1.3.1          \n",
            "prefetch-generator            1.0.1          \n",
            "preshed                       3.0.2          \n",
            "prettytable                   0.7.2          \n",
            "progressbar2                  3.38.0         \n",
            "prometheus-client             0.8.0          \n",
            "promise                       2.3            \n",
            "prompt-toolkit                1.0.18         \n",
            "protobuf                      3.12.4         \n",
            "psutil                        5.4.8          \n",
            "psycopg2                      2.7.6.1        \n",
            "ptyprocess                    0.6.0          \n",
            "py                            1.9.0          \n",
            "pyarrow                       0.14.1         \n",
            "pyasn1                        0.4.8          \n",
            "pyasn1-modules                0.2.8          \n",
            "pycocotools                   2.0.1          \n",
            "pycparser                     2.20           \n",
            "pyct                          0.4.6          \n",
            "pydata-google-auth            1.1.0          \n",
            "pydot                         1.3.0          \n",
            "pydot-ng                      2.0.0          \n",
            "pydotplus                     2.0.2          \n",
            "PyDrive                       1.3.1          \n",
            "pyemd                         0.5.1          \n",
            "pyglet                        1.5.0          \n",
            "Pygments                      2.1.3          \n",
            "pygobject                     3.26.1         \n",
            "pymc3                         3.7            \n",
            "PyMeeus                       0.3.7          \n",
            "pymongo                       3.11.0         \n",
            "pymystem3                     0.2.0          \n",
            "PyOpenGL                      3.1.5          \n",
            "pyparsing                     2.4.7          \n",
            "pyrsistent                    0.16.0         \n",
            "pysndfile                     1.3.8          \n",
            "PySocks                       1.7.1          \n",
            "pystan                        2.19.1.1       \n",
            "pytest                        3.6.4          \n",
            "python-apt                    1.6.5+ubuntu0.3\n",
            "python-chess                  0.23.11        \n",
            "python-dateutil               2.8.1          \n",
            "python-louvain                0.14           \n",
            "python-slugify                4.0.1          \n",
            "python-utils                  2.4.0          \n",
            "pytz                          2018.9         \n",
            "pyviz-comms                   0.7.6          \n",
            "PyWavelets                    1.1.1          \n",
            "PyYAML                        3.13           \n",
            "pyzmq                         19.0.2         \n",
            "qtconsole                     4.7.5          \n",
            "QtPy                          1.9.0          \n",
            "regex                         2019.12.20     \n",
            "requests                      2.23.0         \n",
            "requests-oauthlib             1.3.0          \n",
            "resampy                       0.2.2          \n",
            "retrying                      1.3.3          \n",
            "rpy2                          3.2.7          \n",
            "rsa                           4.6            \n",
            "s3fs                          0.4.2          \n",
            "s3transfer                    0.3.3          \n",
            "scikit-image                  0.16.2         \n",
            "scikit-learn                  0.22.2.post1   \n",
            "scipy                         1.4.1          \n",
            "screen-resolution-extra       0.0.0          \n",
            "scs                           2.1.2          \n",
            "seaborn                       0.10.1         \n",
            "Send2Trash                    1.5.0          \n",
            "setuptools                    49.2.0         \n",
            "setuptools-git                1.2            \n",
            "Shapely                       1.7.0          \n",
            "simplegeneric                 0.8.1          \n",
            "six                           1.15.0         \n",
            "sklearn                       0.0            \n",
            "sklearn-pandas                1.8.0          \n",
            "smart-open                    2.1.0          \n",
            "snowballstemmer               2.0.0          \n",
            "sortedcontainers              2.2.2          \n",
            "spacy                         2.2.4          \n",
            "Sphinx                        1.8.5          \n",
            "sphinxcontrib-serializinghtml 1.1.4          \n",
            "sphinxcontrib-websupport      1.2.3          \n",
            "SQLAlchemy                    1.3.18         \n",
            "sqlparse                      0.3.1          \n",
            "srsly                         1.0.2          \n",
            "statsmodels                   0.10.2         \n",
            "sympy                         1.1.1          \n",
            "tables                        3.4.4          \n",
            "tabulate                      0.8.7          \n",
            "tblib                         1.7.0          \n",
            "tensorboard                   2.3.0          \n",
            "tensorboard-plugin-wit        1.7.0          \n",
            "tensorboardcolab              0.0.22         \n",
            "tensorflow                    2.3.0          \n",
            "tensorflow-addons             0.8.3          \n",
            "tensorflow-datasets           2.1.0          \n",
            "tensorflow-estimator          2.3.0          \n",
            "tensorflow-gcs-config         2.3.0          \n",
            "tensorflow-hub                0.8.0          \n",
            "tensorflow-metadata           0.22.2         \n",
            "tensorflow-privacy            0.2.2          \n",
            "tensorflow-probability        0.11.0         \n",
            "termcolor                     1.1.0          \n",
            "terminado                     0.8.3          \n",
            "testpath                      0.4.4          \n",
            "text-unidecode                1.3            \n",
            "textblob                      0.15.3         \n",
            "textgenrnn                    1.4.1          \n",
            "Theano                        1.0.5          \n",
            "thinc                         7.4.0          \n",
            "tifffile                      2020.7.24      \n",
            "toml                          0.10.1         \n",
            "toolz                         0.10.0         \n",
            "torch                         1.6.0+cu101    \n",
            "torchsummary                  1.5.1          \n",
            "torchtext                     0.3.1          \n",
            "torchvision                   0.7.0+cu101    \n",
            "tornado                       5.1.1          \n",
            "tqdm                          4.41.1         \n",
            "traitlets                     4.3.3          \n",
            "tweepy                        3.6.0          \n",
            "typeguard                     2.7.1          \n",
            "typing-extensions             3.7.4.2        \n",
            "tzlocal                       1.5.1          \n",
            "umap-learn                    0.4.6          \n",
            "uritemplate                   3.0.1          \n",
            "urllib3                       1.24.3         \n",
            "vega-datasets                 0.8.0          \n",
            "wasabi                        0.7.1          \n",
            "wcwidth                       0.2.5          \n",
            "webencodings                  0.5.1          \n",
            "Werkzeug                      1.0.1          \n",
            "wheel                         0.34.2         \n",
            "widgetsnbextension            3.5.1          \n",
            "wordcloud                     1.5.0          \n",
            "wrapt                         1.12.1         \n",
            "xarray                        0.15.1         \n",
            "xgboost                       0.90           \n",
            "xkit                          0.0.0          \n",
            "xlrd                          1.1.0          \n",
            "xlwt                          1.3.0          \n",
            "yellowbrick                   0.9.1          \n",
            "zict                          2.0.0          \n",
            "zipp                          3.1.0          \n"
          ],
          "name": "stdout"
        }
      ]
    },
    {
      "cell_type": "code",
      "metadata": {
        "id": "yEuEmadF5W0z",
        "colab_type": "code",
        "colab": {
          "base_uri": "https://localhost:8080/",
          "height": 239
        },
        "outputId": "c0861da6-843d-423f-d271-60bc861f8da5"
      },
      "source": [
        "!python -m site     #locates site packages"
      ],
      "execution_count": null,
      "outputs": [
        {
          "output_type": "stream",
          "text": [
            "sys.path = [\n",
            "    '/content',\n",
            "    '/env/python',\n",
            "    '/usr/lib/python36.zip',\n",
            "    '/usr/lib/python3.6',\n",
            "    '/usr/lib/python3.6/lib-dynload',\n",
            "    '/usr/local/lib/python3.6/dist-packages',\n",
            "    '/usr/lib/python3/dist-packages',\n",
            "]\n",
            "USER_BASE: '/root/.local' (exists)\n",
            "USER_SITE: '/root/.local/lib/python3.6/site-packages' (doesn't exist)\n",
            "ENABLE_USER_SITE: True\n"
          ],
          "name": "stdout"
        }
      ]
    },
    {
      "cell_type": "code",
      "metadata": {
        "id": "8OVkCCSh5pIn",
        "colab_type": "code",
        "colab": {
          "base_uri": "https://localhost:8080/",
          "height": 54
        },
        "outputId": "a04c90b6-f701-4dde-fa6a-10e7977737cb"
      },
      "source": [
        "import os \n",
        "import inspect\n",
        "print(inspect.getfile(inspect.currentframe()))\n",
        "print(os.path.realpath(\"ML_Lab0.ipynb\"))"
      ],
      "execution_count": null,
      "outputs": [
        {
          "output_type": "stream",
          "text": [
            "<ipython-input-17-256ad658ff49>\n",
            "/content/ML_Lab0.ipynb\n"
          ],
          "name": "stdout"
        }
      ]
    },
    {
      "cell_type": "code",
      "metadata": {
        "id": "LM60K48A6BCW",
        "colab_type": "code",
        "colab": {
          "base_uri": "https://localhost:8080/",
          "height": 349
        },
        "outputId": "4923548f-d068-4cfc-c0c1-db8f30cdbde0"
      },
      "source": [
        "import numpy as np\n",
        "#a = np.random.random((5,5))\n",
        "#b = np.random.random((5,5))\n",
        "a = np.random.randint(0,10,(5,5))\n",
        "b = np.random.randint(0,10,(5,5))\n",
        "c = np.multiply(a,b)\n",
        "print(\"Array A :\\n\",a)\n",
        "print(\"Array B :\\n\",b)\n",
        "print(\"AxB Array :\\n\",c)"
      ],
      "execution_count": null,
      "outputs": [
        {
          "output_type": "stream",
          "text": [
            "Array A :\n",
            " [[0 4 6 4 6]\n",
            " [3 9 2 3 7]\n",
            " [1 5 2 3 6]\n",
            " [2 2 3 9 5]\n",
            " [9 0 0 5 0]]\n",
            "Array B :\n",
            " [[6 5 0 8 7]\n",
            " [0 3 7 1 5]\n",
            " [4 9 3 2 9]\n",
            " [5 4 2 1 3]\n",
            " [5 0 3 0 6]]\n",
            "AxB Array :\n",
            " [[ 0 20  0 32 42]\n",
            " [ 0 27 14  3 35]\n",
            " [ 4 45  6  6 54]\n",
            " [10  8  6  9 15]\n",
            " [45  0  0  0  0]]\n"
          ],
          "name": "stdout"
        }
      ]
    },
    {
      "cell_type": "code",
      "metadata": {
        "id": "OglMcN0g82wf",
        "colab_type": "code",
        "colab": {
          "base_uri": "https://localhost:8080/",
          "height": 109
        },
        "outputId": "058d6f9f-d52e-4fa1-a4c6-d386be9814f2"
      },
      "source": [
        "sum = 0\n",
        "for _ in range(5):\n",
        "    a = np.random.randint(0,10,(5,5))\n",
        "    b = np.random.randint(0,10,(5,5))\n",
        "    sum += np.dot(a,b)\n",
        "average = sum/5\n",
        "print(\"The average 5 matrix is : \",average)"
      ],
      "execution_count": null,
      "outputs": [
        {
          "output_type": "stream",
          "text": [
            "The average 5 matrix is :  [[ 93.6 130.   88.  126.2 108. ]\n",
            " [ 97.  119.   86.8 121.6 102.8]\n",
            " [ 93.  122.8  74.8 117.  101. ]\n",
            " [ 99.2 110.2  94.  117.2 118.2]\n",
            " [ 98.2 107.4  77.8 110.2 111.4]]\n"
          ],
          "name": "stdout"
        }
      ]
    },
    {
      "cell_type": "code",
      "metadata": {
        "id": "ftKIkrPyw86L",
        "colab_type": "code",
        "colab": {}
      },
      "source": [
        "np.savetxt(\"Matrix.csv\",average,delimiter=',')"
      ],
      "execution_count": null,
      "outputs": []
    },
    {
      "cell_type": "code",
      "metadata": {
        "id": "pRAVz7IQxmwa",
        "colab_type": "code",
        "colab": {
          "base_uri": "https://localhost:8080/",
          "height": 109
        },
        "outputId": "f4b8e2ae-c574-4d9f-c752-63d0e515b050"
      },
      "source": [
        "matrix = np.genfromtxt(\"/content/Matrix.csv\",delimiter=',')    #genfromtxt is numpy function to read csv into arrays\n",
        "print(matrix.T)     #np.transpose() or adding \".T\" does the same job"
      ],
      "execution_count": null,
      "outputs": [
        {
          "output_type": "stream",
          "text": [
            "[[ 93.6  97.   93.   99.2  98.2]\n",
            " [130.  119.  122.8 110.2 107.4]\n",
            " [ 88.   86.8  74.8  94.   77.8]\n",
            " [126.2 121.6 117.  117.2 110.2]\n",
            " [108.  102.8 101.  118.2 111.4]]\n"
          ],
          "name": "stdout"
        }
      ]
    },
    {
      "cell_type": "code",
      "metadata": {
        "id": "7Za8kMIqy9PQ",
        "colab_type": "code",
        "colab": {
          "base_uri": "https://localhost:8080/",
          "height": 72
        },
        "outputId": "38cb1322-7d72-44c7-b1e2-b5d1a4d154ea"
      },
      "source": [
        "trans = matrix.T\n",
        "print(np.mean(trans))\n",
        "print(np.median(trans))\n",
        "\n",
        "from scipy.stats import mode\n",
        "mode = mode(trans, axis=None)       #Mode : most frequent element\n",
        "print(mode[0])"
      ],
      "execution_count": null,
      "outputs": [
        {
          "output_type": "stream",
          "text": [
            "105.016\n",
            "107.4\n",
            "[110.2]\n"
          ],
          "name": "stdout"
        }
      ]
    },
    {
      "cell_type": "code",
      "metadata": {
        "id": "IztnpfFr09L1",
        "colab_type": "code",
        "colab": {
          "base_uri": "https://localhost:8080/",
          "height": 109
        },
        "outputId": "f5d3fdcf-95f9-43d2-8729-ed0014d94d45"
      },
      "source": [
        "utri = np.triu(trans)\n",
        "print(utri)"
      ],
      "execution_count": null,
      "outputs": [
        {
          "output_type": "stream",
          "text": [
            "[[ 93.6  97.   93.   99.2  98.2]\n",
            " [  0.  119.  122.8 110.2 107.4]\n",
            " [  0.    0.   74.8  94.   77.8]\n",
            " [  0.    0.    0.  117.2 110.2]\n",
            " [  0.    0.    0.    0.  111.4]]\n"
          ],
          "name": "stdout"
        }
      ]
    },
    {
      "cell_type": "code",
      "metadata": {
        "id": "i2Mb0rVE1gZu",
        "colab_type": "code",
        "colab": {}
      },
      "source": [
        "import pandas as pd\n",
        "col_list = int(input(\"Enter the columns you wish to read\").split(\" \"))\n",
        "df = pd.read_csv(\"/content/Matrix.csv\",header = None,usecols=col_list)  #using header=\n",
        "print(df)"
      ],
      "execution_count": null,
      "outputs": []
    },
    {
      "cell_type": "code",
      "metadata": {
        "id": "f0w4SsU01gTa",
        "colab_type": "code",
        "colab": {}
      },
      "source": [
        ""
      ],
      "execution_count": null,
      "outputs": []
    }
  ]
}