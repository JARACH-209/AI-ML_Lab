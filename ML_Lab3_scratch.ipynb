{
  "nbformat": 4,
  "nbformat_minor": 0,
  "metadata": {
    "colab": {
      "name": "ML_Lab3_scratch.ipynb",
      "provenance": [],
      "authorship_tag": "ABX9TyNYKwKebmiXlE9Bx/U5Jqc3",
      "include_colab_link": true
    },
    "kernelspec": {
      "name": "python3",
      "display_name": "Python 3"
    }
  },
  "cells": [
    {
      "cell_type": "markdown",
      "metadata": {
        "id": "view-in-github",
        "colab_type": "text"
      },
      "source": [
        "<a href=\"https://colab.research.google.com/github/JARACH-209/AI-ML_Lab/blob/master/ML_Lab3_scratch.ipynb\" target=\"_parent\"><img src=\"https://colab.research.google.com/assets/colab-badge.svg\" alt=\"Open In Colab\"/></a>"
      ]
    },
    {
      "cell_type": "code",
      "metadata": {
        "id": "syLNZFb_Nnc0",
        "colab_type": "code",
        "colab": {
          "base_uri": "https://localhost:8080/",
          "height": 36
        },
        "outputId": "10bd95eb-de3e-4423-b779-4a93fa5e36f8"
      },
      "source": [
        "import numpy as np\n",
        "import pandas as pd\n",
        "import matplotlib.pyplot as plt\n",
        "from sklearn.model_selection import train_test_split\n",
        "from sklearn import preprocessing\n",
        "from sklearn.metrics import mean_absolute_error\n",
        "from sklearn.metrics import r2_score\n",
        "from numpy.random import sample\n",
        "%matplotlib inline\n",
        "\n",
        "df = pd.read_excel(\"/content/insurance_dataset.xls\")"
      ],
      "execution_count": 206,
      "outputs": [
        {
          "output_type": "stream",
          "text": [
            "*** No CODEPAGE record, no encoding_override: will use 'ascii'\n"
          ],
          "name": "stdout"
        }
      ]
    },
    {
      "cell_type": "code",
      "metadata": {
        "id": "uoUWd_PZUX5w",
        "colab_type": "code",
        "colab": {}
      },
      "source": [
        "#Train and Test set split into 80% and 20% respectively\n",
        "x_train, x_rest, y_train, y_rest = train_test_split(df.X,df.Y,test_size = .4,random_state =0)\n",
        "#Rest of the 40% set split into equal parts of Train and Validation set \n",
        "x_test, x_val, y_test, y_val = train_test_split(x_train,y_train,test_size = .5,random_state = 0)\n",
        "#Therefore : Train = 60%, Test = 20% and Validation = 20%"
      ],
      "execution_count": 207,
      "outputs": []
    },
    {
      "cell_type": "code",
      "metadata": {
        "id": "4RY3Bt3zTfmn",
        "colab_type": "code",
        "colab": {
          "base_uri": "https://localhost:8080/",
          "height": 36
        },
        "outputId": "e029bce0-9436-46a5-cd31-edbbe564da6f"
      },
      "source": [
        "x_mean = np.mean(x_train)\n",
        "y_mean = np.mean(y_train)\n",
        "n = len(x_train)# using the formula to calculate the b1 and b0\n",
        "numerator = 0\n",
        "denominator = 0\n",
        "X = np.array(x_train)\n",
        "Y = np.array(y_train)\n",
        "for i in range(n):\n",
        "    numerator += (X[i] - x_mean) * (Y[i] - y_mean)\n",
        "    denominator += (X[i] - x_mean) ** 2\n",
        "    \n",
        "b1 = numerator / denominator\n",
        "b0 = y_mean - (b1 * x_mean)\n",
        "C = b0\n",
        "M = b1\n",
        "print(b1, b0)"
      ],
      "execution_count": 208,
      "outputs": [
        {
          "output_type": "stream",
          "text": [
            "3.416948742599191 18.31114211789668\n"
          ],
          "name": "stdout"
        }
      ]
    },
    {
      "cell_type": "markdown",
      "metadata": {
        "id": "IjHBujZfUpaw",
        "colab_type": "text"
      },
      "source": [
        "intercept and slope on whole set : \n",
        "3.4138235600663664 19.99448575911481"
      ]
    },
    {
      "cell_type": "code",
      "metadata": {
        "id": "ojOk2MRvVdoL",
        "colab_type": "code",
        "colab": {}
      },
      "source": [
        "def pred_y(x):\n",
        "    return (C + M * x)\n",
        "    \n",
        "def predict(x):\n",
        "    y_pred = []\n",
        "    for value in x:\n",
        "        y_pred.append(pred_y(value))\n",
        "    return y_pred"
      ],
      "execution_count": 209,
      "outputs": []
    },
    {
      "cell_type": "code",
      "metadata": {
        "id": "ch3npxcUV_ez",
        "colab_type": "code",
        "colab": {
          "base_uri": "https://localhost:8080/",
          "height": 284
        },
        "outputId": "1aa3482a-b591-4b6c-bf69-6905cb47318c"
      },
      "source": [
        "plt.scatter(x_train,y_train)\n",
        "plt.plot(x_train,predict(x_train),color = \"red\")    #best fit line"
      ],
      "execution_count": 210,
      "outputs": [
        {
          "output_type": "execute_result",
          "data": {
            "text/plain": [
              "[<matplotlib.lines.Line2D at 0x7fd9a31fcc88>]"
            ]
          },
          "metadata": {
            "tags": []
          },
          "execution_count": 210
        },
        {
          "output_type": "display_data",
          "data": {
            "image/png": "[encoded data removed]",
            "text/plain": [
              "<Figure size 432x288 with 1 Axes>"
            ]
          },
          "metadata": {
            "tags": [],
            "needs_background": "light"
          }
        }
      ]
    },
    {
      "cell_type": "code",
      "metadata": {
        "id": "l32_A23fXZBn",
        "colab_type": "code",
        "colab": {
          "base_uri": "https://localhost:8080/",
          "height": 54
        },
        "outputId": "20699d71-6c19-498a-9957-a94e784fb875"
      },
      "source": [
        "print(\"Mean Absolute Error on Test:  %.3f\" % mean_absolute_error(y_test,predict(x_test)))\n",
        "print(\"Mean Absolute Error on Train: %.3f\" %mean_absolute_error(y_train,predict(x_train)))"
      ],
      "execution_count": 211,
      "outputs": [
        {
          "output_type": "stream",
          "text": [
            "Mean Absolute Error on Test:  30.821\n",
            "Mean Absolute Error on Train: 29.748\n"
          ],
          "name": "stdout"
        }
      ]
    },
    {
      "cell_type": "markdown",
      "metadata": {
        "id": "vQJy5BVMvlg5",
        "colab_type": "text"
      },
      "source": [
        "Using Gradient descent\n"
      ]
    },
    {
      "cell_type": "code",
      "metadata": {
        "id": "tbL5UDwj1QWX",
        "colab_type": "code",
        "colab": {}
      },
      "source": [
        "x_train = np.array(x_train)\n",
        "x_test = np.array(x_test)\n",
        "y_train = np.array(x_train)\n",
        "y_test = np.array(x_test)\n",
        "x_train = x_train.reshape(-1,1)\n",
        "y_train = y_train.reshape(-1,1)\n",
        "x_test = x_test.reshape(-1,1)\n",
        "y_test = y_test.reshape(-1,1)"
      ],
      "execution_count": 212,
      "outputs": []
    },
    {
      "cell_type": "code",
      "metadata": {
        "id": "DmysybYZ0__G",
        "colab_type": "code",
        "colab": {}
      },
      "source": [
        "scaler = preprocessing.StandardScaler().fit(x_train)\n",
        "x_train = scaler.transform(x_train)\n",
        "x_test=scaler.transform(x_test)"
      ],
      "execution_count": 213,
      "outputs": []
    },
    {
      "cell_type": "code",
      "metadata": {
        "id": "xzmwA_muvodp",
        "colab_type": "code",
        "colab": {}
      },
      "source": [
        "def gradientDescent(x,y,lr, epochs):\n",
        "    costs = []\n",
        "    b0, b1 = 0.0, 1.0\n",
        "    for epoch in range(epochs):\n",
        "        # initialize to 0 -> cost of epoch, Jb_0, Jb_1\n",
        "        epoch_cost, cost_b0, cost_b1 = 0, 0, 0\n",
        "        \n",
        "        for i in range(len(x)):\n",
        "            # make prediction\n",
        "            y_pred = (b0 + b1*x[i])\n",
        "            # append squared error\n",
        "            epoch_cost += (y[i] - y_pred)**2 \n",
        "            \n",
        "            for j in range(len(x)):\n",
        "                # partial derivative of b0 and b1 for current row\n",
        "                partial_wrt_b0 = -2 * (y[j] - (b0 + b1*x[j]))\n",
        "                partial_wrt_b1 = (-2 * x[j]) * (y[j] - (b0 + b1*x[j]))\n",
        "                \n",
        "                # increase cost of coeffs\n",
        "                cost_b0 += partial_wrt_b0\n",
        "                cost_b1 += partial_wrt_b1\n",
        "\n",
        "            # calculate new coeffs\n",
        "            b0 = b0 - lr * cost_b0\n",
        "            b1 = b1 - lr * cost_b1\n",
        "            \n",
        "        # keep track of errors - for visualization purposes\n",
        "        costs.append(epoch_cost)\n",
        "    return b0,b1,costs\n"
      ],
      "execution_count": 214,
      "outputs": []
    },
    {
      "cell_type": "code",
      "metadata": {
        "id": "hOIdvIY9yvLK",
        "colab_type": "code",
        "colab": {}
      },
      "source": [
        "C,M,costs = gradientDescent(x_train,y_train,0.001,15)"
      ],
      "execution_count": 215,
      "outputs": []
    },
    {
      "cell_type": "code",
      "metadata": {
        "id": "8RXhEJ087fdA",
        "colab_type": "code",
        "colab": {}
      },
      "source": [
        "def predict(x,C,M):\n",
        "    y_pred = []\n",
        "    for value in x:\n",
        "        y = (C + M * value)\n",
        "        y_pred.append(y)\n",
        "    return y_pred"
      ],
      "execution_count": 216,
      "outputs": []
    },
    {
      "cell_type": "code",
      "metadata": {
        "id": "VWHlr0Hx7sJG",
        "colab_type": "code",
        "colab": {
          "base_uri": "https://localhost:8080/",
          "height": 286
        },
        "outputId": "a8114be5-c87a-47eb-fdd6-e7a6390f587c"
      },
      "source": [
        "plt.plot(range(1,len(costs)+1),costs)"
      ],
      "execution_count": 217,
      "outputs": [
        {
          "output_type": "execute_result",
          "data": {
            "text/plain": [
              "[<matplotlib.lines.Line2D at 0x7fd9a31227b8>]"
            ]
          },
          "metadata": {
            "tags": []
          },
          "execution_count": 217
        },
        {
          "output_type": "display_data",
          "data": {
            "image/png": "[encoded data removed]",
            "text/plain": [
              "<Figure size 432x288 with 1 Axes>"
            ]
          },
          "metadata": {
            "tags": [],
            "needs_background": "light"
          }
        }
      ]
    },
    {
      "cell_type": "code",
      "metadata": {
        "id": "kBmZxXMP8xTN",
        "colab_type": "code",
        "colab": {}
      },
      "source": [
        "y_pred = predict(x_test,C,M)"
      ],
      "execution_count": 218,
      "outputs": []
    },
    {
      "cell_type": "code",
      "metadata": {
        "id": "R0RC6YG-86rL",
        "colab_type": "code",
        "colab": {
          "base_uri": "https://localhost:8080/",
          "height": 54
        },
        "outputId": "a89b7f54-82c5-464f-a997-c7ba72a8ab6a"
      },
      "source": [
        "print(\"Mean Absolute Error on Test:  %.3f\" %mean_absolute_error(y_test.reshape(-1,1),y_pred))\n",
        "print(\"Mean Absolute Error on Train: %.3f\" %mean_absolute_error(y_train,predict(x_train,C,M)))"
      ],
      "execution_count": 219,
      "outputs": [
        {
          "output_type": "stream",
          "text": [
            "Mean Absolute Error on Test:  0.080\n",
            "Mean Absolute Error on Train: 0.117\n"
          ],
          "name": "stdout"
        }
      ]
    },
    {
      "cell_type": "code",
      "metadata": {
        "id": "k5AEq77R--bz",
        "colab_type": "code",
        "colab": {
          "base_uri": "https://localhost:8080/",
          "height": 36
        },
        "outputId": "225f839f-60f1-43ce-e8ee-61e6a0d2b166"
      },
      "source": [
        "print(r2_score(y_train,predict(x_train,C,M)))"
      ],
      "execution_count": 220,
      "outputs": [
        {
          "output_type": "stream",
          "text": [
            "0.9999624052841763\n"
          ],
          "name": "stdout"
        }
      ]
    },
    {
      "cell_type": "markdown",
      "metadata": {
        "id": "5QWWCvFA-Pj6",
        "colab_type": "text"
      },
      "source": [
        "Part 2 : Boston Housing "
      ]
    },
    {
      "cell_type": "code",
      "metadata": {
        "id": "rAg9ReBk-PKb",
        "colab_type": "code",
        "colab": {
          "base_uri": "https://localhost:8080/",
          "height": 206
        },
        "outputId": "002c7980-d63e-46e3-fc03-c38061ed35d6"
      },
      "source": [
        "from sklearn.datasets import load_boston\n",
        "\n",
        "boston_df = pd.DataFrame(load_boston().data,columns = load_boston().feature_names)\n",
        "\n",
        "y = load_boston().target\n",
        "x = load_boston().data\n",
        "\n",
        "boston_df.head(5)"
      ],
      "execution_count": 221,
      "outputs": [
        {
          "output_type": "execute_result",
          "data": {
            "text/html": [
              "<div>\n",
              "<style scoped>\n",
              "    .dataframe tbody tr th:only-of-type {\n",
              "        vertical-align: middle;\n",
              "    }\n",
              "\n",
              "    .dataframe tbody tr th {\n",
              "        vertical-align: top;\n",
              "    }\n",
              "\n",
              "    .dataframe thead th {\n",
              "        text-align: right;\n",
              "    }\n",
              "</style>\n",
              "<table border=\"1\" class=\"dataframe\">\n",
              "  <thead>\n",
              "    <tr style=\"text-align: right;\">\n",
              "      <th></th>\n",
              "      <th>CRIM</th>\n",
              "      <th>ZN</th>\n",
              "      <th>INDUS</th>\n",
              "      <th>CHAS</th>\n",
              "      <th>NOX</th>\n",
              "      <th>RM</th>\n",
              "      <th>AGE</th>\n",
              "      <th>DIS</th>\n",
              "      <th>RAD</th>\n",
              "      <th>TAX</th>\n",
              "      <th>PTRATIO</th>\n",
              "      <th>B</th>\n",
              "      <th>LSTAT</th>\n",
              "    </tr>\n",
              "  </thead>\n",
              "  <tbody>\n",
              "    <tr>\n",
              "      <th>0</th>\n",
              "      <td>0.00632</td>\n",
              "      <td>18.0</td>\n",
              "      <td>2.31</td>\n",
              "      <td>0.0</td>\n",
              "      <td>0.538</td>\n",
              "      <td>6.575</td>\n",
              "      <td>65.2</td>\n",
              "      <td>4.0900</td>\n",
              "      <td>1.0</td>\n",
              "      <td>296.0</td>\n",
              "      <td>15.3</td>\n",
              "      <td>396.90</td>\n",
              "      <td>4.98</td>\n",
              "    </tr>\n",
              "    <tr>\n",
              "      <th>1</th>\n",
              "      <td>0.02731</td>\n",
              "      <td>0.0</td>\n",
              "      <td>7.07</td>\n",
              "      <td>0.0</td>\n",
              "      <td>0.469</td>\n",
              "      <td>6.421</td>\n",
              "      <td>78.9</td>\n",
              "      <td>4.9671</td>\n",
              "      <td>2.0</td>\n",
              "      <td>242.0</td>\n",
              "      <td>17.8</td>\n",
              "      <td>396.90</td>\n",
              "      <td>9.14</td>\n",
              "    </tr>\n",
              "    <tr>\n",
              "      <th>2</th>\n",
              "      <td>0.02729</td>\n",
              "      <td>0.0</td>\n",
              "      <td>7.07</td>\n",
              "      <td>0.0</td>\n",
              "      <td>0.469</td>\n",
              "      <td>7.185</td>\n",
              "      <td>61.1</td>\n",
              "      <td>4.9671</td>\n",
              "      <td>2.0</td>\n",
              "      <td>242.0</td>\n",
              "      <td>17.8</td>\n",
              "      <td>392.83</td>\n",
              "      <td>4.03</td>\n",
              "    </tr>\n",
              "    <tr>\n",
              "      <th>3</th>\n",
              "      <td>0.03237</td>\n",
              "      <td>0.0</td>\n",
              "      <td>2.18</td>\n",
              "      <td>0.0</td>\n",
              "      <td>0.458</td>\n",
              "      <td>6.998</td>\n",
              "      <td>45.8</td>\n",
              "      <td>6.0622</td>\n",
              "      <td>3.0</td>\n",
              "      <td>222.0</td>\n",
              "      <td>18.7</td>\n",
              "      <td>394.63</td>\n",
              "      <td>2.94</td>\n",
              "    </tr>\n",
              "    <tr>\n",
              "      <th>4</th>\n",
              "      <td>0.06905</td>\n",
              "      <td>0.0</td>\n",
              "      <td>2.18</td>\n",
              "      <td>0.0</td>\n",
              "      <td>0.458</td>\n",
              "      <td>7.147</td>\n",
              "      <td>54.2</td>\n",
              "      <td>6.0622</td>\n",
              "      <td>3.0</td>\n",
              "      <td>222.0</td>\n",
              "      <td>18.7</td>\n",
              "      <td>396.90</td>\n",
              "      <td>5.33</td>\n",
              "    </tr>\n",
              "  </tbody>\n",
              "</table>\n",
              "</div>"
            ],
            "text/plain": [
              "      CRIM    ZN  INDUS  CHAS    NOX  ...  RAD    TAX  PTRATIO       B  LSTAT\n",
              "0  0.00632  18.0   2.31   0.0  0.538  ...  1.0  296.0     15.3  396.90   4.98\n",
              "1  0.02731   0.0   7.07   0.0  0.469  ...  2.0  242.0     17.8  396.90   9.14\n",
              "2  0.02729   0.0   7.07   0.0  0.469  ...  2.0  242.0     17.8  392.83   4.03\n",
              "3  0.03237   0.0   2.18   0.0  0.458  ...  3.0  222.0     18.7  394.63   2.94\n",
              "4  0.06905   0.0   2.18   0.0  0.458  ...  3.0  222.0     18.7  396.90   5.33\n",
              "\n",
              "[5 rows x 13 columns]"
            ]
          },
          "metadata": {
            "tags": []
          },
          "execution_count": 221
        }
      ]
    },
    {
      "cell_type": "code",
      "metadata": {
        "id": "dubNC3RF_psq",
        "colab_type": "code",
        "colab": {}
      },
      "source": [
        "#Train and Test set split into 80% and 20% respectively\n",
        "x_train, x_rest, y_train, y_rest = train_test_split(x,y,test_size = .4,random_state =0)\n",
        "\n",
        "#Rest of the 40% set split into equal parts of Train and Validation set \n",
        "x_test, x_val, y_test, y_val = train_test_split(x_train,y_train,test_size = .5,random_state = 0)\n",
        "\n",
        "#Therefore : Train = 60%, Test = 20% and Validation = 20%"
      ],
      "execution_count": 222,
      "outputs": []
    },
    {
      "cell_type": "code",
      "metadata": {
        "id": "4jmitQm2_zsB",
        "colab_type": "code",
        "colab": {}
      },
      "source": [
        "scaler = preprocessing.StandardScaler().fit(x_train)\n",
        "x_train = scaler.transform(x_train)\n",
        "x_test = scaler.transform(x_test)\n",
        "x_val = scaler.transform(x_val)\n",
        "\n",
        "y_train = y_train.reshape(-1)\n",
        "y_test = y_test.reshape(-1)\n",
        "y_val = y_val.reshape(-1)"
      ],
      "execution_count": 223,
      "outputs": []
    },
    {
      "cell_type": "code",
      "metadata": {
        "id": "1fG1nr55DT9t",
        "colab_type": "code",
        "colab": {}
      },
      "source": [
        "def multiGrad(train_data,learning_rate,n_iter,k):\n",
        "    \n",
        "    # Initially we will keep our W and B as 0 as per the Training Data\n",
        "    w=np.zeros(shape=(1,train_data.shape[1]-1))\n",
        "    b=0\n",
        "    \n",
        "    cur_iter=1\n",
        "    while(cur_iter<=n_iter): \n",
        "\n",
        "        # create a small training data set of size K (Batches of size K)\n",
        "        temp=train_data.sample(k)\n",
        "        \n",
        "        # X and Y from the above temp dataset\n",
        "        y=np.array(temp[13])\n",
        "        x=np.array(temp.drop(13,axis=1))\n",
        "        \n",
        "        # initial gradients as 0\n",
        "        w_gradient=np.zeros(shape=(1,train_data.shape[1]-1))\n",
        "        b_gradient=0\n",
        "        \n",
        "        for i in range(k): # Calculating gradients for point in our dataset\n",
        "            prediction=np.dot(w,x[i])+b\n",
        "            w_gradient=w_gradient+(-2)*x[i]*(y[i]-(prediction))\n",
        "            b_gradient=b_gradient+(-2)*(y[i]-(prediction))\n",
        "        \n",
        "        #Updating the weights(W) and Bias(b) with the above calculated Gradients\n",
        "        w=w-learning_rate*(w_gradient/k)\n",
        "        b=b-learning_rate*(b_gradient/k)\n",
        "        \n",
        "        cur_iter=cur_iter+1\n",
        "    return w,b #Returning the weights and Bias"
      ],
      "execution_count": 224,
      "outputs": []
    },
    {
      "cell_type": "code",
      "metadata": {
        "id": "Ihno354tG_y1",
        "colab_type": "code",
        "colab": {}
      },
      "source": [
        "def predict(x,w,b):\n",
        "    y_pred=[]\n",
        "    for i in range(len(x)):\n",
        "        y=np.asscalar(np.dot(w,x[i])+b)\n",
        "        y_pred.append(y)\n",
        "    return np.array(y_pred)"
      ],
      "execution_count": 225,
      "outputs": []
    },
    {
      "cell_type": "code",
      "metadata": {
        "id": "1ZwcHLbcENu9",
        "colab_type": "code",
        "colab": {}
      },
      "source": [
        "train_data = pd.DataFrame(x_train)\n",
        "train_data[13] = y_train"
      ],
      "execution_count": 226,
      "outputs": []
    },
    {
      "cell_type": "code",
      "metadata": {
        "id": "SXWUTvcf_53_",
        "colab_type": "code",
        "colab": {}
      },
      "source": [
        "w,b = multiGrad(train_data,0.001,1000,10)   #using our Gradient Descent regressor"
      ],
      "execution_count": 227,
      "outputs": []
    },
    {
      "cell_type": "code",
      "metadata": {
        "id": "pjPUqza-GwjR",
        "colab_type": "code",
        "colab": {}
      },
      "source": [
        "y_pred = predict(x_test,w,b)\n",
        "y_pred_train = predict(x_train,w,b)"
      ],
      "execution_count": null,
      "outputs": []
    },
    {
      "cell_type": "code",
      "metadata": {
        "id": "CQ-Ymd9RHxBo",
        "colab_type": "code",
        "colab": {
          "base_uri": "https://localhost:8080/",
          "height": 54
        },
        "outputId": "bd44d863-a17d-43e2-b290-7d15d62caf0c"
      },
      "source": [
        "print(\"Mean Absolute Error on Test:  %.3f\" % mean_absolute_error(y_test,y_pred))\n",
        "print(\"Mean Absolute Error on Train: %.3f\" %mean_absolute_error(y_train,y_pred_train))"
      ],
      "execution_count": 274,
      "outputs": [
        {
          "output_type": "stream",
          "text": [
            "Mean Absolute Error on Test:  3.685\n",
            "Mean Absolute Error on Train: 3.770\n"
          ],
          "name": "stdout"
        }
      ]
    }
  ]
}