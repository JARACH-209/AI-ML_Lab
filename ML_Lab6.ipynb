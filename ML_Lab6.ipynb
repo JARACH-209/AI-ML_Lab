{
  "nbformat": 4,
  "nbformat_minor": 0,
  "metadata": {
    "colab": {
      "name": "ML_Lab6.ipynb",
      "provenance": [],
      "collapsed_sections": [],
      "authorship_tag": "ABX9TyOCLtzfq7EL7uREDapFV/3Z",
      "include_colab_link": true
    },
    "kernelspec": {
      "name": "python3",
      "display_name": "Python 3"
    }
  },
  "cells": [
    {
      "cell_type": "markdown",
      "metadata": {
        "id": "view-in-github",
        "colab_type": "text"
      },
      "source": [
        "<a href=\"https://colab.research.google.com/github/JARACH-209/AI-ML_Lab/blob/master/ML_Lab6.ipynb\" target=\"_parent\"><img src=\"https://colab.research.google.com/assets/colab-badge.svg\" alt=\"Open In Colab\"/></a>"
      ]
    },
    {
      "cell_type": "code",
      "metadata": {
        "id": "Yt_vTzNaDxfR"
      },
      "source": [
        "from sklearn.model_selection import train_test_split\n",
        "from sklearn.datasets import load_iris\n",
        "from sklearn import preprocessing\n",
        "from sklearn import preprocessing\n",
        "from sklearn.metrics import accuracy_score\n",
        "import numpy as np\n",
        "import pandas as pd\n",
        "import matplotlib.pyplot as plt\n",
        "%matplotlib inline"
      ],
      "execution_count": 85,
      "outputs": []
    },
    {
      "cell_type": "code",
      "metadata": {
        "id": "BQjNhT53EyeA"
      },
      "source": [
        "x,y = load_iris(return_X_y= True)"
      ],
      "execution_count": 86,
      "outputs": []
    },
    {
      "cell_type": "code",
      "metadata": {
        "id": "dSHa_4GAmvVN"
      },
      "source": [
        "df_x = pd.DataFrame(x)"
      ],
      "execution_count": 87,
      "outputs": []
    },
    {
      "cell_type": "code",
      "metadata": {
        "id": "0ho4ChcfmOZl",
        "outputId": "880d039f-5527-4be6-9b03-89b5661e7511",
        "colab": {
          "base_uri": "https://localhost:8080/",
          "height": 284
        }
      },
      "source": [
        "plt.scatter(df_x[0],df_x[2],cmap=\"autumn\",c=y)"
      ],
      "execution_count": 88,
      "outputs": [
        {
          "output_type": "execute_result",
          "data": {
            "text/plain": [
              "<matplotlib.collections.PathCollection at 0x7f610fda30b8>"
            ]
          },
          "metadata": {
            "tags": []
          },
          "execution_count": 88
        },
        {
          "output_type": "display_data",
          "data": {
            "image/png": "[encoded data removed]",
            "text/plain": [
              "<Figure size 432x288 with 1 Axes>"
            ]
          },
          "metadata": {
            "tags": [],
            "needs_background": "light"
          }
        }
      ]
    },
    {
      "cell_type": "code",
      "metadata": {
        "id": "rAqkFSH5gdVF",
        "outputId": "f65e2a39-4b92-407f-e3de-f47a486e0edc",
        "colab": {
          "base_uri": "https://localhost:8080/",
          "height": 148
        }
      },
      "source": [
        "y"
      ],
      "execution_count": 89,
      "outputs": [
        {
          "output_type": "execute_result",
          "data": {
            "text/plain": [
              "array([0, 0, 0, 0, 0, 0, 0, 0, 0, 0, 0, 0, 0, 0, 0, 0, 0, 0, 0, 0, 0, 0,\n",
              "       0, 0, 0, 0, 0, 0, 0, 0, 0, 0, 0, 0, 0, 0, 0, 0, 0, 0, 0, 0, 0, 0,\n",
              "       0, 0, 0, 0, 0, 0, 1, 1, 1, 1, 1, 1, 1, 1, 1, 1, 1, 1, 1, 1, 1, 1,\n",
              "       1, 1, 1, 1, 1, 1, 1, 1, 1, 1, 1, 1, 1, 1, 1, 1, 1, 1, 1, 1, 1, 1,\n",
              "       1, 1, 1, 1, 1, 1, 1, 1, 1, 1, 1, 1, 2, 2, 2, 2, 2, 2, 2, 2, 2, 2,\n",
              "       2, 2, 2, 2, 2, 2, 2, 2, 2, 2, 2, 2, 2, 2, 2, 2, 2, 2, 2, 2, 2, 2,\n",
              "       2, 2, 2, 2, 2, 2, 2, 2, 2, 2, 2, 2, 2, 2, 2, 2, 2, 2])"
            ]
          },
          "metadata": {
            "tags": []
          },
          "execution_count": 89
        }
      ]
    },
    {
      "cell_type": "code",
      "metadata": {
        "id": "MZ-xyWobf1Qy"
      },
      "source": [
        "'''\n",
        "x_1=x[:40]\n",
        "x_2=x[50:90]\n",
        "x_3=x[100:140]\n",
        "y_1=y[:40]\n",
        "y_2=y[50:90]\n",
        "y_3=y[np.where(y==2)[0][0]:140]\n",
        "'''\n",
        "x_train, x_test, y_train, y_test = train_test_split(x,y, test_size = 0.1)\n",
        "scaler = preprocessing.StandardScaler().fit(x_train)\n",
        "x_train = scaler.transform(x_train)\n",
        "x_test = scaler.transform(x_test)\n",
        "\n",
        "y_train = y_train.reshape(-1)"
      ],
      "execution_count": 90,
      "outputs": []
    },
    {
      "cell_type": "code",
      "metadata": {
        "id": "Wv1VnPzAnsIN"
      },
      "source": [
        "class SLP():\n",
        "\n",
        "    def __init__(self):\n",
        "        self.weights = None\n",
        "        self.bias = None\n",
        "        self.optimal_w = 0\n",
        "        self.optimal_b = 0 \n",
        "\n",
        "    def activation(self,x):\n",
        "        return 1 if (np.dot(self.weights,x) > self.bias) else 0\n",
        "\n",
        "    def optimal_act(self,x):\n",
        "        return 1 if (np.dot(self.optimal_w,x) > self.optimal_b) else 0\n",
        "\n",
        "    def predict(self,X):\n",
        "        y = []\n",
        "        for x in X:\n",
        "            y.append(self.optimal_act(x))\n",
        "        return np.array(y)\n",
        "        \n",
        "    def predictions(self,X):\n",
        "        y = []\n",
        "        for x in X:\n",
        "            y.append(self.activation(x))\n",
        "        return np.array(y)\n",
        "        \n",
        "    def fit(self,X,Y,learning_rate,iterations):\n",
        "        self.weights = np.zeros(X.shape[1])\n",
        "        self.bias = 0\n",
        "        accuracy = {}\n",
        "        self.optimal_w = np.zeros(X.shape[1])\n",
        "        best_w = np.zeros(X.shape[1])\n",
        "        best_b = 0\n",
        "        best_acc = 0\n",
        "\n",
        "        # for all the iterations\n",
        "        for epoch in range(iterations):\n",
        "            for x,y in zip(X,Y):\n",
        "                y_predicted = self.activation(x)\n",
        "\n",
        "                if y_predicted == 0 and y == 1:\n",
        "                    self.weights = self.weights + learning_rate*x\n",
        "                    self.bias = self.bias - learning_rate\n",
        "                if y_predicted == 1 and y == 0:\n",
        "                    self.weights = self.weights - learning_rate*x\n",
        "                    self.bias = self.bias + learning_rate\n",
        "\n",
        "            accuracy[epoch] = accuracy_score(self.predictions(X), Y)\n",
        "            if accuracy[epoch] > best_acc:\n",
        "                best_acc = accuracy[epoch]\n",
        "                best_w = self.weights\n",
        "                best_b = self.bias\n",
        "        self.optimal_w = best_w\n",
        "        self.optimal_b = best_b\n",
        "        return accuracy\n"
      ],
      "execution_count": 132,
      "outputs": []
    },
    {
      "cell_type": "code",
      "metadata": {
        "id": "Y1CkBQWlcehO"
      },
      "source": [
        "#making the training sets for all the three SLPs\n",
        "y_0 = []\n",
        "y_1 = []\n",
        "y_2 = []\n",
        "\n",
        "for each in y_train:\n",
        "    if each == 0:\n",
        "        y_0.extend([1])\n",
        "    else: \n",
        "        y_0.extend([0])\n",
        "    if each == 1:\n",
        "        y_1.extend([1])\n",
        "    else: \n",
        "        y_1.extend([0])\n",
        "    if each == 2:\n",
        "        y_2.extend([1])\n",
        "    else: \n",
        "        y_2.extend([0])\n"
      ],
      "execution_count": 93,
      "outputs": []
    },
    {
      "cell_type": "markdown",
      "metadata": {
        "id": "K8NgZqTtmu4l"
      },
      "source": [
        "##Testing our SLP"
      ]
    },
    {
      "cell_type": "code",
      "metadata": {
        "id": "mNlgCJ0lg08D"
      },
      "source": [
        "slp_test = SLP()\n",
        "acc = slp_test.fit(x_train,y_0, 0.01, 5)"
      ],
      "execution_count": 94,
      "outputs": []
    },
    {
      "cell_type": "code",
      "metadata": {
        "id": "2IVbnX_6f7RI",
        "outputId": "b020f289-9c9a-4ceb-b64c-f79ebfee1518",
        "colab": {
          "base_uri": "https://localhost:8080/",
          "height": 284
        }
      },
      "source": [
        "plt.plot(list(acc.keys()),list(acc.values()))"
      ],
      "execution_count": 95,
      "outputs": [
        {
          "output_type": "execute_result",
          "data": {
            "text/plain": [
              "[<matplotlib.lines.Line2D at 0x7f610fd84550>]"
            ]
          },
          "metadata": {
            "tags": []
          },
          "execution_count": 95
        },
        {
          "output_type": "display_data",
          "data": {
            "image/png": "[encoded data removed]",
            "text/plain": [
              "<Figure size 432x288 with 1 Axes>"
            ]
          },
          "metadata": {
            "tags": [],
            "needs_background": "light"
          }
        }
      ]
    },
    {
      "cell_type": "code",
      "metadata": {
        "id": "YdAPHrKUnrw2"
      },
      "source": [
        "y_0_test = []\n",
        "for each in y_test:\n",
        "    if each == 0:\n",
        "        y_0_test.extend([1])\n",
        "    else: \n",
        "        y_0_test.extend([0])"
      ],
      "execution_count": 96,
      "outputs": []
    },
    {
      "cell_type": "code",
      "metadata": {
        "id": "g-L7iG9d5Zmg",
        "outputId": "bfdd361e-d1b4-4dfb-fbb2-7f3494a00baf",
        "colab": {
          "base_uri": "https://localhost:8080/",
          "height": 36
        }
      },
      "source": [
        "slp_test.predict(x_test)"
      ],
      "execution_count": 97,
      "outputs": [
        {
          "output_type": "execute_result",
          "data": {
            "text/plain": [
              "array([1, 0, 1, 1, 0, 0, 0, 1, 0, 1, 0, 0, 0, 1, 0])"
            ]
          },
          "metadata": {
            "tags": []
          },
          "execution_count": 97
        }
      ]
    },
    {
      "cell_type": "code",
      "metadata": {
        "id": "w2wmswHd5RZy",
        "outputId": "5ae2bca2-d228-4a26-bf5e-3d8cfe0f0fe0",
        "colab": {
          "base_uri": "https://localhost:8080/",
          "height": 36
        }
      },
      "source": [
        "y_0_test"
      ],
      "execution_count": 98,
      "outputs": [
        {
          "output_type": "execute_result",
          "data": {
            "text/plain": [
              "[1, 0, 1, 1, 0, 0, 0, 1, 0, 1, 0, 0, 0, 1, 0]"
            ]
          },
          "metadata": {
            "tags": []
          },
          "execution_count": 98
        }
      ]
    },
    {
      "cell_type": "code",
      "metadata": {
        "id": "F8pjeM5cnWaa",
        "outputId": "0947e150-23b6-4660-d4e5-6b30d4265eac",
        "colab": {
          "base_uri": "https://localhost:8080/",
          "height": 36
        }
      },
      "source": [
        "print(\"Test Accuracy : %0.2f\"%(accuracy_score(y_0_test,slp_test.predict(x_test))*100),\"%\")"
      ],
      "execution_count": 99,
      "outputs": [
        {
          "output_type": "stream",
          "text": [
            "Test Accuracy : 100.00 %\n"
          ],
          "name": "stdout"
        }
      ]
    },
    {
      "cell_type": "markdown",
      "metadata": {
        "id": "lIZBJZUJmz7v"
      },
      "source": [
        "----"
      ]
    },
    {
      "cell_type": "markdown",
      "metadata": {
        "id": "NQKGpQ4HvnCu"
      },
      "source": [
        "##Testing the SLP on linearly separable datasets "
      ]
    },
    {
      "cell_type": "code",
      "metadata": {
        "id": "viUhthNMthvb"
      },
      "source": [
        "slp_test2 = SLP()\n",
        "acc = slp_test2.fit(x_train, y_1, 0.01, 100)"
      ],
      "execution_count": 133,
      "outputs": []
    },
    {
      "cell_type": "code",
      "metadata": {
        "id": "ngVIITZzvvyv",
        "outputId": "947c312b-e275-4149-be41-71d74d1b6b16",
        "colab": {
          "base_uri": "https://localhost:8080/",
          "height": 285
        }
      },
      "source": [
        "plt.plot(list(acc.keys()), list(acc.values()))      #Graph is noisy probably because of non-lineary separable data"
      ],
      "execution_count": 134,
      "outputs": [
        {
          "output_type": "execute_result",
          "data": {
            "text/plain": [
              "[<matplotlib.lines.Line2D at 0x7f610f9f2940>]"
            ]
          },
          "metadata": {
            "tags": []
          },
          "execution_count": 134
        },
        {
          "output_type": "display_data",
          "data": {
            "image/png": "[encoded data removed]",
            "text/plain": [
              "<Figure size 432x288 with 1 Axes>"
            ]
          },
          "metadata": {
            "tags": [],
            "needs_background": "light"
          }
        }
      ]
    },
    {
      "cell_type": "code",
      "metadata": {
        "id": "2ptG8JfGwHH6"
      },
      "source": [
        "y_1_test = []\n",
        "for each in y_test:\n",
        "    if each == 1:\n",
        "        y_1_test.extend([1])\n",
        "    else: \n",
        "        y_1_test.extend([0])"
      ],
      "execution_count": 103,
      "outputs": []
    },
    {
      "cell_type": "code",
      "metadata": {
        "id": "evdLzTZHwhoi",
        "outputId": "166af656-1b6e-4a2a-e600-ee1f0e17cdeb",
        "colab": {
          "base_uri": "https://localhost:8080/",
          "height": 36
        }
      },
      "source": [
        "y_test"
      ],
      "execution_count": 104,
      "outputs": [
        {
          "output_type": "execute_result",
          "data": {
            "text/plain": [
              "array([0, 2, 0, 0, 1, 1, 2, 0, 1, 0, 1, 1, 2, 0, 1])"
            ]
          },
          "metadata": {
            "tags": []
          },
          "execution_count": 104
        }
      ]
    },
    {
      "cell_type": "code",
      "metadata": {
        "id": "IK3lh7EpwLSd",
        "outputId": "19fb0af5-6f2a-4dc9-8829-f6f0fc4d5c20",
        "colab": {
          "base_uri": "https://localhost:8080/",
          "height": 36
        }
      },
      "source": [
        "y_1_test"
      ],
      "execution_count": 105,
      "outputs": [
        {
          "output_type": "execute_result",
          "data": {
            "text/plain": [
              "[0, 0, 0, 0, 1, 1, 0, 0, 1, 0, 1, 1, 0, 0, 1]"
            ]
          },
          "metadata": {
            "tags": []
          },
          "execution_count": 105
        }
      ]
    },
    {
      "cell_type": "code",
      "metadata": {
        "id": "Mo3DbJrMwYUx",
        "outputId": "9a0624a9-5ed2-4906-ba2b-07b6a6d96c33",
        "colab": {
          "base_uri": "https://localhost:8080/",
          "height": 36
        }
      },
      "source": [
        "slp_test2.predict(x_test)"
      ],
      "execution_count": 106,
      "outputs": [
        {
          "output_type": "execute_result",
          "data": {
            "text/plain": [
              "array([0, 0, 0, 0, 0, 0, 0, 0, 0, 0, 0, 0, 0, 0, 0])"
            ]
          },
          "metadata": {
            "tags": []
          },
          "execution_count": 106
        }
      ]
    },
    {
      "cell_type": "code",
      "metadata": {
        "id": "2fgeB_PCwAKS",
        "outputId": "5cd8613f-f92a-40f5-a080-3a63f88df618",
        "colab": {
          "base_uri": "https://localhost:8080/",
          "height": 54
        }
      },
      "source": [
        "print(\"Train Accuracy (Maximum) :  \",100*max(acc.values()),\"%\")\n",
        "print(\"Test Accuracy : %0.2f\"%(accuracy_score(y_1_test,slp_test2.predict(x_test))*100),\"%\")"
      ],
      "execution_count": 138,
      "outputs": [
        {
          "output_type": "stream",
          "text": [
            "Train Accuracy (Maximum) :   68.88888888888889 %\n",
            "Test Accuracy : 60.00 %\n"
          ],
          "name": "stdout"
        }
      ]
    },
    {
      "cell_type": "markdown",
      "metadata": {
        "id": "3LpPB9-1AHaU"
      },
      "source": [
        "-----"
      ]
    },
    {
      "cell_type": "markdown",
      "metadata": {
        "id": "s0GTHUwnAqG0"
      },
      "source": [
        "##Testing SLP on third class"
      ]
    },
    {
      "cell_type": "code",
      "metadata": {
        "id": "SzxCssiAAQQv"
      },
      "source": [
        "slp_test3 = SLP()\n",
        "acc = slp_test3.fit(x_train, y_2, 0.01, 40)"
      ],
      "execution_count": 151,
      "outputs": []
    },
    {
      "cell_type": "code",
      "metadata": {
        "id": "x-XZhF8oAXsm",
        "outputId": "779589d3-2dca-4fce-d3ae-81cf55d66c02",
        "colab": {
          "base_uri": "https://localhost:8080/",
          "height": 287
        }
      },
      "source": [
        "plt.plot(list(acc.keys()),list(acc.values()))"
      ],
      "execution_count": 140,
      "outputs": [
        {
          "output_type": "execute_result",
          "data": {
            "text/plain": [
              "[<matplotlib.lines.Line2D at 0x7f610f9d54e0>]"
            ]
          },
          "metadata": {
            "tags": []
          },
          "execution_count": 140
        },
        {
          "output_type": "display_data",
          "data": {
            "image/png": "[encoded data removed]",
            "text/plain": [
              "<Figure size 432x288 with 1 Axes>"
            ]
          },
          "metadata": {
            "tags": [],
            "needs_background": "light"
          }
        }
      ]
    },
    {
      "cell_type": "code",
      "metadata": {
        "id": "cb3AisuYA5X-",
        "outputId": "7577d450-6307-42de-ba38-1790a4185aea",
        "colab": {
          "base_uri": "https://localhost:8080/",
          "height": 287
        }
      },
      "source": [
        "plt.plot(list(acc.keys()),list(acc.values()))       #Highest train accuracy after 58 iterations"
      ],
      "execution_count": 145,
      "outputs": [
        {
          "output_type": "execute_result",
          "data": {
            "text/plain": [
              "[<matplotlib.lines.Line2D at 0x7f610f874940>]"
            ]
          },
          "metadata": {
            "tags": []
          },
          "execution_count": 145
        },
        {
          "output_type": "display_data",
          "data": {
            "image/png": "[encoded data removed]",
            "text/plain": [
              "<Figure size 432x288 with 1 Axes>"
            ]
          },
          "metadata": {
            "tags": [],
            "needs_background": "light"
          }
        }
      ]
    },
    {
      "cell_type": "code",
      "metadata": {
        "id": "tjVoc85ZBDAr"
      },
      "source": [
        "y_2_test = []\n",
        "for each in y_test:\n",
        "    if each == 2:\n",
        "        y_2_test.extend([1])\n",
        "    else: \n",
        "        y_2_test.extend([0])"
      ],
      "execution_count": 146,
      "outputs": []
    },
    {
      "cell_type": "code",
      "metadata": {
        "id": "Q_OpKVF3cAYZ",
        "outputId": "c4cb7745-b3ab-47de-91c0-2379ba348fe6",
        "colab": {
          "base_uri": "https://localhost:8080/",
          "height": 36
        }
      },
      "source": [
        "y_2_test"
      ],
      "execution_count": 181,
      "outputs": [
        {
          "output_type": "execute_result",
          "data": {
            "text/plain": [
              "[0, 1, 0, 0, 0, 0, 1, 0, 0, 0, 0, 0, 1, 0, 0]"
            ]
          },
          "metadata": {
            "tags": []
          },
          "execution_count": 181
        }
      ]
    },
    {
      "cell_type": "code",
      "metadata": {
        "id": "Qu-cDYhNBt_Q",
        "outputId": "0b19b379-fdae-4760-e08b-9365382b0fa1",
        "colab": {
          "base_uri": "https://localhost:8080/",
          "height": 54
        }
      },
      "source": [
        "print(\"Train Accuracy (Maximum) :  \",100*max(acc.values()),\"%\")\n",
        "print(\"Test Accuracy : %0.2f\"%(accuracy_score(y_2_test,slp_test3.predict(x_test))*100),\"%\")"
      ],
      "execution_count": 152,
      "outputs": [
        {
          "output_type": "stream",
          "text": [
            "Train Accuracy (Maximum) :   98.51851851851852 %\n",
            "Test Accuracy : 93.33 %\n"
          ],
          "name": "stdout"
        }
      ]
    },
    {
      "cell_type": "markdown",
      "metadata": {
        "id": "XUAmIAxwE3Zq"
      },
      "source": [
        "-----"
      ]
    },
    {
      "cell_type": "markdown",
      "metadata": {
        "id": "x35MsCO1E5o9"
      },
      "source": [
        "##Building the final Multi-Class Classification Model"
      ]
    },
    {
      "cell_type": "code",
      "metadata": {
        "id": "nmdjaN8yZPTs"
      },
      "source": [
        "# we have a SLP and we will train three different SLP for each class of IRIS dataset.\n",
        "# 0 = Setosa , 1 = Versicolor , 2 = Virginica\n",
        "# While training SLP for class 0,1,2 we will make the class label 1 and rest all as 0. ONEvsALL classification\n",
        "# y_0 = Setosa vs All , y_1 = Versicolor vs All, y_2 = Virignica vs All\n",
        "\n",
        "class SLP_Classifier():\n",
        "    def __init__(self,learning_rate, iterations):\n",
        "        self.iterations = iterations\n",
        "        self.learning_rate = learning_rate\n",
        "        self.slp_0 = SLP()\n",
        "        self.slp_1 = SLP()\n",
        "        self.slp_2 = SLP()\n",
        "\n",
        "    def fit(self,x_train,y_0,y_1,y_2):\n",
        "        self.slp_0.fit(x_train,y_0,self.learning_rate,self.iterations)\n",
        "        self.slp_1.fit(x_train,y_1,self.learning_rate,self.iterations)\n",
        "        self.slp_2.fit(x_train,y_2,self.learning_rate,self.iterations)\n",
        "    \n",
        "    def predict(self,x):\n",
        "        y_predictions = []\n",
        "        yp_0 = self.slp_0.predict(x)\n",
        "        yp_1 = self.slp_1.predict(x)\n",
        "        yp_2 = self.slp_2.predict(x)\n",
        "\n",
        "        #since SLP 0>3>2 we will use their classification for final labeling\n",
        "\n",
        "        for y0,y1,y2 in zip(yp_0,yp_1,yp_2):\n",
        "            if y0 == 1:\n",
        "                y_predictions.extend([0])\n",
        "            elif y2 == 1:\n",
        "                y_predictions.extend([2])\n",
        "            elif y1 == 1:\n",
        "                y_predictions.extend([1])\n",
        "            else: y_predictions.extend([1])\n",
        "        return np.array(y_predictions)"
      ],
      "execution_count": 177,
      "outputs": []
    },
    {
      "cell_type": "code",
      "metadata": {
        "id": "84em2gcZOPwO",
        "outputId": "ee0c89a5-133f-4ed0-bb5f-57fcb678129a",
        "colab": {
          "base_uri": "https://localhost:8080/",
          "height": 36
        }
      },
      "source": [
        "slp_clf = SLP_Classifier(0.1,100)\n",
        "slp_clf.fit(x_train,y_0,y_1,y_2)\n",
        "y_pred = slp_clf.predict(x_test)\n",
        "print(\"Test accuracy (3 classes together): %0.2f\"%(accuracy_score(y_test,y_pred)*100),\"%\")"
      ],
      "execution_count": 180,
      "outputs": [
        {
          "output_type": "stream",
          "text": [
            "Test accuracy (3 classes together): 93.33 %\n"
          ],
          "name": "stdout"
        }
      ]
    },
    {
      "cell_type": "markdown",
      "metadata": {
        "id": "w3cq3FwLcUAr"
      },
      "source": [
        "###10 different simulations "
      ]
    },
    {
      "cell_type": "code",
      "metadata": {
        "id": "axaLaOjjdGKC"
      },
      "source": [
        " def split_testset(y_train):\n",
        "    y_0 = []\n",
        "    y_1 = []\n",
        "    y_2 = []\n",
        "\n",
        "    for each in y_train:\n",
        "        if each == 0:\n",
        "            y_0.extend([1])\n",
        "        else: \n",
        "            y_0.extend([0])\n",
        "        if each == 1:\n",
        "            y_1.extend([1])\n",
        "        else: \n",
        "            y_1.extend([0])\n",
        "        if each == 2:\n",
        "            y_2.extend([1])\n",
        "        else: \n",
        "            y_2.extend([0])\n",
        "    return y_0,y_1,y_2"
      ],
      "execution_count": 182,
      "outputs": []
    },
    {
      "cell_type": "code",
      "metadata": {
        "id": "syOEINO_cXkr"
      },
      "source": [
        "train_accuracy = {}\n",
        "test_accuracy = {}\n",
        "\n",
        "for i in range(10):\n",
        "    x_train, x_test, y_train, y_test = train_test_split(x,y, test_size = 0.1)   #test size if 10% of total dataset\n",
        "    scaler = preprocessing.StandardScaler().fit(x_train)\n",
        "    x_train = scaler.transform(x_train)\n",
        "    x_test = scaler.transform(x_test)\n",
        "    y_train = y_train.reshape(-1)\n",
        "\n",
        "    y_0, y_1, y_2 = split_testset(y_train)\n",
        "\n",
        "    slp_clf = SLP_Classifier(0.1,100)\n",
        "    slp_clf.fit(x_train,y_0,y_1,y_2)\n",
        "\n",
        "    test_accuracy[i] = accuracy_score(y_test, slp_clf.predict(x_test))\n",
        "    train_accuracy[i] = accuracy_score(y_train,slp_clf.predict(x_train))\n"
      ],
      "execution_count": 183,
      "outputs": []
    },
    {
      "cell_type": "code",
      "metadata": {
        "id": "wbnBbUPWeMUI"
      },
      "source": [
        "df = pd.DataFrame()\n",
        "temp = []\n",
        "df['Test accuracy'] = list(test_accuracy.values())\n",
        "df['Train_accuracy'] = list(train_accuracy.values())\n",
        "df.to_excel('ML_Lab6_Q1_Part3_Output.xlsx')"
      ],
      "execution_count": 190,
      "outputs": []
    },
    {
      "cell_type": "code",
      "metadata": {
        "id": "66kVAGTke8D5",
        "outputId": "1d70a8ed-9ed4-44fc-d3e6-ebbdd396c70c",
        "colab": {
          "base_uri": "https://localhost:8080/",
          "height": 363
        }
      },
      "source": [
        "df"
      ],
      "execution_count": 191,
      "outputs": [
        {
          "output_type": "execute_result",
          "data": {
            "text/html": [
              "<div>\n",
              "<style scoped>\n",
              "    .dataframe tbody tr th:only-of-type {\n",
              "        vertical-align: middle;\n",
              "    }\n",
              "\n",
              "    .dataframe tbody tr th {\n",
              "        vertical-align: top;\n",
              "    }\n",
              "\n",
              "    .dataframe thead th {\n",
              "        text-align: right;\n",
              "    }\n",
              "</style>\n",
              "<table border=\"1\" class=\"dataframe\">\n",
              "  <thead>\n",
              "    <tr style=\"text-align: right;\">\n",
              "      <th></th>\n",
              "      <th>Test accuracy</th>\n",
              "      <th>Train_accuracy</th>\n",
              "    </tr>\n",
              "  </thead>\n",
              "  <tbody>\n",
              "    <tr>\n",
              "      <th>0</th>\n",
              "      <td>0.800000</td>\n",
              "      <td>0.992593</td>\n",
              "    </tr>\n",
              "    <tr>\n",
              "      <th>1</th>\n",
              "      <td>0.933333</td>\n",
              "      <td>0.992593</td>\n",
              "    </tr>\n",
              "    <tr>\n",
              "      <th>2</th>\n",
              "      <td>0.933333</td>\n",
              "      <td>0.992593</td>\n",
              "    </tr>\n",
              "    <tr>\n",
              "      <th>3</th>\n",
              "      <td>0.933333</td>\n",
              "      <td>0.992593</td>\n",
              "    </tr>\n",
              "    <tr>\n",
              "      <th>4</th>\n",
              "      <td>1.000000</td>\n",
              "      <td>0.985185</td>\n",
              "    </tr>\n",
              "    <tr>\n",
              "      <th>5</th>\n",
              "      <td>1.000000</td>\n",
              "      <td>0.992593</td>\n",
              "    </tr>\n",
              "    <tr>\n",
              "      <th>6</th>\n",
              "      <td>0.933333</td>\n",
              "      <td>0.985185</td>\n",
              "    </tr>\n",
              "    <tr>\n",
              "      <th>7</th>\n",
              "      <td>0.933333</td>\n",
              "      <td>0.985185</td>\n",
              "    </tr>\n",
              "    <tr>\n",
              "      <th>8</th>\n",
              "      <td>1.000000</td>\n",
              "      <td>0.992593</td>\n",
              "    </tr>\n",
              "    <tr>\n",
              "      <th>9</th>\n",
              "      <td>0.933333</td>\n",
              "      <td>0.992593</td>\n",
              "    </tr>\n",
              "  </tbody>\n",
              "</table>\n",
              "</div>"
            ],
            "text/plain": [
              "   Test accuracy  Train_accuracy\n",
              "0       0.800000        0.992593\n",
              "1       0.933333        0.992593\n",
              "2       0.933333        0.992593\n",
              "3       0.933333        0.992593\n",
              "4       1.000000        0.985185\n",
              "5       1.000000        0.992593\n",
              "6       0.933333        0.985185\n",
              "7       0.933333        0.985185\n",
              "8       1.000000        0.992593\n",
              "9       0.933333        0.992593"
            ]
          },
          "metadata": {
            "tags": []
          },
          "execution_count": 191
        }
      ]
    },
    {
      "cell_type": "markdown",
      "metadata": {
        "id": "tfsJRJLLfR5N"
      },
      "source": [
        "###Different Training Size Simulations"
      ]
    },
    {
      "cell_type": "code",
      "metadata": {
        "id": "YTdrQJRzgiw7"
      },
      "source": [
        "# Function runs ten simulations and gives average of train and test accuracies\n",
        "def ten_simulations(x_train,y_train,x_test,y_test,train_size):\n",
        "    for i in range(10):\n",
        "\n",
        "        y_0, y_1, y_2 = split_testset(y_train)\n",
        "\n",
        "        slp_clf = SLP_Classifier(0.1,100)\n",
        "        slp_clf.fit(x_train,y_0,y_1,y_2)\n",
        "\n",
        "        test_accuracy[i] = accuracy_score(y_test, slp_clf.predict(x_test))\n",
        "        train_accuracy[i] = accuracy_score(y_train,slp_clf.predict(x_train))\n",
        "\n",
        "    return sum(list(test_accuracy.values()))/len(test_accuracy.values()), sum(list(train_accuracy.values()))/len(train_accuracy.values())"
      ],
      "execution_count": 196,
      "outputs": []
    },
    {
      "cell_type": "code",
      "metadata": {
        "id": "SJ2SgsPXfRSf"
      },
      "source": [
        "train_acc = {}\n",
        "test_acc = {}\n",
        "training = [0.1,0.2,0.3,0.4,0.5,0.6]\n",
        "\n",
        "for i in training:\n",
        "    x_train, x_test, y_train, y_test = train_test_split(x,y, train_size = i)   #test size if 10% of total dataset\n",
        "    scaler = preprocessing.StandardScaler().fit(x_train)\n",
        "    x_train = scaler.transform(x_train)\n",
        "    x_test = scaler.transform(x_test)\n",
        "    y_train = y_train.reshape(-1)\n",
        "\n",
        "    test,train = ten_simulations(x_train,y_train,x_test,y_test,i)\n",
        "\n",
        "    test_acc[i] = test\n",
        "    train_acc[i] = train"
      ],
      "execution_count": 202,
      "outputs": []
    },
    {
      "cell_type": "code",
      "metadata": {
        "id": "y-oT0e9ff0pj",
        "outputId": "781a9334-35c6-4eda-d899-f797962f5a6b",
        "colab": {
          "base_uri": "https://localhost:8080/",
          "height": 148
        }
      },
      "source": [
        "print(\"\\tTrain Accuracies \\t Test Accuracies\")\n",
        "train = list(train_acc.values())\n",
        "test = list(test_acc.values())\n",
        "for i in training:\n",
        "    print(f\"{i}\\t%0.2f\"%(train[int(i*10-1)]*100),\"\\t\\t\\t  %0.2f\"%(test[int(i*10-1)]*100))"
      ],
      "execution_count": 211,
      "outputs": [
        {
          "output_type": "stream",
          "text": [
            "\tTrain Accuracies \t Test Accuracies\n",
            "0.1\t99.94 \t\t\t  86.00\n",
            "0.2\t99.94 \t\t\t  90.64\n",
            "0.3\t99.80 \t\t\t  92.50\n",
            "0.4\t99.53 \t\t\t  93.94\n",
            "0.5\t99.53 \t\t\t  93.21\n",
            "0.6\t99.87 \t\t\t  93.14\n"
          ],
          "name": "stdout"
        }
      ]
    },
    {
      "cell_type": "code",
      "metadata": {
        "id": "5oayMM85kVTE",
        "outputId": "609a5c8a-a8dd-44d0-f1b2-a4a1768fb6d9",
        "colab": {
          "base_uri": "https://localhost:8080/",
          "height": 339
        }
      },
      "source": [
        "plt.style.use('ggplot')\n",
        "plt.figure(figsize=(7,5))\n",
        "line1 = plt.plot(training,train,c='black',marker=\"o\")\n",
        "line2 = plt.plot(training,test,c=\"red\",marker='o')\n",
        "plt.legend((line1[0], line2[0]),('Training','Testing'))"
      ],
      "execution_count": 238,
      "outputs": [
        {
          "output_type": "execute_result",
          "data": {
            "text/plain": [
              "<matplotlib.legend.Legend at 0x7f610befae10>"
            ]
          },
          "metadata": {
            "tags": []
          },
          "execution_count": 238
        },
        {
          "output_type": "display_data",
          "data": {
            "image/png": "[encoded data removed]",
            "text/plain": [
              "<Figure size 504x360 with 1 Axes>"
            ]
          },
          "metadata": {
            "tags": []
          }
        }
      ]
    },
    {
      "cell_type": "markdown",
      "metadata": {
        "id": "0IseDb_xssnq"
      },
      "source": [
        "------"
      ]
    },
    {
      "cell_type": "markdown",
      "metadata": {
        "id": "8_pN4JAvsuwZ"
      },
      "source": [
        "#Multi-Layer perceptron"
      ]
    },
    {
      "cell_type": "code",
      "metadata": {
        "id": "0hqSFW6vxXZI"
      },
      "source": [
        "x,y = load_iris(return_X_y= True)"
      ],
      "execution_count": 270,
      "outputs": []
    },
    {
      "cell_type": "code",
      "metadata": {
        "id": "RBoyP6ZGxM0B"
      },
      "source": [
        "x_train, x_test, y_train, y_test = train_test_split(x,y, test_size = 0.2)\n",
        "scaler = preprocessing.StandardScaler().fit(x_train)\n",
        "x_train = scaler.transform(x_train)\n",
        "x_test = scaler.transform(x_test)\n",
        "\n",
        "y_train = y_train.reshape(-1)\n",
        "\n",
        "X= x_train\n",
        "y= y_train"
      ],
      "execution_count": 271,
      "outputs": []
    },
    {
      "cell_type": "code",
      "metadata": {
        "id": "Q2ucRRD-suCj"
      },
      "source": [
        " class MLP():\n",
        "\n",
        "    def __init__(self,X,y,classes):\n",
        "        self.num_examples = len(X) # training set size\n",
        "        self.nn_input_dim = X.shape[1] # input layer dimensionality\n",
        "        self.nn_output_dim = classes # output layer dimensionality\n",
        "        self.X = X\n",
        "        self.y = y\n",
        "        # Gradient descent parameters (I picked these by hand)\n",
        "        self.epsilon = 0.01 # learning rate for gradient descent\n",
        "        self.reg_lambda = 0.01 # regularization strength\n",
        "\n",
        "    def calculate_loss(self,model):\n",
        "        W1, b1, W2, b2 = model['W1'], model['b1'], model['W2'], model['b2']\n",
        "        # Forward propagation to calculate our predictions\n",
        "        z1 = self.X.dot(W1) + b1\n",
        "        a1 = np.tanh(z1)\n",
        "        z2 = a1.dot(W2) + b2\n",
        "        exp_scores = np.exp(z2)\n",
        "        probs = exp_scores / np.sum(exp_scores, axis=1, keepdims=True)\n",
        "        # Calculating the loss\n",
        "        corect_logprobs = -np.log(probs[range(self.num_examples), self.y])\n",
        "        data_loss = np.sum(corect_logprobs)\n",
        "        # Add regulatization term to loss (optional)\n",
        "        data_loss += reg_lambda/2 * (np.sum(np.square(W1)) + np.sum(np.square(W2)))\n",
        "        return 1./num_examples * data_loss\n",
        "\n",
        "    # Helper function to predict an output (0 or 1)\n",
        "    def predict(self,model, x):\n",
        "        W1, b1, W2, b2 = model['W1'], model['b1'], model['W2'], model['b2']\n",
        "        # Forward propagation\n",
        "        z1 = x.dot(W1) + b1\n",
        "        a1 = np.tanh(z1)\n",
        "        z2 = a1.dot(W2) + b2\n",
        "        exp_scores = np.exp(z2)\n",
        "        probs = exp_scores / np.sum(exp_scores, axis=1, keepdims=True)\n",
        "        return np.argmax(probs, axis=1)\n",
        "\n",
        "    # - nn_hdim: Number of nodes in the hidden layer\n",
        "    # - num_passes: Number of passes through the training data for gradient descent\n",
        "    # - print_loss: If True, print the loss every 1000 iterations\n",
        "    def build_model(self,nn_hdim, num_passes=20000, print_loss=False):\n",
        "        \n",
        "        # Initialize the parameters to random values. We need to learn these.\n",
        "        np.random.seed(0)\n",
        "        W1 = np.random.randn(self.nn_input_dim, nn_hdim) / np.sqrt(self.nn_input_dim)\n",
        "        b1 = np.zeros((1, nn_hdim))\n",
        "        W2 = np.random.randn(nn_hdim, self.nn_output_dim) / np.sqrt(nn_hdim)\n",
        "        b2 = np.zeros((1, self.nn_output_dim))\n",
        "    \n",
        "        # This is what we return at the end\n",
        "        model = {}\n",
        "        \n",
        "        # Gradient descent. For each batch...\n",
        "        for i in range(0, num_passes):\n",
        "    \n",
        "            # Forward propagation\n",
        "            z1 = self.X.dot(W1) + b1\n",
        "            a1 = np.tanh(z1)\n",
        "            z2 = a1.dot(W2) + b2\n",
        "            exp_scores = np.exp(z2)\n",
        "            probs = exp_scores / np.sum(exp_scores, axis=1, keepdims=True)\n",
        "    \n",
        "            # Backpropagation\n",
        "            delta3 = probs\n",
        "            delta3[range(self.num_examples), self.y] -= 1\n",
        "            dW2 = (a1.T).dot(delta3)\n",
        "            db2 = np.sum(delta3, axis=0, keepdims=True)\n",
        "            delta2 = delta3.dot(W2.T) * (1 - np.power(a1, 2))\n",
        "            dW1 = np.dot(self.X.T, delta2)\n",
        "            db1 = np.sum(delta2, axis=0)\n",
        "    \n",
        "            # Add regularization terms (b1 and b2 don't have regularization terms)\n",
        "            dW2 += self.reg_lambda * W2\n",
        "            dW1 += self.reg_lambda * W1\n",
        "    \n",
        "            # Gradient descent parameter update\n",
        "            W1 += -self.epsilon * dW1\n",
        "            b1 += -self.epsilon * db1\n",
        "            W2 += -self.epsilon * dW2\n",
        "            b2 += -self.epsilon * db2\n",
        "            \n",
        "            # Assign new parameters to the model\n",
        "            model = { 'W1': W1, 'b1': b1, 'W2': W2, 'b2': b2}\n",
        "            \n",
        "            # Optionally print the loss.\n",
        "            # This is expensive because it uses the whole dataset, so we don't want to do it too often.\n",
        "            if print_loss and i % 1000 == 0:\n",
        "                print(\"Loss after iteration %i: %f\"%(i, self.calculate_loss(model)))\n",
        "\n",
        "        return model"
      ],
      "execution_count": 275,
      "outputs": []
    },
    {
      "cell_type": "code",
      "metadata": {
        "id": "NUt6dpgu1bUq",
        "outputId": "00fd8f5c-5063-4576-cbf2-660311a946d6",
        "colab": {
          "base_uri": "https://localhost:8080/",
          "height": 391
        }
      },
      "source": [
        "# Build a model with a 3-dimensional hidden layer\n",
        "mlp = MLP(X,y,3)\n",
        "model = mlp.build_model(3, print_loss=True)"
      ],
      "execution_count": 272,
      "outputs": [
        {
          "output_type": "stream",
          "text": [
            "Loss after iteration 0: 1.105687\n",
            "Loss after iteration 1000: 0.009754\n",
            "Loss after iteration 2000: 0.008186\n",
            "Loss after iteration 3000: 0.007843\n",
            "Loss after iteration 4000: 0.007699\n",
            "Loss after iteration 5000: 0.007609\n",
            "Loss after iteration 6000: 0.007541\n",
            "Loss after iteration 7000: 0.007484\n",
            "Loss after iteration 8000: 0.007436\n",
            "Loss after iteration 9000: 0.007394\n",
            "Loss after iteration 10000: 0.007357\n",
            "Loss after iteration 11000: 0.007324\n",
            "Loss after iteration 12000: 0.007295\n",
            "Loss after iteration 13000: 0.007270\n",
            "Loss after iteration 14000: 0.007247\n",
            "Loss after iteration 15000: 0.007228\n",
            "Loss after iteration 16000: 0.007211\n",
            "Loss after iteration 17000: 0.007196\n",
            "Loss after iteration 18000: 0.007183\n",
            "Loss after iteration 19000: 0.007172\n"
          ],
          "name": "stdout"
        }
      ]
    },
    {
      "cell_type": "code",
      "metadata": {
        "id": "jBbgDSOJyX63",
        "outputId": "8b310b4d-055e-41ac-fcca-95acbe2b8854",
        "colab": {
          "base_uri": "https://localhost:8080/",
          "height": 54
        }
      },
      "source": [
        "print(\"Test Accuracy : %0.2f\"%accuracy_score(y_test,predict(model,x_test)))\n",
        "print(\"Train Accuracy : %0.2f\"%accuracy_score(y_train,predict(model,x_train)))"
      ],
      "execution_count": 273,
      "outputs": [
        {
          "output_type": "stream",
          "text": [
            "Test Accuracy : 0.93\n",
            "Train Accuracy : 1.00\n"
          ],
          "name": "stdout"
        }
      ]
    },
    {
      "cell_type": "code",
      "metadata": {
        "id": "C6zkvR8bzXps"
      },
      "source": [
        "train_accuracy = {}\n",
        "test_accuracy = {}\n",
        "\n",
        "for i in range(10):\n",
        "    x,y = load_iris(return_X_y= True)\n",
        "    x_train, x_test, y_train, y_test = train_test_split(x,y, test_size = 0.2)   #test size if 10% of total dataset\n",
        "    scaler = preprocessing.StandardScaler().fit(x_train)\n",
        "    x_train = scaler.transform(x_train)\n",
        "    x_test = scaler.transform(x_test)\n",
        "    y_train = y_train.reshape(-1)\n",
        "\n",
        "    mlp = MLP(x_train,y_train,3)\n",
        "    model = mlp.build_model(3, print_loss=False)\n",
        "\n",
        "    test_accuracy[i] = accuracy_score(y_test, mlp.predict(model,x_test))\n",
        "    train_accuracy[i] = accuracy_score(y_train,mlp.predict(model,x_train))\n"
      ],
      "execution_count": 277,
      "outputs": []
    },
    {
      "cell_type": "code",
      "metadata": {
        "id": "y9HZDA74z4Y7"
      },
      "source": [
        "df = pd.DataFrame()\n",
        "temp = []\n",
        "df['Test accuracy'] = list(test_accuracy.values())\n",
        "df['Train_accuracy'] = list(train_accuracy.values())\n",
        "df.to_excel('ML_Lab6_Q2_Part3_Output.xlsx')"
      ],
      "execution_count": 278,
      "outputs": []
    },
    {
      "cell_type": "markdown",
      "metadata": {
        "id": "JX8fFjgB3jdk"
      },
      "source": [
        "Different Train Size"
      ]
    },
    {
      "cell_type": "code",
      "metadata": {
        "id": "jRTIO_Yi3ilO"
      },
      "source": [
        "train_acc = {}\n",
        "test_acc = {}\n",
        "training = [0.1,0.2,0.3,0.4,0.5,0.6]\n",
        "\n",
        "for i in training:\n",
        "    x_train, x_test, y_train, y_test = train_test_split(x,y, train_size = i)   #test size if 10% of total dataset\n",
        "    scaler = preprocessing.StandardScaler().fit(x_train)\n",
        "    x_train = scaler.transform(x_train)\n",
        "    x_test = scaler.transform(x_test)\n",
        "    y_train = y_train.reshape(-1)\n",
        "\n",
        "    mlp = MLP(x_train,y_train,3)\n",
        "    model = mlp.build_model(3, print_loss=False)\n",
        "\n",
        "    test_acc[i] = accuracy_score(y_test, mlp.predict(model,x_test))\n",
        "    train_acc[i] = accuracy_score(y_train,mlp.predict(model,x_train))"
      ],
      "execution_count": 281,
      "outputs": []
    },
    {
      "cell_type": "code",
      "metadata": {
        "id": "aF_R__Q13yTb",
        "outputId": "f9665919-db7e-4e5f-f1ea-2397d2287070",
        "colab": {
          "base_uri": "https://localhost:8080/",
          "height": 148
        }
      },
      "source": [
        "print(\"\\tTrain Accuracies \\t Test Accuracies\")\n",
        "train = list(train_acc.values())\n",
        "test = list(test_acc.values())\n",
        "for i in training:\n",
        "    print(f\"{i}\\t%0.2f\"%(train[int(i*10-1)]*100),\"\\t\\t\\t  %0.2f\"%(test[int(i*10-1)]*100))"
      ],
      "execution_count": 282,
      "outputs": [
        {
          "output_type": "stream",
          "text": [
            "\tTrain Accuracies \t Test Accuracies\n",
            "0.1\t100.00 \t\t\t  74.81\n",
            "0.2\t100.00 \t\t\t  91.67\n",
            "0.3\t100.00 \t\t\t  96.19\n",
            "0.4\t100.00 \t\t\t  95.56\n",
            "0.5\t100.00 \t\t\t  93.33\n",
            "0.6\t100.00 \t\t\t  95.00\n"
          ],
          "name": "stdout"
        }
      ]
    },
    {
      "cell_type": "code",
      "metadata": {
        "id": "36gyFJw24DVg",
        "outputId": "1183929f-7663-4590-d2dc-1aa0be2683ed",
        "colab": {
          "base_uri": "https://localhost:8080/",
          "height": 339
        }
      },
      "source": [
        "plt.style.use('ggplot')\n",
        "plt.figure(figsize=(7,5))\n",
        "line1 = plt.plot(training,train,c='black',marker=\"o\")\n",
        "line2 = plt.plot(training,test,c=\"red\",marker='o')\n",
        "plt.legend((line1[0], line2[0]),('Training','Testing'))"
      ],
      "execution_count": 283,
      "outputs": [
        {
          "output_type": "execute_result",
          "data": {
            "text/plain": [
              "<matplotlib.legend.Legend at 0x7f610bdb94a8>"
            ]
          },
          "metadata": {
            "tags": []
          },
          "execution_count": 283
        },
        {
          "output_type": "display_data",
          "data": {
            "image/png": "[encoded data removed]",
            "text/plain": [
              "<Figure size 504x360 with 1 Axes>"
            ]
          },
          "metadata": {
            "tags": []
          }
        }
      ]
    }
  ]
}